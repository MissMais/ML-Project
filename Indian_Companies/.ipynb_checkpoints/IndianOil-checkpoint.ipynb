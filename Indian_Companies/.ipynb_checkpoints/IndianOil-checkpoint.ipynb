{
 "cells": [
  {
   "cell_type": "code",
   "execution_count": 1,
   "id": "3e3175db",
   "metadata": {},
   "outputs": [],
   "source": [
    "import numpy as np\n",
    "import pandas as pd\n",
    "import yfinance as yf\n",
    "import matplotlib.pyplot as plt\n",
    "from sklearn.preprocessing import MinMaxScaler\n",
    "from keras.models import Sequential\n",
    "from keras.layers import LSTM, Dense\n",
    "from sklearn.metrics import mean_squared_error, mean_absolute_error, accuracy_score\n",
    "from math import sqrt"
   ]
  },
  {
   "cell_type": "code",
   "execution_count": 2,
   "id": "beee8595",
   "metadata": {},
   "outputs": [],
   "source": [
    "ticker = \"IOC.NS\"\n",
    "start = \"2017-04-01\"\n",
    "end = \"2024-01-20\""
   ]
  },
  {
   "cell_type": "code",
   "execution_count": 3,
   "id": "c4d883e3",
   "metadata": {},
   "outputs": [
    {
     "name": "stdout",
     "output_type": "stream",
     "text": [
      "[*********************100%***********************]  1 of 1 completed\n"
     ]
    },
    {
     "data": {
      "text/html": [
       "<div>\n",
       "<style scoped>\n",
       "    .dataframe tbody tr th:only-of-type {\n",
       "        vertical-align: middle;\n",
       "    }\n",
       "\n",
       "    .dataframe tbody tr th {\n",
       "        vertical-align: top;\n",
       "    }\n",
       "\n",
       "    .dataframe thead th {\n",
       "        text-align: right;\n",
       "    }\n",
       "</style>\n",
       "<table border=\"1\" class=\"dataframe\">\n",
       "  <thead>\n",
       "    <tr style=\"text-align: right;\">\n",
       "      <th></th>\n",
       "      <th>Open</th>\n",
       "      <th>High</th>\n",
       "      <th>Low</th>\n",
       "      <th>Close</th>\n",
       "      <th>Adj Close</th>\n",
       "      <th>Volume</th>\n",
       "    </tr>\n",
       "    <tr>\n",
       "      <th>Date</th>\n",
       "      <th></th>\n",
       "      <th></th>\n",
       "      <th></th>\n",
       "      <th></th>\n",
       "      <th></th>\n",
       "      <th></th>\n",
       "    </tr>\n",
       "  </thead>\n",
       "  <tbody>\n",
       "    <tr>\n",
       "      <th>2024-01-08</th>\n",
       "      <td>134.000000</td>\n",
       "      <td>136.100006</td>\n",
       "      <td>132.250000</td>\n",
       "      <td>132.649994</td>\n",
       "      <td>132.649994</td>\n",
       "      <td>26199907</td>\n",
       "    </tr>\n",
       "    <tr>\n",
       "      <th>2024-01-09</th>\n",
       "      <td>134.899994</td>\n",
       "      <td>134.899994</td>\n",
       "      <td>131.550003</td>\n",
       "      <td>131.899994</td>\n",
       "      <td>131.899994</td>\n",
       "      <td>15051378</td>\n",
       "    </tr>\n",
       "    <tr>\n",
       "      <th>2024-01-10</th>\n",
       "      <td>130.949997</td>\n",
       "      <td>131.000000</td>\n",
       "      <td>128.500000</td>\n",
       "      <td>130.550003</td>\n",
       "      <td>130.550003</td>\n",
       "      <td>17547639</td>\n",
       "    </tr>\n",
       "    <tr>\n",
       "      <th>2024-01-11</th>\n",
       "      <td>131.350006</td>\n",
       "      <td>133.899994</td>\n",
       "      <td>131.100006</td>\n",
       "      <td>133.250000</td>\n",
       "      <td>133.250000</td>\n",
       "      <td>21653666</td>\n",
       "    </tr>\n",
       "    <tr>\n",
       "      <th>2024-01-12</th>\n",
       "      <td>133.449997</td>\n",
       "      <td>135.850006</td>\n",
       "      <td>132.750000</td>\n",
       "      <td>135.300003</td>\n",
       "      <td>135.300003</td>\n",
       "      <td>24471509</td>\n",
       "    </tr>\n",
       "    <tr>\n",
       "      <th>2024-01-15</th>\n",
       "      <td>136.449997</td>\n",
       "      <td>138.000000</td>\n",
       "      <td>135.199997</td>\n",
       "      <td>137.649994</td>\n",
       "      <td>137.649994</td>\n",
       "      <td>22824583</td>\n",
       "    </tr>\n",
       "    <tr>\n",
       "      <th>2024-01-16</th>\n",
       "      <td>138.250000</td>\n",
       "      <td>144.350006</td>\n",
       "      <td>137.500000</td>\n",
       "      <td>143.600006</td>\n",
       "      <td>143.600006</td>\n",
       "      <td>54350562</td>\n",
       "    </tr>\n",
       "    <tr>\n",
       "      <th>2024-01-17</th>\n",
       "      <td>143.000000</td>\n",
       "      <td>145.399994</td>\n",
       "      <td>141.550003</td>\n",
       "      <td>144.100006</td>\n",
       "      <td>144.100006</td>\n",
       "      <td>43031636</td>\n",
       "    </tr>\n",
       "    <tr>\n",
       "      <th>2024-01-18</th>\n",
       "      <td>143.800003</td>\n",
       "      <td>145.649994</td>\n",
       "      <td>139.899994</td>\n",
       "      <td>144.500000</td>\n",
       "      <td>144.500000</td>\n",
       "      <td>26958686</td>\n",
       "    </tr>\n",
       "    <tr>\n",
       "      <th>2024-01-19</th>\n",
       "      <td>145.100006</td>\n",
       "      <td>149.300003</td>\n",
       "      <td>143.800003</td>\n",
       "      <td>148.649994</td>\n",
       "      <td>148.649994</td>\n",
       "      <td>23970656</td>\n",
       "    </tr>\n",
       "  </tbody>\n",
       "</table>\n",
       "</div>"
      ],
      "text/plain": [
       "                  Open        High         Low       Close   Adj Close  \\\n",
       "Date                                                                     \n",
       "2024-01-08  134.000000  136.100006  132.250000  132.649994  132.649994   \n",
       "2024-01-09  134.899994  134.899994  131.550003  131.899994  131.899994   \n",
       "2024-01-10  130.949997  131.000000  128.500000  130.550003  130.550003   \n",
       "2024-01-11  131.350006  133.899994  131.100006  133.250000  133.250000   \n",
       "2024-01-12  133.449997  135.850006  132.750000  135.300003  135.300003   \n",
       "2024-01-15  136.449997  138.000000  135.199997  137.649994  137.649994   \n",
       "2024-01-16  138.250000  144.350006  137.500000  143.600006  143.600006   \n",
       "2024-01-17  143.000000  145.399994  141.550003  144.100006  144.100006   \n",
       "2024-01-18  143.800003  145.649994  139.899994  144.500000  144.500000   \n",
       "2024-01-19  145.100006  149.300003  143.800003  148.649994  148.649994   \n",
       "\n",
       "              Volume  \n",
       "Date                  \n",
       "2024-01-08  26199907  \n",
       "2024-01-09  15051378  \n",
       "2024-01-10  17547639  \n",
       "2024-01-11  21653666  \n",
       "2024-01-12  24471509  \n",
       "2024-01-15  22824583  \n",
       "2024-01-16  54350562  \n",
       "2024-01-17  43031636  \n",
       "2024-01-18  26958686  \n",
       "2024-01-19  23970656  "
      ]
     },
     "execution_count": 3,
     "metadata": {},
     "output_type": "execute_result"
    }
   ],
   "source": [
    "df = yf.download(ticker, start=start, end=end)\n",
    "df.tail(10)"
   ]
  },
  {
   "cell_type": "code",
   "execution_count": 4,
   "id": "4fd894f3",
   "metadata": {},
   "outputs": [
    {
     "name": "stdout",
     "output_type": "stream",
     "text": [
      "(1682,)\n"
     ]
    }
   ],
   "source": [
    "ClosingPrice = df['Close']\n",
    "\n",
    "# print(data)\n",
    "print(ClosingPrice.values.shape)\n",
    "\n",
    "scaler = MinMaxScaler()\n",
    "scaled_data = scaler.fit_transform(ClosingPrice.values.reshape(-1, 1))\n",
    "# print(scaled_data)"
   ]
  },
  {
   "cell_type": "code",
   "execution_count": 5,
   "id": "9827d44b",
   "metadata": {},
   "outputs": [
    {
     "data": {
      "image/png": "[encoded data removed]",
      "text/plain": [
       "<Figure size 640x480 with 1 Axes>"
      ]
     },
     "metadata": {},
     "output_type": "display_data"
    }
   ],
   "source": [
    "plt.plot(scaled_data)\n",
    "plt.title(f'{ticker} Closing Price')\n",
    "plt.show()"
   ]
  },
  {
   "cell_type": "code",
   "execution_count": 6,
   "id": "d0ab277e",
   "metadata": {},
   "outputs": [
    {
     "data": {
      "text/plain": [
       "(1345, 337)"
      ]
     },
     "execution_count": 6,
     "metadata": {},
     "output_type": "execute_result"
    }
   ],
   "source": [
    "training_data_len = int(len(scaled_data) * 0.8)\n",
    "\n",
    "training_data = scaled_data[0:training_data_len, :]\n",
    "testing_data = scaled_data[training_data_len:, :]\n",
    "\n",
    "len(training_data), len(testing_data)"
   ]
  },
  {
   "cell_type": "code",
   "execution_count": 7,
   "id": "a5a9517b",
   "metadata": {},
   "outputs": [],
   "source": [
    "past_values = 1\n",
    "\n",
    "def create_training_data(data, past_values):\n",
    "    if len(data) < past_values:\n",
    "        return np.array([]), np.array([])\n",
    "    X_train = []\n",
    "    y_train = []\n",
    "    for i in range(past_values, len(data)):\n",
    "        X_train.append(data[i-past_values:i, 0])\n",
    "        y_train.append(data[i, 0])\n",
    "    return np.array(X_train), np.array(y_train)\n",
    "\n",
    "X_train, y_train = create_training_data(training_data, past_values)\n",
    "X_train = np.reshape(X_train, (X_train.shape[0], X_train.shape[1], 1))\n",
    "\n",
    "X_test, y_test = create_training_data(testing_data, past_values)\n",
    "X_test = np.reshape(X_test, (X_test.shape[0], X_test.shape[1], 1))"
   ]
  },
  {
   "cell_type": "code",
   "execution_count": 8,
   "id": "c2e46176",
   "metadata": {},
   "outputs": [
    {
     "data": {
      "text/plain": [
       "(1680, 1682)"
      ]
     },
     "execution_count": 8,
     "metadata": {},
     "output_type": "execute_result"
    }
   ],
   "source": [
    "len(X_train) + len(X_test), len(scaled_data)"
   ]
  },
  {
   "cell_type": "code",
   "execution_count": 9,
   "id": "d26d2fdb",
   "metadata": {},
   "outputs": [
    {
     "data": {
      "text/plain": [
       "(1344, 1, 1)"
      ]
     },
     "execution_count": 9,
     "metadata": {},
     "output_type": "execute_result"
    }
   ],
   "source": [
    "X_train.shape"
   ]
  },
  {
   "cell_type": "code",
   "execution_count": 10,
   "id": "70151e02",
   "metadata": {},
   "outputs": [
    {
     "name": "stdout",
     "output_type": "stream",
     "text": [
      "Epoch 1/200\n",
      "7/7 [==============================] - 13s 9ms/step - loss: 0.2128\n",
      "Epoch 2/200\n",
      "7/7 [==============================] - 0s 9ms/step - loss: 0.1615\n",
      "Epoch 3/200\n",
      "7/7 [==============================] - 0s 10ms/step - loss: 0.1123\n",
      "Epoch 4/200\n",
      "7/7 [==============================] - 0s 10ms/step - loss: 0.0697\n",
      "Epoch 5/200\n",
      "7/7 [==============================] - 0s 13ms/step - loss: 0.0516\n",
      "Epoch 6/200\n",
      "7/7 [==============================] - 0s 12ms/step - loss: 0.0534\n",
      "Epoch 7/200\n",
      "7/7 [==============================] - 0s 13ms/step - loss: 0.0451\n",
      "Epoch 8/200\n",
      "7/7 [==============================] - 0s 18ms/step - loss: 0.0396\n",
      "Epoch 9/200\n",
      "7/7 [==============================] - 0s 14ms/step - loss: 0.0320\n",
      "Epoch 10/200\n",
      "7/7 [==============================] - 0s 12ms/step - loss: 0.0236\n",
      "Epoch 11/200\n",
      "7/7 [==============================] - 0s 14ms/step - loss: 0.0145\n",
      "Epoch 12/200\n",
      "7/7 [==============================] - 0s 12ms/step - loss: 0.0066\n",
      "Epoch 13/200\n",
      "7/7 [==============================] - 0s 13ms/step - loss: 0.0020\n",
      "Epoch 14/200\n",
      "7/7 [==============================] - 0s 9ms/step - loss: 0.0013\n",
      "Epoch 15/200\n",
      "7/7 [==============================] - 0s 10ms/step - loss: 0.0016\n",
      "Epoch 16/200\n",
      "7/7 [==============================] - 0s 10ms/step - loss: 0.0014\n",
      "Epoch 17/200\n",
      "7/7 [==============================] - 0s 10ms/step - loss: 0.0011\n",
      "Epoch 18/200\n",
      "7/7 [==============================] - 0s 10ms/step - loss: 9.9815e-04\n",
      "Epoch 19/200\n",
      "7/7 [==============================] - 0s 8ms/step - loss: 9.8149e-04\n",
      "Epoch 20/200\n",
      "7/7 [==============================] - 0s 10ms/step - loss: 9.3499e-04\n",
      "Epoch 21/200\n",
      "7/7 [==============================] - 0s 13ms/step - loss: 8.8713e-04\n",
      "Epoch 22/200\n",
      "7/7 [==============================] - 0s 11ms/step - loss: 8.7380e-04\n",
      "Epoch 23/200\n",
      "7/7 [==============================] - 0s 9ms/step - loss: 8.3877e-04\n",
      "Epoch 24/200\n",
      "7/7 [==============================] - 0s 10ms/step - loss: 8.0518e-04\n",
      "Epoch 25/200\n",
      "7/7 [==============================] - 0s 11ms/step - loss: 7.7132e-04\n",
      "Epoch 26/200\n",
      "7/7 [==============================] - 0s 12ms/step - loss: 7.4235e-04\n",
      "Epoch 27/200\n",
      "7/7 [==============================] - 0s 11ms/step - loss: 7.1849e-04\n",
      "Epoch 28/200\n",
      "7/7 [==============================] - 0s 13ms/step - loss: 6.9208e-04\n",
      "Epoch 29/200\n",
      "7/7 [==============================] - 0s 14ms/step - loss: 6.6900e-04\n",
      "Epoch 30/200\n",
      "7/7 [==============================] - 0s 14ms/step - loss: 6.4598e-04\n",
      "Epoch 31/200\n",
      "7/7 [==============================] - 0s 11ms/step - loss: 6.2406e-04\n",
      "Epoch 32/200\n",
      "7/7 [==============================] - 0s 12ms/step - loss: 6.0201e-04\n",
      "Epoch 33/200\n",
      "7/7 [==============================] - 0s 12ms/step - loss: 5.8425e-04\n",
      "Epoch 34/200\n",
      "7/7 [==============================] - 0s 12ms/step - loss: 5.6315e-04\n",
      "Epoch 35/200\n",
      "7/7 [==============================] - 0s 12ms/step - loss: 5.4539e-04\n",
      "Epoch 36/200\n",
      "7/7 [==============================] - 0s 12ms/step - loss: 5.2734e-04\n",
      "Epoch 37/200\n",
      "7/7 [==============================] - 0s 12ms/step - loss: 5.1238e-04\n",
      "Epoch 38/200\n",
      "7/7 [==============================] - 0s 11ms/step - loss: 4.9689e-04\n",
      "Epoch 39/200\n",
      "7/7 [==============================] - 0s 11ms/step - loss: 4.8357e-04\n",
      "Epoch 40/200\n",
      "7/7 [==============================] - 0s 11ms/step - loss: 4.6872e-04\n",
      "Epoch 41/200\n",
      "7/7 [==============================] - 0s 12ms/step - loss: 4.5841e-04\n",
      "Epoch 42/200\n",
      "7/7 [==============================] - 0s 12ms/step - loss: 4.4631e-04\n",
      "Epoch 43/200\n",
      "7/7 [==============================] - 0s 11ms/step - loss: 4.3937e-04\n",
      "Epoch 44/200\n",
      "7/7 [==============================] - 0s 11ms/step - loss: 4.2546e-04\n",
      "Epoch 45/200\n",
      "7/7 [==============================] - 0s 9ms/step - loss: 4.1355e-04\n",
      "Epoch 46/200\n",
      "7/7 [==============================] - 0s 9ms/step - loss: 4.0731e-04\n",
      "Epoch 47/200\n",
      "7/7 [==============================] - 0s 9ms/step - loss: 4.0065e-04\n",
      "Epoch 48/200\n",
      "7/7 [==============================] - 0s 8ms/step - loss: 3.8982e-04\n",
      "Epoch 49/200\n",
      "7/7 [==============================] - 0s 8ms/step - loss: 3.8417e-04\n",
      "Epoch 50/200\n",
      "7/7 [==============================] - 0s 8ms/step - loss: 3.7879e-04\n",
      "Epoch 51/200\n",
      "7/7 [==============================] - 0s 8ms/step - loss: 3.7073e-04\n",
      "Epoch 52/200\n",
      "7/7 [==============================] - 0s 8ms/step - loss: 3.6502e-04\n",
      "Epoch 53/200\n",
      "7/7 [==============================] - 0s 9ms/step - loss: 3.6311e-04\n",
      "Epoch 54/200\n",
      "7/7 [==============================] - 0s 8ms/step - loss: 3.5680e-04\n",
      "Epoch 55/200\n",
      "7/7 [==============================] - 0s 8ms/step - loss: 3.5260e-04\n",
      "Epoch 56/200\n",
      "7/7 [==============================] - 0s 8ms/step - loss: 3.4783e-04\n",
      "Epoch 57/200\n",
      "7/7 [==============================] - 0s 8ms/step - loss: 3.4528e-04\n",
      "Epoch 58/200\n",
      "7/7 [==============================] - 0s 8ms/step - loss: 3.4480e-04\n",
      "Epoch 59/200\n",
      "7/7 [==============================] - 0s 8ms/step - loss: 3.4028e-04\n",
      "Epoch 60/200\n",
      "7/7 [==============================] - 0s 8ms/step - loss: 3.3974e-04\n",
      "Epoch 61/200\n",
      "7/7 [==============================] - 0s 8ms/step - loss: 3.3949e-04\n",
      "Epoch 62/200\n",
      "7/7 [==============================] - 0s 8ms/step - loss: 3.3595e-04\n",
      "Epoch 63/200\n",
      "7/7 [==============================] - 0s 8ms/step - loss: 3.3246e-04\n",
      "Epoch 64/200\n",
      "7/7 [==============================] - 0s 10ms/step - loss: 3.3152e-04\n",
      "Epoch 65/200\n",
      "7/7 [==============================] - 0s 11ms/step - loss: 3.3178e-04\n",
      "Epoch 66/200\n",
      "7/7 [==============================] - 0s 10ms/step - loss: 3.3150e-04\n",
      "Epoch 67/200\n",
      "7/7 [==============================] - 0s 8ms/step - loss: 3.3121e-04\n",
      "Epoch 68/200\n",
      "7/7 [==============================] - 0s 7ms/step - loss: 3.2818e-04\n",
      "Epoch 69/200\n",
      "7/7 [==============================] - 0s 7ms/step - loss: 3.2592e-04\n",
      "Epoch 70/200\n",
      "7/7 [==============================] - 0s 10ms/step - loss: 3.2818e-04\n",
      "Epoch 71/200\n",
      "7/7 [==============================] - 0s 8ms/step - loss: 3.2555e-04\n",
      "Epoch 72/200\n",
      "7/7 [==============================] - 0s 8ms/step - loss: 3.2767e-04\n",
      "Epoch 73/200\n",
      "7/7 [==============================] - 0s 10ms/step - loss: 3.2768e-04\n",
      "Epoch 74/200\n",
      "7/7 [==============================] - 0s 8ms/step - loss: 3.2562e-04\n",
      "Epoch 75/200\n",
      "7/7 [==============================] - 0s 7ms/step - loss: 3.3436e-04\n",
      "Epoch 76/200\n",
      "7/7 [==============================] - 0s 7ms/step - loss: 3.2592e-04\n",
      "Epoch 77/200\n",
      "7/7 [==============================] - 0s 7ms/step - loss: 3.2615e-04\n",
      "Epoch 78/200\n",
      "7/7 [==============================] - 0s 7ms/step - loss: 3.2292e-04\n",
      "Epoch 79/200\n",
      "7/7 [==============================] - 0s 8ms/step - loss: 3.2347e-04\n",
      "Epoch 80/200\n",
      "7/7 [==============================] - 0s 8ms/step - loss: 3.2278e-04\n",
      "Epoch 81/200\n",
      "7/7 [==============================] - 0s 8ms/step - loss: 3.2916e-04\n",
      "Epoch 82/200\n",
      "7/7 [==============================] - 0s 9ms/step - loss: 3.2890e-04\n",
      "Epoch 83/200\n",
      "7/7 [==============================] - 0s 8ms/step - loss: 3.2814e-04\n",
      "Epoch 84/200\n",
      "7/7 [==============================] - 0s 9ms/step - loss: 3.2919e-04\n",
      "Epoch 85/200\n",
      "7/7 [==============================] - 0s 10ms/step - loss: 3.2630e-04\n",
      "Epoch 86/200\n",
      "7/7 [==============================] - 0s 9ms/step - loss: 3.2258e-04\n",
      "Epoch 87/200\n",
      "7/7 [==============================] - 0s 8ms/step - loss: 3.2232e-04\n",
      "Epoch 88/200\n",
      "7/7 [==============================] - 0s 12ms/step - loss: 3.2492e-04\n",
      "Epoch 89/200\n",
      "7/7 [==============================] - 0s 10ms/step - loss: 3.2841e-04\n",
      "Epoch 90/200\n",
      "7/7 [==============================] - 0s 8ms/step - loss: 3.2359e-04\n",
      "Epoch 91/200\n",
      "7/7 [==============================] - 0s 9ms/step - loss: 3.2549e-04\n",
      "Epoch 92/200\n",
      "7/7 [==============================] - 0s 8ms/step - loss: 3.2347e-04\n",
      "Epoch 93/200\n",
      "7/7 [==============================] - 0s 8ms/step - loss: 3.2205e-04\n",
      "Epoch 94/200\n",
      "7/7 [==============================] - 0s 8ms/step - loss: 3.2180e-04\n",
      "Epoch 95/200\n",
      "7/7 [==============================] - 0s 8ms/step - loss: 3.2143e-04\n",
      "Epoch 96/200\n",
      "7/7 [==============================] - 0s 9ms/step - loss: 3.2240e-04\n",
      "Epoch 97/200\n",
      "7/7 [==============================] - 0s 14ms/step - loss: 3.2220e-04\n",
      "Epoch 98/200\n",
      "7/7 [==============================] - 0s 11ms/step - loss: 3.2217e-04\n",
      "Epoch 99/200\n",
      "7/7 [==============================] - 0s 11ms/step - loss: 3.2186e-04\n",
      "Epoch 100/200\n"
     ]
    },
    {
     "name": "stdout",
     "output_type": "stream",
     "text": [
      "7/7 [==============================] - 0s 9ms/step - loss: 3.2536e-04\n",
      "Epoch 101/200\n",
      "7/7 [==============================] - 0s 7ms/step - loss: 3.2211e-04\n",
      "Epoch 102/200\n",
      "7/7 [==============================] - 0s 7ms/step - loss: 3.2452e-04\n",
      "Epoch 103/200\n",
      "7/7 [==============================] - 0s 7ms/step - loss: 3.2217e-04\n",
      "Epoch 104/200\n",
      "7/7 [==============================] - 0s 7ms/step - loss: 3.2723e-04\n",
      "Epoch 105/200\n",
      "7/7 [==============================] - 0s 7ms/step - loss: 3.3150e-04\n",
      "Epoch 106/200\n",
      "7/7 [==============================] - 0s 7ms/step - loss: 3.2309e-04\n",
      "Epoch 107/200\n",
      "7/7 [==============================] - 0s 8ms/step - loss: 3.2680e-04\n",
      "Epoch 108/200\n",
      "7/7 [==============================] - 0s 9ms/step - loss: 3.2346e-04\n",
      "Epoch 109/200\n",
      "7/7 [==============================] - 0s 10ms/step - loss: 3.3269e-04\n",
      "Epoch 110/200\n",
      "7/7 [==============================] - 0s 8ms/step - loss: 3.2368e-04\n",
      "Epoch 111/200\n",
      "7/7 [==============================] - 0s 8ms/step - loss: 3.2309e-04\n",
      "Epoch 112/200\n",
      "7/7 [==============================] - 0s 8ms/step - loss: 3.2780e-04\n",
      "Epoch 113/200\n",
      "7/7 [==============================] - 0s 8ms/step - loss: 3.2946e-04\n",
      "Epoch 114/200\n",
      "7/7 [==============================] - 0s 7ms/step - loss: 3.2176e-04\n",
      "Epoch 115/200\n",
      "7/7 [==============================] - 0s 7ms/step - loss: 3.2331e-04\n",
      "Epoch 116/200\n",
      "7/7 [==============================] - 0s 7ms/step - loss: 3.2251e-04\n",
      "Epoch 117/200\n",
      "7/7 [==============================] - 0s 7ms/step - loss: 3.2494e-04\n",
      "Epoch 118/200\n",
      "7/7 [==============================] - 0s 7ms/step - loss: 3.2275e-04\n",
      "Epoch 119/200\n",
      "7/7 [==============================] - 0s 7ms/step - loss: 3.2258e-04\n",
      "Epoch 120/200\n",
      "7/7 [==============================] - 0s 7ms/step - loss: 3.2778e-04\n",
      "Epoch 121/200\n",
      "7/7 [==============================] - 0s 7ms/step - loss: 3.3199e-04\n",
      "Epoch 122/200\n",
      "7/7 [==============================] - 0s 8ms/step - loss: 3.2373e-04\n",
      "Epoch 123/200\n",
      "7/7 [==============================] - 0s 8ms/step - loss: 3.2337e-04\n",
      "Epoch 124/200\n",
      "7/7 [==============================] - 0s 7ms/step - loss: 3.2588e-04\n",
      "Epoch 125/200\n",
      "7/7 [==============================] - 0s 8ms/step - loss: 3.2241e-04\n",
      "Epoch 126/200\n",
      "7/7 [==============================] - 0s 8ms/step - loss: 3.2604e-04\n",
      "Epoch 127/200\n",
      "7/7 [==============================] - 0s 9ms/step - loss: 3.2719e-04\n",
      "Epoch 128/200\n",
      "7/7 [==============================] - 0s 8ms/step - loss: 3.3005e-04\n",
      "Epoch 129/200\n",
      "7/7 [==============================] - 0s 8ms/step - loss: 3.2714e-04\n",
      "Epoch 130/200\n",
      "7/7 [==============================] - 0s 8ms/step - loss: 3.2208e-04\n",
      "Epoch 131/200\n",
      "7/7 [==============================] - 0s 8ms/step - loss: 3.2350e-04\n",
      "Epoch 132/200\n",
      "7/7 [==============================] - 0s 8ms/step - loss: 3.2233e-04\n",
      "Epoch 133/200\n",
      "7/7 [==============================] - 0s 8ms/step - loss: 3.2178e-04\n",
      "Epoch 134/200\n",
      "7/7 [==============================] - 0s 8ms/step - loss: 3.2215e-04\n",
      "Epoch 135/200\n",
      "7/7 [==============================] - 0s 8ms/step - loss: 3.2514e-04\n",
      "Epoch 136/200\n",
      "7/7 [==============================] - 0s 8ms/step - loss: 3.2220e-04\n",
      "Epoch 137/200\n",
      "7/7 [==============================] - 0s 8ms/step - loss: 3.2535e-04\n",
      "Epoch 138/200\n",
      "7/7 [==============================] - 0s 8ms/step - loss: 3.3069e-04\n",
      "Epoch 139/200\n",
      "7/7 [==============================] - 0s 8ms/step - loss: 3.3105e-04\n",
      "Epoch 140/200\n",
      "7/7 [==============================] - 0s 8ms/step - loss: 3.2315e-04\n",
      "Epoch 141/200\n",
      "7/7 [==============================] - 0s 8ms/step - loss: 3.2559e-04\n",
      "Epoch 142/200\n",
      "7/7 [==============================] - 0s 8ms/step - loss: 3.2288e-04\n",
      "Epoch 143/200\n",
      "7/7 [==============================] - 0s 8ms/step - loss: 3.2277e-04\n",
      "Epoch 144/200\n",
      "7/7 [==============================] - 0s 8ms/step - loss: 3.2647e-04\n",
      "Epoch 145/200\n",
      "7/7 [==============================] - 0s 10ms/step - loss: 3.2564e-04\n",
      "Epoch 146/200\n",
      "7/7 [==============================] - 0s 12ms/step - loss: 3.2276e-04\n",
      "Epoch 147/200\n",
      "7/7 [==============================] - 0s 9ms/step - loss: 3.2698e-04\n",
      "Epoch 148/200\n",
      "7/7 [==============================] - 0s 8ms/step - loss: 3.2685e-04\n",
      "Epoch 149/200\n",
      "7/7 [==============================] - 0s 7ms/step - loss: 3.2599e-04\n",
      "Epoch 150/200\n",
      "7/7 [==============================] - 0s 8ms/step - loss: 3.2125e-04\n",
      "Epoch 151/200\n",
      "7/7 [==============================] - 0s 8ms/step - loss: 3.2350e-04\n",
      "Epoch 152/200\n",
      "7/7 [==============================] - 0s 12ms/step - loss: 3.2211e-04\n",
      "Epoch 153/200\n",
      "7/7 [==============================] - 0s 10ms/step - loss: 3.2380e-04\n",
      "Epoch 154/200\n",
      "7/7 [==============================] - 0s 10ms/step - loss: 3.2217e-04\n",
      "Epoch 155/200\n",
      "7/7 [==============================] - 0s 10ms/step - loss: 3.2452e-04\n",
      "Epoch 156/200\n",
      "7/7 [==============================] - 0s 11ms/step - loss: 3.2441e-04\n",
      "Epoch 157/200\n",
      "7/7 [==============================] - 0s 9ms/step - loss: 3.3556e-04\n",
      "Epoch 158/200\n",
      "7/7 [==============================] - 0s 8ms/step - loss: 3.2374e-04\n",
      "Epoch 159/200\n",
      "7/7 [==============================] - 0s 16ms/step - loss: 3.2175e-04\n",
      "Epoch 160/200\n",
      "7/7 [==============================] - 0s 13ms/step - loss: 3.2226e-04\n",
      "Epoch 161/200\n",
      "7/7 [==============================] - 0s 11ms/step - loss: 3.2257e-04\n",
      "Epoch 162/200\n",
      "7/7 [==============================] - 0s 14ms/step - loss: 3.2406e-04\n",
      "Epoch 163/200\n",
      "7/7 [==============================] - 0s 14ms/step - loss: 3.3212e-04\n",
      "Epoch 164/200\n",
      "7/7 [==============================] - 0s 13ms/step - loss: 3.2921e-04\n",
      "Epoch 165/200\n",
      "7/7 [==============================] - 0s 11ms/step - loss: 3.3447e-04\n",
      "Epoch 166/200\n",
      "7/7 [==============================] - 0s 10ms/step - loss: 3.3245e-04\n",
      "Epoch 167/200\n",
      "7/7 [==============================] - 0s 12ms/step - loss: 3.2396e-04\n",
      "Epoch 168/200\n",
      "7/7 [==============================] - 0s 11ms/step - loss: 3.2416e-04\n",
      "Epoch 169/200\n",
      "7/7 [==============================] - 0s 12ms/step - loss: 3.2922e-04\n",
      "Epoch 170/200\n",
      "7/7 [==============================] - 0s 11ms/step - loss: 3.3028e-04\n",
      "Epoch 171/200\n",
      "7/7 [==============================] - 0s 11ms/step - loss: 3.3958e-04\n",
      "Epoch 172/200\n",
      "7/7 [==============================] - 0s 11ms/step - loss: 3.2922e-04\n",
      "Epoch 173/200\n",
      "7/7 [==============================] - 0s 12ms/step - loss: 3.2930e-04\n",
      "Epoch 174/200\n",
      "7/7 [==============================] - 0s 10ms/step - loss: 3.2584e-04\n",
      "Epoch 175/200\n",
      "7/7 [==============================] - 0s 11ms/step - loss: 3.2728e-04\n",
      "Epoch 176/200\n",
      "7/7 [==============================] - 0s 10ms/step - loss: 3.2415e-04\n",
      "Epoch 177/200\n",
      "7/7 [==============================] - 0s 13ms/step - loss: 3.2599e-04\n",
      "Epoch 178/200\n",
      "7/7 [==============================] - 0s 15ms/step - loss: 3.2592e-04\n",
      "Epoch 179/200\n",
      "7/7 [==============================] - 0s 12ms/step - loss: 3.2589e-04\n",
      "Epoch 180/200\n",
      "7/7 [==============================] - 0s 14ms/step - loss: 3.3527e-04\n",
      "Epoch 181/200\n",
      "7/7 [==============================] - 0s 10ms/step - loss: 3.2414e-04\n",
      "Epoch 182/200\n",
      "7/7 [==============================] - 0s 10ms/step - loss: 3.2188e-04\n",
      "Epoch 183/200\n",
      "7/7 [==============================] - 0s 10ms/step - loss: 3.2324e-04\n",
      "Epoch 184/200\n",
      "7/7 [==============================] - 0s 11ms/step - loss: 3.2395e-04\n",
      "Epoch 185/200\n",
      "7/7 [==============================] - 0s 11ms/step - loss: 3.2232e-04\n",
      "Epoch 186/200\n",
      "7/7 [==============================] - 0s 9ms/step - loss: 3.2403e-04\n",
      "Epoch 187/200\n",
      "7/7 [==============================] - 0s 11ms/step - loss: 3.2811e-04\n",
      "Epoch 188/200\n",
      "7/7 [==============================] - 0s 12ms/step - loss: 3.3065e-04\n",
      "Epoch 189/200\n",
      "7/7 [==============================] - 0s 10ms/step - loss: 3.2792e-04\n",
      "Epoch 190/200\n",
      "7/7 [==============================] - 0s 10ms/step - loss: 3.2329e-04\n",
      "Epoch 191/200\n",
      "7/7 [==============================] - 0s 11ms/step - loss: 3.2366e-04\n",
      "Epoch 192/200\n",
      "7/7 [==============================] - 0s 11ms/step - loss: 3.2225e-04\n",
      "Epoch 193/200\n",
      "7/7 [==============================] - 0s 10ms/step - loss: 3.2835e-04\n",
      "Epoch 194/200\n",
      "7/7 [==============================] - 0s 10ms/step - loss: 3.4300e-04\n",
      "Epoch 195/200\n",
      "7/7 [==============================] - 0s 11ms/step - loss: 3.4632e-04\n",
      "Epoch 196/200\n",
      "7/7 [==============================] - 0s 10ms/step - loss: 3.2481e-04\n",
      "Epoch 197/200\n"
     ]
    },
    {
     "name": "stdout",
     "output_type": "stream",
     "text": [
      "7/7 [==============================] - 0s 11ms/step - loss: 3.2768e-04\n",
      "Epoch 198/200\n",
      "7/7 [==============================] - 0s 12ms/step - loss: 3.2608e-04\n",
      "Epoch 199/200\n",
      "7/7 [==============================] - 0s 12ms/step - loss: 3.2275e-04\n",
      "Epoch 200/200\n",
      "7/7 [==============================] - 0s 12ms/step - loss: 3.2344e-04\n"
     ]
    },
    {
     "data": {
      "text/plain": [
       "<keras.src.callbacks.History at 0x1982c38b290>"
      ]
     },
     "execution_count": 10,
     "metadata": {},
     "output_type": "execute_result"
    }
   ],
   "source": [
    "model = Sequential()\n",
    "model.add(LSTM(50, return_sequences=True, input_shape=(X_train.shape[1], 1)))\n",
    "model.add(LSTM(50, return_sequences=True))\n",
    "model.add(LSTM(50, return_sequences=False))\n",
    "model.add(Dense(25))\n",
    "model.add(Dense(1))\n",
    "\n",
    "model.compile(optimizer='adam', loss='mean_squared_error')\n",
    "model.fit(X_train, y_train, batch_size=200, epochs=200, verbose=1)"
   ]
  },
  {
   "cell_type": "code",
   "execution_count": 11,
   "id": "92ef2e44",
   "metadata": {},
   "outputs": [
    {
     "name": "stdout",
     "output_type": "stream",
     "text": [
      "42/42 [==============================] - 2s 3ms/step\n",
      "11/11 [==============================] - 2s 6ms/step\n"
     ]
    }
   ],
   "source": [
    "pred_train = model.predict(X_train)\n",
    "pred = model.predict(X_test)"
   ]
  },
  {
   "cell_type": "code",
   "execution_count": 12,
   "id": "a77f781f",
   "metadata": {},
   "outputs": [],
   "source": [
    "pred_train = scaler.inverse_transform(pred_train)\n",
    "pred = scaler.inverse_transform(pred)\n",
    "y_test = scaler.inverse_transform([y_test])\n",
    "y_train = scaler.inverse_transform([y_train])"
   ]
  },
  {
   "cell_type": "code",
   "execution_count": 13,
   "id": "ab449e76",
   "metadata": {},
   "outputs": [],
   "source": [
    "y_test = y_test.flatten()\n",
    "y_train = y_train.flatten()"
   ]
  },
  {
   "cell_type": "code",
   "execution_count": 14,
   "id": "3003bbb6",
   "metadata": {},
   "outputs": [
    {
     "name": "stdout",
     "output_type": "stream",
     "text": [
      "Training Error\n",
      "Mean Absolute Error (MAE): 1.3281192580858867\n",
      "Root Mean Squared Error (RMSE): 1.8819285325263924\n"
     ]
    },
    {
     "data": {
      "image/png": "[encoded data removed]",
      "text/plain": [
       "<Figure size 640x480 with 1 Axes>"
      ]
     },
     "metadata": {},
     "output_type": "display_data"
    }
   ],
   "source": [
    "print(\"Training Error\")\n",
    "mae = mean_absolute_error(y_train, pred_train)\n",
    "print(\"Mean Absolute Error (MAE):\", mae)\n",
    "rmse = sqrt(mean_squared_error(y_train, pred_train))\n",
    "print(\"Root Mean Squared Error (RMSE):\", rmse)\n",
    "    \n",
    "plt.plot(y_train, label = 'actual '+str(ticker))\n",
    "plt.plot(pred_train, label = 'predicted '+str(ticker))\n",
    "plt.title(\"Training Plot\")\n",
    "plt.legend()\n",
    "plt.show()"
   ]
  },
  {
   "cell_type": "code",
   "execution_count": 15,
   "id": "01e9e93d",
   "metadata": {},
   "outputs": [
    {
     "name": "stdout",
     "output_type": "stream",
     "text": [
      "Testing Error\n",
      "Mean Absolute Error (MAE): 1.0356624239966983\n",
      "Root Mean Squared Error (RMSE): 1.5153082412217078\n"
     ]
    },
    {
     "data": {
      "image/png": "[encoded data removed]",
      "text/plain": [
       "<Figure size 640x480 with 1 Axes>"
      ]
     },
     "metadata": {},
     "output_type": "display_data"
    }
   ],
   "source": [
    "print(\"Testing Error\")\n",
    "mae = mean_absolute_error(y_test, pred)\n",
    "print(\"Mean Absolute Error (MAE):\", mae)\n",
    "rmse = sqrt(mean_squared_error(y_test, pred))\n",
    "print(\"Root Mean Squared Error (RMSE):\", rmse)\n",
    "\n",
    "plt.plot(y_test, label = 'actual '+str(ticker))\n",
    "plt.plot(pred, label = 'predicted '+str(ticker))\n",
    "plt.title(\"Testing Plot\")\n",
    "plt.legend()\n",
    "plt.show()"
   ]
  },
  {
   "cell_type": "markdown",
   "id": "a39de483",
   "metadata": {},
   "source": [
    "## 10 days future prediction without correction"
   ]
  },
  {
   "cell_type": "code",
   "execution_count": 16,
   "id": "b9dec815",
   "metadata": {
    "scrolled": true
   },
   "outputs": [
    {
     "data": {
      "text/plain": [
       "array([[0.76396024],\n",
       "       [0.76460208],\n",
       "       [0.77872268],\n",
       "       ...,\n",
       "       [0.92811303],\n",
       "       [0.93196407],\n",
       "       [0.97191908]])"
      ]
     },
     "execution_count": 16,
     "metadata": {},
     "output_type": "execute_result"
    }
   ],
   "source": [
    "scaled_data"
   ]
  },
  {
   "cell_type": "code",
   "execution_count": 17,
   "id": "a42ce6ad",
   "metadata": {},
   "outputs": [
    {
     "data": {
      "text/plain": [
       "(1344, 336, 1682)"
      ]
     },
     "execution_count": 17,
     "metadata": {},
     "output_type": "execute_result"
    }
   ],
   "source": [
    "len(X_train), len(X_test),  len(scaled_data)"
   ]
  },
  {
   "cell_type": "code",
   "execution_count": 18,
   "id": "73ea43f2",
   "metadata": {},
   "outputs": [],
   "source": [
    "reshaped_data = scaled_data.reshape(scaled_data.shape[0], scaled_data.shape[1], 1)"
   ]
  },
  {
   "cell_type": "code",
   "execution_count": 19,
   "id": "3d6562ab",
   "metadata": {},
   "outputs": [
    {
     "data": {
      "text/plain": [
       "array([[[0.81787543]],\n",
       "\n",
       "       [[0.81065463]],\n",
       "\n",
       "       [[0.79765729]],\n",
       "\n",
       "       [[0.82365212]],\n",
       "\n",
       "       [[0.843389  ]],\n",
       "\n",
       "       [[0.86601407]],\n",
       "\n",
       "       [[0.92329917]],\n",
       "\n",
       "       [[0.92811303]],\n",
       "\n",
       "       [[0.93196407]],\n",
       "\n",
       "       [[0.97191908]]])"
      ]
     },
     "execution_count": 19,
     "metadata": {},
     "output_type": "execute_result"
    }
   ],
   "source": [
    "future_data_to_predict = reshaped_data[-10:]\n",
    "future_data_to_predict"
   ]
  },
  {
   "cell_type": "code",
   "execution_count": 20,
   "id": "90bbf305",
   "metadata": {},
   "outputs": [
    {
     "data": {
      "text/plain": [
       "(3, 3)"
      ]
     },
     "execution_count": 20,
     "metadata": {},
     "output_type": "execute_result"
    }
   ],
   "source": [
    "X_test.ndim, reshaped_data.ndim"
   ]
  },
  {
   "cell_type": "code",
   "execution_count": 21,
   "id": "d7913819",
   "metadata": {},
   "outputs": [
    {
     "name": "stdout",
     "output_type": "stream",
     "text": [
      "1/1 [==============================] - 0s 52ms/step\n",
      "[132.06082 131.32552 130.00058 132.64868 134.65433 136.9479  142.7264\n",
      " 143.20999 143.59662 147.5954 ]\n"
     ]
    }
   ],
   "source": [
    "def predict_future(last_input):\n",
    "    \n",
    "    res = model.predict(last_input)\n",
    "    Output = scaler.inverse_transform(res)\n",
    "    return Output\n",
    "\n",
    "future_predictions_1 = predict_future(future_data_to_predict)\n",
    "# print(future_predictions_1)\n",
    "\n",
    "future_predictions_1 = future_predictions_1.flatten()\n",
    "print(future_predictions_1)"
   ]
  },
  {
   "cell_type": "code",
   "execution_count": 22,
   "id": "177cb2d7",
   "metadata": {},
   "outputs": [],
   "source": [
    "# def predict_future(last_input):\n",
    "    \n",
    "#     res = model.predict(last_input)\n",
    "#     Output = scaler.inverse_transform(res)\n",
    "#     return Output\n",
    "\n",
    "# future_predictions_2 = predict_future(X_test[-5:])\n",
    "# # print(future_predictions_2)\n",
    "\n",
    "# future_predictions_2 = future_predictions_2.flatten()\n",
    "# print(future_predictions_2)"
   ]
  },
  {
   "cell_type": "code",
   "execution_count": 23,
   "id": "bfbbf4ea",
   "metadata": {},
   "outputs": [],
   "source": [
    "day=range(1,(len(future_data_to_predict)+1))"
   ]
  },
  {
   "cell_type": "code",
   "execution_count": 24,
   "id": "c7eafece",
   "metadata": {},
   "outputs": [
    {
     "data": {
      "image/png": "[encoded data removed]",
      "text/plain": [
       "<Figure size 640x480 with 1 Axes>"
      ]
     },
     "metadata": {},
     "output_type": "display_data"
    }
   ],
   "source": [
    "plt.plot(day, future_predictions_1, color='red', label='scaled_data')\n",
    "# plt.plot(day, future_predictions_2, color='blue', label='x_test')\n",
    "plt.legend()\n",
    "plt.show()"
   ]
  },
  {
   "cell_type": "code",
   "execution_count": 25,
   "id": "b1b1174b",
   "metadata": {},
   "outputs": [],
   "source": [
    "# ticker = \"AMZN\"\n",
    "# start='2024-01-22'\n",
    "# end='2024-01-26'\n",
    "# df = yf.download(ticker, start=start, end=end)\n",
    "# # print(df)\n",
    "# actual = df['Close'].values\n",
    "# print(actual)"
   ]
  },
  {
   "cell_type": "code",
   "execution_count": 26,
   "id": "246eb22b",
   "metadata": {},
   "outputs": [],
   "source": [
    "# day_actual = np.arange(1,21)\n",
    "# day_pred = np.arange(1,21)"
   ]
  },
  {
   "cell_type": "code",
   "execution_count": 27,
   "id": "93ab4b80",
   "metadata": {},
   "outputs": [],
   "source": [
    "# plt.figure(figsize=(8,6))\n",
    "# plt.title(f'Plot for {ticker} from {start} till {end}')\n",
    "# plt.xlabel('No. of Days')\n",
    "# plt.ylabel('Price Values')\n",
    "# plt.plot(day_actual, actual, label = 'actual price', color='blue')\n",
    "# plt.plot(day_pred, future_predictions_1, label = 'predicted price', color='red')\n",
    "# plt.legend()\n",
    "# plt.show()"
   ]
  },
  {
   "cell_type": "markdown",
   "id": "3acc2324",
   "metadata": {},
   "source": [
    "## Buy and Sell"
   ]
  },
  {
   "cell_type": "code",
   "execution_count": 28,
   "id": "f8c67516",
   "metadata": {},
   "outputs": [],
   "source": [
    "def get_control_vector(val):\n",
    "    return np.diff(np.sign(np.diff(val)))\n",
    "\n",
    "# def buy_and_sell_bot(val,controls):\n",
    "#     inv = []\n",
    "#     curr_val = 1000\n",
    "#     inds = np.where(controls)[0]\n",
    "#     buy_inds = np.where(controls>0)[0]\n",
    "#     sell_inds = np.where(controls<0)[0]\n",
    "#     max_limit = sell_inds[-1] if sell_inds[-1]>buy_inds[-1] else buy_inds[-1]\n",
    "#     for i in range(buy_inds[0]+2):\n",
    "#         inv.append(curr_val)\n",
    "#     for i in range(buy_inds[0],max_limit+1):\n",
    "#         if controls[i]>0:\n",
    "#             buy_val = val[i+1]\n",
    "#         elif controls[i]<0:\n",
    "#             sell_val = val[i+1]\n",
    "#             curr_val = curr_val*sell_val/buy_val\n",
    "#         inv.append(curr_val)\n",
    "        \n",
    "#     if max_limit+1!=len(controls):\n",
    "#         for i in range(len(controls)-max_limit-1):\n",
    "#             inv.append(curr_val)\n",
    "#     return inv\n",
    "\n",
    "def buy_and_sell_bot(val, controls):\n",
    "    inv = []\n",
    "    curr_val = 1000\n",
    "    buy_inds = np.where(controls > 0)[0]\n",
    "    sell_inds = np.where(controls < 0)[0]\n",
    "    \n",
    "    if buy_inds.size == 0 or sell_inds.size == 0:\n",
    "        return [curr_val] * len(controls)\n",
    "    \n",
    "    max_limit = max(sell_inds[-1], buy_inds[-1])\n",
    "    for i in range(buy_inds[0] + 2):\n",
    "        inv.append(curr_val)\n",
    "        \n",
    "    for i in range(buy_inds[0], max_limit + 1):\n",
    "        if controls[i] > 0:\n",
    "            buy_val = val[i + 1]\n",
    "        elif controls[i] < 0:\n",
    "            sell_val = val[i + 1]\n",
    "            curr_val = curr_val * sell_val / buy_val\n",
    "        inv.append(curr_val)\n",
    "        \n",
    "    if max_limit + 1 != len(controls):\n",
    "        for i in range(len(controls) - max_limit - 1):\n",
    "            inv.append(curr_val)\n",
    "    \n",
    "    return inv"
   ]
  },
  {
   "cell_type": "code",
   "execution_count": 29,
   "id": "d4467228",
   "metadata": {
    "scrolled": true
   },
   "outputs": [
    {
     "data": {
      "text/plain": [
       "(array([0., 2., 0., 0., 0., 0., 0., 0.], dtype=float32),\n",
       " [1000, 1000, 1000, 1000, 1000, 1000, 1000, 1000])"
      ]
     },
     "execution_count": 29,
     "metadata": {},
     "output_type": "execute_result"
    }
   ],
   "source": [
    "controls_pred= get_control_vector(future_predictions_1)\n",
    "amount_pred = buy_and_sell_bot(future_predictions_1, controls_pred)\n",
    "controls_pred, amount_pred"
   ]
  },
  {
   "cell_type": "code",
   "execution_count": 30,
   "id": "fd37afe7",
   "metadata": {},
   "outputs": [],
   "source": [
    "# controls_actual= get_control_vector(actual)\n",
    "# amount_actual = buy_and_sell_bot(actual, controls_actual)\n",
    "# controls_actual, amount_actual"
   ]
  },
  {
   "cell_type": "code",
   "execution_count": 31,
   "id": "18049677",
   "metadata": {},
   "outputs": [
    {
     "data": {
      "image/png": "[encoded data removed]",
      "text/plain": [
       "<Figure size 640x480 with 1 Axes>"
      ]
     },
     "metadata": {},
     "output_type": "display_data"
    }
   ],
   "source": [
    "# plt.plot(amount_actual, label=\"actual\")\n",
    "plt.plot(amount_pred, label=\"pred\")\n",
    "plt.legend()\n",
    "plt.title(f\"{ticker} Returns\")\n",
    "plt.show()"
   ]
  },
  {
   "cell_type": "markdown",
   "id": "b11ee162",
   "metadata": {},
   "source": [
    "### Price values along with dates"
   ]
  },
  {
   "cell_type": "code",
   "execution_count": 32,
   "id": "bcbc4f2f",
   "metadata": {},
   "outputs": [],
   "source": [
    "from datetime import datetime, timedelta\n",
    "count=31\n",
    "Date = []\n",
    "for i in range(22,34):\n",
    "    if i == 27:\n",
    "        continue\n",
    "    elif i == 28:\n",
    "        continue\n",
    "    elif i >= 32:\n",
    "        i = i-count\n",
    "        base_date = datetime(2024,2,i)\n",
    "        formatted_date = base_date.strftime('%d-%m-%Y')\n",
    "        Date.append(formatted_date)\n",
    "    else:\n",
    "        base_date = datetime(2024,1,i)\n",
    "        formatted_date = base_date.strftime('%d-%m-%Y')\n",
    "        Date.append(formatted_date)"
   ]
  },
  {
   "cell_type": "code",
   "execution_count": 33,
   "id": "dc78e33b",
   "metadata": {},
   "outputs": [],
   "source": [
    "price_value_dict = {}\n",
    "price_value_dict['Date'] = Date\n",
    "price_value_dict['Closing Price'] = future_predictions_1.tolist()"
   ]
  },
  {
   "cell_type": "code",
   "execution_count": 34,
   "id": "f15efdad",
   "metadata": {
    "scrolled": true
   },
   "outputs": [],
   "source": [
    "# price_value_dict"
   ]
  },
  {
   "cell_type": "code",
   "execution_count": 35,
   "id": "adca4a68",
   "metadata": {},
   "outputs": [],
   "source": [
    "Price_with_dates = pd.DataFrame(price_value_dict)"
   ]
  },
  {
   "cell_type": "code",
   "execution_count": 36,
   "id": "0ec1be7d",
   "metadata": {},
   "outputs": [],
   "source": [
    "Price_with_dates.columns = pd.MultiIndex.from_tuples([(f'{ticker}', 'Date'), (f'{ticker}', 'Closing Price')])"
   ]
  },
  {
   "cell_type": "code",
   "execution_count": 37,
   "id": "e921373e",
   "metadata": {},
   "outputs": [
    {
     "data": {
      "text/html": [
       "<div>\n",
       "<style scoped>\n",
       "    .dataframe tbody tr th:only-of-type {\n",
       "        vertical-align: middle;\n",
       "    }\n",
       "\n",
       "    .dataframe tbody tr th {\n",
       "        vertical-align: top;\n",
       "    }\n",
       "\n",
       "    .dataframe thead tr th {\n",
       "        text-align: left;\n",
       "    }\n",
       "</style>\n",
       "<table border=\"1\" class=\"dataframe\">\n",
       "  <thead>\n",
       "    <tr>\n",
       "      <th></th>\n",
       "      <th colspan=\"2\" halign=\"left\">IOC.NS</th>\n",
       "    </tr>\n",
       "    <tr>\n",
       "      <th></th>\n",
       "      <th>Date</th>\n",
       "      <th>Closing Price</th>\n",
       "    </tr>\n",
       "  </thead>\n",
       "  <tbody>\n",
       "    <tr>\n",
       "      <th>0</th>\n",
       "      <td>22-01-2024</td>\n",
       "      <td>132.060822</td>\n",
       "    </tr>\n",
       "    <tr>\n",
       "      <th>1</th>\n",
       "      <td>23-01-2024</td>\n",
       "      <td>131.325516</td>\n",
       "    </tr>\n",
       "    <tr>\n",
       "      <th>2</th>\n",
       "      <td>24-01-2024</td>\n",
       "      <td>130.000580</td>\n",
       "    </tr>\n",
       "    <tr>\n",
       "      <th>3</th>\n",
       "      <td>25-01-2024</td>\n",
       "      <td>132.648682</td>\n",
       "    </tr>\n",
       "    <tr>\n",
       "      <th>4</th>\n",
       "      <td>26-01-2024</td>\n",
       "      <td>134.654327</td>\n",
       "    </tr>\n",
       "    <tr>\n",
       "      <th>5</th>\n",
       "      <td>29-01-2024</td>\n",
       "      <td>136.947906</td>\n",
       "    </tr>\n",
       "    <tr>\n",
       "      <th>6</th>\n",
       "      <td>30-01-2024</td>\n",
       "      <td>142.726395</td>\n",
       "    </tr>\n",
       "    <tr>\n",
       "      <th>7</th>\n",
       "      <td>31-01-2024</td>\n",
       "      <td>143.209991</td>\n",
       "    </tr>\n",
       "    <tr>\n",
       "      <th>8</th>\n",
       "      <td>01-02-2024</td>\n",
       "      <td>143.596619</td>\n",
       "    </tr>\n",
       "    <tr>\n",
       "      <th>9</th>\n",
       "      <td>02-02-2024</td>\n",
       "      <td>147.595398</td>\n",
       "    </tr>\n",
       "  </tbody>\n",
       "</table>\n",
       "</div>"
      ],
      "text/plain": [
       "       IOC.NS              \n",
       "         Date Closing Price\n",
       "0  22-01-2024    132.060822\n",
       "1  23-01-2024    131.325516\n",
       "2  24-01-2024    130.000580\n",
       "3  25-01-2024    132.648682\n",
       "4  26-01-2024    134.654327\n",
       "5  29-01-2024    136.947906\n",
       "6  30-01-2024    142.726395\n",
       "7  31-01-2024    143.209991\n",
       "8  01-02-2024    143.596619\n",
       "9  02-02-2024    147.595398"
      ]
     },
     "execution_count": 37,
     "metadata": {},
     "output_type": "execute_result"
    }
   ],
   "source": [
    "Price_with_dates"
   ]
  },
  {
   "cell_type": "code",
   "execution_count": null,
   "id": "5b8bc85c",
   "metadata": {},
   "outputs": [],
   "source": []
  },
  {
   "cell_type": "code",
   "execution_count": 38,
   "id": "572a0939",
   "metadata": {},
   "outputs": [],
   "source": [
    "ticker = \"IOC.NS\"\n",
    "start = \"2024-01-22\"\n",
    "end = \"2024-01-31\""
   ]
  },
  {
   "cell_type": "code",
   "execution_count": 39,
   "id": "e0393b0e",
   "metadata": {},
   "outputs": [
    {
     "name": "stdout",
     "output_type": "stream",
     "text": [
      "[*********************100%***********************]  1 of 1 completed\n"
     ]
    },
    {
     "data": {
      "text/html": [
       "<div>\n",
       "<style scoped>\n",
       "    .dataframe tbody tr th:only-of-type {\n",
       "        vertical-align: middle;\n",
       "    }\n",
       "\n",
       "    .dataframe tbody tr th {\n",
       "        vertical-align: top;\n",
       "    }\n",
       "\n",
       "    .dataframe thead th {\n",
       "        text-align: right;\n",
       "    }\n",
       "</style>\n",
       "<table border=\"1\" class=\"dataframe\">\n",
       "  <thead>\n",
       "    <tr style=\"text-align: right;\">\n",
       "      <th></th>\n",
       "      <th>Open</th>\n",
       "      <th>High</th>\n",
       "      <th>Low</th>\n",
       "      <th>Close</th>\n",
       "      <th>Adj Close</th>\n",
       "      <th>Volume</th>\n",
       "    </tr>\n",
       "    <tr>\n",
       "      <th>Date</th>\n",
       "      <th></th>\n",
       "      <th></th>\n",
       "      <th></th>\n",
       "      <th></th>\n",
       "      <th></th>\n",
       "      <th></th>\n",
       "    </tr>\n",
       "  </thead>\n",
       "  <tbody>\n",
       "    <tr>\n",
       "      <th>2024-01-22</th>\n",
       "      <td>148.649994</td>\n",
       "      <td>148.649994</td>\n",
       "      <td>148.649994</td>\n",
       "      <td>148.649994</td>\n",
       "      <td>148.649994</td>\n",
       "      <td>0</td>\n",
       "    </tr>\n",
       "    <tr>\n",
       "      <th>2024-01-23</th>\n",
       "      <td>151.500000</td>\n",
       "      <td>151.800003</td>\n",
       "      <td>137.850006</td>\n",
       "      <td>138.949997</td>\n",
       "      <td>138.949997</td>\n",
       "      <td>38167576</td>\n",
       "    </tr>\n",
       "    <tr>\n",
       "      <th>2024-01-24</th>\n",
       "      <td>138.949997</td>\n",
       "      <td>145.250000</td>\n",
       "      <td>138.050003</td>\n",
       "      <td>143.449997</td>\n",
       "      <td>143.449997</td>\n",
       "      <td>40122151</td>\n",
       "    </tr>\n",
       "    <tr>\n",
       "      <th>2024-01-25</th>\n",
       "      <td>145.899994</td>\n",
       "      <td>145.899994</td>\n",
       "      <td>142.000000</td>\n",
       "      <td>143.699997</td>\n",
       "      <td>143.699997</td>\n",
       "      <td>38252600</td>\n",
       "    </tr>\n",
       "    <tr>\n",
       "      <th>2024-01-29</th>\n",
       "      <td>143.699997</td>\n",
       "      <td>148.399994</td>\n",
       "      <td>143.500000</td>\n",
       "      <td>146.699997</td>\n",
       "      <td>146.699997</td>\n",
       "      <td>28420760</td>\n",
       "    </tr>\n",
       "    <tr>\n",
       "      <th>2024-01-30</th>\n",
       "      <td>148.399994</td>\n",
       "      <td>152.199997</td>\n",
       "      <td>146.500000</td>\n",
       "      <td>147.699997</td>\n",
       "      <td>147.699997</td>\n",
       "      <td>41368256</td>\n",
       "    </tr>\n",
       "  </tbody>\n",
       "</table>\n",
       "</div>"
      ],
      "text/plain": [
       "                  Open        High         Low       Close   Adj Close  \\\n",
       "Date                                                                     \n",
       "2024-01-22  148.649994  148.649994  148.649994  148.649994  148.649994   \n",
       "2024-01-23  151.500000  151.800003  137.850006  138.949997  138.949997   \n",
       "2024-01-24  138.949997  145.250000  138.050003  143.449997  143.449997   \n",
       "2024-01-25  145.899994  145.899994  142.000000  143.699997  143.699997   \n",
       "2024-01-29  143.699997  148.399994  143.500000  146.699997  146.699997   \n",
       "2024-01-30  148.399994  152.199997  146.500000  147.699997  147.699997   \n",
       "\n",
       "              Volume  \n",
       "Date                  \n",
       "2024-01-22         0  \n",
       "2024-01-23  38167576  \n",
       "2024-01-24  40122151  \n",
       "2024-01-25  38252600  \n",
       "2024-01-29  28420760  \n",
       "2024-01-30  41368256  "
      ]
     },
     "execution_count": 39,
     "metadata": {},
     "output_type": "execute_result"
    }
   ],
   "source": [
    "df = yf.download(ticker, start=start, end=end)\n",
    "df"
   ]
  },
  {
   "cell_type": "code",
   "execution_count": 40,
   "id": "fca927ed",
   "metadata": {},
   "outputs": [],
   "source": [
    "actual_data = df['Close'].values"
   ]
  },
  {
   "cell_type": "code",
   "execution_count": 41,
   "id": "1a5eb5ca",
   "metadata": {},
   "outputs": [],
   "source": [
    "day_actual = range(1,7)\n",
    "day_predicted = range(1,11)"
   ]
  },
  {
   "cell_type": "code",
   "execution_count": 42,
   "id": "364b096f",
   "metadata": {},
   "outputs": [
    {
     "data": {
      "image/png": "[encoded data removed]",
      "text/plain": [
       "<Figure size 640x480 with 1 Axes>"
      ]
     },
     "metadata": {},
     "output_type": "display_data"
    }
   ],
   "source": [
    "plt.plot(day_actual, actual_data, color='red', label='actual')\n",
    "plt.plot(day_predicted, future_predictions_1, color='blue', label='predicted')\n",
    "plt.legend()\n",
    "plt.show()"
   ]
  },
  {
   "cell_type": "code",
   "execution_count": null,
   "id": "301b0afc",
   "metadata": {},
   "outputs": [],
   "source": []
  },
  {
   "cell_type": "code",
   "execution_count": null,
   "id": "5cde4fce",
   "metadata": {},
   "outputs": [],
   "source": []
  }
 ],
 "metadata": {
  "kernelspec": {
   "display_name": "Python 3 (ipykernel)",
   "language": "python",
   "name": "python3"
  },
  "language_info": {
   "codemirror_mode": {
    "name": "ipython",
    "version": 3
   },
   "file_extension": ".py",
   "mimetype": "text/x-python",
   "name": "python",
   "nbconvert_exporter": "python",
   "pygments_lexer": "ipython3",
   "version": "3.11.4"
  }
 },
 "nbformat": 4,
 "nbformat_minor": 5
}
