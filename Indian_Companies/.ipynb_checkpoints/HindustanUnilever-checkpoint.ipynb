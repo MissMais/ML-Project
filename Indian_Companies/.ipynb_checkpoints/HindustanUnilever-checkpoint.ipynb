{
 "cells": [
  {
   "cell_type": "code",
   "execution_count": 1,
   "id": "3e3175db",
   "metadata": {},
   "outputs": [],
   "source": [
    "import numpy as np\n",
    "import pandas as pd\n",
    "import yfinance as yf\n",
    "import matplotlib.pyplot as plt\n",
    "from sklearn.preprocessing import MinMaxScaler\n",
    "from keras.models import Sequential\n",
    "from keras.layers import LSTM, Dense\n",
    "from sklearn.metrics import mean_squared_error, mean_absolute_error, accuracy_score\n",
    "from math import sqrt"
   ]
  },
  {
   "cell_type": "code",
   "execution_count": 5,
   "id": "beee8595",
   "metadata": {},
   "outputs": [],
   "source": [
    "ticker = \"HINDUNILVR.NS\"\n",
    "start = \"2017-04-01\"\n",
    "end = \"2024-01-20\""
   ]
  },
  {
   "cell_type": "code",
   "execution_count": 6,
   "id": "c4d883e3",
   "metadata": {},
   "outputs": [
    {
     "name": "stdout",
     "output_type": "stream",
     "text": [
      "[*********************100%***********************]  1 of 1 completed\n"
     ]
    },
    {
     "data": {
      "text/html": [
       "<div>\n",
       "<style scoped>\n",
       "    .dataframe tbody tr th:only-of-type {\n",
       "        vertical-align: middle;\n",
       "    }\n",
       "\n",
       "    .dataframe tbody tr th {\n",
       "        vertical-align: top;\n",
       "    }\n",
       "\n",
       "    .dataframe thead th {\n",
       "        text-align: right;\n",
       "    }\n",
       "</style>\n",
       "<table border=\"1\" class=\"dataframe\">\n",
       "  <thead>\n",
       "    <tr style=\"text-align: right;\">\n",
       "      <th></th>\n",
       "      <th>Open</th>\n",
       "      <th>High</th>\n",
       "      <th>Low</th>\n",
       "      <th>Close</th>\n",
       "      <th>Adj Close</th>\n",
       "      <th>Volume</th>\n",
       "    </tr>\n",
       "    <tr>\n",
       "      <th>Date</th>\n",
       "      <th></th>\n",
       "      <th></th>\n",
       "      <th></th>\n",
       "      <th></th>\n",
       "      <th></th>\n",
       "      <th></th>\n",
       "    </tr>\n",
       "  </thead>\n",
       "  <tbody>\n",
       "    <tr>\n",
       "      <th>2024-01-08</th>\n",
       "      <td>2624.949951</td>\n",
       "      <td>2626.000000</td>\n",
       "      <td>2566.500000</td>\n",
       "      <td>2578.250000</td>\n",
       "      <td>2578.250000</td>\n",
       "      <td>1189828</td>\n",
       "    </tr>\n",
       "    <tr>\n",
       "      <th>2024-01-09</th>\n",
       "      <td>2582.550049</td>\n",
       "      <td>2589.000000</td>\n",
       "      <td>2571.550049</td>\n",
       "      <td>2579.750000</td>\n",
       "      <td>2579.750000</td>\n",
       "      <td>1017205</td>\n",
       "    </tr>\n",
       "    <tr>\n",
       "      <th>2024-01-10</th>\n",
       "      <td>2580.000000</td>\n",
       "      <td>2594.300049</td>\n",
       "      <td>2565.000000</td>\n",
       "      <td>2577.399902</td>\n",
       "      <td>2577.399902</td>\n",
       "      <td>881278</td>\n",
       "    </tr>\n",
       "    <tr>\n",
       "      <th>2024-01-11</th>\n",
       "      <td>2580.000000</td>\n",
       "      <td>2589.000000</td>\n",
       "      <td>2531.850098</td>\n",
       "      <td>2536.199951</td>\n",
       "      <td>2536.199951</td>\n",
       "      <td>2399600</td>\n",
       "    </tr>\n",
       "    <tr>\n",
       "      <th>2024-01-12</th>\n",
       "      <td>2533.500000</td>\n",
       "      <td>2555.000000</td>\n",
       "      <td>2511.850098</td>\n",
       "      <td>2544.000000</td>\n",
       "      <td>2544.000000</td>\n",
       "      <td>2979841</td>\n",
       "    </tr>\n",
       "    <tr>\n",
       "      <th>2024-01-15</th>\n",
       "      <td>2546.000000</td>\n",
       "      <td>2578.750000</td>\n",
       "      <td>2531.000000</td>\n",
       "      <td>2573.199951</td>\n",
       "      <td>2573.199951</td>\n",
       "      <td>1391204</td>\n",
       "    </tr>\n",
       "    <tr>\n",
       "      <th>2024-01-16</th>\n",
       "      <td>2573.199951</td>\n",
       "      <td>2584.600098</td>\n",
       "      <td>2556.350098</td>\n",
       "      <td>2569.100098</td>\n",
       "      <td>2569.100098</td>\n",
       "      <td>1599406</td>\n",
       "    </tr>\n",
       "    <tr>\n",
       "      <th>2024-01-17</th>\n",
       "      <td>2549.000000</td>\n",
       "      <td>2571.350098</td>\n",
       "      <td>2539.750000</td>\n",
       "      <td>2562.899902</td>\n",
       "      <td>2562.899902</td>\n",
       "      <td>3047652</td>\n",
       "    </tr>\n",
       "    <tr>\n",
       "      <th>2024-01-18</th>\n",
       "      <td>2570.000000</td>\n",
       "      <td>2570.000000</td>\n",
       "      <td>2537.550049</td>\n",
       "      <td>2548.000000</td>\n",
       "      <td>2548.000000</td>\n",
       "      <td>1273095</td>\n",
       "    </tr>\n",
       "    <tr>\n",
       "      <th>2024-01-19</th>\n",
       "      <td>2565.000000</td>\n",
       "      <td>2573.949951</td>\n",
       "      <td>2532.000000</td>\n",
       "      <td>2565.399902</td>\n",
       "      <td>2565.399902</td>\n",
       "      <td>1323064</td>\n",
       "    </tr>\n",
       "  </tbody>\n",
       "</table>\n",
       "</div>"
      ],
      "text/plain": [
       "                   Open         High          Low        Close    Adj Close  \\\n",
       "Date                                                                          \n",
       "2024-01-08  2624.949951  2626.000000  2566.500000  2578.250000  2578.250000   \n",
       "2024-01-09  2582.550049  2589.000000  2571.550049  2579.750000  2579.750000   \n",
       "2024-01-10  2580.000000  2594.300049  2565.000000  2577.399902  2577.399902   \n",
       "2024-01-11  2580.000000  2589.000000  2531.850098  2536.199951  2536.199951   \n",
       "2024-01-12  2533.500000  2555.000000  2511.850098  2544.000000  2544.000000   \n",
       "2024-01-15  2546.000000  2578.750000  2531.000000  2573.199951  2573.199951   \n",
       "2024-01-16  2573.199951  2584.600098  2556.350098  2569.100098  2569.100098   \n",
       "2024-01-17  2549.000000  2571.350098  2539.750000  2562.899902  2562.899902   \n",
       "2024-01-18  2570.000000  2570.000000  2537.550049  2548.000000  2548.000000   \n",
       "2024-01-19  2565.000000  2573.949951  2532.000000  2565.399902  2565.399902   \n",
       "\n",
       "             Volume  \n",
       "Date                 \n",
       "2024-01-08  1189828  \n",
       "2024-01-09  1017205  \n",
       "2024-01-10   881278  \n",
       "2024-01-11  2399600  \n",
       "2024-01-12  2979841  \n",
       "2024-01-15  1391204  \n",
       "2024-01-16  1599406  \n",
       "2024-01-17  3047652  \n",
       "2024-01-18  1273095  \n",
       "2024-01-19  1323064  "
      ]
     },
     "execution_count": 6,
     "metadata": {},
     "output_type": "execute_result"
    }
   ],
   "source": [
    "df = yf.download(ticker, start=start, end=end)\n",
    "df.tail(10)"
   ]
  },
  {
   "cell_type": "code",
   "execution_count": 7,
   "id": "4fd894f3",
   "metadata": {},
   "outputs": [
    {
     "name": "stdout",
     "output_type": "stream",
     "text": [
      "(1682,)\n"
     ]
    }
   ],
   "source": [
    "ClosingPrice = df['Close']\n",
    "\n",
    "print(ClosingPrice.values.shape)\n",
    "\n",
    "scaler = MinMaxScaler()\n",
    "scaled_data = scaler.fit_transform(ClosingPrice.values.reshape(-1, 1))\n",
    "# print(scaled_data)"
   ]
  },
  {
   "cell_type": "code",
   "execution_count": 8,
   "id": "9827d44b",
   "metadata": {},
   "outputs": [
    {
     "data": {
      "image/png": "[encoded data removed]",
      "text/plain": [
       "<Figure size 640x480 with 1 Axes>"
      ]
     },
     "metadata": {},
     "output_type": "display_data"
    }
   ],
   "source": [
    "plt.plot(scaled_data)\n",
    "plt.title(f'{ticker} Closing Price')\n",
    "plt.show()"
   ]
  },
  {
   "cell_type": "code",
   "execution_count": 9,
   "id": "d0ab277e",
   "metadata": {},
   "outputs": [
    {
     "data": {
      "text/plain": [
       "(1345, 337)"
      ]
     },
     "execution_count": 9,
     "metadata": {},
     "output_type": "execute_result"
    }
   ],
   "source": [
    "training_data_len = int(len(scaled_data) * 0.8)\n",
    "\n",
    "training_data = scaled_data[0:training_data_len, :]\n",
    "testing_data = scaled_data[training_data_len:, :]\n",
    "\n",
    "len(training_data), len(testing_data)"
   ]
  },
  {
   "cell_type": "code",
   "execution_count": 10,
   "id": "a5a9517b",
   "metadata": {},
   "outputs": [],
   "source": [
    "past_values = 1\n",
    "\n",
    "def create_training_data(data, past_values):\n",
    "    if len(data) < past_values:\n",
    "        return np.array([]), np.array([])\n",
    "    X_train = []\n",
    "    y_train = []\n",
    "    for i in range(past_values, len(data)):\n",
    "        X_train.append(data[i-past_values:i, 0])\n",
    "        y_train.append(data[i, 0])\n",
    "    return np.array(X_train), np.array(y_train)\n",
    "\n",
    "X_train, y_train = create_training_data(training_data, past_values)\n",
    "X_train = np.reshape(X_train, (X_train.shape[0], X_train.shape[1], 1))\n",
    "\n",
    "X_test, y_test = create_training_data(testing_data, past_values)\n",
    "X_test = np.reshape(X_test, (X_test.shape[0], X_test.shape[1], 1))"
   ]
  },
  {
   "cell_type": "code",
   "execution_count": 11,
   "id": "c2e46176",
   "metadata": {},
   "outputs": [
    {
     "data": {
      "text/plain": [
       "(1680, 1682)"
      ]
     },
     "execution_count": 11,
     "metadata": {},
     "output_type": "execute_result"
    }
   ],
   "source": [
    "len(X_train) + len(X_test), len(scaled_data)"
   ]
  },
  {
   "cell_type": "code",
   "execution_count": 12,
   "id": "d26d2fdb",
   "metadata": {},
   "outputs": [
    {
     "data": {
      "text/plain": [
       "(1344, 1, 1)"
      ]
     },
     "execution_count": 12,
     "metadata": {},
     "output_type": "execute_result"
    }
   ],
   "source": [
    "X_train.shape"
   ]
  },
  {
   "cell_type": "code",
   "execution_count": 13,
   "id": "70151e02",
   "metadata": {},
   "outputs": [
    {
     "name": "stdout",
     "output_type": "stream",
     "text": [
      "Epoch 1/200\n",
      "7/7 [==============================] - 7s 11ms/step - loss: 0.3038\n",
      "Epoch 2/200\n",
      "7/7 [==============================] - 0s 11ms/step - loss: 0.2171\n",
      "Epoch 3/200\n",
      "7/7 [==============================] - 0s 11ms/step - loss: 0.1333\n",
      "Epoch 4/200\n",
      "7/7 [==============================] - 0s 13ms/step - loss: 0.0648\n",
      "Epoch 5/200\n",
      "7/7 [==============================] - 0s 11ms/step - loss: 0.0450\n",
      "Epoch 6/200\n",
      "7/7 [==============================] - 0s 12ms/step - loss: 0.0491\n",
      "Epoch 7/200\n",
      "7/7 [==============================] - 0s 11ms/step - loss: 0.0397\n",
      "Epoch 8/200\n",
      "7/7 [==============================] - 0s 12ms/step - loss: 0.0378\n",
      "Epoch 9/200\n",
      "7/7 [==============================] - 0s 10ms/step - loss: 0.0342\n",
      "Epoch 10/200\n",
      "7/7 [==============================] - 0s 11ms/step - loss: 0.0295\n",
      "Epoch 11/200\n",
      "7/7 [==============================] - 0s 10ms/step - loss: 0.0251\n",
      "Epoch 12/200\n",
      "7/7 [==============================] - 0s 12ms/step - loss: 0.0197\n",
      "Epoch 13/200\n",
      "7/7 [==============================] - 0s 11ms/step - loss: 0.0140\n",
      "Epoch 14/200\n",
      "7/7 [==============================] - 0s 11ms/step - loss: 0.0088\n",
      "Epoch 15/200\n",
      "7/7 [==============================] - 0s 12ms/step - loss: 0.0045\n",
      "Epoch 16/200\n",
      "7/7 [==============================] - 0s 11ms/step - loss: 0.0018\n",
      "Epoch 17/200\n",
      "7/7 [==============================] - 0s 11ms/step - loss: 9.4015e-04\n",
      "Epoch 18/200\n",
      "7/7 [==============================] - 0s 12ms/step - loss: 9.0060e-04\n",
      "Epoch 19/200\n",
      "7/7 [==============================] - 0s 13ms/step - loss: 9.6508e-04\n",
      "Epoch 20/200\n",
      "7/7 [==============================] - 0s 14ms/step - loss: 8.7912e-04\n",
      "Epoch 21/200\n",
      "7/7 [==============================] - 0s 12ms/step - loss: 7.8299e-04\n",
      "Epoch 22/200\n",
      "7/7 [==============================] - 0s 11ms/step - loss: 7.4208e-04\n",
      "Epoch 23/200\n",
      "7/7 [==============================] - 0s 9ms/step - loss: 7.2735e-04\n",
      "Epoch 24/200\n",
      "7/7 [==============================] - 0s 13ms/step - loss: 7.0678e-04\n",
      "Epoch 25/200\n",
      "7/7 [==============================] - 0s 12ms/step - loss: 6.8276e-04\n",
      "Epoch 26/200\n",
      "7/7 [==============================] - 0s 11ms/step - loss: 6.5790e-04\n",
      "Epoch 27/200\n",
      "7/7 [==============================] - 0s 12ms/step - loss: 6.3749e-04\n",
      "Epoch 28/200\n",
      "7/7 [==============================] - 0s 11ms/step - loss: 6.1935e-04\n",
      "Epoch 29/200\n",
      "7/7 [==============================] - 0s 20ms/step - loss: 6.0049e-04\n",
      "Epoch 30/200\n",
      "7/7 [==============================] - 0s 14ms/step - loss: 5.8447e-04\n",
      "Epoch 31/200\n",
      "7/7 [==============================] - 0s 12ms/step - loss: 5.6955e-04\n",
      "Epoch 32/200\n",
      "7/7 [==============================] - 0s 14ms/step - loss: 5.4865e-04\n",
      "Epoch 33/200\n",
      "7/7 [==============================] - 0s 12ms/step - loss: 5.3759e-04\n",
      "Epoch 34/200\n",
      "7/7 [==============================] - 0s 13ms/step - loss: 5.1989e-04\n",
      "Epoch 35/200\n",
      "7/7 [==============================] - 0s 13ms/step - loss: 4.9892e-04\n",
      "Epoch 36/200\n",
      "7/7 [==============================] - 0s 10ms/step - loss: 4.8483e-04\n",
      "Epoch 37/200\n",
      "7/7 [==============================] - 0s 11ms/step - loss: 4.7216e-04\n",
      "Epoch 38/200\n",
      "7/7 [==============================] - 0s 11ms/step - loss: 4.5601e-04\n",
      "Epoch 39/200\n",
      "7/7 [==============================] - 0s 11ms/step - loss: 4.4468e-04\n",
      "Epoch 40/200\n",
      "7/7 [==============================] - 0s 11ms/step - loss: 4.3175e-04\n",
      "Epoch 41/200\n",
      "7/7 [==============================] - 0s 12ms/step - loss: 4.2058e-04\n",
      "Epoch 42/200\n",
      "7/7 [==============================] - 0s 11ms/step - loss: 4.0854e-04\n",
      "Epoch 43/200\n",
      "7/7 [==============================] - 0s 13ms/step - loss: 3.9805e-04\n",
      "Epoch 44/200\n",
      "7/7 [==============================] - 0s 11ms/step - loss: 3.8917e-04\n",
      "Epoch 45/200\n",
      "7/7 [==============================] - 0s 11ms/step - loss: 3.8012e-04\n",
      "Epoch 46/200\n",
      "7/7 [==============================] - 0s 13ms/step - loss: 3.6970e-04\n",
      "Epoch 47/200\n",
      "7/7 [==============================] - 0s 12ms/step - loss: 3.6285e-04\n",
      "Epoch 48/200\n",
      "7/7 [==============================] - 0s 11ms/step - loss: 3.5530e-04\n",
      "Epoch 49/200\n",
      "7/7 [==============================] - 0s 11ms/step - loss: 3.4561e-04\n",
      "Epoch 50/200\n",
      "7/7 [==============================] - 0s 10ms/step - loss: 3.3868e-04\n",
      "Epoch 51/200\n",
      "7/7 [==============================] - 0s 11ms/step - loss: 3.3240e-04\n",
      "Epoch 52/200\n",
      "7/7 [==============================] - 0s 12ms/step - loss: 3.2619e-04\n",
      "Epoch 53/200\n",
      "7/7 [==============================] - 0s 11ms/step - loss: 3.2403e-04\n",
      "Epoch 54/200\n",
      "7/7 [==============================] - 0s 12ms/step - loss: 3.1938e-04\n",
      "Epoch 55/200\n",
      "7/7 [==============================] - 0s 11ms/step - loss: 3.1493e-04\n",
      "Epoch 56/200\n",
      "7/7 [==============================] - 0s 13ms/step - loss: 3.0732e-04\n",
      "Epoch 57/200\n",
      "7/7 [==============================] - 0s 11ms/step - loss: 3.0122e-04\n",
      "Epoch 58/200\n",
      "7/7 [==============================] - 0s 13ms/step - loss: 2.9676e-04\n",
      "Epoch 59/200\n",
      "7/7 [==============================] - 0s 12ms/step - loss: 2.9250e-04\n",
      "Epoch 60/200\n",
      "7/7 [==============================] - 0s 12ms/step - loss: 2.9019e-04\n",
      "Epoch 61/200\n",
      "7/7 [==============================] - 0s 14ms/step - loss: 2.8759e-04\n",
      "Epoch 62/200\n",
      "7/7 [==============================] - 0s 15ms/step - loss: 2.8546e-04\n",
      "Epoch 63/200\n",
      "7/7 [==============================] - 0s 13ms/step - loss: 2.8080e-04\n",
      "Epoch 64/200\n",
      "7/7 [==============================] - 0s 15ms/step - loss: 2.7928e-04\n",
      "Epoch 65/200\n",
      "7/7 [==============================] - 0s 19ms/step - loss: 2.7558e-04\n",
      "Epoch 66/200\n",
      "7/7 [==============================] - 0s 12ms/step - loss: 2.7640e-04\n",
      "Epoch 67/200\n",
      "7/7 [==============================] - 0s 10ms/step - loss: 2.7304e-04\n",
      "Epoch 68/200\n",
      "7/7 [==============================] - 0s 11ms/step - loss: 2.7212e-04\n",
      "Epoch 69/200\n",
      "7/7 [==============================] - 0s 11ms/step - loss: 2.7003e-04\n",
      "Epoch 70/200\n",
      "7/7 [==============================] - 0s 11ms/step - loss: 2.7095e-04\n",
      "Epoch 71/200\n",
      "7/7 [==============================] - 0s 10ms/step - loss: 2.6611e-04\n",
      "Epoch 72/200\n",
      "7/7 [==============================] - 0s 10ms/step - loss: 2.6838e-04\n",
      "Epoch 73/200\n",
      "7/7 [==============================] - 0s 14ms/step - loss: 2.7125e-04\n",
      "Epoch 74/200\n",
      "7/7 [==============================] - 0s 11ms/step - loss: 2.7001e-04\n",
      "Epoch 75/200\n",
      "7/7 [==============================] - 0s 10ms/step - loss: 2.6916e-04\n",
      "Epoch 76/200\n",
      "7/7 [==============================] - 0s 9ms/step - loss: 2.6318e-04\n",
      "Epoch 77/200\n",
      "7/7 [==============================] - 0s 10ms/step - loss: 2.6656e-04\n",
      "Epoch 78/200\n",
      "7/7 [==============================] - 0s 11ms/step - loss: 2.6268e-04\n",
      "Epoch 79/200\n",
      "7/7 [==============================] - 0s 11ms/step - loss: 2.6016e-04\n",
      "Epoch 80/200\n",
      "7/7 [==============================] - 0s 11ms/step - loss: 2.6289e-04\n",
      "Epoch 81/200\n",
      "7/7 [==============================] - 0s 10ms/step - loss: 2.6783e-04\n",
      "Epoch 82/200\n",
      "7/7 [==============================] - 0s 11ms/step - loss: 2.6447e-04\n",
      "Epoch 83/200\n",
      "7/7 [==============================] - 0s 10ms/step - loss: 2.6501e-04\n",
      "Epoch 84/200\n",
      "7/7 [==============================] - 0s 10ms/step - loss: 2.6507e-04\n",
      "Epoch 85/200\n",
      "7/7 [==============================] - 0s 10ms/step - loss: 2.6240e-04\n",
      "Epoch 86/200\n",
      "7/7 [==============================] - 0s 12ms/step - loss: 2.6375e-04\n",
      "Epoch 87/200\n",
      "7/7 [==============================] - 0s 10ms/step - loss: 2.6021e-04\n",
      "Epoch 88/200\n",
      "7/7 [==============================] - 0s 9ms/step - loss: 2.6204e-04\n",
      "Epoch 89/200\n",
      "7/7 [==============================] - 0s 11ms/step - loss: 2.6171e-04\n",
      "Epoch 90/200\n",
      "7/7 [==============================] - 0s 10ms/step - loss: 2.6340e-04\n",
      "Epoch 91/200\n",
      "7/7 [==============================] - 0s 11ms/step - loss: 2.5819e-04\n",
      "Epoch 92/200\n",
      "7/7 [==============================] - 0s 10ms/step - loss: 2.5709e-04\n",
      "Epoch 93/200\n",
      "7/7 [==============================] - 0s 11ms/step - loss: 2.5831e-04\n",
      "Epoch 94/200\n",
      "7/7 [==============================] - 0s 10ms/step - loss: 2.5825e-04\n",
      "Epoch 95/200\n",
      "7/7 [==============================] - 0s 11ms/step - loss: 2.5739e-04\n",
      "Epoch 96/200\n",
      "7/7 [==============================] - 0s 10ms/step - loss: 2.5837e-04\n",
      "Epoch 97/200\n",
      "7/7 [==============================] - 0s 10ms/step - loss: 2.5750e-04\n",
      "Epoch 98/200\n",
      "7/7 [==============================] - 0s 10ms/step - loss: 2.5644e-04\n",
      "Epoch 99/200\n"
     ]
    },
    {
     "name": "stdout",
     "output_type": "stream",
     "text": [
      "7/7 [==============================] - 0s 10ms/step - loss: 2.5634e-04\n",
      "Epoch 100/200\n",
      "7/7 [==============================] - 0s 9ms/step - loss: 2.5640e-04\n",
      "Epoch 101/200\n",
      "7/7 [==============================] - 0s 12ms/step - loss: 2.6254e-04\n",
      "Epoch 102/200\n",
      "7/7 [==============================] - 0s 10ms/step - loss: 2.5727e-04\n",
      "Epoch 103/200\n",
      "7/7 [==============================] - 0s 10ms/step - loss: 2.5821e-04\n",
      "Epoch 104/200\n",
      "7/7 [==============================] - 0s 13ms/step - loss: 2.5965e-04\n",
      "Epoch 105/200\n",
      "7/7 [==============================] - 0s 9ms/step - loss: 2.5948e-04\n",
      "Epoch 106/200\n",
      "7/7 [==============================] - 0s 9ms/step - loss: 2.6008e-04\n",
      "Epoch 107/200\n",
      "7/7 [==============================] - 0s 9ms/step - loss: 2.5818e-04\n",
      "Epoch 108/200\n",
      "7/7 [==============================] - 0s 9ms/step - loss: 2.5706e-04\n",
      "Epoch 109/200\n",
      "7/7 [==============================] - 0s 8ms/step - loss: 2.5724e-04\n",
      "Epoch 110/200\n",
      "7/7 [==============================] - 0s 8ms/step - loss: 2.5736e-04\n",
      "Epoch 111/200\n",
      "7/7 [==============================] - 0s 8ms/step - loss: 2.5840e-04\n",
      "Epoch 112/200\n",
      "7/7 [==============================] - 0s 8ms/step - loss: 2.5787e-04\n",
      "Epoch 113/200\n",
      "7/7 [==============================] - 0s 10ms/step - loss: 2.5829e-04\n",
      "Epoch 114/200\n",
      "7/7 [==============================] - 0s 8ms/step - loss: 2.5976e-04\n",
      "Epoch 115/200\n",
      "7/7 [==============================] - 0s 8ms/step - loss: 2.5727e-04\n",
      "Epoch 116/200\n",
      "7/7 [==============================] - 0s 11ms/step - loss: 2.5906e-04\n",
      "Epoch 117/200\n",
      "7/7 [==============================] - 0s 7ms/step - loss: 2.5648e-04\n",
      "Epoch 118/200\n",
      "7/7 [==============================] - 0s 7ms/step - loss: 2.5650e-04\n",
      "Epoch 119/200\n",
      "7/7 [==============================] - 0s 8ms/step - loss: 2.5689e-04\n",
      "Epoch 120/200\n",
      "7/7 [==============================] - 0s 9ms/step - loss: 2.5900e-04\n",
      "Epoch 121/200\n",
      "7/7 [==============================] - 0s 10ms/step - loss: 2.5832e-04\n",
      "Epoch 122/200\n",
      "7/7 [==============================] - 0s 10ms/step - loss: 2.5911e-04\n",
      "Epoch 123/200\n",
      "7/7 [==============================] - 0s 10ms/step - loss: 2.5749e-04\n",
      "Epoch 124/200\n",
      "7/7 [==============================] - 0s 11ms/step - loss: 2.5822e-04\n",
      "Epoch 125/200\n",
      "7/7 [==============================] - 0s 11ms/step - loss: 2.5608e-04\n",
      "Epoch 126/200\n",
      "7/7 [==============================] - 0s 11ms/step - loss: 2.5793e-04\n",
      "Epoch 127/200\n",
      "7/7 [==============================] - 0s 10ms/step - loss: 2.5955e-04\n",
      "Epoch 128/200\n",
      "7/7 [==============================] - 0s 9ms/step - loss: 2.5869e-04\n",
      "Epoch 129/200\n",
      "7/7 [==============================] - 0s 19ms/step - loss: 2.5671e-04\n",
      "Epoch 130/200\n",
      "7/7 [==============================] - 0s 12ms/step - loss: 2.5945e-04\n",
      "Epoch 131/200\n",
      "7/7 [==============================] - 0s 12ms/step - loss: 2.5705e-04\n",
      "Epoch 132/200\n",
      "7/7 [==============================] - 0s 14ms/step - loss: 2.5741e-04\n",
      "Epoch 133/200\n",
      "7/7 [==============================] - 0s 13ms/step - loss: 2.5879e-04\n",
      "Epoch 134/200\n",
      "7/7 [==============================] - 0s 13ms/step - loss: 2.5812e-04\n",
      "Epoch 135/200\n",
      "7/7 [==============================] - 0s 10ms/step - loss: 2.6117e-04\n",
      "Epoch 136/200\n",
      "7/7 [==============================] - 0s 12ms/step - loss: 2.6800e-04\n",
      "Epoch 137/200\n",
      "7/7 [==============================] - 0s 11ms/step - loss: 2.6040e-04\n",
      "Epoch 138/200\n",
      "7/7 [==============================] - 0s 11ms/step - loss: 2.6487e-04\n",
      "Epoch 139/200\n",
      "7/7 [==============================] - 0s 10ms/step - loss: 2.5981e-04\n",
      "Epoch 140/200\n",
      "7/7 [==============================] - 0s 10ms/step - loss: 2.5810e-04\n",
      "Epoch 141/200\n",
      "7/7 [==============================] - 0s 12ms/step - loss: 2.5566e-04\n",
      "Epoch 142/200\n",
      "7/7 [==============================] - 0s 14ms/step - loss: 2.5875e-04\n",
      "Epoch 143/200\n",
      "7/7 [==============================] - 0s 13ms/step - loss: 2.5790e-04\n",
      "Epoch 144/200\n",
      "7/7 [==============================] - 0s 10ms/step - loss: 2.5972e-04\n",
      "Epoch 145/200\n",
      "7/7 [==============================] - 0s 9ms/step - loss: 2.6443e-04\n",
      "Epoch 146/200\n",
      "7/7 [==============================] - 0s 11ms/step - loss: 2.5963e-04\n",
      "Epoch 147/200\n",
      "7/7 [==============================] - 0s 10ms/step - loss: 2.6175e-04\n",
      "Epoch 148/200\n",
      "7/7 [==============================] - 0s 10ms/step - loss: 2.5690e-04\n",
      "Epoch 149/200\n",
      "7/7 [==============================] - 0s 9ms/step - loss: 2.5678e-04\n",
      "Epoch 150/200\n",
      "7/7 [==============================] - 0s 10ms/step - loss: 2.5952e-04\n",
      "Epoch 151/200\n",
      "7/7 [==============================] - 0s 9ms/step - loss: 2.6083e-04\n",
      "Epoch 152/200\n",
      "7/7 [==============================] - 0s 10ms/step - loss: 2.6571e-04\n",
      "Epoch 153/200\n",
      "7/7 [==============================] - 0s 16ms/step - loss: 2.6272e-04\n",
      "Epoch 154/200\n",
      "7/7 [==============================] - 0s 11ms/step - loss: 2.6669e-04\n",
      "Epoch 155/200\n",
      "7/7 [==============================] - 0s 12ms/step - loss: 2.7158e-04\n",
      "Epoch 156/200\n",
      "7/7 [==============================] - 0s 11ms/step - loss: 2.7462e-04\n",
      "Epoch 157/200\n",
      "7/7 [==============================] - 0s 10ms/step - loss: 2.6032e-04\n",
      "Epoch 158/200\n",
      "7/7 [==============================] - 0s 10ms/step - loss: 2.5861e-04\n",
      "Epoch 159/200\n",
      "7/7 [==============================] - 0s 10ms/step - loss: 2.6025e-04\n",
      "Epoch 160/200\n",
      "7/7 [==============================] - 0s 13ms/step - loss: 2.6179e-04\n",
      "Epoch 161/200\n",
      "7/7 [==============================] - 0s 13ms/step - loss: 2.7799e-04\n",
      "Epoch 162/200\n",
      "7/7 [==============================] - 0s 13ms/step - loss: 2.7430e-04\n",
      "Epoch 163/200\n",
      "7/7 [==============================] - 0s 12ms/step - loss: 2.6506e-04\n",
      "Epoch 164/200\n",
      "7/7 [==============================] - 0s 10ms/step - loss: 2.5838e-04\n",
      "Epoch 165/200\n",
      "7/7 [==============================] - 0s 11ms/step - loss: 2.6064e-04\n",
      "Epoch 166/200\n",
      "7/7 [==============================] - 0s 32ms/step - loss: 2.5940e-04\n",
      "Epoch 167/200\n",
      "7/7 [==============================] - 0s 13ms/step - loss: 2.6074e-04\n",
      "Epoch 168/200\n",
      "7/7 [==============================] - 0s 17ms/step - loss: 2.6422e-04\n",
      "Epoch 169/200\n",
      "7/7 [==============================] - 0s 14ms/step - loss: 2.5699e-04\n",
      "Epoch 170/200\n",
      "7/7 [==============================] - 0s 10ms/step - loss: 2.6144e-04\n",
      "Epoch 171/200\n",
      "7/7 [==============================] - 0s 11ms/step - loss: 2.6235e-04\n",
      "Epoch 172/200\n",
      "7/7 [==============================] - 0s 12ms/step - loss: 2.5842e-04\n",
      "Epoch 173/200\n",
      "7/7 [==============================] - 0s 14ms/step - loss: 2.6110e-04\n",
      "Epoch 174/200\n",
      "7/7 [==============================] - 0s 11ms/step - loss: 2.6581e-04\n",
      "Epoch 175/200\n",
      "7/7 [==============================] - 0s 10ms/step - loss: 2.5977e-04\n",
      "Epoch 176/200\n",
      "7/7 [==============================] - 0s 10ms/step - loss: 2.5803e-04\n",
      "Epoch 177/200\n",
      "7/7 [==============================] - 0s 11ms/step - loss: 2.5712e-04\n",
      "Epoch 178/200\n",
      "7/7 [==============================] - 0s 11ms/step - loss: 2.5647e-04\n",
      "Epoch 179/200\n",
      "7/7 [==============================] - 0s 11ms/step - loss: 2.5767e-04\n",
      "Epoch 180/200\n",
      "7/7 [==============================] - 0s 11ms/step - loss: 2.6127e-04\n",
      "Epoch 181/200\n",
      "7/7 [==============================] - 0s 10ms/step - loss: 2.7193e-04\n",
      "Epoch 182/200\n",
      "7/7 [==============================] - 0s 11ms/step - loss: 2.6000e-04\n",
      "Epoch 183/200\n",
      "7/7 [==============================] - 0s 10ms/step - loss: 2.5690e-04\n",
      "Epoch 184/200\n",
      "7/7 [==============================] - 0s 11ms/step - loss: 2.5742e-04\n",
      "Epoch 185/200\n",
      "7/7 [==============================] - 0s 10ms/step - loss: 2.6215e-04\n",
      "Epoch 186/200\n",
      "7/7 [==============================] - 0s 9ms/step - loss: 2.6964e-04\n",
      "Epoch 187/200\n",
      "7/7 [==============================] - 0s 10ms/step - loss: 2.6269e-04\n",
      "Epoch 188/200\n",
      "7/7 [==============================] - 0s 13ms/step - loss: 2.5816e-04\n",
      "Epoch 189/200\n",
      "7/7 [==============================] - 0s 13ms/step - loss: 2.5739e-04\n",
      "Epoch 190/200\n",
      "7/7 [==============================] - 0s 14ms/step - loss: 2.6540e-04\n",
      "Epoch 191/200\n",
      "7/7 [==============================] - 0s 10ms/step - loss: 2.6567e-04\n",
      "Epoch 192/200\n",
      "7/7 [==============================] - 0s 9ms/step - loss: 2.6382e-04\n",
      "Epoch 193/200\n",
      "7/7 [==============================] - 0s 9ms/step - loss: 2.5711e-04\n",
      "Epoch 194/200\n",
      "7/7 [==============================] - 0s 8ms/step - loss: 2.6210e-04\n",
      "Epoch 195/200\n"
     ]
    },
    {
     "name": "stdout",
     "output_type": "stream",
     "text": [
      "7/7 [==============================] - 0s 8ms/step - loss: 2.6206e-04\n",
      "Epoch 196/200\n",
      "7/7 [==============================] - 0s 8ms/step - loss: 2.5717e-04\n",
      "Epoch 197/200\n",
      "7/7 [==============================] - 0s 8ms/step - loss: 2.5944e-04\n",
      "Epoch 198/200\n",
      "7/7 [==============================] - 0s 8ms/step - loss: 2.5675e-04\n",
      "Epoch 199/200\n",
      "7/7 [==============================] - 0s 9ms/step - loss: 2.5731e-04\n",
      "Epoch 200/200\n",
      "7/7 [==============================] - 0s 8ms/step - loss: 2.5663e-04\n"
     ]
    },
    {
     "data": {
      "text/plain": [
       "<keras.src.callbacks.History at 0x20c1c79b5d0>"
      ]
     },
     "execution_count": 13,
     "metadata": {},
     "output_type": "execute_result"
    }
   ],
   "source": [
    "model = Sequential()\n",
    "model.add(LSTM(50, return_sequences=True, input_shape=(X_train.shape[1], 1)))\n",
    "model.add(LSTM(50, return_sequences=True))\n",
    "model.add(LSTM(50, return_sequences=False))\n",
    "model.add(Dense(25))\n",
    "model.add(Dense(1))\n",
    "\n",
    "model.compile(optimizer='adam', loss='mean_squared_error')\n",
    "model.fit(X_train, y_train, batch_size=200, epochs=200, verbose=1)"
   ]
  },
  {
   "cell_type": "code",
   "execution_count": 14,
   "id": "92ef2e44",
   "metadata": {},
   "outputs": [
    {
     "name": "stdout",
     "output_type": "stream",
     "text": [
      "42/42 [==============================] - 3s 3ms/step\n",
      "11/11 [==============================] - 2s 3ms/step\n"
     ]
    }
   ],
   "source": [
    "pred_train = model.predict(X_train)\n",
    "pred = model.predict(X_test)"
   ]
  },
  {
   "cell_type": "code",
   "execution_count": 15,
   "id": "a77f781f",
   "metadata": {},
   "outputs": [],
   "source": [
    "pred_train = scaler.inverse_transform(pred_train)\n",
    "pred = scaler.inverse_transform(pred)\n",
    "y_test = scaler.inverse_transform([y_test])\n",
    "y_train = scaler.inverse_transform([y_train])"
   ]
  },
  {
   "cell_type": "code",
   "execution_count": 16,
   "id": "ab449e76",
   "metadata": {},
   "outputs": [],
   "source": [
    "y_test = y_test.flatten()\n",
    "y_train = y_train.flatten()"
   ]
  },
  {
   "cell_type": "code",
   "execution_count": 17,
   "id": "3003bbb6",
   "metadata": {},
   "outputs": [
    {
     "name": "stdout",
     "output_type": "stream",
     "text": [
      "Training Error\n",
      "Mean Absolute Error (MAE): 20.646679242451984\n",
      "Root Mean Squared Error (RMSE): 30.558053317149785\n"
     ]
    },
    {
     "data": {
      "image/png": "[encoded data removed]",
      "text/plain": [
       "<Figure size 640x480 with 1 Axes>"
      ]
     },
     "metadata": {},
     "output_type": "display_data"
    }
   ],
   "source": [
    "print(\"Training Error\")\n",
    "mae = mean_absolute_error(y_train, pred_train)\n",
    "print(\"Mean Absolute Error (MAE):\", mae)\n",
    "rmse = sqrt(mean_squared_error(y_train, pred_train))\n",
    "print(\"Root Mean Squared Error (RMSE):\", rmse)\n",
    "    \n",
    "plt.plot(y_train, label = 'actual '+str(ticker))\n",
    "plt.plot(pred_train, label = 'predicted '+str(ticker))\n",
    "plt.title(\"Training Plot\")\n",
    "plt.legend()\n",
    "plt.show()"
   ]
  },
  {
   "cell_type": "code",
   "execution_count": 18,
   "id": "01e9e93d",
   "metadata": {},
   "outputs": [
    {
     "name": "stdout",
     "output_type": "stream",
     "text": [
      "Testing Error\n",
      "Mean Absolute Error (MAE): 19.69895281110491\n",
      "Root Mean Squared Error (RMSE): 26.574475154659876\n"
     ]
    },
    {
     "data": {
      "image/png": "[encoded data removed]",
      "text/plain": [
       "<Figure size 640x480 with 1 Axes>"
      ]
     },
     "metadata": {},
     "output_type": "display_data"
    }
   ],
   "source": [
    "print(\"Testing Error\")\n",
    "mae = mean_absolute_error(y_test, pred)\n",
    "print(\"Mean Absolute Error (MAE):\", mae)\n",
    "rmse = sqrt(mean_squared_error(y_test, pred))\n",
    "print(\"Root Mean Squared Error (RMSE):\", rmse)\n",
    "\n",
    "plt.plot(y_test, label = 'actual '+str(ticker))\n",
    "plt.plot(pred, label = 'predicted '+str(ticker))\n",
    "plt.title(\"Testing Plot\")\n",
    "plt.legend()\n",
    "plt.show()"
   ]
  },
  {
   "cell_type": "markdown",
   "id": "a39de483",
   "metadata": {},
   "source": [
    "## 10 days future prediction without correction"
   ]
  },
  {
   "cell_type": "code",
   "execution_count": 19,
   "id": "b9dec815",
   "metadata": {
    "scrolled": true
   },
   "outputs": [
    {
     "data": {
      "text/plain": [
       "array([[0.00843862],\n",
       "       [0.0161434 ],\n",
       "       [0.01577653],\n",
       "       ...,\n",
       "       [0.86920171],\n",
       "       [0.86139213],\n",
       "       [0.87051205]])"
      ]
     },
     "execution_count": 19,
     "metadata": {},
     "output_type": "execute_result"
    }
   ],
   "source": [
    "scaled_data"
   ]
  },
  {
   "cell_type": "code",
   "execution_count": 20,
   "id": "a42ce6ad",
   "metadata": {},
   "outputs": [
    {
     "data": {
      "text/plain": [
       "(1680, 1682)"
      ]
     },
     "execution_count": 20,
     "metadata": {},
     "output_type": "execute_result"
    }
   ],
   "source": [
    "len(X_train) + len(X_test),  len(scaled_data)"
   ]
  },
  {
   "cell_type": "code",
   "execution_count": 21,
   "id": "73ea43f2",
   "metadata": {},
   "outputs": [],
   "source": [
    "reshaped_data = scaled_data.reshape(scaled_data.shape[0], scaled_data.shape[1], 1)"
   ]
  },
  {
   "cell_type": "code",
   "execution_count": 22,
   "id": "3d6562ab",
   "metadata": {},
   "outputs": [
    {
     "data": {
      "text/plain": [
       "array([[[0.87724726]],\n",
       "\n",
       "       [[0.87803346]],\n",
       "\n",
       "       [[0.87680169]],\n",
       "\n",
       "       [[0.85520729]],\n",
       "\n",
       "       [[0.85929558]],\n",
       "\n",
       "       [[0.87460034]],\n",
       "\n",
       "       [[0.87245146]],\n",
       "\n",
       "       [[0.86920171]],\n",
       "\n",
       "       [[0.86139213]],\n",
       "\n",
       "       [[0.87051205]]])"
      ]
     },
     "execution_count": 22,
     "metadata": {},
     "output_type": "execute_result"
    }
   ],
   "source": [
    "future_data_to_predict = reshaped_data[-10:]\n",
    "future_data_to_predict"
   ]
  },
  {
   "cell_type": "code",
   "execution_count": 23,
   "id": "90bbf305",
   "metadata": {},
   "outputs": [
    {
     "data": {
      "text/plain": [
       "(3, 3)"
      ]
     },
     "execution_count": 23,
     "metadata": {},
     "output_type": "execute_result"
    }
   ],
   "source": [
    "X_test.ndim, reshaped_data.ndim"
   ]
  },
  {
   "cell_type": "code",
   "execution_count": 24,
   "id": "d7913819",
   "metadata": {},
   "outputs": [
    {
     "name": "stdout",
     "output_type": "stream",
     "text": [
      "1/1 [==============================] - 0s 41ms/step\n",
      "[2576.6199 2578.0874 2575.7878 2535.429  2543.0762 2571.6775 2567.6643\n",
      " 2561.5933 2546.9968 2564.0415]\n"
     ]
    }
   ],
   "source": [
    "def predict_future(last_input):\n",
    "    \n",
    "    res = model.predict(last_input)\n",
    "    Output = scaler.inverse_transform(res)\n",
    "    return Output\n",
    "\n",
    "future_predictions_1 = predict_future(future_data_to_predict)\n",
    "# print(future_predictions_1)\n",
    "\n",
    "future_predictions_1 = future_predictions_1.flatten()\n",
    "print(future_predictions_1)"
   ]
  },
  {
   "cell_type": "code",
   "execution_count": 25,
   "id": "177cb2d7",
   "metadata": {},
   "outputs": [],
   "source": [
    "# def predict_future(last_input):\n",
    "    \n",
    "#     res = model.predict(last_input)\n",
    "#     Output = scaler.inverse_transform(res)\n",
    "#     return Output\n",
    "\n",
    "# future_predictions_2 = predict_future(X_test[-5:])\n",
    "# # print(future_predictions_2)\n",
    "\n",
    "# future_predictions_2 = future_predictions_2.flatten()\n",
    "# print(future_predictions_2)"
   ]
  },
  {
   "cell_type": "code",
   "execution_count": 26,
   "id": "bfbbf4ea",
   "metadata": {},
   "outputs": [],
   "source": [
    "day=range(1,(len(future_data_to_predict)+1))"
   ]
  },
  {
   "cell_type": "code",
   "execution_count": 27,
   "id": "c7eafece",
   "metadata": {},
   "outputs": [
    {
     "data": {
      "image/png": "[encoded data removed]",
      "text/plain": [
       "<Figure size 640x480 with 1 Axes>"
      ]
     },
     "metadata": {},
     "output_type": "display_data"
    }
   ],
   "source": [
    "plt.plot(day, future_predictions_1, color='red', label='scaled_data')\n",
    "# plt.plot(day, future_predictions_2, color='blue', label='x_test')\n",
    "plt.legend()\n",
    "plt.show()"
   ]
  },
  {
   "cell_type": "code",
   "execution_count": 28,
   "id": "b1b1174b",
   "metadata": {},
   "outputs": [],
   "source": [
    "# ticker = \"AAPL\"\n",
    "# start='2024-01-22'\n",
    "# end='2024-01-26'\n",
    "# df = yf.download(ticker, start=start, end=end)\n",
    "# # print(df)\n",
    "# actual = df['Close'].values\n",
    "# print(actual)"
   ]
  },
  {
   "cell_type": "code",
   "execution_count": 29,
   "id": "246eb22b",
   "metadata": {},
   "outputs": [],
   "source": [
    "# day_actual = np.arange(1,21)\n",
    "# day_pred = np.arange(1,21)"
   ]
  },
  {
   "cell_type": "code",
   "execution_count": 30,
   "id": "93ab4b80",
   "metadata": {},
   "outputs": [],
   "source": [
    "# plt.figure(figsize=(8,6))\n",
    "# plt.title(f'Plot for {ticker} from {start} till {end}')\n",
    "# plt.xlabel('No. of Days')\n",
    "# plt.ylabel('Price Values')\n",
    "# plt.plot(day_actual, actual, label = 'actual price', color='blue')\n",
    "# plt.plot(day_pred, future_predictions_1, label = 'predicted price', color='red')\n",
    "# plt.legend()\n",
    "# plt.show()"
   ]
  },
  {
   "cell_type": "code",
   "execution_count": 31,
   "id": "f8c67516",
   "metadata": {},
   "outputs": [],
   "source": [
    "def get_control_vector(val):\n",
    "    return np.diff(np.sign(np.diff(val)))\n",
    "\n",
    "def buy_and_sell_bot(val,controls):\n",
    "    inv = []\n",
    "    curr_val = 1000\n",
    "    inds = np.where(controls)[0]\n",
    "    buy_inds = np.where(controls>0)[0]\n",
    "    sell_inds = np.where(controls<0)[0]\n",
    "    max_limit = sell_inds[-1] if sell_inds[-1]>buy_inds[-1] else buy_inds[-1]\n",
    "    for i in range(buy_inds[0]+2):\n",
    "        inv.append(curr_val)\n",
    "    for i in range(buy_inds[0],max_limit+1):\n",
    "        if controls[i]>0:\n",
    "            buy_val = val[i+1]\n",
    "        elif controls[i]<0:\n",
    "            sell_val = val[i+1]\n",
    "            curr_val = curr_val*sell_val/buy_val\n",
    "        inv.append(curr_val)\n",
    "        \n",
    "    if max_limit+1!=len(controls):\n",
    "        for i in range(len(controls)-max_limit-1):\n",
    "            inv.append(curr_val)\n",
    "    return inv\n",
    "\n",
    "# def buy_and_sell_bot(val, controls):\n",
    "#     inv = []\n",
    "#     curr_val = 1000\n",
    "#     buy_inds = np.where(controls > 0)[0]\n",
    "#     sell_inds = np.where(controls < 0)[0]\n",
    "    \n",
    "#     if buy_inds.size == 0 or sell_inds.size == 0:\n",
    "#         return [curr_val] * len(controls)\n",
    "    \n",
    "#     max_limit = max(sell_inds[-1], buy_inds[-1])\n",
    "#     for i in range(buy_inds[0] + 2):\n",
    "#         inv.append(curr_val)\n",
    "        \n",
    "#     for i in range(buy_inds[0], max_limit + 1):\n",
    "#         if controls[i] > 0:\n",
    "#             buy_val = val[i + 1]\n",
    "#         elif controls[i] < 0:\n",
    "#             sell_val = val[i + 1]\n",
    "#             curr_val = curr_val * sell_val / buy_val\n",
    "#         inv.append(curr_val)\n",
    "        \n",
    "#     if max_limit + 1 != len(controls):\n",
    "#         for i in range(len(controls) - max_limit - 1):\n",
    "#             inv.append(curr_val)\n",
    "    \n",
    "#     return inv"
   ]
  },
  {
   "cell_type": "code",
   "execution_count": 32,
   "id": "d4467228",
   "metadata": {
    "scrolled": true
   },
   "outputs": [
    {
     "data": {
      "text/plain": [
       "(array([-2.,  0.,  2.,  0., -2.,  0.,  0.,  2.], dtype=float32),\n",
       " [1000,\n",
       "  1000,\n",
       "  1000,\n",
       "  1000,\n",
       "  1000,\n",
       "  1000,\n",
       "  1014.2968057076295,\n",
       "  1014.2968057076295,\n",
       "  1014.2968057076295,\n",
       "  1014.2968057076295])"
      ]
     },
     "execution_count": 32,
     "metadata": {},
     "output_type": "execute_result"
    }
   ],
   "source": [
    "controls_pred= get_control_vector(future_predictions_1)\n",
    "amount_pred = buy_and_sell_bot(future_predictions_1, controls_pred)\n",
    "controls_pred, amount_pred"
   ]
  },
  {
   "cell_type": "code",
   "execution_count": 33,
   "id": "fd37afe7",
   "metadata": {},
   "outputs": [],
   "source": [
    "# controls_actual= get_control_vector(actual)\n",
    "# amount_actual = buy_and_sell_bot(actual, controls_actual)\n",
    "# controls_actual, amount_actual"
   ]
  },
  {
   "cell_type": "code",
   "execution_count": 34,
   "id": "18049677",
   "metadata": {},
   "outputs": [
    {
     "data": {
      "image/png": "[encoded data removed]",
      "text/plain": [
       "<Figure size 640x480 with 1 Axes>"
      ]
     },
     "metadata": {},
     "output_type": "display_data"
    }
   ],
   "source": [
    "# plt.plot(amount_actual, label=\"actual\")\n",
    "plt.plot(amount_pred, label=\"pred\")\n",
    "plt.legend()\n",
    "plt.title(f\"{ticker} Returns\")\n",
    "plt.show()"
   ]
  },
  {
   "cell_type": "markdown",
   "id": "181413c6",
   "metadata": {},
   "source": [
    "### Price values along with dates"
   ]
  },
  {
   "cell_type": "code",
   "execution_count": 35,
   "id": "bcbc4f2f",
   "metadata": {},
   "outputs": [],
   "source": [
    "from datetime import datetime, timedelta\n",
    "count=31\n",
    "Date = []\n",
    "for i in range(22,34):\n",
    "    if i == 27:\n",
    "        continue\n",
    "    elif i == 28:\n",
    "        continue\n",
    "    elif i >= 32:\n",
    "        i = i-count\n",
    "        base_date = datetime(2024,2,i)\n",
    "        formatted_date = base_date.strftime('%d-%m-%Y')\n",
    "        Date.append(formatted_date)\n",
    "    else:\n",
    "        base_date = datetime(2024,1,i)\n",
    "        formatted_date = base_date.strftime('%d-%m-%Y')\n",
    "        Date.append(formatted_date)"
   ]
  },
  {
   "cell_type": "code",
   "execution_count": 36,
   "id": "e87913a3",
   "metadata": {},
   "outputs": [],
   "source": [
    "price_value_dict = {}\n",
    "price_value_dict['Date'] = Date\n",
    "price_value_dict['Closing Price'] = future_predictions_1.tolist()"
   ]
  },
  {
   "cell_type": "code",
   "execution_count": 37,
   "id": "1206eede",
   "metadata": {},
   "outputs": [],
   "source": [
    "# price_value_dict"
   ]
  },
  {
   "cell_type": "code",
   "execution_count": 38,
   "id": "ec76545d",
   "metadata": {},
   "outputs": [],
   "source": [
    "Price_with_dates = pd.DataFrame(price_value_dict)"
   ]
  },
  {
   "cell_type": "code",
   "execution_count": 39,
   "id": "0ccb9728",
   "metadata": {},
   "outputs": [],
   "source": [
    "Price_with_dates.columns = pd.MultiIndex.from_tuples([(f'{ticker}', 'Date'), (f'{ticker}', 'Closing Price')])"
   ]
  },
  {
   "cell_type": "code",
   "execution_count": 40,
   "id": "a9c3bdeb",
   "metadata": {},
   "outputs": [
    {
     "data": {
      "text/html": [
       "<div>\n",
       "<style scoped>\n",
       "    .dataframe tbody tr th:only-of-type {\n",
       "        vertical-align: middle;\n",
       "    }\n",
       "\n",
       "    .dataframe tbody tr th {\n",
       "        vertical-align: top;\n",
       "    }\n",
       "\n",
       "    .dataframe thead tr th {\n",
       "        text-align: left;\n",
       "    }\n",
       "</style>\n",
       "<table border=\"1\" class=\"dataframe\">\n",
       "  <thead>\n",
       "    <tr>\n",
       "      <th></th>\n",
       "      <th colspan=\"2\" halign=\"left\">HINDUNILVR.NS</th>\n",
       "    </tr>\n",
       "    <tr>\n",
       "      <th></th>\n",
       "      <th>Date</th>\n",
       "      <th>Closing Price</th>\n",
       "    </tr>\n",
       "  </thead>\n",
       "  <tbody>\n",
       "    <tr>\n",
       "      <th>0</th>\n",
       "      <td>22-01-2024</td>\n",
       "      <td>2576.619873</td>\n",
       "    </tr>\n",
       "    <tr>\n",
       "      <th>1</th>\n",
       "      <td>23-01-2024</td>\n",
       "      <td>2578.087402</td>\n",
       "    </tr>\n",
       "    <tr>\n",
       "      <th>2</th>\n",
       "      <td>24-01-2024</td>\n",
       "      <td>2575.787842</td>\n",
       "    </tr>\n",
       "    <tr>\n",
       "      <th>3</th>\n",
       "      <td>25-01-2024</td>\n",
       "      <td>2535.428955</td>\n",
       "    </tr>\n",
       "    <tr>\n",
       "      <th>4</th>\n",
       "      <td>26-01-2024</td>\n",
       "      <td>2543.076172</td>\n",
       "    </tr>\n",
       "    <tr>\n",
       "      <th>5</th>\n",
       "      <td>29-01-2024</td>\n",
       "      <td>2571.677490</td>\n",
       "    </tr>\n",
       "    <tr>\n",
       "      <th>6</th>\n",
       "      <td>30-01-2024</td>\n",
       "      <td>2567.664307</td>\n",
       "    </tr>\n",
       "    <tr>\n",
       "      <th>7</th>\n",
       "      <td>31-01-2024</td>\n",
       "      <td>2561.593262</td>\n",
       "    </tr>\n",
       "    <tr>\n",
       "      <th>8</th>\n",
       "      <td>01-02-2024</td>\n",
       "      <td>2546.996826</td>\n",
       "    </tr>\n",
       "    <tr>\n",
       "      <th>9</th>\n",
       "      <td>02-02-2024</td>\n",
       "      <td>2564.041504</td>\n",
       "    </tr>\n",
       "  </tbody>\n",
       "</table>\n",
       "</div>"
      ],
      "text/plain": [
       "  HINDUNILVR.NS              \n",
       "           Date Closing Price\n",
       "0    22-01-2024   2576.619873\n",
       "1    23-01-2024   2578.087402\n",
       "2    24-01-2024   2575.787842\n",
       "3    25-01-2024   2535.428955\n",
       "4    26-01-2024   2543.076172\n",
       "5    29-01-2024   2571.677490\n",
       "6    30-01-2024   2567.664307\n",
       "7    31-01-2024   2561.593262\n",
       "8    01-02-2024   2546.996826\n",
       "9    02-02-2024   2564.041504"
      ]
     },
     "execution_count": 40,
     "metadata": {},
     "output_type": "execute_result"
    }
   ],
   "source": [
    "Price_with_dates"
   ]
  },
  {
   "cell_type": "code",
   "execution_count": null,
   "id": "d88f1fae",
   "metadata": {},
   "outputs": [],
   "source": []
  },
  {
   "cell_type": "code",
   "execution_count": 41,
   "id": "ce4198f0",
   "metadata": {},
   "outputs": [],
   "source": [
    "ticker = \"HINDUNILVR.NS\"\n",
    "start = \"2024-01-22\"\n",
    "end = \"2024-01-31\""
   ]
  },
  {
   "cell_type": "code",
   "execution_count": 42,
   "id": "9d3ce034",
   "metadata": {},
   "outputs": [
    {
     "name": "stdout",
     "output_type": "stream",
     "text": [
      "[*********************100%***********************]  1 of 1 completed\n"
     ]
    },
    {
     "data": {
      "text/html": [
       "<div>\n",
       "<style scoped>\n",
       "    .dataframe tbody tr th:only-of-type {\n",
       "        vertical-align: middle;\n",
       "    }\n",
       "\n",
       "    .dataframe tbody tr th {\n",
       "        vertical-align: top;\n",
       "    }\n",
       "\n",
       "    .dataframe thead th {\n",
       "        text-align: right;\n",
       "    }\n",
       "</style>\n",
       "<table border=\"1\" class=\"dataframe\">\n",
       "  <thead>\n",
       "    <tr style=\"text-align: right;\">\n",
       "      <th></th>\n",
       "      <th>Open</th>\n",
       "      <th>High</th>\n",
       "      <th>Low</th>\n",
       "      <th>Close</th>\n",
       "      <th>Adj Close</th>\n",
       "      <th>Volume</th>\n",
       "    </tr>\n",
       "    <tr>\n",
       "      <th>Date</th>\n",
       "      <th></th>\n",
       "      <th></th>\n",
       "      <th></th>\n",
       "      <th></th>\n",
       "      <th></th>\n",
       "      <th></th>\n",
       "    </tr>\n",
       "  </thead>\n",
       "  <tbody>\n",
       "    <tr>\n",
       "      <th>2024-01-22</th>\n",
       "      <td>2565.399902</td>\n",
       "      <td>2565.399902</td>\n",
       "      <td>2565.399902</td>\n",
       "      <td>2565.399902</td>\n",
       "      <td>2565.399902</td>\n",
       "      <td>0</td>\n",
       "    </tr>\n",
       "    <tr>\n",
       "      <th>2024-01-23</th>\n",
       "      <td>2451.000000</td>\n",
       "      <td>2480.500000</td>\n",
       "      <td>2365.449951</td>\n",
       "      <td>2375.550049</td>\n",
       "      <td>2375.550049</td>\n",
       "      <td>4369332</td>\n",
       "    </tr>\n",
       "    <tr>\n",
       "      <th>2024-01-24</th>\n",
       "      <td>2388.000000</td>\n",
       "      <td>2445.899902</td>\n",
       "      <td>2367.149902</td>\n",
       "      <td>2441.649902</td>\n",
       "      <td>2441.649902</td>\n",
       "      <td>1551469</td>\n",
       "    </tr>\n",
       "    <tr>\n",
       "      <th>2024-01-25</th>\n",
       "      <td>2454.800049</td>\n",
       "      <td>2468.000000</td>\n",
       "      <td>2420.199951</td>\n",
       "      <td>2428.300049</td>\n",
       "      <td>2428.300049</td>\n",
       "      <td>2364765</td>\n",
       "    </tr>\n",
       "    <tr>\n",
       "      <th>2024-01-29</th>\n",
       "      <td>2410.000000</td>\n",
       "      <td>2449.000000</td>\n",
       "      <td>2410.000000</td>\n",
       "      <td>2444.399902</td>\n",
       "      <td>2444.399902</td>\n",
       "      <td>1587091</td>\n",
       "    </tr>\n",
       "    <tr>\n",
       "      <th>2024-01-30</th>\n",
       "      <td>2454.000000</td>\n",
       "      <td>2494.550049</td>\n",
       "      <td>2447.300049</td>\n",
       "      <td>2458.649902</td>\n",
       "      <td>2458.649902</td>\n",
       "      <td>1793378</td>\n",
       "    </tr>\n",
       "  </tbody>\n",
       "</table>\n",
       "</div>"
      ],
      "text/plain": [
       "                   Open         High          Low        Close    Adj Close  \\\n",
       "Date                                                                          \n",
       "2024-01-22  2565.399902  2565.399902  2565.399902  2565.399902  2565.399902   \n",
       "2024-01-23  2451.000000  2480.500000  2365.449951  2375.550049  2375.550049   \n",
       "2024-01-24  2388.000000  2445.899902  2367.149902  2441.649902  2441.649902   \n",
       "2024-01-25  2454.800049  2468.000000  2420.199951  2428.300049  2428.300049   \n",
       "2024-01-29  2410.000000  2449.000000  2410.000000  2444.399902  2444.399902   \n",
       "2024-01-30  2454.000000  2494.550049  2447.300049  2458.649902  2458.649902   \n",
       "\n",
       "             Volume  \n",
       "Date                 \n",
       "2024-01-22        0  \n",
       "2024-01-23  4369332  \n",
       "2024-01-24  1551469  \n",
       "2024-01-25  2364765  \n",
       "2024-01-29  1587091  \n",
       "2024-01-30  1793378  "
      ]
     },
     "execution_count": 42,
     "metadata": {},
     "output_type": "execute_result"
    }
   ],
   "source": [
    "df = yf.download(ticker, start=start, end=end)\n",
    "df"
   ]
  },
  {
   "cell_type": "code",
   "execution_count": 43,
   "id": "3c98dfef",
   "metadata": {},
   "outputs": [],
   "source": [
    "actual_data = df['Close'].values"
   ]
  },
  {
   "cell_type": "code",
   "execution_count": 44,
   "id": "c9f3ca90",
   "metadata": {},
   "outputs": [],
   "source": [
    "day_actual = range(1,7)\n",
    "day_predicted = range(1,11)"
   ]
  },
  {
   "cell_type": "code",
   "execution_count": 45,
   "id": "d5b1f0e7",
   "metadata": {},
   "outputs": [
    {
     "data": {
      "image/png": "[encoded data removed]",
      "text/plain": [
       "<Figure size 640x480 with 1 Axes>"
      ]
     },
     "metadata": {},
     "output_type": "display_data"
    }
   ],
   "source": [
    "plt.plot(day_actual, actual_data, color='red', label='actual')\n",
    "plt.plot(day_predicted, future_predictions_1, color='blue', label='predicted')\n",
    "plt.legend()\n",
    "plt.show()"
   ]
  },
  {
   "cell_type": "code",
   "execution_count": null,
   "id": "48088541",
   "metadata": {},
   "outputs": [],
   "source": []
  },
  {
   "cell_type": "code",
   "execution_count": null,
   "id": "e036e695",
   "metadata": {},
   "outputs": [],
   "source": []
  }
 ],
 "metadata": {
  "kernelspec": {
   "display_name": "Python 3 (ipykernel)",
   "language": "python",
   "name": "python3"
  },
  "language_info": {
   "codemirror_mode": {
    "name": "ipython",
    "version": 3
   },
   "file_extension": ".py",
   "mimetype": "text/x-python",
   "name": "python",
   "nbconvert_exporter": "python",
   "pygments_lexer": "ipython3",
   "version": "3.11.4"
  }
 },
 "nbformat": 4,
 "nbformat_minor": 5
}
