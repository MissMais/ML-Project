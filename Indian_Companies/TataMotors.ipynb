{
 "cells": [
  {
   "cell_type": "code",
   "execution_count": 1,
   "id": "3e3175db",
   "metadata": {},
   "outputs": [],
   "source": [
    "import numpy as np\n",
    "import pandas as pd\n",
    "import yfinance as yf\n",
    "import matplotlib.pyplot as plt\n",
    "from sklearn.preprocessing import MinMaxScaler\n",
    "from keras.models import Sequential\n",
    "from keras.layers import LSTM, Dense\n",
    "from sklearn.metrics import mean_squared_error, mean_absolute_error, accuracy_score\n",
    "from math import sqrt"
   ]
  },
  {
   "cell_type": "code",
   "execution_count": 2,
   "id": "beee8595",
   "metadata": {},
   "outputs": [],
   "source": [
    "ticker = 'TATAMOTORS.NS'\n",
    "start = \"2017-04-01\"\n",
    "end = \"2024-01-20\""
   ]
  },
  {
   "cell_type": "code",
   "execution_count": 3,
   "id": "c4d883e3",
   "metadata": {},
   "outputs": [
    {
     "name": "stdout",
     "output_type": "stream",
     "text": [
      "[*********************100%***********************]  1 of 1 completed\n"
     ]
    },
    {
     "data": {
      "text/html": [
       "<div>\n",
       "<style scoped>\n",
       "    .dataframe tbody tr th:only-of-type {\n",
       "        vertical-align: middle;\n",
       "    }\n",
       "\n",
       "    .dataframe tbody tr th {\n",
       "        vertical-align: top;\n",
       "    }\n",
       "\n",
       "    .dataframe thead th {\n",
       "        text-align: right;\n",
       "    }\n",
       "</style>\n",
       "<table border=\"1\" class=\"dataframe\">\n",
       "  <thead>\n",
       "    <tr style=\"text-align: right;\">\n",
       "      <th></th>\n",
       "      <th>Open</th>\n",
       "      <th>High</th>\n",
       "      <th>Low</th>\n",
       "      <th>Close</th>\n",
       "      <th>Adj Close</th>\n",
       "      <th>Volume</th>\n",
       "    </tr>\n",
       "    <tr>\n",
       "      <th>Date</th>\n",
       "      <th></th>\n",
       "      <th></th>\n",
       "      <th></th>\n",
       "      <th></th>\n",
       "      <th></th>\n",
       "      <th></th>\n",
       "    </tr>\n",
       "  </thead>\n",
       "  <tbody>\n",
       "    <tr>\n",
       "      <th>2024-01-08</th>\n",
       "      <td>798.400024</td>\n",
       "      <td>800.349976</td>\n",
       "      <td>787.500000</td>\n",
       "      <td>789.099976</td>\n",
       "      <td>789.099976</td>\n",
       "      <td>7668471</td>\n",
       "    </tr>\n",
       "    <tr>\n",
       "      <th>2024-01-09</th>\n",
       "      <td>799.950012</td>\n",
       "      <td>809.200012</td>\n",
       "      <td>793.150024</td>\n",
       "      <td>799.799988</td>\n",
       "      <td>799.799988</td>\n",
       "      <td>12872757</td>\n",
       "    </tr>\n",
       "    <tr>\n",
       "      <th>2024-01-10</th>\n",
       "      <td>800.000000</td>\n",
       "      <td>811.000000</td>\n",
       "      <td>792.650024</td>\n",
       "      <td>808.450012</td>\n",
       "      <td>808.450012</td>\n",
       "      <td>9980044</td>\n",
       "    </tr>\n",
       "    <tr>\n",
       "      <th>2024-01-11</th>\n",
       "      <td>813.500000</td>\n",
       "      <td>817.500000</td>\n",
       "      <td>808.450012</td>\n",
       "      <td>815.650024</td>\n",
       "      <td>815.650024</td>\n",
       "      <td>11075167</td>\n",
       "    </tr>\n",
       "    <tr>\n",
       "      <th>2024-01-12</th>\n",
       "      <td>818.150024</td>\n",
       "      <td>818.549988</td>\n",
       "      <td>809.150024</td>\n",
       "      <td>816.450012</td>\n",
       "      <td>816.450012</td>\n",
       "      <td>7664094</td>\n",
       "    </tr>\n",
       "    <tr>\n",
       "      <th>2024-01-15</th>\n",
       "      <td>820.000000</td>\n",
       "      <td>820.400024</td>\n",
       "      <td>810.299988</td>\n",
       "      <td>812.450012</td>\n",
       "      <td>812.450012</td>\n",
       "      <td>4835856</td>\n",
       "    </tr>\n",
       "    <tr>\n",
       "      <th>2024-01-16</th>\n",
       "      <td>812.450012</td>\n",
       "      <td>827.000000</td>\n",
       "      <td>812.450012</td>\n",
       "      <td>818.849976</td>\n",
       "      <td>818.849976</td>\n",
       "      <td>10159066</td>\n",
       "    </tr>\n",
       "    <tr>\n",
       "      <th>2024-01-17</th>\n",
       "      <td>811.000000</td>\n",
       "      <td>813.700012</td>\n",
       "      <td>804.000000</td>\n",
       "      <td>805.549988</td>\n",
       "      <td>805.549988</td>\n",
       "      <td>7895439</td>\n",
       "    </tr>\n",
       "    <tr>\n",
       "      <th>2024-01-18</th>\n",
       "      <td>807.000000</td>\n",
       "      <td>822.950012</td>\n",
       "      <td>797.000000</td>\n",
       "      <td>819.049988</td>\n",
       "      <td>819.049988</td>\n",
       "      <td>11500495</td>\n",
       "    </tr>\n",
       "    <tr>\n",
       "      <th>2024-01-19</th>\n",
       "      <td>823.849976</td>\n",
       "      <td>826.000000</td>\n",
       "      <td>819.500000</td>\n",
       "      <td>823.549988</td>\n",
       "      <td>823.549988</td>\n",
       "      <td>5706888</td>\n",
       "    </tr>\n",
       "  </tbody>\n",
       "</table>\n",
       "</div>"
      ],
      "text/plain": [
       "                  Open        High         Low       Close   Adj Close  \\\n",
       "Date                                                                     \n",
       "2024-01-08  798.400024  800.349976  787.500000  789.099976  789.099976   \n",
       "2024-01-09  799.950012  809.200012  793.150024  799.799988  799.799988   \n",
       "2024-01-10  800.000000  811.000000  792.650024  808.450012  808.450012   \n",
       "2024-01-11  813.500000  817.500000  808.450012  815.650024  815.650024   \n",
       "2024-01-12  818.150024  818.549988  809.150024  816.450012  816.450012   \n",
       "2024-01-15  820.000000  820.400024  810.299988  812.450012  812.450012   \n",
       "2024-01-16  812.450012  827.000000  812.450012  818.849976  818.849976   \n",
       "2024-01-17  811.000000  813.700012  804.000000  805.549988  805.549988   \n",
       "2024-01-18  807.000000  822.950012  797.000000  819.049988  819.049988   \n",
       "2024-01-19  823.849976  826.000000  819.500000  823.549988  823.549988   \n",
       "\n",
       "              Volume  \n",
       "Date                  \n",
       "2024-01-08   7668471  \n",
       "2024-01-09  12872757  \n",
       "2024-01-10   9980044  \n",
       "2024-01-11  11075167  \n",
       "2024-01-12   7664094  \n",
       "2024-01-15   4835856  \n",
       "2024-01-16  10159066  \n",
       "2024-01-17   7895439  \n",
       "2024-01-18  11500495  \n",
       "2024-01-19   5706888  "
      ]
     },
     "execution_count": 3,
     "metadata": {},
     "output_type": "execute_result"
    }
   ],
   "source": [
    "df = yf.download(ticker, start=start, end=end)\n",
    "df.tail(10)"
   ]
  },
  {
   "cell_type": "code",
   "execution_count": 4,
   "id": "4fd894f3",
   "metadata": {},
   "outputs": [
    {
     "name": "stdout",
     "output_type": "stream",
     "text": [
      "(1682,)\n"
     ]
    }
   ],
   "source": [
    "ClosingPrice = df['Close']\n",
    "\n",
    "# print(data)\n",
    "print(ClosingPrice.values.shape)\n",
    "\n",
    "scaler = MinMaxScaler()\n",
    "scaled_data = scaler.fit_transform(ClosingPrice.values.reshape(-1, 1))\n",
    "# print(scaled_data)"
   ]
  },
  {
   "cell_type": "code",
   "execution_count": 5,
   "id": "9827d44b",
   "metadata": {},
   "outputs": [
    {
     "data": {
      "image/png": "[encoded data removed]",
      "text/plain": [
       "<Figure size 640x480 with 1 Axes>"
      ]
     },
     "metadata": {},
     "output_type": "display_data"
    }
   ],
   "source": [
    "plt.plot(scaled_data)\n",
    "plt.title(f'{ticker} Closing Price')\n",
    "plt.show()"
   ]
  },
  {
   "cell_type": "code",
   "execution_count": 6,
   "id": "d0ab277e",
   "metadata": {},
   "outputs": [
    {
     "data": {
      "text/plain": [
       "(1345, 337)"
      ]
     },
     "execution_count": 6,
     "metadata": {},
     "output_type": "execute_result"
    }
   ],
   "source": [
    "training_data_len = int(len(scaled_data) * 0.8)\n",
    "\n",
    "training_data = scaled_data[0:training_data_len, :]\n",
    "testing_data = scaled_data[training_data_len:, :]\n",
    "\n",
    "len(training_data), len(testing_data)"
   ]
  },
  {
   "cell_type": "code",
   "execution_count": 7,
   "id": "a5a9517b",
   "metadata": {},
   "outputs": [],
   "source": [
    "past_values = 1\n",
    "\n",
    "def create_training_data(data, past_values):\n",
    "    if len(data) < past_values:\n",
    "        return np.array([]), np.array([])\n",
    "    X_train = []\n",
    "    y_train = []\n",
    "    for i in range(past_values, len(data)):\n",
    "        X_train.append(data[i-past_values:i, 0])\n",
    "        y_train.append(data[i, 0])\n",
    "    return np.array(X_train), np.array(y_train)\n",
    "\n",
    "X_train, y_train = create_training_data(training_data, past_values)\n",
    "X_train = np.reshape(X_train, (X_train.shape[0], X_train.shape[1], 1))\n",
    "\n",
    "X_test, y_test = create_training_data(testing_data, past_values)\n",
    "X_test = np.reshape(X_test, (X_test.shape[0], X_test.shape[1], 1))"
   ]
  },
  {
   "cell_type": "code",
   "execution_count": 8,
   "id": "c2e46176",
   "metadata": {},
   "outputs": [
    {
     "data": {
      "text/plain": [
       "(1680, 1682)"
      ]
     },
     "execution_count": 8,
     "metadata": {},
     "output_type": "execute_result"
    }
   ],
   "source": [
    "len(X_train) + len(X_test), len(scaled_data)"
   ]
  },
  {
   "cell_type": "code",
   "execution_count": 9,
   "id": "d26d2fdb",
   "metadata": {},
   "outputs": [
    {
     "data": {
      "text/plain": [
       "(1344, 1, 1)"
      ]
     },
     "execution_count": 9,
     "metadata": {},
     "output_type": "execute_result"
    }
   ],
   "source": [
    "X_train.shape"
   ]
  },
  {
   "cell_type": "code",
   "execution_count": 10,
   "id": "70151e02",
   "metadata": {},
   "outputs": [
    {
     "name": "stdout",
     "output_type": "stream",
     "text": [
      "Epoch 1/200\n",
      "7/7 [==============================] - 8s 10ms/step - loss: 0.0965\n",
      "Epoch 2/200\n",
      "7/7 [==============================] - 0s 10ms/step - loss: 0.0574\n",
      "Epoch 3/200\n",
      "7/7 [==============================] - 0s 12ms/step - loss: 0.0323\n",
      "Epoch 4/200\n",
      "7/7 [==============================] - 0s 10ms/step - loss: 0.0282\n",
      "Epoch 5/200\n",
      "7/7 [==============================] - 0s 10ms/step - loss: 0.0284\n",
      "Epoch 6/200\n",
      "7/7 [==============================] - 0s 10ms/step - loss: 0.0251\n",
      "Epoch 7/200\n",
      "7/7 [==============================] - 0s 11ms/step - loss: 0.0235\n",
      "Epoch 8/200\n",
      "7/7 [==============================] - 0s 11ms/step - loss: 0.0206\n",
      "Epoch 9/200\n",
      "7/7 [==============================] - 0s 12ms/step - loss: 0.0168\n",
      "Epoch 10/200\n",
      "7/7 [==============================] - 0s 11ms/step - loss: 0.0117\n",
      "Epoch 11/200\n",
      "7/7 [==============================] - 0s 11ms/step - loss: 0.0058\n",
      "Epoch 12/200\n",
      "7/7 [==============================] - 0s 10ms/step - loss: 0.0012\n",
      "Epoch 13/200\n",
      "7/7 [==============================] - 0s 13ms/step - loss: 4.8571e-04\n",
      "Epoch 14/200\n",
      "7/7 [==============================] - 0s 10ms/step - loss: 7.9920e-04\n",
      "Epoch 15/200\n",
      "7/7 [==============================] - 0s 10ms/step - loss: 2.5536e-04\n",
      "Epoch 16/200\n",
      "7/7 [==============================] - 0s 9ms/step - loss: 2.2018e-04\n",
      "Epoch 17/200\n",
      "7/7 [==============================] - 0s 11ms/step - loss: 2.4146e-04\n",
      "Epoch 18/200\n",
      "7/7 [==============================] - 0s 11ms/step - loss: 1.7207e-04\n",
      "Epoch 19/200\n",
      "7/7 [==============================] - 0s 10ms/step - loss: 1.6548e-04\n",
      "Epoch 20/200\n",
      "7/7 [==============================] - 0s 11ms/step - loss: 1.6848e-04\n",
      "Epoch 21/200\n",
      "7/7 [==============================] - 0s 10ms/step - loss: 1.5892e-04\n",
      "Epoch 22/200\n",
      "7/7 [==============================] - 0s 9ms/step - loss: 1.5704e-04\n",
      "Epoch 23/200\n",
      "7/7 [==============================] - 0s 11ms/step - loss: 1.5454e-04\n",
      "Epoch 24/200\n",
      "7/7 [==============================] - 0s 9ms/step - loss: 1.5310e-04\n",
      "Epoch 25/200\n",
      "7/7 [==============================] - 0s 10ms/step - loss: 1.5197e-04\n",
      "Epoch 26/200\n",
      "7/7 [==============================] - 0s 10ms/step - loss: 1.5060e-04\n",
      "Epoch 27/200\n",
      "7/7 [==============================] - 0s 11ms/step - loss: 1.4894e-04\n",
      "Epoch 28/200\n",
      "7/7 [==============================] - 0s 9ms/step - loss: 1.4668e-04\n",
      "Epoch 29/200\n",
      "7/7 [==============================] - 0s 10ms/step - loss: 1.4686e-04\n",
      "Epoch 30/200\n",
      "7/7 [==============================] - 0s 11ms/step - loss: 1.4415e-04\n",
      "Epoch 31/200\n",
      "7/7 [==============================] - 0s 10ms/step - loss: 1.4239e-04\n",
      "Epoch 32/200\n",
      "7/7 [==============================] - 0s 12ms/step - loss: 1.4297e-04\n",
      "Epoch 33/200\n",
      "7/7 [==============================] - 0s 11ms/step - loss: 1.4039e-04\n",
      "Epoch 34/200\n",
      "7/7 [==============================] - 0s 10ms/step - loss: 1.4024e-04\n",
      "Epoch 35/200\n",
      "7/7 [==============================] - 0s 11ms/step - loss: 1.4154e-04\n",
      "Epoch 36/200\n",
      "7/7 [==============================] - 0s 11ms/step - loss: 1.3962e-04\n",
      "Epoch 37/200\n",
      "7/7 [==============================] - 0s 12ms/step - loss: 1.3934e-04\n",
      "Epoch 38/200\n",
      "7/7 [==============================] - 0s 10ms/step - loss: 1.3550e-04\n",
      "Epoch 39/200\n",
      "7/7 [==============================] - 0s 11ms/step - loss: 1.3699e-04\n",
      "Epoch 40/200\n",
      "7/7 [==============================] - 0s 13ms/step - loss: 1.3539e-04\n",
      "Epoch 41/200\n",
      "7/7 [==============================] - 0s 11ms/step - loss: 1.3179e-04\n",
      "Epoch 42/200\n",
      "7/7 [==============================] - 0s 10ms/step - loss: 1.3088e-04\n",
      "Epoch 43/200\n",
      "7/7 [==============================] - 0s 11ms/step - loss: 1.2952e-04\n",
      "Epoch 44/200\n",
      "7/7 [==============================] - 0s 9ms/step - loss: 1.2894e-04\n",
      "Epoch 45/200\n",
      "7/7 [==============================] - 0s 11ms/step - loss: 1.2982e-04\n",
      "Epoch 46/200\n",
      "7/7 [==============================] - 0s 10ms/step - loss: 1.2953e-04\n",
      "Epoch 47/200\n",
      "7/7 [==============================] - 0s 12ms/step - loss: 1.3226e-04\n",
      "Epoch 48/200\n",
      "7/7 [==============================] - 0s 11ms/step - loss: 1.2990e-04\n",
      "Epoch 49/200\n",
      "7/7 [==============================] - 0s 12ms/step - loss: 1.2871e-04\n",
      "Epoch 50/200\n",
      "7/7 [==============================] - 0s 10ms/step - loss: 1.2571e-04\n",
      "Epoch 51/200\n",
      "7/7 [==============================] - 0s 10ms/step - loss: 1.2557e-04\n",
      "Epoch 52/200\n",
      "7/7 [==============================] - 0s 9ms/step - loss: 1.2228e-04\n",
      "Epoch 53/200\n",
      "7/7 [==============================] - 0s 15ms/step - loss: 1.2233e-04\n",
      "Epoch 54/200\n",
      "7/7 [==============================] - 0s 9ms/step - loss: 1.2290e-04\n",
      "Epoch 55/200\n",
      "7/7 [==============================] - 0s 11ms/step - loss: 1.2175e-04\n",
      "Epoch 56/200\n",
      "7/7 [==============================] - 0s 9ms/step - loss: 1.2005e-04\n",
      "Epoch 57/200\n",
      "7/7 [==============================] - 0s 8ms/step - loss: 1.2181e-04\n",
      "Epoch 58/200\n",
      "7/7 [==============================] - 0s 11ms/step - loss: 1.2091e-04\n",
      "Epoch 59/200\n",
      "7/7 [==============================] - 0s 10ms/step - loss: 1.1857e-04\n",
      "Epoch 60/200\n",
      "7/7 [==============================] - 0s 10ms/step - loss: 1.1977e-04\n",
      "Epoch 61/200\n",
      "7/7 [==============================] - 0s 10ms/step - loss: 1.1856e-04\n",
      "Epoch 62/200\n",
      "7/7 [==============================] - 0s 10ms/step - loss: 1.1724e-04\n",
      "Epoch 63/200\n",
      "7/7 [==============================] - 0s 9ms/step - loss: 1.1671e-04\n",
      "Epoch 64/200\n",
      "7/7 [==============================] - 0s 10ms/step - loss: 1.1654e-04\n",
      "Epoch 65/200\n",
      "7/7 [==============================] - 0s 9ms/step - loss: 1.1751e-04\n",
      "Epoch 66/200\n",
      "7/7 [==============================] - 0s 10ms/step - loss: 1.1551e-04\n",
      "Epoch 67/200\n",
      "7/7 [==============================] - 0s 10ms/step - loss: 1.1627e-04\n",
      "Epoch 68/200\n",
      "7/7 [==============================] - 0s 10ms/step - loss: 1.1685e-04\n",
      "Epoch 69/200\n",
      "7/7 [==============================] - 0s 10ms/step - loss: 1.1456e-04\n",
      "Epoch 70/200\n",
      "7/7 [==============================] - 0s 10ms/step - loss: 1.1424e-04\n",
      "Epoch 71/200\n",
      "7/7 [==============================] - 0s 10ms/step - loss: 1.1500e-04\n",
      "Epoch 72/200\n",
      "7/7 [==============================] - 0s 10ms/step - loss: 1.1352e-04\n",
      "Epoch 73/200\n",
      "7/7 [==============================] - 0s 10ms/step - loss: 1.1421e-04\n",
      "Epoch 74/200\n",
      "7/7 [==============================] - 0s 9ms/step - loss: 1.1293e-04\n",
      "Epoch 75/200\n",
      "7/7 [==============================] - 0s 9ms/step - loss: 1.1304e-04\n",
      "Epoch 76/200\n",
      "7/7 [==============================] - 0s 10ms/step - loss: 1.1350e-04\n",
      "Epoch 77/200\n",
      "7/7 [==============================] - 0s 10ms/step - loss: 1.1316e-04\n",
      "Epoch 78/200\n",
      "7/7 [==============================] - 0s 10ms/step - loss: 1.1317e-04\n",
      "Epoch 79/200\n",
      "7/7 [==============================] - 0s 9ms/step - loss: 1.1293e-04\n",
      "Epoch 80/200\n",
      "7/7 [==============================] - 0s 11ms/step - loss: 1.1332e-04\n",
      "Epoch 81/200\n",
      "7/7 [==============================] - 0s 9ms/step - loss: 1.1352e-04\n",
      "Epoch 82/200\n",
      "7/7 [==============================] - 0s 11ms/step - loss: 1.1232e-04\n",
      "Epoch 83/200\n",
      "7/7 [==============================] - 0s 9ms/step - loss: 1.1632e-04\n",
      "Epoch 84/200\n",
      "7/7 [==============================] - 0s 13ms/step - loss: 1.1187e-04\n",
      "Epoch 85/200\n",
      "7/7 [==============================] - 0s 11ms/step - loss: 1.1095e-04\n",
      "Epoch 86/200\n",
      "7/7 [==============================] - 0s 10ms/step - loss: 1.1131e-04\n",
      "Epoch 87/200\n",
      "7/7 [==============================] - 0s 10ms/step - loss: 1.1127e-04\n",
      "Epoch 88/200\n",
      "7/7 [==============================] - 0s 10ms/step - loss: 1.1175e-04\n",
      "Epoch 89/200\n",
      "7/7 [==============================] - 0s 10ms/step - loss: 1.1617e-04\n",
      "Epoch 90/200\n",
      "7/7 [==============================] - 0s 11ms/step - loss: 1.1807e-04\n",
      "Epoch 91/200\n",
      "7/7 [==============================] - 0s 10ms/step - loss: 1.1762e-04\n",
      "Epoch 92/200\n",
      "7/7 [==============================] - 0s 11ms/step - loss: 1.1254e-04\n",
      "Epoch 93/200\n",
      "7/7 [==============================] - 0s 10ms/step - loss: 1.1253e-04\n",
      "Epoch 94/200\n",
      "7/7 [==============================] - 0s 10ms/step - loss: 1.1056e-04\n",
      "Epoch 95/200\n",
      "7/7 [==============================] - 0s 10ms/step - loss: 1.1061e-04\n",
      "Epoch 96/200\n",
      "7/7 [==============================] - 0s 9ms/step - loss: 1.1014e-04\n",
      "Epoch 97/200\n",
      "7/7 [==============================] - 0s 10ms/step - loss: 1.1417e-04\n",
      "Epoch 98/200\n",
      "7/7 [==============================] - 0s 10ms/step - loss: 1.1244e-04\n",
      "Epoch 99/200\n"
     ]
    },
    {
     "name": "stdout",
     "output_type": "stream",
     "text": [
      "7/7 [==============================] - 0s 10ms/step - loss: 1.1159e-04\n",
      "Epoch 100/200\n",
      "7/7 [==============================] - 0s 9ms/step - loss: 1.1022e-04\n",
      "Epoch 101/200\n",
      "7/7 [==============================] - 0s 10ms/step - loss: 1.1378e-04\n",
      "Epoch 102/200\n",
      "7/7 [==============================] - 0s 9ms/step - loss: 1.1614e-04\n",
      "Epoch 103/200\n",
      "7/7 [==============================] - 0s 9ms/step - loss: 1.1530e-04\n",
      "Epoch 104/200\n",
      "7/7 [==============================] - 0s 9ms/step - loss: 1.1549e-04\n",
      "Epoch 105/200\n",
      "7/7 [==============================] - 0s 9ms/step - loss: 1.1186e-04\n",
      "Epoch 106/200\n",
      "7/7 [==============================] - 0s 9ms/step - loss: 1.1610e-04\n",
      "Epoch 107/200\n",
      "7/7 [==============================] - 0s 9ms/step - loss: 1.1705e-04\n",
      "Epoch 108/200\n",
      "7/7 [==============================] - 0s 9ms/step - loss: 1.1550e-04\n",
      "Epoch 109/200\n",
      "7/7 [==============================] - 0s 9ms/step - loss: 1.0992e-04\n",
      "Epoch 110/200\n",
      "7/7 [==============================] - 0s 10ms/step - loss: 1.1099e-04\n",
      "Epoch 111/200\n",
      "7/7 [==============================] - 0s 10ms/step - loss: 1.1110e-04\n",
      "Epoch 112/200\n",
      "7/7 [==============================] - 0s 8ms/step - loss: 1.1022e-04\n",
      "Epoch 113/200\n",
      "7/7 [==============================] - 0s 10ms/step - loss: 1.1043e-04\n",
      "Epoch 114/200\n",
      "7/7 [==============================] - 0s 11ms/step - loss: 1.1260e-04\n",
      "Epoch 115/200\n",
      "7/7 [==============================] - 0s 10ms/step - loss: 1.1159e-04\n",
      "Epoch 116/200\n",
      "7/7 [==============================] - 0s 8ms/step - loss: 1.1137e-04\n",
      "Epoch 117/200\n",
      "7/7 [==============================] - 0s 11ms/step - loss: 1.1048e-04\n",
      "Epoch 118/200\n",
      "7/7 [==============================] - 0s 11ms/step - loss: 1.1019e-04\n",
      "Epoch 119/200\n",
      "7/7 [==============================] - 0s 10ms/step - loss: 1.0952e-04\n",
      "Epoch 120/200\n",
      "7/7 [==============================] - 0s 10ms/step - loss: 1.0974e-04\n",
      "Epoch 121/200\n",
      "7/7 [==============================] - 0s 11ms/step - loss: 1.1011e-04\n",
      "Epoch 122/200\n",
      "7/7 [==============================] - 0s 10ms/step - loss: 1.0958e-04\n",
      "Epoch 123/200\n",
      "7/7 [==============================] - 0s 14ms/step - loss: 1.0937e-04\n",
      "Epoch 124/200\n",
      "7/7 [==============================] - 0s 12ms/step - loss: 1.1000e-04\n",
      "Epoch 125/200\n",
      "7/7 [==============================] - 0s 10ms/step - loss: 1.0937e-04\n",
      "Epoch 126/200\n",
      "7/7 [==============================] - 0s 11ms/step - loss: 1.0930e-04\n",
      "Epoch 127/200\n",
      "7/7 [==============================] - 0s 12ms/step - loss: 1.0951e-04\n",
      "Epoch 128/200\n",
      "7/7 [==============================] - 0s 9ms/step - loss: 1.1028e-04\n",
      "Epoch 129/200\n",
      "7/7 [==============================] - 0s 11ms/step - loss: 1.1243e-04\n",
      "Epoch 130/200\n",
      "7/7 [==============================] - 0s 11ms/step - loss: 1.1621e-04\n",
      "Epoch 131/200\n",
      "7/7 [==============================] - 0s 10ms/step - loss: 1.1592e-04\n",
      "Epoch 132/200\n",
      "7/7 [==============================] - 0s 11ms/step - loss: 1.1214e-04\n",
      "Epoch 133/200\n",
      "7/7 [==============================] - 0s 11ms/step - loss: 1.1010e-04\n",
      "Epoch 134/200\n",
      "7/7 [==============================] - 0s 11ms/step - loss: 1.1064e-04\n",
      "Epoch 135/200\n",
      "7/7 [==============================] - 0s 11ms/step - loss: 1.1140e-04\n",
      "Epoch 136/200\n",
      "7/7 [==============================] - 0s 11ms/step - loss: 1.1174e-04\n",
      "Epoch 137/200\n",
      "7/7 [==============================] - 0s 11ms/step - loss: 1.0972e-04\n",
      "Epoch 138/200\n",
      "7/7 [==============================] - 0s 10ms/step - loss: 1.1038e-04\n",
      "Epoch 139/200\n",
      "7/7 [==============================] - 0s 11ms/step - loss: 1.0970e-04\n",
      "Epoch 140/200\n",
      "7/7 [==============================] - 0s 11ms/step - loss: 1.1023e-04\n",
      "Epoch 141/200\n",
      "7/7 [==============================] - 0s 10ms/step - loss: 1.1034e-04\n",
      "Epoch 142/200\n",
      "7/7 [==============================] - 0s 10ms/step - loss: 1.0979e-04\n",
      "Epoch 143/200\n",
      "7/7 [==============================] - 0s 11ms/step - loss: 1.1163e-04\n",
      "Epoch 144/200\n",
      "7/7 [==============================] - 0s 10ms/step - loss: 1.1314e-04\n",
      "Epoch 145/200\n",
      "7/7 [==============================] - 0s 12ms/step - loss: 1.2120e-04\n",
      "Epoch 146/200\n",
      "7/7 [==============================] - 0s 11ms/step - loss: 1.2747e-04\n",
      "Epoch 147/200\n",
      "7/7 [==============================] - 0s 10ms/step - loss: 1.1798e-04\n",
      "Epoch 148/200\n",
      "7/7 [==============================] - 0s 11ms/step - loss: 1.1173e-04\n",
      "Epoch 149/200\n",
      "7/7 [==============================] - 0s 11ms/step - loss: 1.0998e-04\n",
      "Epoch 150/200\n",
      "7/7 [==============================] - 0s 10ms/step - loss: 1.1273e-04\n",
      "Epoch 151/200\n",
      "7/7 [==============================] - 0s 11ms/step - loss: 1.1180e-04\n",
      "Epoch 152/200\n",
      "7/7 [==============================] - 0s 11ms/step - loss: 1.1049e-04\n",
      "Epoch 153/200\n",
      "7/7 [==============================] - 0s 11ms/step - loss: 1.0950e-04\n",
      "Epoch 154/200\n",
      "7/7 [==============================] - 0s 10ms/step - loss: 1.1029e-04\n",
      "Epoch 155/200\n",
      "7/7 [==============================] - 0s 11ms/step - loss: 1.0943e-04\n",
      "Epoch 156/200\n",
      "7/7 [==============================] - 0s 11ms/step - loss: 1.1095e-04\n",
      "Epoch 157/200\n",
      "7/7 [==============================] - 0s 12ms/step - loss: 1.1250e-04\n",
      "Epoch 158/200\n",
      "7/7 [==============================] - 0s 12ms/step - loss: 1.0939e-04\n",
      "Epoch 159/200\n",
      "7/7 [==============================] - 0s 14ms/step - loss: 1.1074e-04\n",
      "Epoch 160/200\n",
      "7/7 [==============================] - 0s 12ms/step - loss: 1.1233e-04\n",
      "Epoch 161/200\n",
      "7/7 [==============================] - 0s 12ms/step - loss: 1.0916e-04\n",
      "Epoch 162/200\n",
      "7/7 [==============================] - 0s 11ms/step - loss: 1.0926e-04\n",
      "Epoch 163/200\n",
      "7/7 [==============================] - 0s 10ms/step - loss: 1.1057e-04\n",
      "Epoch 164/200\n",
      "7/7 [==============================] - 0s 11ms/step - loss: 1.0935e-04\n",
      "Epoch 165/200\n",
      "7/7 [==============================] - 0s 11ms/step - loss: 1.0943e-04\n",
      "Epoch 166/200\n",
      "7/7 [==============================] - 0s 11ms/step - loss: 1.1095e-04\n",
      "Epoch 167/200\n",
      "7/7 [==============================] - 0s 10ms/step - loss: 1.1170e-04\n",
      "Epoch 168/200\n",
      "7/7 [==============================] - 0s 12ms/step - loss: 1.1340e-04\n",
      "Epoch 169/200\n",
      "7/7 [==============================] - 0s 11ms/step - loss: 1.1449e-04\n",
      "Epoch 170/200\n",
      "7/7 [==============================] - 0s 11ms/step - loss: 1.1047e-04\n",
      "Epoch 171/200\n",
      "7/7 [==============================] - 0s 10ms/step - loss: 1.1115e-04\n",
      "Epoch 172/200\n",
      "7/7 [==============================] - 0s 11ms/step - loss: 1.1152e-04\n",
      "Epoch 173/200\n",
      "7/7 [==============================] - 0s 11ms/step - loss: 1.1437e-04\n",
      "Epoch 174/200\n",
      "7/7 [==============================] - 0s 11ms/step - loss: 1.1068e-04\n",
      "Epoch 175/200\n",
      "7/7 [==============================] - 0s 11ms/step - loss: 1.1153e-04\n",
      "Epoch 176/200\n",
      "7/7 [==============================] - 0s 11ms/step - loss: 1.0982e-04\n",
      "Epoch 177/200\n",
      "7/7 [==============================] - 0s 11ms/step - loss: 1.0945e-04\n",
      "Epoch 178/200\n",
      "7/7 [==============================] - 0s 11ms/step - loss: 1.0957e-04\n",
      "Epoch 179/200\n",
      "7/7 [==============================] - 0s 10ms/step - loss: 1.0973e-04\n",
      "Epoch 180/200\n",
      "7/7 [==============================] - 0s 10ms/step - loss: 1.1057e-04\n",
      "Epoch 181/200\n",
      "7/7 [==============================] - 0s 10ms/step - loss: 1.0908e-04\n",
      "Epoch 182/200\n",
      "7/7 [==============================] - 0s 12ms/step - loss: 1.0998e-04\n",
      "Epoch 183/200\n",
      "7/7 [==============================] - 0s 16ms/step - loss: 1.1105e-04\n",
      "Epoch 184/200\n",
      "7/7 [==============================] - 0s 10ms/step - loss: 1.1073e-04\n",
      "Epoch 185/200\n",
      "7/7 [==============================] - 0s 10ms/step - loss: 1.0955e-04\n",
      "Epoch 186/200\n",
      "7/7 [==============================] - 0s 11ms/step - loss: 1.1205e-04\n",
      "Epoch 187/200\n",
      "7/7 [==============================] - 0s 11ms/step - loss: 1.0994e-04\n",
      "Epoch 188/200\n",
      "7/7 [==============================] - 0s 10ms/step - loss: 1.0987e-04\n",
      "Epoch 189/200\n",
      "7/7 [==============================] - 0s 10ms/step - loss: 1.1138e-04\n",
      "Epoch 190/200\n",
      "7/7 [==============================] - 0s 11ms/step - loss: 1.0968e-04\n",
      "Epoch 191/200\n",
      "7/7 [==============================] - 0s 10ms/step - loss: 1.1112e-04\n",
      "Epoch 192/200\n",
      "7/7 [==============================] - 0s 11ms/step - loss: 1.1380e-04\n",
      "Epoch 193/200\n",
      "7/7 [==============================] - 0s 10ms/step - loss: 1.0982e-04\n",
      "Epoch 194/200\n",
      "7/7 [==============================] - 0s 11ms/step - loss: 1.1097e-04\n",
      "Epoch 195/200\n"
     ]
    },
    {
     "name": "stdout",
     "output_type": "stream",
     "text": [
      "7/7 [==============================] - 0s 10ms/step - loss: 1.1079e-04\n",
      "Epoch 196/200\n",
      "7/7 [==============================] - 0s 11ms/step - loss: 1.1131e-04\n",
      "Epoch 197/200\n",
      "7/7 [==============================] - 0s 10ms/step - loss: 1.1152e-04\n",
      "Epoch 198/200\n",
      "7/7 [==============================] - 0s 12ms/step - loss: 1.1304e-04\n",
      "Epoch 199/200\n",
      "7/7 [==============================] - 0s 11ms/step - loss: 1.1422e-04\n",
      "Epoch 200/200\n",
      "7/7 [==============================] - 0s 11ms/step - loss: 1.1142e-04\n"
     ]
    },
    {
     "data": {
      "text/plain": [
       "<keras.src.callbacks.History at 0x1b5be4794d0>"
      ]
     },
     "execution_count": 10,
     "metadata": {},
     "output_type": "execute_result"
    }
   ],
   "source": [
    "model = Sequential()\n",
    "model.add(LSTM(50, return_sequences=True, input_shape=(X_train.shape[1], 1)))\n",
    "model.add(LSTM(50, return_sequences=True))\n",
    "model.add(LSTM(50, return_sequences=False))\n",
    "model.add(Dense(25))\n",
    "model.add(Dense(1))\n",
    "\n",
    "model.compile(optimizer='adam', loss='mean_squared_error')\n",
    "model.fit(X_train, y_train, batch_size=200, epochs=200, verbose=1)"
   ]
  },
  {
   "cell_type": "code",
   "execution_count": 11,
   "id": "92ef2e44",
   "metadata": {},
   "outputs": [
    {
     "name": "stdout",
     "output_type": "stream",
     "text": [
      "42/42 [==============================] - 2s 4ms/step\n",
      "11/11 [==============================] - 2s 4ms/step\n"
     ]
    }
   ],
   "source": [
    "pred_train = model.predict(X_train)\n",
    "pred = model.predict(X_test)"
   ]
  },
  {
   "cell_type": "code",
   "execution_count": 12,
   "id": "a77f781f",
   "metadata": {},
   "outputs": [],
   "source": [
    "pred_train = scaler.inverse_transform(pred_train)\n",
    "pred = scaler.inverse_transform(pred)\n",
    "y_test = scaler.inverse_transform([y_test])\n",
    "y_train = scaler.inverse_transform([y_train])"
   ]
  },
  {
   "cell_type": "code",
   "execution_count": 13,
   "id": "ab449e76",
   "metadata": {},
   "outputs": [],
   "source": [
    "y_test = y_test.flatten()\n",
    "y_train = y_train.flatten()"
   ]
  },
  {
   "cell_type": "code",
   "execution_count": 14,
   "id": "3003bbb6",
   "metadata": {},
   "outputs": [
    {
     "name": "stdout",
     "output_type": "stream",
     "text": [
      "Training Error\n",
      "Mean Absolute Error (MAE): 5.261409878730774\n",
      "Root Mean Squared Error (RMSE): 7.927922698799782\n"
     ]
    },
    {
     "data": {
      "image/png": "[encoded data removed]",
      "text/plain": [
       "<Figure size 640x480 with 1 Axes>"
      ]
     },
     "metadata": {},
     "output_type": "display_data"
    }
   ],
   "source": [
    "print(\"Training Error\")\n",
    "mae = mean_absolute_error(y_train, pred_train)\n",
    "print(\"Mean Absolute Error (MAE):\", mae)\n",
    "rmse = sqrt(mean_squared_error(y_train, pred_train))\n",
    "print(\"Root Mean Squared Error (RMSE):\", rmse)\n",
    "    \n",
    "plt.plot(y_train, label = 'actual '+str(ticker))\n",
    "plt.plot(pred_train, label = 'predicted '+str(ticker))\n",
    "plt.title(\"Training Plot\")\n",
    "plt.legend()\n",
    "plt.show()"
   ]
  },
  {
   "cell_type": "code",
   "execution_count": 15,
   "id": "01e9e93d",
   "metadata": {},
   "outputs": [
    {
     "name": "stdout",
     "output_type": "stream",
     "text": [
      "Testing Error\n",
      "Mean Absolute Error (MAE): 7.589478447323755\n",
      "Root Mean Squared Error (RMSE): 10.260640296228798\n"
     ]
    },
    {
     "data": {
      "image/png": "[encoded data removed]",
      "text/plain": [
       "<Figure size 640x480 with 1 Axes>"
      ]
     },
     "metadata": {},
     "output_type": "display_data"
    }
   ],
   "source": [
    "print(\"Testing Error\")\n",
    "mae = mean_absolute_error(y_test, pred)\n",
    "print(\"Mean Absolute Error (MAE):\", mae)\n",
    "rmse = sqrt(mean_squared_error(y_test, pred))\n",
    "print(\"Root Mean Squared Error (RMSE):\", rmse)\n",
    "\n",
    "plt.plot(y_test, label = 'actual '+str(ticker))\n",
    "plt.plot(pred, label = 'predicted '+str(ticker))\n",
    "plt.title(\"Testing Plot\")\n",
    "plt.legend()\n",
    "plt.show()"
   ]
  },
  {
   "cell_type": "markdown",
   "id": "a39de483",
   "metadata": {},
   "source": [
    "## 10 days future prediction without correction"
   ]
  },
  {
   "cell_type": "code",
   "execution_count": 16,
   "id": "b9dec815",
   "metadata": {
    "scrolled": true
   },
   "outputs": [
    {
     "data": {
      "text/plain": [
       "array([[0.53425651],\n",
       "       [0.53834488],\n",
       "       [0.53794925],\n",
       "       ...,\n",
       "       [0.97626113],\n",
       "       [0.99406528],\n",
       "       [1.        ]])"
      ]
     },
     "execution_count": 16,
     "metadata": {},
     "output_type": "execute_result"
    }
   ],
   "source": [
    "scaled_data"
   ]
  },
  {
   "cell_type": "code",
   "execution_count": 17,
   "id": "a42ce6ad",
   "metadata": {},
   "outputs": [
    {
     "data": {
      "text/plain": [
       "(1344, 336, 1682)"
      ]
     },
     "execution_count": 17,
     "metadata": {},
     "output_type": "execute_result"
    }
   ],
   "source": [
    "len(X_train), len(X_test),  len(scaled_data)"
   ]
  },
  {
   "cell_type": "code",
   "execution_count": 18,
   "id": "73ea43f2",
   "metadata": {},
   "outputs": [],
   "source": [
    "reshaped_data = scaled_data.reshape(scaled_data.shape[0], scaled_data.shape[1], 1)"
   ]
  },
  {
   "cell_type": "code",
   "execution_count": 19,
   "id": "3d6562ab",
   "metadata": {},
   "outputs": [
    {
     "data": {
      "text/plain": [
       "array([[[0.95456642]],\n",
       "\n",
       "       [[0.96867788]],\n",
       "\n",
       "       [[0.98008576]],\n",
       "\n",
       "       [[0.98958132]],\n",
       "\n",
       "       [[0.99063637]],\n",
       "\n",
       "       [[0.98536106]],\n",
       "\n",
       "       [[0.9938015 ]],\n",
       "\n",
       "       [[0.97626113]],\n",
       "\n",
       "       [[0.99406528]],\n",
       "\n",
       "       [[1.        ]]])"
      ]
     },
     "execution_count": 19,
     "metadata": {},
     "output_type": "execute_result"
    }
   ],
   "source": [
    "future_data_to_predict = reshaped_data[-10:]\n",
    "future_data_to_predict"
   ]
  },
  {
   "cell_type": "code",
   "execution_count": 20,
   "id": "90bbf305",
   "metadata": {},
   "outputs": [
    {
     "data": {
      "text/plain": [
       "(3, 3)"
      ]
     },
     "execution_count": 20,
     "metadata": {},
     "output_type": "execute_result"
    }
   ],
   "source": [
    "X_test.ndim, reshaped_data.ndim"
   ]
  },
  {
   "cell_type": "code",
   "execution_count": 21,
   "id": "d7913819",
   "metadata": {},
   "outputs": [
    {
     "name": "stdout",
     "output_type": "stream",
     "text": [
      "1/1 [==============================] - 0s 77ms/step\n",
      "[774.3889  784.20325 792.1149  798.685   799.41406 795.76654 801.60034\n",
      " 789.4647  801.7824  805.87726]\n"
     ]
    }
   ],
   "source": [
    "def predict_future(last_input):\n",
    "    \n",
    "    res = model.predict(last_input)\n",
    "    Output = scaler.inverse_transform(res)\n",
    "    return Output\n",
    "\n",
    "future_predictions_1 = predict_future(future_data_to_predict)\n",
    "# print(future_predictions_1)\n",
    "\n",
    "future_predictions_1 = future_predictions_1.flatten()\n",
    "print(future_predictions_1)"
   ]
  },
  {
   "cell_type": "code",
   "execution_count": 22,
   "id": "177cb2d7",
   "metadata": {},
   "outputs": [],
   "source": [
    "# def predict_future(last_input):\n",
    "    \n",
    "#     res = model.predict(last_input)\n",
    "#     Output = scaler.inverse_transform(res)\n",
    "#     return Output\n",
    "\n",
    "# future_predictions_2 = predict_future(X_test[-5:])\n",
    "# # print(future_predictions_2)\n",
    "\n",
    "# future_predictions_2 = future_predictions_2.flatten()\n",
    "# print(future_predictions_2)"
   ]
  },
  {
   "cell_type": "code",
   "execution_count": 23,
   "id": "bfbbf4ea",
   "metadata": {},
   "outputs": [],
   "source": [
    "day=range(1,(len(future_data_to_predict)+1))"
   ]
  },
  {
   "cell_type": "code",
   "execution_count": 24,
   "id": "c7eafece",
   "metadata": {},
   "outputs": [
    {
     "data": {
      "image/png": "[encoded data removed]",
      "text/plain": [
       "<Figure size 640x480 with 1 Axes>"
      ]
     },
     "metadata": {},
     "output_type": "display_data"
    }
   ],
   "source": [
    "plt.plot(day, future_predictions_1, color='red', label='scaled_data')\n",
    "# plt.plot(day, future_predictions_2, color='blue', label='x_test')\n",
    "plt.legend()\n",
    "plt.show()"
   ]
  },
  {
   "cell_type": "code",
   "execution_count": 25,
   "id": "b1b1174b",
   "metadata": {},
   "outputs": [],
   "source": [
    "# ticker = \"AMZN\"\n",
    "# start='2024-01-22'\n",
    "# end='2024-01-26'\n",
    "# df = yf.download(ticker, start=start, end=end)\n",
    "# # print(df)\n",
    "# actual = df['Close'].values\n",
    "# print(actual)"
   ]
  },
  {
   "cell_type": "code",
   "execution_count": 26,
   "id": "246eb22b",
   "metadata": {},
   "outputs": [],
   "source": [
    "# day_actual = np.arange(1,21)\n",
    "# day_pred = np.arange(1,21)"
   ]
  },
  {
   "cell_type": "code",
   "execution_count": 27,
   "id": "93ab4b80",
   "metadata": {},
   "outputs": [],
   "source": [
    "# plt.figure(figsize=(8,6))\n",
    "# plt.title(f'Plot for {ticker} from {start} till {end}')\n",
    "# plt.xlabel('No. of Days')\n",
    "# plt.ylabel('Price Values')\n",
    "# plt.plot(day_actual, actual, label = 'actual price', color='blue')\n",
    "# plt.plot(day_pred, future_predictions_1, label = 'predicted price', color='red')\n",
    "# plt.legend()\n",
    "# plt.show()"
   ]
  },
  {
   "cell_type": "markdown",
   "id": "3acc2324",
   "metadata": {},
   "source": [
    "## Buy and Sell"
   ]
  },
  {
   "cell_type": "code",
   "execution_count": 28,
   "id": "f8c67516",
   "metadata": {},
   "outputs": [],
   "source": [
    "def get_control_vector(val):\n",
    "    return np.diff(np.sign(np.diff(val)))\n",
    "\n",
    "def buy_and_sell_bot(val,controls):\n",
    "    inv = []\n",
    "    curr_val = 1000\n",
    "    inds = np.where(controls)[0]\n",
    "    buy_inds = np.where(controls>0)[0]\n",
    "    sell_inds = np.where(controls<0)[0]\n",
    "    max_limit = sell_inds[-1] if sell_inds[-1]>buy_inds[-1] else buy_inds[-1]\n",
    "    for i in range(buy_inds[0]+2):\n",
    "        inv.append(curr_val)\n",
    "    for i in range(buy_inds[0],max_limit+1):\n",
    "        if controls[i]>0:\n",
    "            buy_val = val[i+1]\n",
    "        elif controls[i]<0:\n",
    "            sell_val = val[i+1]\n",
    "            curr_val = curr_val*sell_val/buy_val\n",
    "        inv.append(curr_val)\n",
    "        \n",
    "    if max_limit+1!=len(controls):\n",
    "        for i in range(len(controls)-max_limit-1):\n",
    "            inv.append(curr_val)\n",
    "    return inv\n",
    "\n",
    "# def buy_and_sell_bot(val, controls):\n",
    "#     inv = []\n",
    "#     curr_val = 1000\n",
    "#     buy_inds = np.where(controls > 0)[0]\n",
    "#     sell_inds = np.where(controls < 0)[0]\n",
    "    \n",
    "#     if buy_inds.size == 0 or sell_inds.size == 0:\n",
    "#         return [curr_val] * len(controls)\n",
    "    \n",
    "#     max_limit = max(sell_inds[-1], buy_inds[-1])\n",
    "#     for i in range(buy_inds[0] + 2):\n",
    "#         inv.append(curr_val)\n",
    "        \n",
    "#     for i in range(buy_inds[0], max_limit + 1):\n",
    "#         if controls[i] > 0:\n",
    "#             buy_val = val[i + 1]\n",
    "#         elif controls[i] < 0:\n",
    "#             sell_val = val[i + 1]\n",
    "#             curr_val = curr_val * sell_val / buy_val\n",
    "#         inv.append(curr_val)\n",
    "        \n",
    "#     if max_limit + 1 != len(controls):\n",
    "#         for i in range(len(controls) - max_limit - 1):\n",
    "#             inv.append(curr_val)\n",
    "    \n",
    "#     return inv"
   ]
  },
  {
   "cell_type": "code",
   "execution_count": 29,
   "id": "d4467228",
   "metadata": {
    "scrolled": true
   },
   "outputs": [
    {
     "data": {
      "text/plain": [
       "(array([ 0.,  0.,  0., -2.,  2., -2.,  2.,  0.], dtype=float32),\n",
       " [1000,\n",
       "  1000,\n",
       "  1000,\n",
       "  1000,\n",
       "  1000,\n",
       "  1000,\n",
       "  1000,\n",
       "  1007.3310461956157,\n",
       "  1007.3310461956157,\n",
       "  1007.3310461956157])"
      ]
     },
     "execution_count": 29,
     "metadata": {},
     "output_type": "execute_result"
    }
   ],
   "source": [
    "controls_pred= get_control_vector(future_predictions_1)\n",
    "amount_pred = buy_and_sell_bot(future_predictions_1, controls_pred)\n",
    "controls_pred, amount_pred"
   ]
  },
  {
   "cell_type": "code",
   "execution_count": 30,
   "id": "fd37afe7",
   "metadata": {},
   "outputs": [],
   "source": [
    "# controls_actual= get_control_vector(actual)\n",
    "# amount_actual = buy_and_sell_bot(actual, controls_actual)\n",
    "# controls_actual, amount_actual"
   ]
  },
  {
   "cell_type": "code",
   "execution_count": 31,
   "id": "18049677",
   "metadata": {},
   "outputs": [
    {
     "data": {
      "image/png": "[encoded data removed]",
      "text/plain": [
       "<Figure size 640x480 with 1 Axes>"
      ]
     },
     "metadata": {},
     "output_type": "display_data"
    }
   ],
   "source": [
    "# plt.plot(amount_actual, label=\"actual\")\n",
    "plt.plot(amount_pred, label=\"pred\")\n",
    "plt.legend()\n",
    "plt.title(f\"{ticker} Returns\")\n",
    "plt.show()"
   ]
  },
  {
   "cell_type": "markdown",
   "id": "b11ee162",
   "metadata": {},
   "source": [
    "### Price values along with dates"
   ]
  },
  {
   "cell_type": "code",
   "execution_count": 32,
   "id": "bcbc4f2f",
   "metadata": {},
   "outputs": [],
   "source": [
    "from datetime import datetime, timedelta\n",
    "count=31\n",
    "Date = []\n",
    "for i in range(22,34):\n",
    "    if i == 27:\n",
    "        continue\n",
    "    elif i == 28:\n",
    "        continue\n",
    "    elif i >= 32:\n",
    "        i = i-count\n",
    "        base_date = datetime(2024,2,i)\n",
    "        formatted_date = base_date.strftime('%d-%m-%Y')\n",
    "        Date.append(formatted_date)\n",
    "    else:\n",
    "        base_date = datetime(2024,1,i)\n",
    "        formatted_date = base_date.strftime('%d-%m-%Y')\n",
    "        Date.append(formatted_date)"
   ]
  },
  {
   "cell_type": "code",
   "execution_count": 33,
   "id": "dc78e33b",
   "metadata": {},
   "outputs": [],
   "source": [
    "price_value_dict = {}\n",
    "price_value_dict['Date'] = Date\n",
    "price_value_dict['Closing Price'] = future_predictions_1.tolist()"
   ]
  },
  {
   "cell_type": "code",
   "execution_count": 34,
   "id": "f15efdad",
   "metadata": {
    "scrolled": true
   },
   "outputs": [],
   "source": [
    "# price_value_dict"
   ]
  },
  {
   "cell_type": "code",
   "execution_count": 35,
   "id": "adca4a68",
   "metadata": {},
   "outputs": [],
   "source": [
    "Price_with_dates = pd.DataFrame(price_value_dict)"
   ]
  },
  {
   "cell_type": "code",
   "execution_count": 36,
   "id": "0ec1be7d",
   "metadata": {},
   "outputs": [],
   "source": [
    "Price_with_dates.columns = pd.MultiIndex.from_tuples([(f'{ticker}', 'Date'), (f'{ticker}', 'Closing Price')])"
   ]
  },
  {
   "cell_type": "code",
   "execution_count": 37,
   "id": "e921373e",
   "metadata": {},
   "outputs": [
    {
     "data": {
      "text/html": [
       "<div>\n",
       "<style scoped>\n",
       "    .dataframe tbody tr th:only-of-type {\n",
       "        vertical-align: middle;\n",
       "    }\n",
       "\n",
       "    .dataframe tbody tr th {\n",
       "        vertical-align: top;\n",
       "    }\n",
       "\n",
       "    .dataframe thead tr th {\n",
       "        text-align: left;\n",
       "    }\n",
       "</style>\n",
       "<table border=\"1\" class=\"dataframe\">\n",
       "  <thead>\n",
       "    <tr>\n",
       "      <th></th>\n",
       "      <th colspan=\"2\" halign=\"left\">TATAMOTORS.NS</th>\n",
       "    </tr>\n",
       "    <tr>\n",
       "      <th></th>\n",
       "      <th>Date</th>\n",
       "      <th>Closing Price</th>\n",
       "    </tr>\n",
       "  </thead>\n",
       "  <tbody>\n",
       "    <tr>\n",
       "      <th>0</th>\n",
       "      <td>22-01-2024</td>\n",
       "      <td>774.388916</td>\n",
       "    </tr>\n",
       "    <tr>\n",
       "      <th>1</th>\n",
       "      <td>23-01-2024</td>\n",
       "      <td>784.203247</td>\n",
       "    </tr>\n",
       "    <tr>\n",
       "      <th>2</th>\n",
       "      <td>24-01-2024</td>\n",
       "      <td>792.114929</td>\n",
       "    </tr>\n",
       "    <tr>\n",
       "      <th>3</th>\n",
       "      <td>25-01-2024</td>\n",
       "      <td>798.684998</td>\n",
       "    </tr>\n",
       "    <tr>\n",
       "      <th>4</th>\n",
       "      <td>26-01-2024</td>\n",
       "      <td>799.414062</td>\n",
       "    </tr>\n",
       "    <tr>\n",
       "      <th>5</th>\n",
       "      <td>29-01-2024</td>\n",
       "      <td>795.766541</td>\n",
       "    </tr>\n",
       "    <tr>\n",
       "      <th>6</th>\n",
       "      <td>30-01-2024</td>\n",
       "      <td>801.600342</td>\n",
       "    </tr>\n",
       "    <tr>\n",
       "      <th>7</th>\n",
       "      <td>31-01-2024</td>\n",
       "      <td>789.464722</td>\n",
       "    </tr>\n",
       "    <tr>\n",
       "      <th>8</th>\n",
       "      <td>01-02-2024</td>\n",
       "      <td>801.782410</td>\n",
       "    </tr>\n",
       "    <tr>\n",
       "      <th>9</th>\n",
       "      <td>02-02-2024</td>\n",
       "      <td>805.877258</td>\n",
       "    </tr>\n",
       "  </tbody>\n",
       "</table>\n",
       "</div>"
      ],
      "text/plain": [
       "  TATAMOTORS.NS              \n",
       "           Date Closing Price\n",
       "0    22-01-2024    774.388916\n",
       "1    23-01-2024    784.203247\n",
       "2    24-01-2024    792.114929\n",
       "3    25-01-2024    798.684998\n",
       "4    26-01-2024    799.414062\n",
       "5    29-01-2024    795.766541\n",
       "6    30-01-2024    801.600342\n",
       "7    31-01-2024    789.464722\n",
       "8    01-02-2024    801.782410\n",
       "9    02-02-2024    805.877258"
      ]
     },
     "execution_count": 37,
     "metadata": {},
     "output_type": "execute_result"
    }
   ],
   "source": [
    "Price_with_dates"
   ]
  },
  {
   "cell_type": "code",
   "execution_count": null,
   "id": "5b8bc85c",
   "metadata": {},
   "outputs": [],
   "source": []
  },
  {
   "cell_type": "code",
   "execution_count": 41,
   "id": "572a0939",
   "metadata": {},
   "outputs": [],
   "source": [
    "ticker = 'TATAMOTORS.NS'\n",
    "start = \"2024-01-22\"\n",
    "end = \"2024-01-31\""
   ]
  },
  {
   "cell_type": "code",
   "execution_count": 42,
   "id": "1d7539a4",
   "metadata": {},
   "outputs": [
    {
     "name": "stdout",
     "output_type": "stream",
     "text": [
      "[*********************100%***********************]  1 of 1 completed\n"
     ]
    },
    {
     "data": {
      "text/html": [
       "<div>\n",
       "<style scoped>\n",
       "    .dataframe tbody tr th:only-of-type {\n",
       "        vertical-align: middle;\n",
       "    }\n",
       "\n",
       "    .dataframe tbody tr th {\n",
       "        vertical-align: top;\n",
       "    }\n",
       "\n",
       "    .dataframe thead th {\n",
       "        text-align: right;\n",
       "    }\n",
       "</style>\n",
       "<table border=\"1\" class=\"dataframe\">\n",
       "  <thead>\n",
       "    <tr style=\"text-align: right;\">\n",
       "      <th></th>\n",
       "      <th>Open</th>\n",
       "      <th>High</th>\n",
       "      <th>Low</th>\n",
       "      <th>Close</th>\n",
       "      <th>Adj Close</th>\n",
       "      <th>Volume</th>\n",
       "    </tr>\n",
       "    <tr>\n",
       "      <th>Date</th>\n",
       "      <th></th>\n",
       "      <th></th>\n",
       "      <th></th>\n",
       "      <th></th>\n",
       "      <th></th>\n",
       "      <th></th>\n",
       "    </tr>\n",
       "  </thead>\n",
       "  <tbody>\n",
       "    <tr>\n",
       "      <th>2024-01-22</th>\n",
       "      <td>823.549988</td>\n",
       "      <td>823.549988</td>\n",
       "      <td>823.549988</td>\n",
       "      <td>823.549988</td>\n",
       "      <td>823.549988</td>\n",
       "      <td>0</td>\n",
       "    </tr>\n",
       "    <tr>\n",
       "      <th>2024-01-23</th>\n",
       "      <td>824.900024</td>\n",
       "      <td>827.599976</td>\n",
       "      <td>796.299988</td>\n",
       "      <td>800.450012</td>\n",
       "      <td>800.450012</td>\n",
       "      <td>9436209</td>\n",
       "    </tr>\n",
       "    <tr>\n",
       "      <th>2024-01-24</th>\n",
       "      <td>802.400024</td>\n",
       "      <td>812.000000</td>\n",
       "      <td>788.500000</td>\n",
       "      <td>810.900024</td>\n",
       "      <td>810.900024</td>\n",
       "      <td>7217542</td>\n",
       "    </tr>\n",
       "    <tr>\n",
       "      <th>2024-01-25</th>\n",
       "      <td>814.000000</td>\n",
       "      <td>814.150024</td>\n",
       "      <td>800.299988</td>\n",
       "      <td>811.849976</td>\n",
       "      <td>811.849976</td>\n",
       "      <td>10109720</td>\n",
       "    </tr>\n",
       "    <tr>\n",
       "      <th>2024-01-29</th>\n",
       "      <td>811.849976</td>\n",
       "      <td>843.799988</td>\n",
       "      <td>811.049988</td>\n",
       "      <td>841.000000</td>\n",
       "      <td>841.000000</td>\n",
       "      <td>12823686</td>\n",
       "    </tr>\n",
       "    <tr>\n",
       "      <th>2024-01-30</th>\n",
       "      <td>843.000000</td>\n",
       "      <td>885.950012</td>\n",
       "      <td>842.849976</td>\n",
       "      <td>858.849976</td>\n",
       "      <td>858.849976</td>\n",
       "      <td>19733610</td>\n",
       "    </tr>\n",
       "  </tbody>\n",
       "</table>\n",
       "</div>"
      ],
      "text/plain": [
       "                  Open        High         Low       Close   Adj Close  \\\n",
       "Date                                                                     \n",
       "2024-01-22  823.549988  823.549988  823.549988  823.549988  823.549988   \n",
       "2024-01-23  824.900024  827.599976  796.299988  800.450012  800.450012   \n",
       "2024-01-24  802.400024  812.000000  788.500000  810.900024  810.900024   \n",
       "2024-01-25  814.000000  814.150024  800.299988  811.849976  811.849976   \n",
       "2024-01-29  811.849976  843.799988  811.049988  841.000000  841.000000   \n",
       "2024-01-30  843.000000  885.950012  842.849976  858.849976  858.849976   \n",
       "\n",
       "              Volume  \n",
       "Date                  \n",
       "2024-01-22         0  \n",
       "2024-01-23   9436209  \n",
       "2024-01-24   7217542  \n",
       "2024-01-25  10109720  \n",
       "2024-01-29  12823686  \n",
       "2024-01-30  19733610  "
      ]
     },
     "execution_count": 42,
     "metadata": {},
     "output_type": "execute_result"
    }
   ],
   "source": [
    "df = yf.download(ticker, start=start, end=end)\n",
    "df"
   ]
  },
  {
   "cell_type": "code",
   "execution_count": 43,
   "id": "b54eae3f",
   "metadata": {},
   "outputs": [],
   "source": [
    "actual_data = df['Close'].values"
   ]
  },
  {
   "cell_type": "code",
   "execution_count": 44,
   "id": "b45f1da7",
   "metadata": {},
   "outputs": [],
   "source": [
    "day_actual = range(1,7)\n",
    "day_predicted = range(1,11)"
   ]
  },
  {
   "cell_type": "code",
   "execution_count": 45,
   "id": "364b096f",
   "metadata": {},
   "outputs": [
    {
     "data": {
      "image/png": "[encoded data removed]",
      "text/plain": [
       "<Figure size 640x480 with 1 Axes>"
      ]
     },
     "metadata": {},
     "output_type": "display_data"
    }
   ],
   "source": [
    "plt.plot(day_actual, actual_data, color='red', label='actual')\n",
    "plt.plot(day_predicted, future_predictions_1, color='blue', label='predicted')\n",
    "plt.legend()\n",
    "plt.show()"
   ]
  },
  {
   "cell_type": "code",
   "execution_count": null,
   "id": "76352d28",
   "metadata": {},
   "outputs": [],
   "source": []
  }
 ],
 "metadata": {
  "kernelspec": {
   "display_name": "Python 3 (ipykernel)",
   "language": "python",
   "name": "python3"
  },
  "language_info": {
   "codemirror_mode": {
    "name": "ipython",
    "version": 3
   },
   "file_extension": ".py",
   "mimetype": "text/x-python",
   "name": "python",
   "nbconvert_exporter": "python",
   "pygments_lexer": "ipython3",
   "version": "3.11.4"
  }
 },
 "nbformat": 4,
 "nbformat_minor": 5
}
