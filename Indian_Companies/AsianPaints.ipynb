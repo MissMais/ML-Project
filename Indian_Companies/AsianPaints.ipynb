{
 "cells": [
  {
   "cell_type": "code",
   "execution_count": 3,
   "id": "3e3175db",
   "metadata": {},
   "outputs": [],
   "source": [
    "import numpy as np\n",
    "import pandas as pd\n",
    "import yfinance as yf\n",
    "import matplotlib.pyplot as plt\n",
    "from sklearn.preprocessing import MinMaxScaler\n",
    "from keras.models import Sequential\n",
    "from keras.layers import LSTM, Dense\n",
    "from sklearn.metrics import mean_squared_error, mean_absolute_error, accuracy_score\n",
    "from math import sqrt"
   ]
  },
  {
   "cell_type": "code",
   "execution_count": 4,
   "id": "beee8595",
   "metadata": {},
   "outputs": [],
   "source": [
    "ticker = \"ASIANPAINT.NS\"\n",
    "start = \"2017-04-01\"\n",
    "end = \"2024-01-20\""
   ]
  },
  {
   "cell_type": "code",
   "execution_count": 5,
   "id": "c4d883e3",
   "metadata": {},
   "outputs": [
    {
     "name": "stdout",
     "output_type": "stream",
     "text": [
      "[*********************100%***********************]  1 of 1 completed\n"
     ]
    },
    {
     "data": {
      "text/html": [
       "<div>\n",
       "<style scoped>\n",
       "    .dataframe tbody tr th:only-of-type {\n",
       "        vertical-align: middle;\n",
       "    }\n",
       "\n",
       "    .dataframe tbody tr th {\n",
       "        vertical-align: top;\n",
       "    }\n",
       "\n",
       "    .dataframe thead th {\n",
       "        text-align: right;\n",
       "    }\n",
       "</style>\n",
       "<table border=\"1\" class=\"dataframe\">\n",
       "  <thead>\n",
       "    <tr style=\"text-align: right;\">\n",
       "      <th></th>\n",
       "      <th>Open</th>\n",
       "      <th>High</th>\n",
       "      <th>Low</th>\n",
       "      <th>Close</th>\n",
       "      <th>Adj Close</th>\n",
       "      <th>Volume</th>\n",
       "    </tr>\n",
       "    <tr>\n",
       "      <th>Date</th>\n",
       "      <th></th>\n",
       "      <th></th>\n",
       "      <th></th>\n",
       "      <th></th>\n",
       "      <th></th>\n",
       "      <th></th>\n",
       "    </tr>\n",
       "  </thead>\n",
       "  <tbody>\n",
       "    <tr>\n",
       "      <th>2024-01-08</th>\n",
       "      <td>3355.000000</td>\n",
       "      <td>3376.500000</td>\n",
       "      <td>3294.850098</td>\n",
       "      <td>3298.399902</td>\n",
       "      <td>3298.399902</td>\n",
       "      <td>545884</td>\n",
       "    </tr>\n",
       "    <tr>\n",
       "      <th>2024-01-09</th>\n",
       "      <td>3310.000000</td>\n",
       "      <td>3315.000000</td>\n",
       "      <td>3262.250000</td>\n",
       "      <td>3267.500000</td>\n",
       "      <td>3267.500000</td>\n",
       "      <td>670704</td>\n",
       "    </tr>\n",
       "    <tr>\n",
       "      <th>2024-01-10</th>\n",
       "      <td>3292.000000</td>\n",
       "      <td>3293.000000</td>\n",
       "      <td>3258.199951</td>\n",
       "      <td>3286.850098</td>\n",
       "      <td>3286.850098</td>\n",
       "      <td>691087</td>\n",
       "    </tr>\n",
       "    <tr>\n",
       "      <th>2024-01-11</th>\n",
       "      <td>3286.850098</td>\n",
       "      <td>3309.199951</td>\n",
       "      <td>3270.699951</td>\n",
       "      <td>3288.199951</td>\n",
       "      <td>3288.199951</td>\n",
       "      <td>537469</td>\n",
       "    </tr>\n",
       "    <tr>\n",
       "      <th>2024-01-12</th>\n",
       "      <td>3294.949951</td>\n",
       "      <td>3294.949951</td>\n",
       "      <td>3244.000000</td>\n",
       "      <td>3277.800049</td>\n",
       "      <td>3277.800049</td>\n",
       "      <td>673004</td>\n",
       "    </tr>\n",
       "    <tr>\n",
       "      <th>2024-01-15</th>\n",
       "      <td>3282.199951</td>\n",
       "      <td>3287.199951</td>\n",
       "      <td>3258.600098</td>\n",
       "      <td>3273.899902</td>\n",
       "      <td>3273.899902</td>\n",
       "      <td>728116</td>\n",
       "    </tr>\n",
       "    <tr>\n",
       "      <th>2024-01-16</th>\n",
       "      <td>3274.949951</td>\n",
       "      <td>3320.000000</td>\n",
       "      <td>3273.899902</td>\n",
       "      <td>3296.899902</td>\n",
       "      <td>3296.899902</td>\n",
       "      <td>748215</td>\n",
       "    </tr>\n",
       "    <tr>\n",
       "      <th>2024-01-17</th>\n",
       "      <td>3294.100098</td>\n",
       "      <td>3304.350098</td>\n",
       "      <td>3193.050049</td>\n",
       "      <td>3242.300049</td>\n",
       "      <td>3242.300049</td>\n",
       "      <td>2239241</td>\n",
       "    </tr>\n",
       "    <tr>\n",
       "      <th>2024-01-18</th>\n",
       "      <td>3257.949951</td>\n",
       "      <td>3257.949951</td>\n",
       "      <td>3048.600098</td>\n",
       "      <td>3163.850098</td>\n",
       "      <td>3163.850098</td>\n",
       "      <td>1979174</td>\n",
       "    </tr>\n",
       "    <tr>\n",
       "      <th>2024-01-19</th>\n",
       "      <td>3177.800049</td>\n",
       "      <td>3201.550049</td>\n",
       "      <td>3148.600098</td>\n",
       "      <td>3165.850098</td>\n",
       "      <td>3165.850098</td>\n",
       "      <td>936201</td>\n",
       "    </tr>\n",
       "  </tbody>\n",
       "</table>\n",
       "</div>"
      ],
      "text/plain": [
       "                   Open         High          Low        Close    Adj Close  \\\n",
       "Date                                                                          \n",
       "2024-01-08  3355.000000  3376.500000  3294.850098  3298.399902  3298.399902   \n",
       "2024-01-09  3310.000000  3315.000000  3262.250000  3267.500000  3267.500000   \n",
       "2024-01-10  3292.000000  3293.000000  3258.199951  3286.850098  3286.850098   \n",
       "2024-01-11  3286.850098  3309.199951  3270.699951  3288.199951  3288.199951   \n",
       "2024-01-12  3294.949951  3294.949951  3244.000000  3277.800049  3277.800049   \n",
       "2024-01-15  3282.199951  3287.199951  3258.600098  3273.899902  3273.899902   \n",
       "2024-01-16  3274.949951  3320.000000  3273.899902  3296.899902  3296.899902   \n",
       "2024-01-17  3294.100098  3304.350098  3193.050049  3242.300049  3242.300049   \n",
       "2024-01-18  3257.949951  3257.949951  3048.600098  3163.850098  3163.850098   \n",
       "2024-01-19  3177.800049  3201.550049  3148.600098  3165.850098  3165.850098   \n",
       "\n",
       "             Volume  \n",
       "Date                 \n",
       "2024-01-08   545884  \n",
       "2024-01-09   670704  \n",
       "2024-01-10   691087  \n",
       "2024-01-11   537469  \n",
       "2024-01-12   673004  \n",
       "2024-01-15   728116  \n",
       "2024-01-16   748215  \n",
       "2024-01-17  2239241  \n",
       "2024-01-18  1979174  \n",
       "2024-01-19   936201  "
      ]
     },
     "execution_count": 5,
     "metadata": {},
     "output_type": "execute_result"
    }
   ],
   "source": [
    "df = yf.download(ticker, start=start, end=end)\n",
    "df.tail(10)"
   ]
  },
  {
   "cell_type": "code",
   "execution_count": 6,
   "id": "4fd894f3",
   "metadata": {},
   "outputs": [
    {
     "name": "stdout",
     "output_type": "stream",
     "text": [
      "(1682,)\n"
     ]
    }
   ],
   "source": [
    "ClosingPrice = df['Close']\n",
    "\n",
    "# print(data)\n",
    "print(ClosingPrice.values.shape)\n",
    "\n",
    "scaler = MinMaxScaler()\n",
    "scaled_data = scaler.fit_transform(ClosingPrice.values.reshape(-1, 1))\n",
    "# print(scaled_data)"
   ]
  },
  {
   "cell_type": "code",
   "execution_count": 7,
   "id": "9827d44b",
   "metadata": {},
   "outputs": [
    {
     "data": {
      "image/png": "[encoded data removed]",
      "text/plain": [
       "<Figure size 640x480 with 1 Axes>"
      ]
     },
     "metadata": {},
     "output_type": "display_data"
    }
   ],
   "source": [
    "plt.plot(scaled_data)\n",
    "plt.title(f'{ticker} Closing Price')\n",
    "plt.show()"
   ]
  },
  {
   "cell_type": "code",
   "execution_count": 8,
   "id": "d0ab277e",
   "metadata": {},
   "outputs": [
    {
     "data": {
      "text/plain": [
       "(1345, 337)"
      ]
     },
     "execution_count": 8,
     "metadata": {},
     "output_type": "execute_result"
    }
   ],
   "source": [
    "training_data_len = int(len(scaled_data) * 0.8)\n",
    "\n",
    "training_data = scaled_data[0:training_data_len, :]\n",
    "testing_data = scaled_data[training_data_len:, :]\n",
    "\n",
    "len(training_data), len(testing_data)"
   ]
  },
  {
   "cell_type": "code",
   "execution_count": 9,
   "id": "a5a9517b",
   "metadata": {},
   "outputs": [],
   "source": [
    "past_values = 1\n",
    "\n",
    "def create_training_data(data, past_values):\n",
    "    if len(data) < past_values:\n",
    "        return np.array([]), np.array([])\n",
    "    X_train = []\n",
    "    y_train = []\n",
    "    for i in range(past_values, len(data)):\n",
    "        X_train.append(data[i-past_values:i, 0])\n",
    "        y_train.append(data[i, 0])\n",
    "    return np.array(X_train), np.array(y_train)\n",
    "\n",
    "X_train, y_train = create_training_data(training_data, past_values)\n",
    "X_train = np.reshape(X_train, (X_train.shape[0], X_train.shape[1], 1))\n",
    "\n",
    "X_test, y_test = create_training_data(testing_data, past_values)\n",
    "X_test = np.reshape(X_test, (X_test.shape[0], X_test.shape[1], 1))"
   ]
  },
  {
   "cell_type": "code",
   "execution_count": 10,
   "id": "c2e46176",
   "metadata": {},
   "outputs": [
    {
     "data": {
      "text/plain": [
       "(1680, 1682)"
      ]
     },
     "execution_count": 10,
     "metadata": {},
     "output_type": "execute_result"
    }
   ],
   "source": [
    "len(X_train) + len(X_test), len(scaled_data)"
   ]
  },
  {
   "cell_type": "code",
   "execution_count": 11,
   "id": "d26d2fdb",
   "metadata": {},
   "outputs": [
    {
     "data": {
      "text/plain": [
       "(1344, 1, 1)"
      ]
     },
     "execution_count": 11,
     "metadata": {},
     "output_type": "execute_result"
    }
   ],
   "source": [
    "X_train.shape"
   ]
  },
  {
   "cell_type": "code",
   "execution_count": 12,
   "id": "70151e02",
   "metadata": {},
   "outputs": [
    {
     "name": "stdout",
     "output_type": "stream",
     "text": [
      "Epoch 1/200\n",
      "7/7 [==============================] - 9s 15ms/step - loss: 0.2006\n",
      "Epoch 2/200\n",
      "7/7 [==============================] - 0s 10ms/step - loss: 0.1509\n",
      "Epoch 3/200\n",
      "7/7 [==============================] - 0s 11ms/step - loss: 0.1087\n",
      "Epoch 4/200\n",
      "7/7 [==============================] - 0s 11ms/step - loss: 0.0832\n",
      "Epoch 5/200\n",
      "7/7 [==============================] - 0s 12ms/step - loss: 0.0786\n",
      "Epoch 6/200\n",
      "7/7 [==============================] - 0s 10ms/step - loss: 0.0705\n",
      "Epoch 7/200\n",
      "7/7 [==============================] - 0s 10ms/step - loss: 0.0575\n",
      "Epoch 8/200\n",
      "7/7 [==============================] - 0s 13ms/step - loss: 0.0418\n",
      "Epoch 9/200\n",
      "7/7 [==============================] - 0s 11ms/step - loss: 0.0225\n",
      "Epoch 10/200\n",
      "7/7 [==============================] - 0s 10ms/step - loss: 0.0062\n",
      "Epoch 11/200\n",
      "7/7 [==============================] - 0s 11ms/step - loss: 0.0012\n",
      "Epoch 12/200\n",
      "7/7 [==============================] - 0s 11ms/step - loss: 0.0028\n",
      "Epoch 13/200\n",
      "7/7 [==============================] - 0s 10ms/step - loss: 0.0012\n",
      "Epoch 14/200\n",
      "7/7 [==============================] - 0s 13ms/step - loss: 7.1165e-04\n",
      "Epoch 15/200\n",
      "7/7 [==============================] - 0s 11ms/step - loss: 8.7235e-04\n",
      "Epoch 16/200\n",
      "7/7 [==============================] - 0s 11ms/step - loss: 6.9421e-04\n",
      "Epoch 17/200\n",
      "7/7 [==============================] - 0s 11ms/step - loss: 6.1079e-04\n",
      "Epoch 18/200\n",
      "7/7 [==============================] - 0s 12ms/step - loss: 6.1475e-04\n",
      "Epoch 19/200\n",
      "7/7 [==============================] - 0s 12ms/step - loss: 5.7030e-04\n",
      "Epoch 20/200\n",
      "7/7 [==============================] - 0s 15ms/step - loss: 5.4957e-04\n",
      "Epoch 21/200\n",
      "7/7 [==============================] - 0s 10ms/step - loss: 5.3256e-04\n",
      "Epoch 22/200\n",
      "7/7 [==============================] - 0s 11ms/step - loss: 5.1492e-04\n",
      "Epoch 23/200\n",
      "7/7 [==============================] - 0s 12ms/step - loss: 4.9920e-04\n",
      "Epoch 24/200\n",
      "7/7 [==============================] - 0s 10ms/step - loss: 4.8564e-04\n",
      "Epoch 25/200\n",
      "7/7 [==============================] - 0s 10ms/step - loss: 4.7106e-04\n",
      "Epoch 26/200\n",
      "7/7 [==============================] - 0s 12ms/step - loss: 4.5793e-04\n",
      "Epoch 27/200\n",
      "7/7 [==============================] - 0s 10ms/step - loss: 4.4383e-04\n",
      "Epoch 28/200\n",
      "7/7 [==============================] - 0s 10ms/step - loss: 4.3560e-04\n",
      "Epoch 29/200\n",
      "7/7 [==============================] - 0s 11ms/step - loss: 4.1849e-04\n",
      "Epoch 30/200\n",
      "7/7 [==============================] - 0s 12ms/step - loss: 4.1093e-04\n",
      "Epoch 31/200\n",
      "7/7 [==============================] - 0s 10ms/step - loss: 3.9741e-04\n",
      "Epoch 32/200\n",
      "7/7 [==============================] - 0s 10ms/step - loss: 3.8463e-04\n",
      "Epoch 33/200\n",
      "7/7 [==============================] - 0s 9ms/step - loss: 3.7463e-04\n",
      "Epoch 34/200\n",
      "7/7 [==============================] - 0s 10ms/step - loss: 3.6360e-04\n",
      "Epoch 35/200\n",
      "7/7 [==============================] - 0s 9ms/step - loss: 3.5643e-04\n",
      "Epoch 36/200\n",
      "7/7 [==============================] - 0s 10ms/step - loss: 3.4642e-04\n",
      "Epoch 37/200\n",
      "7/7 [==============================] - 0s 10ms/step - loss: 3.3727e-04\n",
      "Epoch 38/200\n",
      "7/7 [==============================] - 0s 11ms/step - loss: 3.2633e-04\n",
      "Epoch 39/200\n",
      "7/7 [==============================] - 0s 10ms/step - loss: 3.1967e-04\n",
      "Epoch 40/200\n",
      "7/7 [==============================] - 0s 10ms/step - loss: 3.1102e-04\n",
      "Epoch 41/200\n",
      "7/7 [==============================] - 0s 10ms/step - loss: 3.0503e-04\n",
      "Epoch 42/200\n",
      "7/7 [==============================] - 0s 10ms/step - loss: 2.9694e-04\n",
      "Epoch 43/200\n",
      "7/7 [==============================] - 0s 9ms/step - loss: 2.8974e-04\n",
      "Epoch 44/200\n",
      "7/7 [==============================] - 0s 11ms/step - loss: 2.8381e-04\n",
      "Epoch 45/200\n",
      "7/7 [==============================] - 0s 11ms/step - loss: 2.7926e-04\n",
      "Epoch 46/200\n",
      "7/7 [==============================] - 0s 12ms/step - loss: 2.7578e-04\n",
      "Epoch 47/200\n",
      "7/7 [==============================] - 0s 10ms/step - loss: 2.6679e-04\n",
      "Epoch 48/200\n",
      "7/7 [==============================] - 0s 10ms/step - loss: 2.6560e-04\n",
      "Epoch 49/200\n",
      "7/7 [==============================] - 0s 9ms/step - loss: 2.5828e-04\n",
      "Epoch 50/200\n",
      "7/7 [==============================] - 0s 10ms/step - loss: 2.5408e-04\n",
      "Epoch 51/200\n",
      "7/7 [==============================] - 0s 10ms/step - loss: 2.5088e-04\n",
      "Epoch 52/200\n",
      "7/7 [==============================] - 0s 10ms/step - loss: 2.4517e-04\n",
      "Epoch 53/200\n",
      "7/7 [==============================] - 0s 12ms/step - loss: 2.4387e-04\n",
      "Epoch 54/200\n",
      "7/7 [==============================] - 0s 13ms/step - loss: 2.4068e-04\n",
      "Epoch 55/200\n",
      "7/7 [==============================] - 0s 11ms/step - loss: 2.3605e-04\n",
      "Epoch 56/200\n",
      "7/7 [==============================] - 0s 14ms/step - loss: 2.3165e-04\n",
      "Epoch 57/200\n",
      "7/7 [==============================] - 0s 10ms/step - loss: 2.3288e-04\n",
      "Epoch 58/200\n",
      "7/7 [==============================] - 0s 9ms/step - loss: 2.2724e-04\n",
      "Epoch 59/200\n",
      "7/7 [==============================] - 0s 10ms/step - loss: 2.2922e-04\n",
      "Epoch 60/200\n",
      "7/7 [==============================] - 0s 10ms/step - loss: 2.3216e-04\n",
      "Epoch 61/200\n",
      "7/7 [==============================] - 0s 10ms/step - loss: 2.2730e-04\n",
      "Epoch 62/200\n",
      "7/7 [==============================] - 0s 9ms/step - loss: 2.2669e-04\n",
      "Epoch 63/200\n",
      "7/7 [==============================] - 0s 9ms/step - loss: 2.1884e-04\n",
      "Epoch 64/200\n",
      "7/7 [==============================] - 0s 11ms/step - loss: 2.1557e-04\n",
      "Epoch 65/200\n",
      "7/7 [==============================] - 0s 10ms/step - loss: 2.1439e-04\n",
      "Epoch 66/200\n",
      "7/7 [==============================] - 0s 10ms/step - loss: 2.1417e-04\n",
      "Epoch 67/200\n",
      "7/7 [==============================] - 0s 9ms/step - loss: 2.1110e-04\n",
      "Epoch 68/200\n",
      "7/7 [==============================] - 0s 10ms/step - loss: 2.1198e-04\n",
      "Epoch 69/200\n",
      "7/7 [==============================] - 0s 10ms/step - loss: 2.1333e-04\n",
      "Epoch 70/200\n",
      "7/7 [==============================] - 0s 10ms/step - loss: 2.1632e-04\n",
      "Epoch 71/200\n",
      "7/7 [==============================] - 0s 10ms/step - loss: 2.1165e-04\n",
      "Epoch 72/200\n",
      "7/7 [==============================] - 0s 10ms/step - loss: 2.0724e-04\n",
      "Epoch 73/200\n",
      "7/7 [==============================] - 0s 9ms/step - loss: 2.0769e-04\n",
      "Epoch 74/200\n",
      "7/7 [==============================] - 0s 10ms/step - loss: 2.0785e-04\n",
      "Epoch 75/200\n",
      "7/7 [==============================] - 0s 10ms/step - loss: 2.0524e-04\n",
      "Epoch 76/200\n",
      "7/7 [==============================] - 0s 9ms/step - loss: 2.0535e-04\n",
      "Epoch 77/200\n",
      "7/7 [==============================] - 0s 10ms/step - loss: 2.0453e-04\n",
      "Epoch 78/200\n",
      "7/7 [==============================] - 0s 10ms/step - loss: 2.0602e-04\n",
      "Epoch 79/200\n",
      "7/7 [==============================] - 0s 10ms/step - loss: 2.0422e-04\n",
      "Epoch 80/200\n",
      "7/7 [==============================] - 0s 10ms/step - loss: 2.0419e-04\n",
      "Epoch 81/200\n",
      "7/7 [==============================] - 0s 10ms/step - loss: 2.0188e-04\n",
      "Epoch 82/200\n",
      "7/7 [==============================] - 0s 9ms/step - loss: 2.0721e-04\n",
      "Epoch 83/200\n",
      "7/7 [==============================] - 0s 10ms/step - loss: 2.0747e-04\n",
      "Epoch 84/200\n",
      "7/7 [==============================] - 0s 12ms/step - loss: 2.0562e-04\n",
      "Epoch 85/200\n",
      "7/7 [==============================] - 0s 10ms/step - loss: 2.1000e-04\n",
      "Epoch 86/200\n",
      "7/7 [==============================] - 0s 10ms/step - loss: 2.0273e-04\n",
      "Epoch 87/200\n",
      "7/7 [==============================] - 0s 11ms/step - loss: 2.0591e-04\n",
      "Epoch 88/200\n",
      "7/7 [==============================] - 0s 10ms/step - loss: 2.0273e-04\n",
      "Epoch 89/200\n",
      "7/7 [==============================] - 0s 10ms/step - loss: 2.0149e-04\n",
      "Epoch 90/200\n",
      "7/7 [==============================] - 0s 9ms/step - loss: 2.0378e-04\n",
      "Epoch 91/200\n",
      "7/7 [==============================] - 0s 10ms/step - loss: 2.0305e-04\n",
      "Epoch 92/200\n",
      "7/7 [==============================] - 0s 10ms/step - loss: 2.0365e-04\n",
      "Epoch 93/200\n",
      "7/7 [==============================] - 0s 10ms/step - loss: 2.0874e-04\n",
      "Epoch 94/200\n",
      "7/7 [==============================] - 0s 11ms/step - loss: 2.0245e-04\n",
      "Epoch 95/200\n",
      "7/7 [==============================] - 0s 10ms/step - loss: 2.0079e-04\n",
      "Epoch 96/200\n",
      "7/7 [==============================] - 0s 11ms/step - loss: 2.0074e-04\n",
      "Epoch 97/200\n",
      "7/7 [==============================] - 0s 10ms/step - loss: 2.0162e-04\n",
      "Epoch 98/200\n",
      "7/7 [==============================] - 0s 9ms/step - loss: 2.0380e-04\n",
      "Epoch 99/200\n"
     ]
    },
    {
     "name": "stdout",
     "output_type": "stream",
     "text": [
      "7/7 [==============================] - 0s 11ms/step - loss: 2.0540e-04\n",
      "Epoch 100/200\n",
      "7/7 [==============================] - 0s 9ms/step - loss: 2.0523e-04\n",
      "Epoch 101/200\n",
      "7/7 [==============================] - 0s 10ms/step - loss: 2.0092e-04\n",
      "Epoch 102/200\n",
      "7/7 [==============================] - 0s 8ms/step - loss: 2.0197e-04\n",
      "Epoch 103/200\n",
      "7/7 [==============================] - 0s 9ms/step - loss: 2.0299e-04\n",
      "Epoch 104/200\n",
      "7/7 [==============================] - 0s 8ms/step - loss: 2.0370e-04\n",
      "Epoch 105/200\n",
      "7/7 [==============================] - 0s 9ms/step - loss: 2.0780e-04\n",
      "Epoch 106/200\n",
      "7/7 [==============================] - 0s 9ms/step - loss: 2.0905e-04\n",
      "Epoch 107/200\n",
      "7/7 [==============================] - 0s 8ms/step - loss: 1.9998e-04\n",
      "Epoch 108/200\n",
      "7/7 [==============================] - 0s 9ms/step - loss: 2.0125e-04\n",
      "Epoch 109/200\n",
      "7/7 [==============================] - 0s 9ms/step - loss: 2.0161e-04\n",
      "Epoch 110/200\n",
      "7/7 [==============================] - 0s 9ms/step - loss: 2.0370e-04\n",
      "Epoch 111/200\n",
      "7/7 [==============================] - 0s 9ms/step - loss: 2.0457e-04\n",
      "Epoch 112/200\n",
      "7/7 [==============================] - 0s 10ms/step - loss: 2.0163e-04\n",
      "Epoch 113/200\n",
      "7/7 [==============================] - 0s 10ms/step - loss: 2.0158e-04\n",
      "Epoch 114/200\n",
      "7/7 [==============================] - 0s 9ms/step - loss: 2.0039e-04\n",
      "Epoch 115/200\n",
      "7/7 [==============================] - 0s 10ms/step - loss: 2.0453e-04\n",
      "Epoch 116/200\n",
      "7/7 [==============================] - 0s 10ms/step - loss: 1.9992e-04\n",
      "Epoch 117/200\n",
      "7/7 [==============================] - 0s 11ms/step - loss: 2.0243e-04\n",
      "Epoch 118/200\n",
      "7/7 [==============================] - 0s 10ms/step - loss: 2.0175e-04\n",
      "Epoch 119/200\n",
      "7/7 [==============================] - 0s 9ms/step - loss: 2.0086e-04\n",
      "Epoch 120/200\n",
      "7/7 [==============================] - 0s 9ms/step - loss: 2.0287e-04\n",
      "Epoch 121/200\n",
      "7/7 [==============================] - 0s 9ms/step - loss: 2.0110e-04\n",
      "Epoch 122/200\n",
      "7/7 [==============================] - 0s 10ms/step - loss: 2.0560e-04\n",
      "Epoch 123/200\n",
      "7/7 [==============================] - 0s 14ms/step - loss: 2.0244e-04\n",
      "Epoch 124/200\n",
      "7/7 [==============================] - 0s 9ms/step - loss: 2.0095e-04\n",
      "Epoch 125/200\n",
      "7/7 [==============================] - 0s 11ms/step - loss: 2.0427e-04\n",
      "Epoch 126/200\n",
      "7/7 [==============================] - 0s 10ms/step - loss: 2.0680e-04\n",
      "Epoch 127/200\n",
      "7/7 [==============================] - 0s 10ms/step - loss: 2.0121e-04\n",
      "Epoch 128/200\n",
      "7/7 [==============================] - 0s 9ms/step - loss: 2.0151e-04\n",
      "Epoch 129/200\n",
      "7/7 [==============================] - 0s 10ms/step - loss: 2.0282e-04\n",
      "Epoch 130/200\n",
      "7/7 [==============================] - 0s 9ms/step - loss: 2.0425e-04\n",
      "Epoch 131/200\n",
      "7/7 [==============================] - 0s 9ms/step - loss: 2.0106e-04\n",
      "Epoch 132/200\n",
      "7/7 [==============================] - 0s 10ms/step - loss: 2.0192e-04\n",
      "Epoch 133/200\n",
      "7/7 [==============================] - 0s 9ms/step - loss: 2.0211e-04\n",
      "Epoch 134/200\n",
      "7/7 [==============================] - 0s 11ms/step - loss: 2.0939e-04\n",
      "Epoch 135/200\n",
      "7/7 [==============================] - 0s 10ms/step - loss: 2.0566e-04\n",
      "Epoch 136/200\n",
      "7/7 [==============================] - 0s 11ms/step - loss: 2.0911e-04\n",
      "Epoch 137/200\n",
      "7/7 [==============================] - 0s 10ms/step - loss: 2.0827e-04\n",
      "Epoch 138/200\n",
      "7/7 [==============================] - 0s 11ms/step - loss: 2.0083e-04\n",
      "Epoch 139/200\n",
      "7/7 [==============================] - 0s 10ms/step - loss: 2.0132e-04\n",
      "Epoch 140/200\n",
      "7/7 [==============================] - 0s 11ms/step - loss: 2.0441e-04\n",
      "Epoch 141/200\n",
      "7/7 [==============================] - 0s 10ms/step - loss: 2.0133e-04\n",
      "Epoch 142/200\n",
      "7/7 [==============================] - 0s 10ms/step - loss: 2.0238e-04\n",
      "Epoch 143/200\n",
      "7/7 [==============================] - 0s 10ms/step - loss: 2.0194e-04\n",
      "Epoch 144/200\n",
      "7/7 [==============================] - 0s 10ms/step - loss: 2.0124e-04\n",
      "Epoch 145/200\n",
      "7/7 [==============================] - 0s 10ms/step - loss: 2.0592e-04\n",
      "Epoch 146/200\n",
      "7/7 [==============================] - 0s 11ms/step - loss: 2.0700e-04\n",
      "Epoch 147/200\n",
      "7/7 [==============================] - 0s 10ms/step - loss: 2.0428e-04\n",
      "Epoch 148/200\n",
      "7/7 [==============================] - 0s 11ms/step - loss: 2.0747e-04\n",
      "Epoch 149/200\n",
      "7/7 [==============================] - 0s 10ms/step - loss: 2.0788e-04\n",
      "Epoch 150/200\n",
      "7/7 [==============================] - 0s 11ms/step - loss: 2.0162e-04\n",
      "Epoch 151/200\n",
      "7/7 [==============================] - 0s 10ms/step - loss: 2.0153e-04\n",
      "Epoch 152/200\n",
      "7/7 [==============================] - 0s 11ms/step - loss: 2.0100e-04\n",
      "Epoch 153/200\n",
      "7/7 [==============================] - 0s 10ms/step - loss: 2.0047e-04\n",
      "Epoch 154/200\n",
      "7/7 [==============================] - 0s 12ms/step - loss: 2.0110e-04\n",
      "Epoch 155/200\n",
      "7/7 [==============================] - 0s 11ms/step - loss: 2.0146e-04\n",
      "Epoch 156/200\n",
      "7/7 [==============================] - 0s 11ms/step - loss: 2.1907e-04\n",
      "Epoch 157/200\n",
      "7/7 [==============================] - 0s 16ms/step - loss: 2.1164e-04\n",
      "Epoch 158/200\n",
      "7/7 [==============================] - 0s 10ms/step - loss: 2.0881e-04\n",
      "Epoch 159/200\n",
      "7/7 [==============================] - 0s 9ms/step - loss: 2.0842e-04\n",
      "Epoch 160/200\n",
      "7/7 [==============================] - 0s 11ms/step - loss: 2.0027e-04\n",
      "Epoch 161/200\n",
      "7/7 [==============================] - 0s 10ms/step - loss: 2.0067e-04\n",
      "Epoch 162/200\n",
      "7/7 [==============================] - 0s 12ms/step - loss: 1.9899e-04\n",
      "Epoch 163/200\n",
      "7/7 [==============================] - 0s 10ms/step - loss: 2.0402e-04\n",
      "Epoch 164/200\n",
      "7/7 [==============================] - 0s 11ms/step - loss: 2.0062e-04\n",
      "Epoch 165/200\n",
      "7/7 [==============================] - 0s 11ms/step - loss: 2.0635e-04\n",
      "Epoch 166/200\n",
      "7/7 [==============================] - 0s 10ms/step - loss: 2.0769e-04\n",
      "Epoch 167/200\n",
      "7/7 [==============================] - 0s 10ms/step - loss: 2.0589e-04\n",
      "Epoch 168/200\n",
      "7/7 [==============================] - 0s 11ms/step - loss: 2.0203e-04\n",
      "Epoch 169/200\n",
      "7/7 [==============================] - 0s 10ms/step - loss: 2.0063e-04\n",
      "Epoch 170/200\n",
      "7/7 [==============================] - 0s 11ms/step - loss: 1.9995e-04\n",
      "Epoch 171/200\n",
      "7/7 [==============================] - 0s 10ms/step - loss: 2.0421e-04\n",
      "Epoch 172/200\n",
      "7/7 [==============================] - 0s 10ms/step - loss: 2.1412e-04\n",
      "Epoch 173/200\n",
      "7/7 [==============================] - 0s 10ms/step - loss: 2.0766e-04\n",
      "Epoch 174/200\n",
      "7/7 [==============================] - 0s 9ms/step - loss: 2.1367e-04\n",
      "Epoch 175/200\n",
      "7/7 [==============================] - 0s 10ms/step - loss: 2.0791e-04\n",
      "Epoch 176/200\n",
      "7/7 [==============================] - 0s 12ms/step - loss: 2.0171e-04\n",
      "Epoch 177/200\n",
      "7/7 [==============================] - 0s 11ms/step - loss: 2.0014e-04\n",
      "Epoch 178/200\n",
      "7/7 [==============================] - 0s 12ms/step - loss: 2.0312e-04\n",
      "Epoch 179/200\n",
      "7/7 [==============================] - 0s 11ms/step - loss: 2.0148e-04\n",
      "Epoch 180/200\n",
      "7/7 [==============================] - 0s 10ms/step - loss: 2.0127e-04\n",
      "Epoch 181/200\n",
      "7/7 [==============================] - 0s 10ms/step - loss: 2.0277e-04\n",
      "Epoch 182/200\n",
      "7/7 [==============================] - 0s 15ms/step - loss: 2.0088e-04\n",
      "Epoch 183/200\n",
      "7/7 [==============================] - 0s 10ms/step - loss: 2.0488e-04\n",
      "Epoch 184/200\n",
      "7/7 [==============================] - 0s 10ms/step - loss: 2.0414e-04\n",
      "Epoch 185/200\n",
      "7/7 [==============================] - 0s 11ms/step - loss: 2.0447e-04\n",
      "Epoch 186/200\n",
      "7/7 [==============================] - 0s 10ms/step - loss: 2.1055e-04\n",
      "Epoch 187/200\n",
      "7/7 [==============================] - 0s 10ms/step - loss: 2.0955e-04\n",
      "Epoch 188/200\n",
      "7/7 [==============================] - 0s 12ms/step - loss: 2.0785e-04\n",
      "Epoch 189/200\n",
      "7/7 [==============================] - 0s 10ms/step - loss: 2.0558e-04\n",
      "Epoch 190/200\n",
      "7/7 [==============================] - 0s 10ms/step - loss: 2.0113e-04\n",
      "Epoch 191/200\n",
      "7/7 [==============================] - 0s 11ms/step - loss: 2.0495e-04\n",
      "Epoch 192/200\n",
      "7/7 [==============================] - 0s 10ms/step - loss: 2.0615e-04\n",
      "Epoch 193/200\n",
      "7/7 [==============================] - 0s 11ms/step - loss: 2.0366e-04\n",
      "Epoch 194/200\n",
      "7/7 [==============================] - 0s 10ms/step - loss: 2.0834e-04\n",
      "Epoch 195/200\n"
     ]
    },
    {
     "name": "stdout",
     "output_type": "stream",
     "text": [
      "7/7 [==============================] - 0s 10ms/step - loss: 2.1042e-04\n",
      "Epoch 196/200\n",
      "7/7 [==============================] - 0s 10ms/step - loss: 2.0581e-04\n",
      "Epoch 197/200\n",
      "7/7 [==============================] - 0s 11ms/step - loss: 2.0595e-04\n",
      "Epoch 198/200\n",
      "7/7 [==============================] - 0s 11ms/step - loss: 2.0497e-04\n",
      "Epoch 199/200\n",
      "7/7 [==============================] - 0s 11ms/step - loss: 2.1256e-04\n",
      "Epoch 200/200\n",
      "7/7 [==============================] - 0s 10ms/step - loss: 2.0566e-04\n"
     ]
    },
    {
     "data": {
      "text/plain": [
       "<keras.src.callbacks.History at 0x198e07605d0>"
      ]
     },
     "execution_count": 12,
     "metadata": {},
     "output_type": "execute_result"
    }
   ],
   "source": [
    "model = Sequential()\n",
    "model.add(LSTM(50, return_sequences=True, input_shape=(X_train.shape[1], 1)))\n",
    "model.add(LSTM(50, return_sequences=True))\n",
    "model.add(LSTM(50, return_sequences=False))\n",
    "model.add(Dense(25))\n",
    "model.add(Dense(1))\n",
    "\n",
    "model.compile(optimizer='adam', loss='mean_squared_error')\n",
    "model.fit(X_train, y_train, batch_size=200, epochs=200, verbose=1)"
   ]
  },
  {
   "cell_type": "code",
   "execution_count": 13,
   "id": "92ef2e44",
   "metadata": {},
   "outputs": [
    {
     "name": "stdout",
     "output_type": "stream",
     "text": [
      "42/42 [==============================] - 3s 4ms/step\n",
      "11/11 [==============================] - 2s 5ms/step\n"
     ]
    }
   ],
   "source": [
    "pred_train = model.predict(X_train)\n",
    "pred = model.predict(X_test)"
   ]
  },
  {
   "cell_type": "code",
   "execution_count": 14,
   "id": "a77f781f",
   "metadata": {},
   "outputs": [],
   "source": [
    "pred_train = scaler.inverse_transform(pred_train)\n",
    "pred = scaler.inverse_transform(pred)\n",
    "y_test = scaler.inverse_transform([y_test])\n",
    "y_train = scaler.inverse_transform([y_train])"
   ]
  },
  {
   "cell_type": "code",
   "execution_count": 15,
   "id": "ab449e76",
   "metadata": {},
   "outputs": [],
   "source": [
    "y_test = y_test.flatten()\n",
    "y_train = y_train.flatten()"
   ]
  },
  {
   "cell_type": "code",
   "execution_count": 16,
   "id": "3003bbb6",
   "metadata": {},
   "outputs": [
    {
     "name": "stdout",
     "output_type": "stream",
     "text": [
      "Training Error\n",
      "Mean Absolute Error (MAE): 23.364174434116904\n",
      "Root Mean Squared Error (RMSE): 35.841671053660654\n"
     ]
    },
    {
     "data": {
      "image/png": "[encoded data removed]",
      "text/plain": [
       "<Figure size 640x480 with 1 Axes>"
      ]
     },
     "metadata": {},
     "output_type": "display_data"
    }
   ],
   "source": [
    "print(\"Training Error\")\n",
    "mae = mean_absolute_error(y_train, pred_train)\n",
    "print(\"Mean Absolute Error (MAE):\", mae)\n",
    "rmse = sqrt(mean_squared_error(y_train, pred_train))\n",
    "print(\"Root Mean Squared Error (RMSE):\", rmse)\n",
    "    \n",
    "plt.plot(y_train, label = 'actual '+str(ticker))\n",
    "plt.plot(pred_train, label = 'predicted '+str(ticker))\n",
    "plt.title(\"Training Plot\")\n",
    "plt.legend()\n",
    "plt.show()"
   ]
  },
  {
   "cell_type": "code",
   "execution_count": 17,
   "id": "01e9e93d",
   "metadata": {},
   "outputs": [
    {
     "name": "stdout",
     "output_type": "stream",
     "text": [
      "Testing Error\n",
      "Mean Absolute Error (MAE): 25.33120364234561\n",
      "Root Mean Squared Error (RMSE): 35.01886263827763\n"
     ]
    },
    {
     "data": {
      "image/png": "[encoded data removed]",
      "text/plain": [
       "<Figure size 640x480 with 1 Axes>"
      ]
     },
     "metadata": {},
     "output_type": "display_data"
    }
   ],
   "source": [
    "print(\"Testing Error\")\n",
    "mae = mean_absolute_error(y_test, pred)\n",
    "print(\"Mean Absolute Error (MAE):\", mae)\n",
    "rmse = sqrt(mean_squared_error(y_test, pred))\n",
    "print(\"Root Mean Squared Error (RMSE):\", rmse)\n",
    "\n",
    "plt.plot(y_test, label = 'actual '+str(ticker))\n",
    "plt.plot(pred, label = 'predicted '+str(ticker))\n",
    "plt.title(\"Testing Plot\")\n",
    "plt.legend()\n",
    "plt.show()"
   ]
  },
  {
   "cell_type": "markdown",
   "id": "a39de483",
   "metadata": {},
   "source": [
    "## 10 days future prediction without correction"
   ]
  },
  {
   "cell_type": "code",
   "execution_count": 18,
   "id": "b9dec815",
   "metadata": {
    "scrolled": true
   },
   "outputs": [
    {
     "data": {
      "text/plain": [
       "array([[0.01948066],\n",
       "       [0.01660197],\n",
       "       [0.01831736],\n",
       "       ...,\n",
       "       [0.86828874],\n",
       "       [0.83735239],\n",
       "       [0.83814108]])"
      ]
     },
     "execution_count": 18,
     "metadata": {},
     "output_type": "execute_result"
    }
   ],
   "source": [
    "scaled_data"
   ]
  },
  {
   "cell_type": "code",
   "execution_count": 19,
   "id": "a42ce6ad",
   "metadata": {},
   "outputs": [
    {
     "data": {
      "text/plain": [
       "(1344, 336, 1682)"
      ]
     },
     "execution_count": 19,
     "metadata": {},
     "output_type": "execute_result"
    }
   ],
   "source": [
    "len(X_train), len(X_test),  len(scaled_data)"
   ]
  },
  {
   "cell_type": "code",
   "execution_count": 20,
   "id": "73ea43f2",
   "metadata": {},
   "outputs": [],
   "source": [
    "reshaped_data = scaled_data.reshape(scaled_data.shape[0], scaled_data.shape[1], 1)"
   ]
  },
  {
   "cell_type": "code",
   "execution_count": 21,
   "id": "3d6562ab",
   "metadata": {},
   "outputs": [
    {
     "data": {
      "text/plain": [
       "array([[[0.89041145]],\n",
       "\n",
       "       [[0.87822622]],\n",
       "\n",
       "       [[0.88585684]],\n",
       "\n",
       "       [[0.88638915]],\n",
       "\n",
       "       [[0.88228799]],\n",
       "\n",
       "       [[0.88074999]],\n",
       "\n",
       "       [[0.88981993]],\n",
       "\n",
       "       [[0.86828874]],\n",
       "\n",
       "       [[0.83735239]],\n",
       "\n",
       "       [[0.83814108]]])"
      ]
     },
     "execution_count": 21,
     "metadata": {},
     "output_type": "execute_result"
    }
   ],
   "source": [
    "future_data_to_predict = reshaped_data[-10:]\n",
    "future_data_to_predict"
   ]
  },
  {
   "cell_type": "code",
   "execution_count": 22,
   "id": "90bbf305",
   "metadata": {},
   "outputs": [
    {
     "data": {
      "text/plain": [
       "(3, 3)"
      ]
     },
     "execution_count": 22,
     "metadata": {},
     "output_type": "execute_result"
    }
   ],
   "source": [
    "X_test.ndim, reshaped_data.ndim"
   ]
  },
  {
   "cell_type": "code",
   "execution_count": 23,
   "id": "d7913819",
   "metadata": {},
   "outputs": [
    {
     "name": "stdout",
     "output_type": "stream",
     "text": [
      "1/1 [==============================] - 0s 44ms/step\n",
      "[3296.6    3266.4944 3285.353  3286.668  3276.5352 3272.734  3295.1404\n",
      " 3241.9062 3165.1626 3167.1228]\n"
     ]
    }
   ],
   "source": [
    "def predict_future(last_input):\n",
    "    \n",
    "    res = model.predict(last_input)\n",
    "    Output = scaler.inverse_transform(res)\n",
    "    return Output\n",
    "\n",
    "future_predictions_1 = predict_future(future_data_to_predict)\n",
    "# print(future_predictions_1)\n",
    "\n",
    "future_predictions_1 = future_predictions_1.flatten()\n",
    "print(future_predictions_1)"
   ]
  },
  {
   "cell_type": "code",
   "execution_count": 24,
   "id": "177cb2d7",
   "metadata": {},
   "outputs": [],
   "source": [
    "# def predict_future(last_input):\n",
    "    \n",
    "#     res = model.predict(last_input)\n",
    "#     Output = scaler.inverse_transform(res)\n",
    "#     return Output\n",
    "\n",
    "# future_predictions_2 = predict_future(X_test[-5:])\n",
    "# # print(future_predictions_2)\n",
    "\n",
    "# future_predictions_2 = future_predictions_2.flatten()\n",
    "# print(future_predictions_2)"
   ]
  },
  {
   "cell_type": "code",
   "execution_count": 25,
   "id": "bfbbf4ea",
   "metadata": {},
   "outputs": [],
   "source": [
    "day=range(1,(len(future_data_to_predict)+1))"
   ]
  },
  {
   "cell_type": "code",
   "execution_count": 26,
   "id": "c7eafece",
   "metadata": {},
   "outputs": [
    {
     "data": {
      "image/png": "[encoded data removed]",
      "text/plain": [
       "<Figure size 640x480 with 1 Axes>"
      ]
     },
     "metadata": {},
     "output_type": "display_data"
    }
   ],
   "source": [
    "plt.plot(day, future_predictions_1, color='red', label='scaled_data')\n",
    "# plt.plot(day, future_predictions_2, color='blue', label='x_test')\n",
    "plt.legend()\n",
    "plt.show()"
   ]
  },
  {
   "cell_type": "code",
   "execution_count": 27,
   "id": "b1b1174b",
   "metadata": {},
   "outputs": [],
   "source": [
    "# ticker = \"AMZN\"\n",
    "# start='2024-01-22'\n",
    "# end='2024-01-26'\n",
    "# df = yf.download(ticker, start=start, end=end)\n",
    "# # print(df)\n",
    "# actual = df['Close'].values\n",
    "# print(actual)"
   ]
  },
  {
   "cell_type": "code",
   "execution_count": 28,
   "id": "246eb22b",
   "metadata": {},
   "outputs": [],
   "source": [
    "# day_actual = np.arange(1,21)\n",
    "# day_pred = np.arange(1,21)"
   ]
  },
  {
   "cell_type": "code",
   "execution_count": 29,
   "id": "93ab4b80",
   "metadata": {},
   "outputs": [],
   "source": [
    "# plt.figure(figsize=(8,6))\n",
    "# plt.title(f'Plot for {ticker} from {start} till {end}')\n",
    "# plt.xlabel('No. of Days')\n",
    "# plt.ylabel('Price Values')\n",
    "# plt.plot(day_actual, actual, label = 'actual price', color='blue')\n",
    "# plt.plot(day_pred, future_predictions_1, label = 'predicted price', color='red')\n",
    "# plt.legend()\n",
    "# plt.show()"
   ]
  },
  {
   "cell_type": "markdown",
   "id": "3acc2324",
   "metadata": {},
   "source": [
    "## Buy and Sell"
   ]
  },
  {
   "cell_type": "code",
   "execution_count": 30,
   "id": "f8c67516",
   "metadata": {},
   "outputs": [],
   "source": [
    "def get_control_vector(val):\n",
    "    return np.diff(np.sign(np.diff(val)))\n",
    "\n",
    "def buy_and_sell_bot(val,controls):\n",
    "    inv = []\n",
    "    curr_val = 1000\n",
    "    inds = np.where(controls)[0]\n",
    "    buy_inds = np.where(controls>0)[0]\n",
    "    sell_inds = np.where(controls<0)[0]\n",
    "    max_limit = sell_inds[-1] if sell_inds[-1]>buy_inds[-1] else buy_inds[-1]\n",
    "    for i in range(buy_inds[0]+2):\n",
    "        inv.append(curr_val)\n",
    "    for i in range(buy_inds[0],max_limit+1):\n",
    "        if controls[i]>0:\n",
    "            buy_val = val[i+1]\n",
    "        elif controls[i]<0:\n",
    "            sell_val = val[i+1]\n",
    "            curr_val = curr_val*sell_val/buy_val\n",
    "        inv.append(curr_val)\n",
    "        \n",
    "    if max_limit+1!=len(controls):\n",
    "        for i in range(len(controls)-max_limit-1):\n",
    "            inv.append(curr_val)\n",
    "    return inv\n",
    "\n",
    "# def buy_and_sell_bot(val, controls):\n",
    "#     inv = []\n",
    "#     curr_val = 1000\n",
    "#     buy_inds = np.where(controls > 0)[0]\n",
    "#     sell_inds = np.where(controls < 0)[0]\n",
    "    \n",
    "#     if buy_inds.size == 0 or sell_inds.size == 0:\n",
    "#         return [curr_val] * len(controls)\n",
    "    \n",
    "#     max_limit = max(sell_inds[-1], buy_inds[-1])\n",
    "#     for i in range(buy_inds[0] + 2):\n",
    "#         inv.append(curr_val)\n",
    "        \n",
    "#     for i in range(buy_inds[0], max_limit + 1):\n",
    "#         if controls[i] > 0:\n",
    "#             buy_val = val[i + 1]\n",
    "#         elif controls[i] < 0:\n",
    "#             sell_val = val[i + 1]\n",
    "#             curr_val = curr_val * sell_val / buy_val\n",
    "#         inv.append(curr_val)\n",
    "        \n",
    "#     if max_limit + 1 != len(controls):\n",
    "#         for i in range(len(controls) - max_limit - 1):\n",
    "#             inv.append(curr_val)\n",
    "    \n",
    "#     return inv"
   ]
  },
  {
   "cell_type": "code",
   "execution_count": 31,
   "id": "d4467228",
   "metadata": {
    "scrolled": true
   },
   "outputs": [
    {
     "data": {
      "text/plain": [
       "(array([ 2.,  0., -2.,  0.,  2., -2.,  0.,  2.], dtype=float32),\n",
       " [1000,\n",
       "  1000,\n",
       "  1000,\n",
       "  1000,\n",
       "  1006.1759126476571,\n",
       "  1006.1759126476571,\n",
       "  1006.1759126476571,\n",
       "  1013.0646104371926,\n",
       "  1013.0646104371926,\n",
       "  1013.0646104371926])"
      ]
     },
     "execution_count": 31,
     "metadata": {},
     "output_type": "execute_result"
    }
   ],
   "source": [
    "controls_pred= get_control_vector(future_predictions_1)\n",
    "amount_pred = buy_and_sell_bot(future_predictions_1, controls_pred)\n",
    "controls_pred, amount_pred"
   ]
  },
  {
   "cell_type": "code",
   "execution_count": 32,
   "id": "fd37afe7",
   "metadata": {},
   "outputs": [],
   "source": [
    "# controls_actual= get_control_vector(actual)\n",
    "# amount_actual = buy_and_sell_bot(actual, controls_actual)\n",
    "# controls_actual, amount_actual"
   ]
  },
  {
   "cell_type": "code",
   "execution_count": 33,
   "id": "18049677",
   "metadata": {},
   "outputs": [
    {
     "data": {
      "image/png": "[encoded data removed]",
      "text/plain": [
       "<Figure size 640x480 with 1 Axes>"
      ]
     },
     "metadata": {},
     "output_type": "display_data"
    }
   ],
   "source": [
    "# plt.plot(amount_actual, label=\"actual\")\n",
    "plt.plot(amount_pred, label=\"pred\")\n",
    "plt.legend()\n",
    "plt.title(f\"{ticker} Returns\")\n",
    "plt.show()"
   ]
  },
  {
   "cell_type": "markdown",
   "id": "b11ee162",
   "metadata": {},
   "source": [
    "### Price values along with dates"
   ]
  },
  {
   "cell_type": "code",
   "execution_count": 34,
   "id": "bcbc4f2f",
   "metadata": {},
   "outputs": [],
   "source": [
    "from datetime import datetime, timedelta\n",
    "count=31\n",
    "Date = []\n",
    "for i in range(22,34):\n",
    "    if i == 27:\n",
    "        continue\n",
    "    elif i == 28:\n",
    "        continue\n",
    "    elif i >= 32:\n",
    "        i = i-count\n",
    "        base_date = datetime(2024,2,i)\n",
    "        formatted_date = base_date.strftime('%d-%m-%Y')\n",
    "        Date.append(formatted_date)\n",
    "    else:\n",
    "        base_date = datetime(2024,1,i)\n",
    "        formatted_date = base_date.strftime('%d-%m-%Y')\n",
    "        Date.append(formatted_date)"
   ]
  },
  {
   "cell_type": "code",
   "execution_count": 35,
   "id": "dc78e33b",
   "metadata": {},
   "outputs": [],
   "source": [
    "price_value_dict = {}\n",
    "price_value_dict['Date'] = Date\n",
    "price_value_dict['Closing Price'] = future_predictions_1.tolist()"
   ]
  },
  {
   "cell_type": "code",
   "execution_count": 36,
   "id": "f15efdad",
   "metadata": {
    "scrolled": true
   },
   "outputs": [],
   "source": [
    "# price_value_dict"
   ]
  },
  {
   "cell_type": "code",
   "execution_count": 37,
   "id": "adca4a68",
   "metadata": {},
   "outputs": [],
   "source": [
    "Price_with_dates = pd.DataFrame(price_value_dict)"
   ]
  },
  {
   "cell_type": "code",
   "execution_count": 38,
   "id": "0ec1be7d",
   "metadata": {},
   "outputs": [],
   "source": [
    "Price_with_dates.columns = pd.MultiIndex.from_tuples([(f'{ticker}', 'Date'), (f'{ticker}', 'Closing Price')])"
   ]
  },
  {
   "cell_type": "code",
   "execution_count": 39,
   "id": "e921373e",
   "metadata": {},
   "outputs": [
    {
     "data": {
      "text/html": [
       "<div>\n",
       "<style scoped>\n",
       "    .dataframe tbody tr th:only-of-type {\n",
       "        vertical-align: middle;\n",
       "    }\n",
       "\n",
       "    .dataframe tbody tr th {\n",
       "        vertical-align: top;\n",
       "    }\n",
       "\n",
       "    .dataframe thead tr th {\n",
       "        text-align: left;\n",
       "    }\n",
       "</style>\n",
       "<table border=\"1\" class=\"dataframe\">\n",
       "  <thead>\n",
       "    <tr>\n",
       "      <th></th>\n",
       "      <th colspan=\"2\" halign=\"left\">ASIANPAINT.NS</th>\n",
       "    </tr>\n",
       "    <tr>\n",
       "      <th></th>\n",
       "      <th>Date</th>\n",
       "      <th>Closing Price</th>\n",
       "    </tr>\n",
       "  </thead>\n",
       "  <tbody>\n",
       "    <tr>\n",
       "      <th>0</th>\n",
       "      <td>22-01-2024</td>\n",
       "      <td>3296.600098</td>\n",
       "    </tr>\n",
       "    <tr>\n",
       "      <th>1</th>\n",
       "      <td>23-01-2024</td>\n",
       "      <td>3266.494385</td>\n",
       "    </tr>\n",
       "    <tr>\n",
       "      <th>2</th>\n",
       "      <td>24-01-2024</td>\n",
       "      <td>3285.353027</td>\n",
       "    </tr>\n",
       "    <tr>\n",
       "      <th>3</th>\n",
       "      <td>25-01-2024</td>\n",
       "      <td>3286.667969</td>\n",
       "    </tr>\n",
       "    <tr>\n",
       "      <th>4</th>\n",
       "      <td>26-01-2024</td>\n",
       "      <td>3276.535156</td>\n",
       "    </tr>\n",
       "    <tr>\n",
       "      <th>5</th>\n",
       "      <td>29-01-2024</td>\n",
       "      <td>3272.733887</td>\n",
       "    </tr>\n",
       "    <tr>\n",
       "      <th>6</th>\n",
       "      <td>30-01-2024</td>\n",
       "      <td>3295.140381</td>\n",
       "    </tr>\n",
       "    <tr>\n",
       "      <th>7</th>\n",
       "      <td>31-01-2024</td>\n",
       "      <td>3241.906250</td>\n",
       "    </tr>\n",
       "    <tr>\n",
       "      <th>8</th>\n",
       "      <td>01-02-2024</td>\n",
       "      <td>3165.162598</td>\n",
       "    </tr>\n",
       "    <tr>\n",
       "      <th>9</th>\n",
       "      <td>02-02-2024</td>\n",
       "      <td>3167.122803</td>\n",
       "    </tr>\n",
       "  </tbody>\n",
       "</table>\n",
       "</div>"
      ],
      "text/plain": [
       "  ASIANPAINT.NS              \n",
       "           Date Closing Price\n",
       "0    22-01-2024   3296.600098\n",
       "1    23-01-2024   3266.494385\n",
       "2    24-01-2024   3285.353027\n",
       "3    25-01-2024   3286.667969\n",
       "4    26-01-2024   3276.535156\n",
       "5    29-01-2024   3272.733887\n",
       "6    30-01-2024   3295.140381\n",
       "7    31-01-2024   3241.906250\n",
       "8    01-02-2024   3165.162598\n",
       "9    02-02-2024   3167.122803"
      ]
     },
     "execution_count": 39,
     "metadata": {},
     "output_type": "execute_result"
    }
   ],
   "source": [
    "Price_with_dates"
   ]
  },
  {
   "cell_type": "code",
   "execution_count": null,
   "id": "5b8bc85c",
   "metadata": {},
   "outputs": [],
   "source": []
  },
  {
   "cell_type": "code",
   "execution_count": 50,
   "id": "572a0939",
   "metadata": {},
   "outputs": [],
   "source": [
    "ticker = \"ASIANPAINT.NS\"\n",
    "start = \"2024-01-22\"\n",
    "end = \"2024-01-31\""
   ]
  },
  {
   "cell_type": "code",
   "execution_count": 53,
   "id": "364b096f",
   "metadata": {},
   "outputs": [
    {
     "name": "stdout",
     "output_type": "stream",
     "text": [
      "[*********************100%***********************]  1 of 1 completed\n"
     ]
    },
    {
     "data": {
      "text/html": [
       "<div>\n",
       "<style scoped>\n",
       "    .dataframe tbody tr th:only-of-type {\n",
       "        vertical-align: middle;\n",
       "    }\n",
       "\n",
       "    .dataframe tbody tr th {\n",
       "        vertical-align: top;\n",
       "    }\n",
       "\n",
       "    .dataframe thead th {\n",
       "        text-align: right;\n",
       "    }\n",
       "</style>\n",
       "<table border=\"1\" class=\"dataframe\">\n",
       "  <thead>\n",
       "    <tr style=\"text-align: right;\">\n",
       "      <th></th>\n",
       "      <th>Open</th>\n",
       "      <th>High</th>\n",
       "      <th>Low</th>\n",
       "      <th>Close</th>\n",
       "      <th>Adj Close</th>\n",
       "      <th>Volume</th>\n",
       "    </tr>\n",
       "    <tr>\n",
       "      <th>Date</th>\n",
       "      <th></th>\n",
       "      <th></th>\n",
       "      <th></th>\n",
       "      <th></th>\n",
       "      <th></th>\n",
       "      <th></th>\n",
       "    </tr>\n",
       "  </thead>\n",
       "  <tbody>\n",
       "    <tr>\n",
       "      <th>2024-01-22</th>\n",
       "      <td>3165.850098</td>\n",
       "      <td>3165.850098</td>\n",
       "      <td>3165.850098</td>\n",
       "      <td>3165.850098</td>\n",
       "      <td>3165.850098</td>\n",
       "      <td>0</td>\n",
       "    </tr>\n",
       "    <tr>\n",
       "      <th>2024-01-23</th>\n",
       "      <td>3087.550049</td>\n",
       "      <td>3109.000000</td>\n",
       "      <td>3021.550049</td>\n",
       "      <td>3054.699951</td>\n",
       "      <td>3054.699951</td>\n",
       "      <td>2365225</td>\n",
       "    </tr>\n",
       "    <tr>\n",
       "      <th>2024-01-24</th>\n",
       "      <td>3055.000000</td>\n",
       "      <td>3055.000000</td>\n",
       "      <td>2976.100098</td>\n",
       "      <td>2999.449951</td>\n",
       "      <td>2999.449951</td>\n",
       "      <td>2665932</td>\n",
       "    </tr>\n",
       "    <tr>\n",
       "      <th>2024-01-25</th>\n",
       "      <td>3010.050049</td>\n",
       "      <td>3016.000000</td>\n",
       "      <td>2942.300049</td>\n",
       "      <td>2949.199951</td>\n",
       "      <td>2949.199951</td>\n",
       "      <td>2001961</td>\n",
       "    </tr>\n",
       "    <tr>\n",
       "      <th>2024-01-29</th>\n",
       "      <td>2940.050049</td>\n",
       "      <td>2988.449951</td>\n",
       "      <td>2940.050049</td>\n",
       "      <td>2976.050049</td>\n",
       "      <td>2976.050049</td>\n",
       "      <td>1862723</td>\n",
       "    </tr>\n",
       "    <tr>\n",
       "      <th>2024-01-30</th>\n",
       "      <td>2990.000000</td>\n",
       "      <td>3005.000000</td>\n",
       "      <td>2951.050049</td>\n",
       "      <td>2954.100098</td>\n",
       "      <td>2954.100098</td>\n",
       "      <td>1272793</td>\n",
       "    </tr>\n",
       "  </tbody>\n",
       "</table>\n",
       "</div>"
      ],
      "text/plain": [
       "                   Open         High          Low        Close    Adj Close  \\\n",
       "Date                                                                          \n",
       "2024-01-22  3165.850098  3165.850098  3165.850098  3165.850098  3165.850098   \n",
       "2024-01-23  3087.550049  3109.000000  3021.550049  3054.699951  3054.699951   \n",
       "2024-01-24  3055.000000  3055.000000  2976.100098  2999.449951  2999.449951   \n",
       "2024-01-25  3010.050049  3016.000000  2942.300049  2949.199951  2949.199951   \n",
       "2024-01-29  2940.050049  2988.449951  2940.050049  2976.050049  2976.050049   \n",
       "2024-01-30  2990.000000  3005.000000  2951.050049  2954.100098  2954.100098   \n",
       "\n",
       "             Volume  \n",
       "Date                 \n",
       "2024-01-22        0  \n",
       "2024-01-23  2365225  \n",
       "2024-01-24  2665932  \n",
       "2024-01-25  2001961  \n",
       "2024-01-29  1862723  \n",
       "2024-01-30  1272793  "
      ]
     },
     "execution_count": 53,
     "metadata": {},
     "output_type": "execute_result"
    }
   ],
   "source": [
    "df = yf.download(ticker, start=start, end=end)\n",
    "df"
   ]
  },
  {
   "cell_type": "code",
   "execution_count": 56,
   "id": "0b5396f9",
   "metadata": {},
   "outputs": [],
   "source": [
    "actual_data = df['Close'].values"
   ]
  },
  {
   "cell_type": "code",
   "execution_count": 57,
   "id": "8a1cb613",
   "metadata": {},
   "outputs": [],
   "source": [
    "day_actual = range(1,7)\n",
    "day_predicted = range(1,11)"
   ]
  },
  {
   "cell_type": "code",
   "execution_count": 58,
   "id": "8ee7fa37",
   "metadata": {},
   "outputs": [
    {
     "data": {
      "image/png": "[encoded data removed]",
      "text/plain": [
       "<Figure size 640x480 with 1 Axes>"
      ]
     },
     "metadata": {},
     "output_type": "display_data"
    }
   ],
   "source": [
    "plt.plot(day_actual, actual_data, color='red', label='actual')\n",
    "plt.plot(day_predicted, future_predictions_1, color='blue', label='predicted')\n",
    "plt.legend()\n",
    "plt.show()"
   ]
  },
  {
   "cell_type": "code",
   "execution_count": null,
   "id": "69cb4482",
   "metadata": {},
   "outputs": [],
   "source": []
  }
 ],
 "metadata": {
  "kernelspec": {
   "display_name": "Python 3 (ipykernel)",
   "language": "python",
   "name": "python3"
  },
  "language_info": {
   "codemirror_mode": {
    "name": "ipython",
    "version": 3
   },
   "file_extension": ".py",
   "mimetype": "text/x-python",
   "name": "python",
   "nbconvert_exporter": "python",
   "pygments_lexer": "ipython3",
   "version": "3.11.4"
  }
 },
 "nbformat": 4,
 "nbformat_minor": 5
}
