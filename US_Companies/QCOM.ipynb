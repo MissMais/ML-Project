{
 "cells": [
  {
   "cell_type": "code",
   "execution_count": 1,
   "id": "3e3175db",
   "metadata": {},
   "outputs": [],
   "source": [
    "import numpy as np\n",
    "import pandas as pd\n",
    "import yfinance as yf\n",
    "import matplotlib.pyplot as plt\n",
    "from sklearn.preprocessing import MinMaxScaler\n",
    "from keras.models import Sequential\n",
    "from keras.layers import LSTM, Dense\n",
    "from sklearn.metrics import mean_squared_error, mean_absolute_error, accuracy_score\n",
    "from math import sqrt"
   ]
  },
  {
   "cell_type": "code",
   "execution_count": 2,
   "id": "beee8595",
   "metadata": {},
   "outputs": [],
   "source": [
    "ticker = \"QCOM\"\n",
    "start = \"2017-04-01\"\n",
    "end = \"2024-01-20\""
   ]
  },
  {
   "cell_type": "code",
   "execution_count": 3,
   "id": "c4d883e3",
   "metadata": {},
   "outputs": [
    {
     "name": "stdout",
     "output_type": "stream",
     "text": [
      "[*********************100%***********************]  1 of 1 completed\n"
     ]
    },
    {
     "data": {
      "text/html": [
       "<div>\n",
       "<style scoped>\n",
       "    .dataframe tbody tr th:only-of-type {\n",
       "        vertical-align: middle;\n",
       "    }\n",
       "\n",
       "    .dataframe tbody tr th {\n",
       "        vertical-align: top;\n",
       "    }\n",
       "\n",
       "    .dataframe thead th {\n",
       "        text-align: right;\n",
       "    }\n",
       "</style>\n",
       "<table border=\"1\" class=\"dataframe\">\n",
       "  <thead>\n",
       "    <tr style=\"text-align: right;\">\n",
       "      <th></th>\n",
       "      <th>Open</th>\n",
       "      <th>High</th>\n",
       "      <th>Low</th>\n",
       "      <th>Close</th>\n",
       "      <th>Adj Close</th>\n",
       "      <th>Volume</th>\n",
       "    </tr>\n",
       "    <tr>\n",
       "      <th>Date</th>\n",
       "      <th></th>\n",
       "      <th></th>\n",
       "      <th></th>\n",
       "      <th></th>\n",
       "      <th></th>\n",
       "      <th></th>\n",
       "    </tr>\n",
       "  </thead>\n",
       "  <tbody>\n",
       "    <tr>\n",
       "      <th>2024-01-05</th>\n",
       "      <td>136.160004</td>\n",
       "      <td>138.070007</td>\n",
       "      <td>135.850006</td>\n",
       "      <td>136.729996</td>\n",
       "      <td>136.729996</td>\n",
       "      <td>6826500</td>\n",
       "    </tr>\n",
       "    <tr>\n",
       "      <th>2024-01-08</th>\n",
       "      <td>136.990005</td>\n",
       "      <td>139.149994</td>\n",
       "      <td>136.639999</td>\n",
       "      <td>139.029999</td>\n",
       "      <td>139.029999</td>\n",
       "      <td>7729400</td>\n",
       "    </tr>\n",
       "    <tr>\n",
       "      <th>2024-01-09</th>\n",
       "      <td>137.539993</td>\n",
       "      <td>140.949997</td>\n",
       "      <td>137.139999</td>\n",
       "      <td>139.889999</td>\n",
       "      <td>139.889999</td>\n",
       "      <td>5856900</td>\n",
       "    </tr>\n",
       "    <tr>\n",
       "      <th>2024-01-10</th>\n",
       "      <td>139.889999</td>\n",
       "      <td>140.029999</td>\n",
       "      <td>137.789993</td>\n",
       "      <td>139.309998</td>\n",
       "      <td>139.309998</td>\n",
       "      <td>5652500</td>\n",
       "    </tr>\n",
       "    <tr>\n",
       "      <th>2024-01-11</th>\n",
       "      <td>139.000000</td>\n",
       "      <td>139.949997</td>\n",
       "      <td>136.029999</td>\n",
       "      <td>139.029999</td>\n",
       "      <td>139.029999</td>\n",
       "      <td>7374900</td>\n",
       "    </tr>\n",
       "    <tr>\n",
       "      <th>2024-01-12</th>\n",
       "      <td>142.119995</td>\n",
       "      <td>142.660004</td>\n",
       "      <td>139.160004</td>\n",
       "      <td>140.199997</td>\n",
       "      <td>140.199997</td>\n",
       "      <td>6539600</td>\n",
       "    </tr>\n",
       "    <tr>\n",
       "      <th>2024-01-16</th>\n",
       "      <td>140.000000</td>\n",
       "      <td>141.229996</td>\n",
       "      <td>137.979996</td>\n",
       "      <td>141.119995</td>\n",
       "      <td>141.119995</td>\n",
       "      <td>7483000</td>\n",
       "    </tr>\n",
       "    <tr>\n",
       "      <th>2024-01-17</th>\n",
       "      <td>139.619995</td>\n",
       "      <td>139.630005</td>\n",
       "      <td>137.350006</td>\n",
       "      <td>139.320007</td>\n",
       "      <td>139.320007</td>\n",
       "      <td>6584700</td>\n",
       "    </tr>\n",
       "    <tr>\n",
       "      <th>2024-01-18</th>\n",
       "      <td>143.149994</td>\n",
       "      <td>145.649994</td>\n",
       "      <td>142.330002</td>\n",
       "      <td>145.289993</td>\n",
       "      <td>145.289993</td>\n",
       "      <td>12893000</td>\n",
       "    </tr>\n",
       "    <tr>\n",
       "      <th>2024-01-19</th>\n",
       "      <td>147.259995</td>\n",
       "      <td>152.770004</td>\n",
       "      <td>146.740005</td>\n",
       "      <td>151.960007</td>\n",
       "      <td>151.960007</td>\n",
       "      <td>16164100</td>\n",
       "    </tr>\n",
       "  </tbody>\n",
       "</table>\n",
       "</div>"
      ],
      "text/plain": [
       "                  Open        High         Low       Close   Adj Close  \\\n",
       "Date                                                                     \n",
       "2024-01-05  136.160004  138.070007  135.850006  136.729996  136.729996   \n",
       "2024-01-08  136.990005  139.149994  136.639999  139.029999  139.029999   \n",
       "2024-01-09  137.539993  140.949997  137.139999  139.889999  139.889999   \n",
       "2024-01-10  139.889999  140.029999  137.789993  139.309998  139.309998   \n",
       "2024-01-11  139.000000  139.949997  136.029999  139.029999  139.029999   \n",
       "2024-01-12  142.119995  142.660004  139.160004  140.199997  140.199997   \n",
       "2024-01-16  140.000000  141.229996  137.979996  141.119995  141.119995   \n",
       "2024-01-17  139.619995  139.630005  137.350006  139.320007  139.320007   \n",
       "2024-01-18  143.149994  145.649994  142.330002  145.289993  145.289993   \n",
       "2024-01-19  147.259995  152.770004  146.740005  151.960007  151.960007   \n",
       "\n",
       "              Volume  \n",
       "Date                  \n",
       "2024-01-05   6826500  \n",
       "2024-01-08   7729400  \n",
       "2024-01-09   5856900  \n",
       "2024-01-10   5652500  \n",
       "2024-01-11   7374900  \n",
       "2024-01-12   6539600  \n",
       "2024-01-16   7483000  \n",
       "2024-01-17   6584700  \n",
       "2024-01-18  12893000  \n",
       "2024-01-19  16164100  "
      ]
     },
     "execution_count": 3,
     "metadata": {},
     "output_type": "execute_result"
    }
   ],
   "source": [
    "df = yf.download(ticker, start=start, end=end)\n",
    "df.tail(10)"
   ]
  },
  {
   "cell_type": "code",
   "execution_count": 4,
   "id": "4fd894f3",
   "metadata": {},
   "outputs": [
    {
     "name": "stdout",
     "output_type": "stream",
     "text": [
      "(1711,)\n"
     ]
    }
   ],
   "source": [
    "ClosingPrice = df['Close']\n",
    "\n",
    "# print(data)\n",
    "print(ClosingPrice.values.shape)\n",
    "\n",
    "scaler = MinMaxScaler()\n",
    "scaled_data = scaler.fit_transform(ClosingPrice.values.reshape(-1, 1))\n",
    "# print(scaled_data)"
   ]
  },
  {
   "cell_type": "code",
   "execution_count": 5,
   "id": "9827d44b",
   "metadata": {},
   "outputs": [
    {
     "data": {
      "image/png": "[encoded data removed]",
      "text/plain": [
       "<Figure size 640x480 with 1 Axes>"
      ]
     },
     "metadata": {},
     "output_type": "display_data"
    }
   ],
   "source": [
    "plt.plot(scaled_data)\n",
    "plt.title(f'{ticker} Closing Price')\n",
    "plt.show()"
   ]
  },
  {
   "cell_type": "code",
   "execution_count": 6,
   "id": "d0ab277e",
   "metadata": {},
   "outputs": [
    {
     "data": {
      "text/plain": [
       "(1368, 343)"
      ]
     },
     "execution_count": 6,
     "metadata": {},
     "output_type": "execute_result"
    }
   ],
   "source": [
    "training_data_len = int(len(scaled_data) * 0.8)\n",
    "\n",
    "training_data = scaled_data[0:training_data_len, :]\n",
    "testing_data = scaled_data[training_data_len:, :]\n",
    "\n",
    "len(training_data), len(testing_data)"
   ]
  },
  {
   "cell_type": "code",
   "execution_count": 7,
   "id": "a5a9517b",
   "metadata": {},
   "outputs": [],
   "source": [
    "past_values = 1\n",
    "\n",
    "def create_training_data(data, past_values):\n",
    "    if len(data) < past_values:\n",
    "        return np.array([]), np.array([])\n",
    "    X_train = []\n",
    "    y_train = []\n",
    "    for i in range(past_values, len(data)):\n",
    "        X_train.append(data[i-past_values:i, 0])\n",
    "        y_train.append(data[i, 0])\n",
    "    return np.array(X_train), np.array(y_train)\n",
    "\n",
    "X_train, y_train = create_training_data(training_data, past_values)\n",
    "X_train = np.reshape(X_train, (X_train.shape[0], X_train.shape[1], 1))\n",
    "\n",
    "X_test, y_test = create_training_data(testing_data, past_values)\n",
    "X_test = np.reshape(X_test, (X_test.shape[0], X_test.shape[1], 1))"
   ]
  },
  {
   "cell_type": "code",
   "execution_count": 8,
   "id": "c2e46176",
   "metadata": {},
   "outputs": [
    {
     "data": {
      "text/plain": [
       "(1709, 1711)"
      ]
     },
     "execution_count": 8,
     "metadata": {},
     "output_type": "execute_result"
    }
   ],
   "source": [
    "len(X_train) + len(X_test), len(scaled_data)"
   ]
  },
  {
   "cell_type": "code",
   "execution_count": 9,
   "id": "d26d2fdb",
   "metadata": {},
   "outputs": [
    {
     "data": {
      "text/plain": [
       "(1367, 1, 1)"
      ]
     },
     "execution_count": 9,
     "metadata": {},
     "output_type": "execute_result"
    }
   ],
   "source": [
    "X_train.shape"
   ]
  },
  {
   "cell_type": "code",
   "execution_count": 10,
   "id": "70151e02",
   "metadata": {},
   "outputs": [
    {
     "name": "stdout",
     "output_type": "stream",
     "text": [
      "Epoch 1/200\n",
      "7/7 [==============================] - 5s 11ms/step - loss: 0.1753\n",
      "Epoch 2/200\n",
      "7/7 [==============================] - 0s 9ms/step - loss: 0.1280\n",
      "Epoch 3/200\n",
      "7/7 [==============================] - 0s 6ms/step - loss: 0.0887\n",
      "Epoch 4/200\n",
      "7/7 [==============================] - 0s 8ms/step - loss: 0.0684\n",
      "Epoch 5/200\n",
      "7/7 [==============================] - 0s 7ms/step - loss: 0.0677\n",
      "Epoch 6/200\n",
      "7/7 [==============================] - 0s 8ms/step - loss: 0.0573\n",
      "Epoch 7/200\n",
      "7/7 [==============================] - 0s 7ms/step - loss: 0.0446\n",
      "Epoch 8/200\n",
      "7/7 [==============================] - 0s 9ms/step - loss: 0.0292\n",
      "Epoch 9/200\n",
      "7/7 [==============================] - 0s 7ms/step - loss: 0.0123\n",
      "Epoch 10/200\n",
      "7/7 [==============================] - 0s 8ms/step - loss: 0.0021\n",
      "Epoch 11/200\n",
      "7/7 [==============================] - 0s 8ms/step - loss: 0.0020\n",
      "Epoch 12/200\n",
      "7/7 [==============================] - 0s 7ms/step - loss: 0.0022\n",
      "Epoch 13/200\n",
      "7/7 [==============================] - 0s 8ms/step - loss: 8.2769e-04\n",
      "Epoch 14/200\n",
      "7/7 [==============================] - 0s 8ms/step - loss: 8.4268e-04\n",
      "Epoch 15/200\n",
      "7/7 [==============================] - 0s 9ms/step - loss: 8.3949e-04\n",
      "Epoch 16/200\n",
      "7/7 [==============================] - 0s 7ms/step - loss: 6.8184e-04\n",
      "Epoch 17/200\n",
      "7/7 [==============================] - 0s 7ms/step - loss: 6.5649e-04\n",
      "Epoch 18/200\n",
      "7/7 [==============================] - 0s 7ms/step - loss: 6.4465e-04\n",
      "Epoch 19/200\n",
      "7/7 [==============================] - 0s 8ms/step - loss: 6.1436e-04\n",
      "Epoch 20/200\n",
      "7/7 [==============================] - 0s 8ms/step - loss: 6.0523e-04\n",
      "Epoch 21/200\n",
      "7/7 [==============================] - 0s 7ms/step - loss: 5.9323e-04\n",
      "Epoch 22/200\n",
      "7/7 [==============================] - 0s 6ms/step - loss: 6.0163e-04\n",
      "Epoch 23/200\n",
      "7/7 [==============================] - 0s 8ms/step - loss: 5.9876e-04\n",
      "Epoch 24/200\n",
      "7/7 [==============================] - 0s 7ms/step - loss: 5.5300e-04\n",
      "Epoch 25/200\n",
      "7/7 [==============================] - 0s 7ms/step - loss: 5.4321e-04\n",
      "Epoch 26/200\n",
      "7/7 [==============================] - 0s 8ms/step - loss: 5.2551e-04\n",
      "Epoch 27/200\n",
      "7/7 [==============================] - 0s 8ms/step - loss: 5.1496e-04\n",
      "Epoch 28/200\n",
      "7/7 [==============================] - 0s 8ms/step - loss: 5.0279e-04\n",
      "Epoch 29/200\n",
      "7/7 [==============================] - 0s 7ms/step - loss: 4.9192e-04\n",
      "Epoch 30/200\n",
      "7/7 [==============================] - 0s 8ms/step - loss: 4.8469e-04\n",
      "Epoch 31/200\n",
      "7/7 [==============================] - 0s 9ms/step - loss: 4.7796e-04\n",
      "Epoch 32/200\n",
      "7/7 [==============================] - 0s 6ms/step - loss: 4.7105e-04\n",
      "Epoch 33/200\n",
      "7/7 [==============================] - 0s 7ms/step - loss: 4.6039e-04\n",
      "Epoch 34/200\n",
      "7/7 [==============================] - 0s 8ms/step - loss: 4.5423e-04\n",
      "Epoch 35/200\n",
      "7/7 [==============================] - 0s 8ms/step - loss: 4.4587e-04\n",
      "Epoch 36/200\n",
      "7/7 [==============================] - 0s 8ms/step - loss: 4.3922e-04\n",
      "Epoch 37/200\n",
      "7/7 [==============================] - 0s 8ms/step - loss: 4.3492e-04\n",
      "Epoch 38/200\n",
      "7/7 [==============================] - 0s 9ms/step - loss: 4.2789e-04\n",
      "Epoch 39/200\n",
      "7/7 [==============================] - 0s 8ms/step - loss: 4.2285e-04\n",
      "Epoch 40/200\n",
      "7/7 [==============================] - 0s 7ms/step - loss: 4.1821e-04\n",
      "Epoch 41/200\n",
      "7/7 [==============================] - 0s 8ms/step - loss: 4.1530e-04\n",
      "Epoch 42/200\n",
      "7/7 [==============================] - 0s 8ms/step - loss: 4.1244e-04\n",
      "Epoch 43/200\n",
      "7/7 [==============================] - 0s 9ms/step - loss: 4.0961e-04\n",
      "Epoch 44/200\n",
      "7/7 [==============================] - 0s 8ms/step - loss: 4.0576e-04\n",
      "Epoch 45/200\n",
      "7/7 [==============================] - 0s 8ms/step - loss: 3.9772e-04\n",
      "Epoch 46/200\n",
      "7/7 [==============================] - 0s 8ms/step - loss: 3.9546e-04\n",
      "Epoch 47/200\n",
      "7/7 [==============================] - 0s 8ms/step - loss: 3.9192e-04\n",
      "Epoch 48/200\n",
      "7/7 [==============================] - 0s 9ms/step - loss: 3.8869e-04\n",
      "Epoch 49/200\n",
      "7/7 [==============================] - 0s 9ms/step - loss: 3.8735e-04\n",
      "Epoch 50/200\n",
      "7/7 [==============================] - 0s 8ms/step - loss: 3.8449e-04\n",
      "Epoch 51/200\n",
      "7/7 [==============================] - 0s 9ms/step - loss: 3.8223e-04\n",
      "Epoch 52/200\n",
      "7/7 [==============================] - 0s 9ms/step - loss: 3.8130e-04\n",
      "Epoch 53/200\n",
      "7/7 [==============================] - 0s 7ms/step - loss: 3.7936e-04\n",
      "Epoch 54/200\n",
      "7/7 [==============================] - 0s 8ms/step - loss: 3.7872e-04\n",
      "Epoch 55/200\n",
      "7/7 [==============================] - 0s 8ms/step - loss: 3.7663e-04\n",
      "Epoch 56/200\n",
      "7/7 [==============================] - 0s 8ms/step - loss: 3.7581e-04\n",
      "Epoch 57/200\n",
      "7/7 [==============================] - 0s 7ms/step - loss: 3.7377e-04\n",
      "Epoch 58/200\n",
      "7/7 [==============================] - 0s 7ms/step - loss: 3.7735e-04\n",
      "Epoch 59/200\n",
      "7/7 [==============================] - 0s 8ms/step - loss: 3.7698e-04\n",
      "Epoch 60/200\n",
      "7/7 [==============================] - 0s 8ms/step - loss: 3.7052e-04\n",
      "Epoch 61/200\n",
      "7/7 [==============================] - 0s 7ms/step - loss: 3.7131e-04\n",
      "Epoch 62/200\n",
      "7/7 [==============================] - 0s 7ms/step - loss: 3.7118e-04\n",
      "Epoch 63/200\n",
      "7/7 [==============================] - 0s 8ms/step - loss: 3.7157e-04\n",
      "Epoch 64/200\n",
      "7/7 [==============================] - 0s 8ms/step - loss: 3.7413e-04\n",
      "Epoch 65/200\n",
      "7/7 [==============================] - 0s 8ms/step - loss: 3.7613e-04\n",
      "Epoch 66/200\n",
      "7/7 [==============================] - 0s 7ms/step - loss: 3.6754e-04\n",
      "Epoch 67/200\n",
      "7/7 [==============================] - 0s 8ms/step - loss: 3.6857e-04\n",
      "Epoch 68/200\n",
      "7/7 [==============================] - 0s 8ms/step - loss: 3.6670e-04\n",
      "Epoch 69/200\n",
      "7/7 [==============================] - 0s 8ms/step - loss: 3.6634e-04\n",
      "Epoch 70/200\n",
      "7/7 [==============================] - 0s 7ms/step - loss: 3.6570e-04\n",
      "Epoch 71/200\n",
      "7/7 [==============================] - 0s 7ms/step - loss: 3.6394e-04\n",
      "Epoch 72/200\n",
      "7/7 [==============================] - 0s 7ms/step - loss: 3.6544e-04\n",
      "Epoch 73/200\n",
      "7/7 [==============================] - 0s 7ms/step - loss: 3.6727e-04\n",
      "Epoch 74/200\n",
      "7/7 [==============================] - 0s 8ms/step - loss: 3.6583e-04\n",
      "Epoch 75/200\n",
      "7/7 [==============================] - 0s 8ms/step - loss: 3.6360e-04\n",
      "Epoch 76/200\n",
      "7/7 [==============================] - 0s 7ms/step - loss: 3.6683e-04\n",
      "Epoch 77/200\n",
      "7/7 [==============================] - 0s 7ms/step - loss: 3.6372e-04\n",
      "Epoch 78/200\n",
      "7/7 [==============================] - 0s 7ms/step - loss: 3.6720e-04\n",
      "Epoch 79/200\n",
      "7/7 [==============================] - 0s 6ms/step - loss: 3.6608e-04\n",
      "Epoch 80/200\n",
      "7/7 [==============================] - 0s 8ms/step - loss: 3.7934e-04\n",
      "Epoch 81/200\n",
      "7/7 [==============================] - 0s 11ms/step - loss: 3.7536e-04\n",
      "Epoch 82/200\n",
      "7/7 [==============================] - 0s 7ms/step - loss: 3.6378e-04\n",
      "Epoch 83/200\n",
      "7/7 [==============================] - 0s 7ms/step - loss: 3.6515e-04\n",
      "Epoch 84/200\n",
      "7/7 [==============================] - 0s 7ms/step - loss: 3.6441e-04\n",
      "Epoch 85/200\n",
      "7/7 [==============================] - 0s 8ms/step - loss: 3.6762e-04\n",
      "Epoch 86/200\n",
      "7/7 [==============================] - 0s 8ms/step - loss: 3.6471e-04\n",
      "Epoch 87/200\n",
      "7/7 [==============================] - 0s 8ms/step - loss: 3.6541e-04\n",
      "Epoch 88/200\n",
      "7/7 [==============================] - 0s 7ms/step - loss: 3.6170e-04\n",
      "Epoch 89/200\n",
      "7/7 [==============================] - 0s 8ms/step - loss: 3.6302e-04\n",
      "Epoch 90/200\n",
      "7/7 [==============================] - 0s 8ms/step - loss: 3.6656e-04\n",
      "Epoch 91/200\n",
      "7/7 [==============================] - 0s 8ms/step - loss: 3.7072e-04\n",
      "Epoch 92/200\n",
      "7/7 [==============================] - 0s 8ms/step - loss: 3.6443e-04\n",
      "Epoch 93/200\n",
      "7/7 [==============================] - 0s 7ms/step - loss: 3.6337e-04\n",
      "Epoch 94/200\n",
      "7/7 [==============================] - 0s 7ms/step - loss: 3.6490e-04\n",
      "Epoch 95/200\n",
      "7/7 [==============================] - 0s 8ms/step - loss: 3.6941e-04\n",
      "Epoch 96/200\n",
      "7/7 [==============================] - 0s 8ms/step - loss: 3.8248e-04\n",
      "Epoch 97/200\n",
      "7/7 [==============================] - 0s 8ms/step - loss: 3.7480e-04\n",
      "Epoch 98/200\n",
      "7/7 [==============================] - 0s 7ms/step - loss: 3.6558e-04\n",
      "Epoch 99/200\n",
      "7/7 [==============================] - 0s 8ms/step - loss: 3.7275e-04\n",
      "Epoch 100/200\n"
     ]
    },
    {
     "name": "stdout",
     "output_type": "stream",
     "text": [
      "7/7 [==============================] - 0s 8ms/step - loss: 3.6436e-04\n",
      "Epoch 101/200\n",
      "7/7 [==============================] - 0s 8ms/step - loss: 3.6449e-04\n",
      "Epoch 102/200\n",
      "7/7 [==============================] - 0s 7ms/step - loss: 3.6174e-04\n",
      "Epoch 103/200\n",
      "7/7 [==============================] - 0s 8ms/step - loss: 3.6778e-04\n",
      "Epoch 104/200\n",
      "7/7 [==============================] - 0s 8ms/step - loss: 3.7234e-04\n",
      "Epoch 105/200\n",
      "7/7 [==============================] - 0s 8ms/step - loss: 3.6796e-04\n",
      "Epoch 106/200\n",
      "7/7 [==============================] - 0s 8ms/step - loss: 3.6404e-04\n",
      "Epoch 107/200\n",
      "7/7 [==============================] - 0s 7ms/step - loss: 3.6286e-04\n",
      "Epoch 108/200\n",
      "7/7 [==============================] - 0s 7ms/step - loss: 3.6559e-04\n",
      "Epoch 109/200\n",
      "7/7 [==============================] - 0s 8ms/step - loss: 3.6904e-04\n",
      "Epoch 110/200\n",
      "7/7 [==============================] - 0s 7ms/step - loss: 3.8052e-04\n",
      "Epoch 111/200\n",
      "7/7 [==============================] - 0s 8ms/step - loss: 3.7118e-04\n",
      "Epoch 112/200\n",
      "7/7 [==============================] - 0s 7ms/step - loss: 3.7317e-04\n",
      "Epoch 113/200\n",
      "7/7 [==============================] - 0s 6ms/step - loss: 3.7536e-04\n",
      "Epoch 114/200\n",
      "7/7 [==============================] - 0s 7ms/step - loss: 3.7509e-04\n",
      "Epoch 115/200\n",
      "7/7 [==============================] - 0s 7ms/step - loss: 3.7283e-04\n",
      "Epoch 116/200\n",
      "7/7 [==============================] - 0s 8ms/step - loss: 3.7642e-04\n",
      "Epoch 117/200\n",
      "7/7 [==============================] - 0s 8ms/step - loss: 3.7076e-04\n",
      "Epoch 118/200\n",
      "7/7 [==============================] - 0s 8ms/step - loss: 3.6627e-04\n",
      "Epoch 119/200\n",
      "7/7 [==============================] - 0s 6ms/step - loss: 3.6599e-04\n",
      "Epoch 120/200\n",
      "7/7 [==============================] - 0s 7ms/step - loss: 3.6448e-04\n",
      "Epoch 121/200\n",
      "7/7 [==============================] - 0s 6ms/step - loss: 3.6607e-04\n",
      "Epoch 122/200\n",
      "7/7 [==============================] - 0s 7ms/step - loss: 3.6590e-04\n",
      "Epoch 123/200\n",
      "7/7 [==============================] - 0s 8ms/step - loss: 3.6826e-04\n",
      "Epoch 124/200\n",
      "7/7 [==============================] - 0s 8ms/step - loss: 3.6762e-04\n",
      "Epoch 125/200\n",
      "7/7 [==============================] - 0s 7ms/step - loss: 3.7128e-04\n",
      "Epoch 126/200\n",
      "7/7 [==============================] - 0s 7ms/step - loss: 3.7270e-04\n",
      "Epoch 127/200\n",
      "7/7 [==============================] - 0s 6ms/step - loss: 3.7643e-04\n",
      "Epoch 128/200\n",
      "7/7 [==============================] - 0s 7ms/step - loss: 3.7213e-04\n",
      "Epoch 129/200\n",
      "7/7 [==============================] - 0s 7ms/step - loss: 3.7609e-04\n",
      "Epoch 130/200\n",
      "7/7 [==============================] - 0s 7ms/step - loss: 3.7596e-04\n",
      "Epoch 131/200\n",
      "7/7 [==============================] - 0s 7ms/step - loss: 3.6657e-04\n",
      "Epoch 132/200\n",
      "7/7 [==============================] - 0s 7ms/step - loss: 3.6536e-04\n",
      "Epoch 133/200\n",
      "7/7 [==============================] - 0s 7ms/step - loss: 3.6532e-04\n",
      "Epoch 134/200\n",
      "7/7 [==============================] - 0s 7ms/step - loss: 3.6882e-04\n",
      "Epoch 135/200\n",
      "7/7 [==============================] - 0s 7ms/step - loss: 3.6530e-04\n",
      "Epoch 136/200\n",
      "7/7 [==============================] - 0s 7ms/step - loss: 3.6460e-04\n",
      "Epoch 137/200\n",
      "7/7 [==============================] - 0s 10ms/step - loss: 3.6271e-04\n",
      "Epoch 138/200\n",
      "7/7 [==============================] - 0s 8ms/step - loss: 3.6220e-04\n",
      "Epoch 139/200\n",
      "7/7 [==============================] - 0s 7ms/step - loss: 3.6434e-04\n",
      "Epoch 140/200\n",
      "7/7 [==============================] - 0s 7ms/step - loss: 3.6317e-04\n",
      "Epoch 141/200\n",
      "7/7 [==============================] - 0s 7ms/step - loss: 3.7069e-04\n",
      "Epoch 142/200\n",
      "7/7 [==============================] - 0s 6ms/step - loss: 3.6805e-04\n",
      "Epoch 143/200\n",
      "7/7 [==============================] - 0s 7ms/step - loss: 3.6212e-04\n",
      "Epoch 144/200\n",
      "7/7 [==============================] - 0s 7ms/step - loss: 3.6217e-04\n",
      "Epoch 145/200\n",
      "7/7 [==============================] - 0s 7ms/step - loss: 3.6782e-04\n",
      "Epoch 146/200\n",
      "7/7 [==============================] - 0s 7ms/step - loss: 3.6256e-04\n",
      "Epoch 147/200\n",
      "7/7 [==============================] - 0s 7ms/step - loss: 3.6467e-04\n",
      "Epoch 148/200\n",
      "7/7 [==============================] - 0s 7ms/step - loss: 3.6574e-04\n",
      "Epoch 149/200\n",
      "7/7 [==============================] - 0s 7ms/step - loss: 3.6365e-04\n",
      "Epoch 150/200\n",
      "7/7 [==============================] - 0s 7ms/step - loss: 3.6546e-04\n",
      "Epoch 151/200\n",
      "7/7 [==============================] - 0s 7ms/step - loss: 3.6617e-04\n",
      "Epoch 152/200\n",
      "7/7 [==============================] - 0s 6ms/step - loss: 3.7130e-04\n",
      "Epoch 153/200\n",
      "7/7 [==============================] - 0s 7ms/step - loss: 3.6842e-04\n",
      "Epoch 154/200\n",
      "7/7 [==============================] - 0s 7ms/step - loss: 3.7129e-04\n",
      "Epoch 155/200\n",
      "7/7 [==============================] - 0s 7ms/step - loss: 3.7616e-04\n",
      "Epoch 156/200\n",
      "7/7 [==============================] - 0s 7ms/step - loss: 3.8625e-04\n",
      "Epoch 157/200\n",
      "7/7 [==============================] - 0s 7ms/step - loss: 3.7112e-04\n",
      "Epoch 158/200\n",
      "7/7 [==============================] - 0s 7ms/step - loss: 3.6674e-04\n",
      "Epoch 159/200\n",
      "7/7 [==============================] - 0s 6ms/step - loss: 3.6302e-04\n",
      "Epoch 160/200\n",
      "7/7 [==============================] - 0s 7ms/step - loss: 3.7492e-04\n",
      "Epoch 161/200\n",
      "7/7 [==============================] - 0s 7ms/step - loss: 3.8162e-04\n",
      "Epoch 162/200\n",
      "7/7 [==============================] - 0s 7ms/step - loss: 4.0372e-04\n",
      "Epoch 163/200\n",
      "7/7 [==============================] - 0s 7ms/step - loss: 3.7873e-04\n",
      "Epoch 164/200\n",
      "7/7 [==============================] - 0s 6ms/step - loss: 3.7401e-04\n",
      "Epoch 165/200\n",
      "7/7 [==============================] - 0s 7ms/step - loss: 3.6780e-04\n",
      "Epoch 166/200\n",
      "7/7 [==============================] - 0s 7ms/step - loss: 3.6261e-04\n",
      "Epoch 167/200\n",
      "7/7 [==============================] - 0s 7ms/step - loss: 3.6715e-04\n",
      "Epoch 168/200\n",
      "7/7 [==============================] - 0s 6ms/step - loss: 3.6537e-04\n",
      "Epoch 169/200\n",
      "7/7 [==============================] - 0s 7ms/step - loss: 3.7802e-04\n",
      "Epoch 170/200\n",
      "7/7 [==============================] - 0s 7ms/step - loss: 3.6507e-04\n",
      "Epoch 171/200\n",
      "7/7 [==============================] - 0s 6ms/step - loss: 3.7175e-04\n",
      "Epoch 172/200\n",
      "7/7 [==============================] - 0s 6ms/step - loss: 3.6763e-04\n",
      "Epoch 173/200\n",
      "7/7 [==============================] - 0s 7ms/step - loss: 3.6377e-04\n",
      "Epoch 174/200\n",
      "7/7 [==============================] - 0s 6ms/step - loss: 3.6605e-04\n",
      "Epoch 175/200\n",
      "7/7 [==============================] - 0s 7ms/step - loss: 3.6784e-04\n",
      "Epoch 176/200\n",
      "7/7 [==============================] - 0s 7ms/step - loss: 3.6520e-04\n",
      "Epoch 177/200\n",
      "7/7 [==============================] - 0s 6ms/step - loss: 3.6318e-04\n",
      "Epoch 178/200\n",
      "7/7 [==============================] - 0s 11ms/step - loss: 3.6752e-04\n",
      "Epoch 179/200\n",
      "7/7 [==============================] - 0s 8ms/step - loss: 3.6464e-04\n",
      "Epoch 180/200\n",
      "7/7 [==============================] - 0s 6ms/step - loss: 3.7220e-04\n",
      "Epoch 181/200\n",
      "7/7 [==============================] - 0s 7ms/step - loss: 3.7867e-04\n",
      "Epoch 182/200\n",
      "7/7 [==============================] - 0s 7ms/step - loss: 3.8109e-04\n",
      "Epoch 183/200\n",
      "7/7 [==============================] - 0s 7ms/step - loss: 3.7923e-04\n",
      "Epoch 184/200\n",
      "7/7 [==============================] - 0s 7ms/step - loss: 3.7056e-04\n",
      "Epoch 185/200\n",
      "7/7 [==============================] - 0s 7ms/step - loss: 3.6543e-04\n",
      "Epoch 186/200\n",
      "7/7 [==============================] - 0s 6ms/step - loss: 3.6432e-04\n",
      "Epoch 187/200\n",
      "7/7 [==============================] - 0s 6ms/step - loss: 3.6846e-04\n",
      "Epoch 188/200\n",
      "7/7 [==============================] - 0s 8ms/step - loss: 3.7423e-04\n",
      "Epoch 189/200\n",
      "7/7 [==============================] - 0s 7ms/step - loss: 3.7364e-04\n",
      "Epoch 190/200\n",
      "7/7 [==============================] - 0s 6ms/step - loss: 3.6302e-04\n",
      "Epoch 191/200\n",
      "7/7 [==============================] - 0s 7ms/step - loss: 3.7648e-04\n",
      "Epoch 192/200\n",
      "7/7 [==============================] - 0s 6ms/step - loss: 3.7850e-04\n",
      "Epoch 193/200\n",
      "7/7 [==============================] - 0s 6ms/step - loss: 3.6882e-04\n",
      "Epoch 194/200\n",
      "7/7 [==============================] - 0s 7ms/step - loss: 3.6817e-04\n",
      "Epoch 195/200\n",
      "7/7 [==============================] - 0s 6ms/step - loss: 3.6500e-04\n",
      "Epoch 196/200\n",
      "7/7 [==============================] - 0s 6ms/step - loss: 3.6279e-04\n",
      "Epoch 197/200\n"
     ]
    },
    {
     "name": "stdout",
     "output_type": "stream",
     "text": [
      "7/7 [==============================] - 0s 7ms/step - loss: 3.6203e-04\n",
      "Epoch 198/200\n",
      "7/7 [==============================] - 0s 7ms/step - loss: 3.6880e-04\n",
      "Epoch 199/200\n",
      "7/7 [==============================] - 0s 6ms/step - loss: 3.6606e-04\n",
      "Epoch 200/200\n",
      "7/7 [==============================] - 0s 6ms/step - loss: 3.6547e-04\n"
     ]
    },
    {
     "data": {
      "text/plain": [
       "<keras.src.callbacks.History at 0x27737564d10>"
      ]
     },
     "execution_count": 10,
     "metadata": {},
     "output_type": "execute_result"
    }
   ],
   "source": [
    "model = Sequential()\n",
    "model.add(LSTM(50, return_sequences=True, input_shape=(X_train.shape[1], 1)))\n",
    "model.add(LSTM(50, return_sequences=True))\n",
    "model.add(LSTM(50, return_sequences=False))\n",
    "model.add(Dense(25))\n",
    "model.add(Dense(1))\n",
    "\n",
    "model.compile(optimizer='adam', loss='mean_squared_error')\n",
    "model.fit(X_train, y_train, batch_size=200, epochs=200, verbose=1)"
   ]
  },
  {
   "cell_type": "code",
   "execution_count": 11,
   "id": "92ef2e44",
   "metadata": {},
   "outputs": [
    {
     "name": "stdout",
     "output_type": "stream",
     "text": [
      "43/43 [==============================] - 2s 2ms/step\n",
      "11/11 [==============================] - 0s 2ms/step\n"
     ]
    }
   ],
   "source": [
    "pred_train = model.predict(X_train)\n",
    "pred = model.predict(X_test)"
   ]
  },
  {
   "cell_type": "code",
   "execution_count": 12,
   "id": "a77f781f",
   "metadata": {},
   "outputs": [],
   "source": [
    "pred_train = scaler.inverse_transform(pred_train)\n",
    "pred = scaler.inverse_transform(pred)\n",
    "y_test = scaler.inverse_transform([y_test])\n",
    "y_train = scaler.inverse_transform([y_train])"
   ]
  },
  {
   "cell_type": "code",
   "execution_count": 13,
   "id": "ab449e76",
   "metadata": {},
   "outputs": [],
   "source": [
    "y_test = y_test.flatten()\n",
    "y_train = y_train.flatten()"
   ]
  },
  {
   "cell_type": "code",
   "execution_count": 14,
   "id": "3003bbb6",
   "metadata": {},
   "outputs": [
    {
     "name": "stdout",
     "output_type": "stream",
     "text": [
      "Training Error\n",
      "Mean Absolute Error (MAE): 1.683166051835323\n",
      "Root Mean Squared Error (RMSE): 2.665626360754403\n"
     ]
    },
    {
     "data": {
      "image/png": "[encoded data removed]",
      "text/plain": [
       "<Figure size 640x480 with 1 Axes>"
      ]
     },
     "metadata": {},
     "output_type": "display_data"
    }
   ],
   "source": [
    "print(\"Training Error\")\n",
    "mae = mean_absolute_error(y_train, pred_train)\n",
    "print(\"Mean Absolute Error (MAE):\", mae)\n",
    "rmse = sqrt(mean_squared_error(y_train, pred_train))\n",
    "print(\"Root Mean Squared Error (RMSE):\", rmse)\n",
    "    \n",
    "plt.plot(y_train, label = 'actual '+str(ticker))\n",
    "plt.plot(pred_train, label = 'predicted '+str(ticker))\n",
    "plt.title(\"Training Plot\")\n",
    "plt.legend()\n",
    "plt.show()"
   ]
  },
  {
   "cell_type": "code",
   "execution_count": 15,
   "id": "01e9e93d",
   "metadata": {},
   "outputs": [
    {
     "name": "stdout",
     "output_type": "stream",
     "text": [
      "Testing Error\n",
      "Mean Absolute Error (MAE): 2.013322462115371\n",
      "Root Mean Squared Error (RMSE): 2.667243430327057\n"
     ]
    },
    {
     "data": {
      "image/png": "[encoded data removed]",
      "text/plain": [
       "<Figure size 640x480 with 1 Axes>"
      ]
     },
     "metadata": {},
     "output_type": "display_data"
    }
   ],
   "source": [
    "print(\"Testing Error\")\n",
    "mae = mean_absolute_error(y_test, pred)\n",
    "print(\"Mean Absolute Error (MAE):\", mae)\n",
    "rmse = sqrt(mean_squared_error(y_test, pred))\n",
    "print(\"Root Mean Squared Error (RMSE):\", rmse)\n",
    "\n",
    "plt.plot(y_test, label = 'actual '+str(ticker))\n",
    "plt.plot(pred, label = 'predicted '+str(ticker))\n",
    "plt.title(\"Testing Plot\")\n",
    "plt.legend()\n",
    "plt.show()"
   ]
  },
  {
   "cell_type": "markdown",
   "id": "a39de483",
   "metadata": {},
   "source": [
    "## 5 days future prediction without correction"
   ]
  },
  {
   "cell_type": "code",
   "execution_count": 16,
   "id": "b9dec815",
   "metadata": {
    "scrolled": true
   },
   "outputs": [
    {
     "data": {
      "text/plain": [
       "array([[0.05075778],\n",
       "       [0.0520446 ],\n",
       "       [0.05054332],\n",
       "       ...,\n",
       "       [0.64283677],\n",
       "       [0.68551611],\n",
       "       [0.73319994]])"
      ]
     },
     "execution_count": 16,
     "metadata": {},
     "output_type": "execute_result"
    }
   ],
   "source": [
    "scaled_data"
   ]
  },
  {
   "cell_type": "code",
   "execution_count": 17,
   "id": "a42ce6ad",
   "metadata": {},
   "outputs": [
    {
     "data": {
      "text/plain": [
       "(1367, 342, 1711)"
      ]
     },
     "execution_count": 17,
     "metadata": {},
     "output_type": "execute_result"
    }
   ],
   "source": [
    "len(X_train), len(X_test),  len(scaled_data)"
   ]
  },
  {
   "cell_type": "code",
   "execution_count": 18,
   "id": "73ea43f2",
   "metadata": {},
   "outputs": [],
   "source": [
    "reshaped_data = scaled_data.reshape(scaled_data.shape[0], scaled_data.shape[1], 1)"
   ]
  },
  {
   "cell_type": "code",
   "execution_count": 19,
   "id": "3d6562ab",
   "metadata": {},
   "outputs": [
    {
     "data": {
      "text/plain": [
       "array([[[0.62432082]],\n",
       "\n",
       "       [[0.6407635 ]],\n",
       "\n",
       "       [[0.64691164]],\n",
       "\n",
       "       [[0.64276521]],\n",
       "\n",
       "       [[0.6407635 ]],\n",
       "\n",
       "       [[0.6491278 ]],\n",
       "\n",
       "       [[0.65570486]],\n",
       "\n",
       "       [[0.64283677]],\n",
       "\n",
       "       [[0.68551611]],\n",
       "\n",
       "       [[0.73319994]]])"
      ]
     },
     "execution_count": 19,
     "metadata": {},
     "output_type": "execute_result"
    }
   ],
   "source": [
    "future_data_to_predict = reshaped_data[-10:]\n",
    "future_data_to_predict"
   ]
  },
  {
   "cell_type": "code",
   "execution_count": 20,
   "id": "90bbf305",
   "metadata": {},
   "outputs": [
    {
     "data": {
      "text/plain": [
       "(3, 3)"
      ]
     },
     "execution_count": 20,
     "metadata": {},
     "output_type": "execute_result"
    }
   ],
   "source": [
    "X_test.ndim, reshaped_data.ndim"
   ]
  },
  {
   "cell_type": "code",
   "execution_count": 21,
   "id": "d7913819",
   "metadata": {},
   "outputs": [
    {
     "name": "stdout",
     "output_type": "stream",
     "text": [
      "1/1 [==============================] - 0s 33ms/step\n",
      "[137.15091 139.43692 140.29086 139.715   139.43692 140.59857 141.51141\n",
      " 139.72493 145.64209 152.22414]\n"
     ]
    }
   ],
   "source": [
    "def predict_future(last_input):\n",
    "    \n",
    "    res = model.predict(last_input)\n",
    "    Output = scaler.inverse_transform(res)\n",
    "    return Output\n",
    "\n",
    "future_predictions_1 = predict_future(future_data_to_predict)\n",
    "# print(future_predictions_1)\n",
    "\n",
    "future_predictions_1 = future_predictions_1.flatten()\n",
    "print(future_predictions_1)"
   ]
  },
  {
   "cell_type": "code",
   "execution_count": 22,
   "id": "177cb2d7",
   "metadata": {},
   "outputs": [],
   "source": [
    "# def predict_future(last_input):\n",
    "    \n",
    "#     res = model.predict(last_input)\n",
    "#     Output = scaler.inverse_transform(res)\n",
    "#     return Output\n",
    "\n",
    "# future_predictions_2 = predict_future(X_test[-5:])\n",
    "# # print(future_predictions_2)\n",
    "\n",
    "# future_predictions_2 = future_predictions_2.flatten()\n",
    "# print(future_predictions_2)"
   ]
  },
  {
   "cell_type": "code",
   "execution_count": 23,
   "id": "bfbbf4ea",
   "metadata": {},
   "outputs": [],
   "source": [
    "day=range(1,(len(future_data_to_predict)+1))"
   ]
  },
  {
   "cell_type": "code",
   "execution_count": 24,
   "id": "c7eafece",
   "metadata": {},
   "outputs": [
    {
     "data": {
      "image/png": "[encoded data removed]",
      "text/plain": [
       "<Figure size 640x480 with 1 Axes>"
      ]
     },
     "metadata": {},
     "output_type": "display_data"
    }
   ],
   "source": [
    "plt.plot(day, future_predictions_1, color='red', label='scaled_data')\n",
    "# plt.plot(day, future_predictions_2, color='blue', label='x_test')\n",
    "plt.legend()\n",
    "plt.show()"
   ]
  },
  {
   "cell_type": "code",
   "execution_count": 25,
   "id": "b1b1174b",
   "metadata": {},
   "outputs": [],
   "source": [
    "# ticker = \"AMZN\"\n",
    "# start='2024-01-22'\n",
    "# end='2024-01-26'\n",
    "# df = yf.download(ticker, start=start, end=end)\n",
    "# # print(df)\n",
    "# actual = df['Close'].values\n",
    "# print(actual)"
   ]
  },
  {
   "cell_type": "code",
   "execution_count": 26,
   "id": "246eb22b",
   "metadata": {},
   "outputs": [],
   "source": [
    "# day_actual = np.arange(1,21)\n",
    "# day_pred = np.arange(1,21)"
   ]
  },
  {
   "cell_type": "code",
   "execution_count": 27,
   "id": "93ab4b80",
   "metadata": {},
   "outputs": [],
   "source": [
    "# plt.figure(figsize=(8,6))\n",
    "# plt.title(f'Plot for {ticker} from {start} till {end}')\n",
    "# plt.xlabel('No. of Days')\n",
    "# plt.ylabel('Price Values')\n",
    "# plt.plot(day_actual, actual, label = 'actual price', color='blue')\n",
    "# plt.plot(day_pred, future_predictions_1, label = 'predicted price', color='red')\n",
    "# plt.legend()\n",
    "# plt.show()"
   ]
  },
  {
   "cell_type": "markdown",
   "id": "3acc2324",
   "metadata": {},
   "source": [
    "## Buy and Sell"
   ]
  },
  {
   "cell_type": "code",
   "execution_count": 28,
   "id": "f8c67516",
   "metadata": {},
   "outputs": [],
   "source": [
    "def get_control_vector(val):\n",
    "    return np.diff(np.sign(np.diff(val)))\n",
    "\n",
    "def buy_and_sell_bot(val,controls):\n",
    "    inv = []\n",
    "    curr_val = 1000\n",
    "    inds = np.where(controls)[0]\n",
    "    buy_inds = np.where(controls>0)[0]\n",
    "    sell_inds = np.where(controls<0)[0]\n",
    "    max_limit = sell_inds[-1] if sell_inds[-1]>buy_inds[-1] else buy_inds[-1]\n",
    "    for i in range(buy_inds[0]+2):\n",
    "        inv.append(curr_val)\n",
    "    for i in range(buy_inds[0],max_limit+1):\n",
    "        if controls[i]>0:\n",
    "            buy_val = val[i+1]\n",
    "        elif controls[i]<0:\n",
    "            sell_val = val[i+1]\n",
    "            curr_val = curr_val*sell_val/buy_val\n",
    "        inv.append(curr_val)\n",
    "        \n",
    "    if max_limit+1!=len(controls):\n",
    "        for i in range(len(controls)-max_limit-1):\n",
    "            inv.append(curr_val)\n",
    "    return inv\n",
    "\n",
    "# def buy_and_sell_bot(val, controls):\n",
    "#     inv = []\n",
    "#     curr_val = 1000\n",
    "#     buy_inds = np.where(controls > 0)[0]\n",
    "#     sell_inds = np.where(controls < 0)[0]\n",
    "    \n",
    "#     if buy_inds.size == 0 or sell_inds.size == 0:\n",
    "#         return [curr_val] * len(controls)\n",
    "    \n",
    "#     max_limit = max(sell_inds[-1], buy_inds[-1])\n",
    "#     for i in range(buy_inds[0] + 2):\n",
    "#         inv.append(curr_val)\n",
    "        \n",
    "#     for i in range(buy_inds[0], max_limit + 1):\n",
    "#         if controls[i] > 0:\n",
    "#             buy_val = val[i + 1]\n",
    "#         elif controls[i] < 0:\n",
    "#             sell_val = val[i + 1]\n",
    "#             curr_val = curr_val * sell_val / buy_val\n",
    "#         inv.append(curr_val)\n",
    "        \n",
    "#     if max_limit + 1 != len(controls):\n",
    "#         for i in range(len(controls) - max_limit - 1):\n",
    "#             inv.append(curr_val)\n",
    "    \n",
    "#     return inv"
   ]
  },
  {
   "cell_type": "code",
   "execution_count": 29,
   "id": "d4467228",
   "metadata": {
    "scrolled": true
   },
   "outputs": [
    {
     "data": {
      "text/plain": [
       "(array([ 0., -2.,  0.,  2.,  0., -2.,  2.,  0.], dtype=float32),\n",
       " [1000,\n",
       "  1000,\n",
       "  1000,\n",
       "  1000,\n",
       "  1000,\n",
       "  1000,\n",
       "  1000,\n",
       "  1014.8776479409701,\n",
       "  1014.8776479409701,\n",
       "  1014.8776479409701])"
      ]
     },
     "execution_count": 29,
     "metadata": {},
     "output_type": "execute_result"
    }
   ],
   "source": [
    "controls_pred= get_control_vector(future_predictions_1)\n",
    "amount_pred = buy_and_sell_bot(future_predictions_1, controls_pred)\n",
    "controls_pred, amount_pred"
   ]
  },
  {
   "cell_type": "code",
   "execution_count": 30,
   "id": "fd37afe7",
   "metadata": {},
   "outputs": [],
   "source": [
    "# controls_actual= get_control_vector(actual)\n",
    "# amount_actual = buy_and_sell_bot(actual, controls_actual)\n",
    "# controls_actual, amount_actual"
   ]
  },
  {
   "cell_type": "code",
   "execution_count": 31,
   "id": "18049677",
   "metadata": {},
   "outputs": [
    {
     "data": {
      "image/png": "[encoded data removed]",
      "text/plain": [
       "<Figure size 640x480 with 1 Axes>"
      ]
     },
     "metadata": {},
     "output_type": "display_data"
    }
   ],
   "source": [
    "# plt.plot(amount_actual, label=\"actual\")\n",
    "plt.plot(amount_pred, label=\"pred\")\n",
    "plt.legend()\n",
    "plt.title(f\"{ticker} Returns\")\n",
    "plt.show()"
   ]
  },
  {
   "cell_type": "markdown",
   "id": "b11ee162",
   "metadata": {},
   "source": [
    "### Price values along with dates"
   ]
  },
  {
   "cell_type": "code",
   "execution_count": 32,
   "id": "bcbc4f2f",
   "metadata": {},
   "outputs": [],
   "source": [
    "from datetime import datetime, timedelta\n",
    "count=31\n",
    "Date = []\n",
    "for i in range(22,34):\n",
    "    if i == 27:\n",
    "        continue\n",
    "    elif i == 28:\n",
    "        continue\n",
    "    elif i >= 32:\n",
    "        i = i-count\n",
    "        base_date = datetime(2024,2,i)\n",
    "        formatted_date = base_date.strftime('%d-%m-%Y')\n",
    "        Date.append(formatted_date)\n",
    "    else:\n",
    "        base_date = datetime(2024,1,i)\n",
    "        formatted_date = base_date.strftime('%d-%m-%Y')\n",
    "        Date.append(formatted_date)"
   ]
  },
  {
   "cell_type": "code",
   "execution_count": 33,
   "id": "dc78e33b",
   "metadata": {},
   "outputs": [],
   "source": [
    "price_value_dict = {}\n",
    "price_value_dict['Date'] = Date\n",
    "price_value_dict['Closing Price'] = future_predictions_1.tolist()"
   ]
  },
  {
   "cell_type": "code",
   "execution_count": 34,
   "id": "f15efdad",
   "metadata": {
    "scrolled": true
   },
   "outputs": [],
   "source": [
    "# price_value_dict"
   ]
  },
  {
   "cell_type": "code",
   "execution_count": 35,
   "id": "adca4a68",
   "metadata": {
    "scrolled": true
   },
   "outputs": [],
   "source": [
    "Price_with_dates = pd.DataFrame(price_value_dict)"
   ]
  },
  {
   "cell_type": "code",
   "execution_count": 36,
   "id": "5559f2b8",
   "metadata": {},
   "outputs": [],
   "source": [
    "Price_with_dates.columns = pd.MultiIndex.from_tuples([(f'{ticker}', 'Date'), (f'{ticker}', 'Closing Price')])"
   ]
  },
  {
   "cell_type": "code",
   "execution_count": 37,
   "id": "87d4bcc2",
   "metadata": {},
   "outputs": [
    {
     "data": {
      "text/html": [
       "<div>\n",
       "<style scoped>\n",
       "    .dataframe tbody tr th:only-of-type {\n",
       "        vertical-align: middle;\n",
       "    }\n",
       "\n",
       "    .dataframe tbody tr th {\n",
       "        vertical-align: top;\n",
       "    }\n",
       "\n",
       "    .dataframe thead tr th {\n",
       "        text-align: left;\n",
       "    }\n",
       "</style>\n",
       "<table border=\"1\" class=\"dataframe\">\n",
       "  <thead>\n",
       "    <tr>\n",
       "      <th></th>\n",
       "      <th colspan=\"2\" halign=\"left\">QCOM</th>\n",
       "    </tr>\n",
       "    <tr>\n",
       "      <th></th>\n",
       "      <th>Date</th>\n",
       "      <th>Closing Price</th>\n",
       "    </tr>\n",
       "  </thead>\n",
       "  <tbody>\n",
       "    <tr>\n",
       "      <th>0</th>\n",
       "      <td>22-01-2024</td>\n",
       "      <td>137.150909</td>\n",
       "    </tr>\n",
       "    <tr>\n",
       "      <th>1</th>\n",
       "      <td>23-01-2024</td>\n",
       "      <td>139.436920</td>\n",
       "    </tr>\n",
       "    <tr>\n",
       "      <th>2</th>\n",
       "      <td>24-01-2024</td>\n",
       "      <td>140.290863</td>\n",
       "    </tr>\n",
       "    <tr>\n",
       "      <th>3</th>\n",
       "      <td>25-01-2024</td>\n",
       "      <td>139.714996</td>\n",
       "    </tr>\n",
       "    <tr>\n",
       "      <th>4</th>\n",
       "      <td>26-01-2024</td>\n",
       "      <td>139.436920</td>\n",
       "    </tr>\n",
       "    <tr>\n",
       "      <th>5</th>\n",
       "      <td>29-01-2024</td>\n",
       "      <td>140.598572</td>\n",
       "    </tr>\n",
       "    <tr>\n",
       "      <th>6</th>\n",
       "      <td>30-01-2024</td>\n",
       "      <td>141.511414</td>\n",
       "    </tr>\n",
       "    <tr>\n",
       "      <th>7</th>\n",
       "      <td>31-01-2024</td>\n",
       "      <td>139.724930</td>\n",
       "    </tr>\n",
       "    <tr>\n",
       "      <th>8</th>\n",
       "      <td>01-02-2024</td>\n",
       "      <td>145.642090</td>\n",
       "    </tr>\n",
       "    <tr>\n",
       "      <th>9</th>\n",
       "      <td>02-02-2024</td>\n",
       "      <td>152.224136</td>\n",
       "    </tr>\n",
       "  </tbody>\n",
       "</table>\n",
       "</div>"
      ],
      "text/plain": [
       "         QCOM              \n",
       "         Date Closing Price\n",
       "0  22-01-2024    137.150909\n",
       "1  23-01-2024    139.436920\n",
       "2  24-01-2024    140.290863\n",
       "3  25-01-2024    139.714996\n",
       "4  26-01-2024    139.436920\n",
       "5  29-01-2024    140.598572\n",
       "6  30-01-2024    141.511414\n",
       "7  31-01-2024    139.724930\n",
       "8  01-02-2024    145.642090\n",
       "9  02-02-2024    152.224136"
      ]
     },
     "execution_count": 37,
     "metadata": {},
     "output_type": "execute_result"
    }
   ],
   "source": [
    "Price_with_dates"
   ]
  },
  {
   "cell_type": "code",
   "execution_count": null,
   "id": "a5d01ed2",
   "metadata": {},
   "outputs": [],
   "source": []
  },
  {
   "cell_type": "code",
   "execution_count": 38,
   "id": "ccffb3d2",
   "metadata": {},
   "outputs": [],
   "source": [
    "ticker = \"QCOM\"\n",
    "start = \"2024-01-22\"\n",
    "end = \"2024-01-31\""
   ]
  },
  {
   "cell_type": "code",
   "execution_count": 39,
   "id": "9b9c32c8",
   "metadata": {},
   "outputs": [
    {
     "name": "stdout",
     "output_type": "stream",
     "text": [
      "[*********************100%***********************]  1 of 1 completed\n"
     ]
    },
    {
     "data": {
      "text/html": [
       "<div>\n",
       "<style scoped>\n",
       "    .dataframe tbody tr th:only-of-type {\n",
       "        vertical-align: middle;\n",
       "    }\n",
       "\n",
       "    .dataframe tbody tr th {\n",
       "        vertical-align: top;\n",
       "    }\n",
       "\n",
       "    .dataframe thead th {\n",
       "        text-align: right;\n",
       "    }\n",
       "</style>\n",
       "<table border=\"1\" class=\"dataframe\">\n",
       "  <thead>\n",
       "    <tr style=\"text-align: right;\">\n",
       "      <th></th>\n",
       "      <th>Open</th>\n",
       "      <th>High</th>\n",
       "      <th>Low</th>\n",
       "      <th>Close</th>\n",
       "      <th>Adj Close</th>\n",
       "      <th>Volume</th>\n",
       "    </tr>\n",
       "    <tr>\n",
       "      <th>Date</th>\n",
       "      <th></th>\n",
       "      <th></th>\n",
       "      <th></th>\n",
       "      <th></th>\n",
       "      <th></th>\n",
       "      <th></th>\n",
       "    </tr>\n",
       "  </thead>\n",
       "  <tbody>\n",
       "    <tr>\n",
       "      <th>2024-01-22</th>\n",
       "      <td>152.750000</td>\n",
       "      <td>154.570007</td>\n",
       "      <td>151.869995</td>\n",
       "      <td>152.869995</td>\n",
       "      <td>152.869995</td>\n",
       "      <td>10456100</td>\n",
       "    </tr>\n",
       "    <tr>\n",
       "      <th>2024-01-23</th>\n",
       "      <td>152.869995</td>\n",
       "      <td>153.740005</td>\n",
       "      <td>151.410004</td>\n",
       "      <td>153.500000</td>\n",
       "      <td>153.500000</td>\n",
       "      <td>6232300</td>\n",
       "    </tr>\n",
       "    <tr>\n",
       "      <th>2024-01-24</th>\n",
       "      <td>154.789993</td>\n",
       "      <td>156.320007</td>\n",
       "      <td>153.899994</td>\n",
       "      <td>154.369995</td>\n",
       "      <td>154.369995</td>\n",
       "      <td>8331900</td>\n",
       "    </tr>\n",
       "    <tr>\n",
       "      <th>2024-01-25</th>\n",
       "      <td>157.600006</td>\n",
       "      <td>157.979996</td>\n",
       "      <td>153.669998</td>\n",
       "      <td>154.470001</td>\n",
       "      <td>154.470001</td>\n",
       "      <td>7740900</td>\n",
       "    </tr>\n",
       "    <tr>\n",
       "      <th>2024-01-26</th>\n",
       "      <td>152.210007</td>\n",
       "      <td>152.979996</td>\n",
       "      <td>150.380005</td>\n",
       "      <td>150.720001</td>\n",
       "      <td>150.720001</td>\n",
       "      <td>7744200</td>\n",
       "    </tr>\n",
       "    <tr>\n",
       "      <th>2024-01-29</th>\n",
       "      <td>150.399994</td>\n",
       "      <td>151.240005</td>\n",
       "      <td>148.419998</td>\n",
       "      <td>149.639999</td>\n",
       "      <td>149.639999</td>\n",
       "      <td>10763600</td>\n",
       "    </tr>\n",
       "    <tr>\n",
       "      <th>2024-01-30</th>\n",
       "      <td>148.000000</td>\n",
       "      <td>148.800003</td>\n",
       "      <td>147.179993</td>\n",
       "      <td>147.380005</td>\n",
       "      <td>147.380005</td>\n",
       "      <td>2567412</td>\n",
       "    </tr>\n",
       "  </tbody>\n",
       "</table>\n",
       "</div>"
      ],
      "text/plain": [
       "                  Open        High         Low       Close   Adj Close  \\\n",
       "Date                                                                     \n",
       "2024-01-22  152.750000  154.570007  151.869995  152.869995  152.869995   \n",
       "2024-01-23  152.869995  153.740005  151.410004  153.500000  153.500000   \n",
       "2024-01-24  154.789993  156.320007  153.899994  154.369995  154.369995   \n",
       "2024-01-25  157.600006  157.979996  153.669998  154.470001  154.470001   \n",
       "2024-01-26  152.210007  152.979996  150.380005  150.720001  150.720001   \n",
       "2024-01-29  150.399994  151.240005  148.419998  149.639999  149.639999   \n",
       "2024-01-30  148.000000  148.800003  147.179993  147.380005  147.380005   \n",
       "\n",
       "              Volume  \n",
       "Date                  \n",
       "2024-01-22  10456100  \n",
       "2024-01-23   6232300  \n",
       "2024-01-24   8331900  \n",
       "2024-01-25   7740900  \n",
       "2024-01-26   7744200  \n",
       "2024-01-29  10763600  \n",
       "2024-01-30   2567412  "
      ]
     },
     "execution_count": 39,
     "metadata": {},
     "output_type": "execute_result"
    }
   ],
   "source": [
    "df = yf.download(ticker, start=start, end=end)\n",
    "df"
   ]
  },
  {
   "cell_type": "code",
   "execution_count": 40,
   "id": "76b7ae8a",
   "metadata": {},
   "outputs": [],
   "source": [
    "actual_data = df['Close'].values"
   ]
  },
  {
   "cell_type": "code",
   "execution_count": 41,
   "id": "87ef913b",
   "metadata": {},
   "outputs": [],
   "source": [
    "day_actual = range(1,8)\n",
    "day_predicted = range(1,11)"
   ]
  },
  {
   "cell_type": "code",
   "execution_count": 42,
   "id": "e570f2ed",
   "metadata": {},
   "outputs": [
    {
     "data": {
      "image/png": "[encoded data removed]",
      "text/plain": [
       "<Figure size 640x480 with 1 Axes>"
      ]
     },
     "metadata": {},
     "output_type": "display_data"
    }
   ],
   "source": [
    "plt.plot(day_actual, actual_data, color='red', label='actual')\n",
    "plt.plot(day_predicted, future_predictions_1, color='blue', label='predicted')\n",
    "plt.legend()\n",
    "plt.show()"
   ]
  },
  {
   "cell_type": "code",
   "execution_count": null,
   "id": "fda92927",
   "metadata": {},
   "outputs": [],
   "source": []
  },
  {
   "cell_type": "code",
   "execution_count": null,
   "id": "c8c3f9d1",
   "metadata": {},
   "outputs": [],
   "source": []
  }
 ],
 "metadata": {
  "kernelspec": {
   "display_name": "Python 3 (ipykernel)",
   "language": "python",
   "name": "python3"
  },
  "language_info": {
   "codemirror_mode": {
    "name": "ipython",
    "version": 3
   },
   "file_extension": ".py",
   "mimetype": "text/x-python",
   "name": "python",
   "nbconvert_exporter": "python",
   "pygments_lexer": "ipython3",
   "version": "3.11.4"
  }
 },
 "nbformat": 4,
 "nbformat_minor": 5
}
