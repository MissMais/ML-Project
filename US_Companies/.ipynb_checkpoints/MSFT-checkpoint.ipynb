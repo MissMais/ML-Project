{
 "cells": [
  {
   "cell_type": "code",
   "execution_count": 1,
   "id": "3e3175db",
   "metadata": {},
   "outputs": [],
   "source": [
    "import numpy as np\n",
    "import pandas as pd\n",
    "import yfinance as yf\n",
    "import matplotlib.pyplot as plt\n",
    "from sklearn.preprocessing import MinMaxScaler\n",
    "from keras.models import Sequential\n",
    "from keras.layers import LSTM, Dense\n",
    "from sklearn.metrics import mean_squared_error, mean_absolute_error, accuracy_score\n",
    "from math import sqrt"
   ]
  },
  {
   "cell_type": "code",
   "execution_count": 2,
   "id": "beee8595",
   "metadata": {},
   "outputs": [],
   "source": [
    "ticker = \"MSFT\"\n",
    "start = \"2017-04-01\"\n",
    "end = \"2024-01-20\""
   ]
  },
  {
   "cell_type": "code",
   "execution_count": 4,
   "id": "c4d883e3",
   "metadata": {
    "scrolled": true
   },
   "outputs": [
    {
     "name": "stdout",
     "output_type": "stream",
     "text": [
      "[*********************100%***********************]  1 of 1 completed\n"
     ]
    },
    {
     "data": {
      "text/html": [
       "<div>\n",
       "<style scoped>\n",
       "    .dataframe tbody tr th:only-of-type {\n",
       "        vertical-align: middle;\n",
       "    }\n",
       "\n",
       "    .dataframe tbody tr th {\n",
       "        vertical-align: top;\n",
       "    }\n",
       "\n",
       "    .dataframe thead th {\n",
       "        text-align: right;\n",
       "    }\n",
       "</style>\n",
       "<table border=\"1\" class=\"dataframe\">\n",
       "  <thead>\n",
       "    <tr style=\"text-align: right;\">\n",
       "      <th></th>\n",
       "      <th>Open</th>\n",
       "      <th>High</th>\n",
       "      <th>Low</th>\n",
       "      <th>Close</th>\n",
       "      <th>Adj Close</th>\n",
       "      <th>Volume</th>\n",
       "    </tr>\n",
       "    <tr>\n",
       "      <th>Date</th>\n",
       "      <th></th>\n",
       "      <th></th>\n",
       "      <th></th>\n",
       "      <th></th>\n",
       "      <th></th>\n",
       "      <th></th>\n",
       "    </tr>\n",
       "  </thead>\n",
       "  <tbody>\n",
       "    <tr>\n",
       "      <th>2024-01-05</th>\n",
       "      <td>368.970001</td>\n",
       "      <td>372.059998</td>\n",
       "      <td>366.500000</td>\n",
       "      <td>367.750000</td>\n",
       "      <td>367.750000</td>\n",
       "      <td>20987000</td>\n",
       "    </tr>\n",
       "    <tr>\n",
       "      <th>2024-01-08</th>\n",
       "      <td>369.299988</td>\n",
       "      <td>375.200012</td>\n",
       "      <td>369.010010</td>\n",
       "      <td>374.690002</td>\n",
       "      <td>374.690002</td>\n",
       "      <td>23134000</td>\n",
       "    </tr>\n",
       "    <tr>\n",
       "      <th>2024-01-09</th>\n",
       "      <td>372.010010</td>\n",
       "      <td>375.989990</td>\n",
       "      <td>371.190002</td>\n",
       "      <td>375.790009</td>\n",
       "      <td>375.790009</td>\n",
       "      <td>20830000</td>\n",
       "    </tr>\n",
       "    <tr>\n",
       "      <th>2024-01-10</th>\n",
       "      <td>376.369995</td>\n",
       "      <td>384.170013</td>\n",
       "      <td>376.320007</td>\n",
       "      <td>382.769989</td>\n",
       "      <td>382.769989</td>\n",
       "      <td>25514200</td>\n",
       "    </tr>\n",
       "    <tr>\n",
       "      <th>2024-01-11</th>\n",
       "      <td>386.000000</td>\n",
       "      <td>390.679993</td>\n",
       "      <td>380.380005</td>\n",
       "      <td>384.630005</td>\n",
       "      <td>384.630005</td>\n",
       "      <td>27850800</td>\n",
       "    </tr>\n",
       "    <tr>\n",
       "      <th>2024-01-12</th>\n",
       "      <td>385.489990</td>\n",
       "      <td>388.679993</td>\n",
       "      <td>384.649994</td>\n",
       "      <td>388.470001</td>\n",
       "      <td>388.470001</td>\n",
       "      <td>21645700</td>\n",
       "    </tr>\n",
       "    <tr>\n",
       "      <th>2024-01-16</th>\n",
       "      <td>393.660004</td>\n",
       "      <td>394.029999</td>\n",
       "      <td>387.619995</td>\n",
       "      <td>390.269989</td>\n",
       "      <td>390.269989</td>\n",
       "      <td>27202300</td>\n",
       "    </tr>\n",
       "    <tr>\n",
       "      <th>2024-01-17</th>\n",
       "      <td>387.980011</td>\n",
       "      <td>390.109985</td>\n",
       "      <td>384.809998</td>\n",
       "      <td>389.470001</td>\n",
       "      <td>389.470001</td>\n",
       "      <td>22234100</td>\n",
       "    </tr>\n",
       "    <tr>\n",
       "      <th>2024-01-18</th>\n",
       "      <td>391.720001</td>\n",
       "      <td>393.989990</td>\n",
       "      <td>390.119995</td>\n",
       "      <td>393.869995</td>\n",
       "      <td>393.869995</td>\n",
       "      <td>23392100</td>\n",
       "    </tr>\n",
       "    <tr>\n",
       "      <th>2024-01-19</th>\n",
       "      <td>395.760010</td>\n",
       "      <td>398.670013</td>\n",
       "      <td>393.500000</td>\n",
       "      <td>398.670013</td>\n",
       "      <td>398.670013</td>\n",
       "      <td>29272000</td>\n",
       "    </tr>\n",
       "  </tbody>\n",
       "</table>\n",
       "</div>"
      ],
      "text/plain": [
       "                  Open        High         Low       Close   Adj Close  \\\n",
       "Date                                                                     \n",
       "2024-01-05  368.970001  372.059998  366.500000  367.750000  367.750000   \n",
       "2024-01-08  369.299988  375.200012  369.010010  374.690002  374.690002   \n",
       "2024-01-09  372.010010  375.989990  371.190002  375.790009  375.790009   \n",
       "2024-01-10  376.369995  384.170013  376.320007  382.769989  382.769989   \n",
       "2024-01-11  386.000000  390.679993  380.380005  384.630005  384.630005   \n",
       "2024-01-12  385.489990  388.679993  384.649994  388.470001  388.470001   \n",
       "2024-01-16  393.660004  394.029999  387.619995  390.269989  390.269989   \n",
       "2024-01-17  387.980011  390.109985  384.809998  389.470001  389.470001   \n",
       "2024-01-18  391.720001  393.989990  390.119995  393.869995  393.869995   \n",
       "2024-01-19  395.760010  398.670013  393.500000  398.670013  398.670013   \n",
       "\n",
       "              Volume  \n",
       "Date                  \n",
       "2024-01-05  20987000  \n",
       "2024-01-08  23134000  \n",
       "2024-01-09  20830000  \n",
       "2024-01-10  25514200  \n",
       "2024-01-11  27850800  \n",
       "2024-01-12  21645700  \n",
       "2024-01-16  27202300  \n",
       "2024-01-17  22234100  \n",
       "2024-01-18  23392100  \n",
       "2024-01-19  29272000  "
      ]
     },
     "execution_count": 4,
     "metadata": {},
     "output_type": "execute_result"
    }
   ],
   "source": [
    "df = yf.download(ticker, start=start, end=end)\n",
    "df.tail(10)"
   ]
  },
  {
   "cell_type": "code",
   "execution_count": 5,
   "id": "4fd894f3",
   "metadata": {},
   "outputs": [
    {
     "name": "stdout",
     "output_type": "stream",
     "text": [
      "(1711,)\n"
     ]
    }
   ],
   "source": [
    "ClosingPrice = df['Close']\n",
    "\n",
    "# print(data)\n",
    "print(ClosingPrice.values.shape)\n",
    "\n",
    "scaler = MinMaxScaler()\n",
    "scaled_data = scaler.fit_transform(ClosingPrice.values.reshape(-1, 1))\n",
    "# print(scaled_data)"
   ]
  },
  {
   "cell_type": "code",
   "execution_count": 6,
   "id": "9827d44b",
   "metadata": {},
   "outputs": [
    {
     "data": {
      "image/png": "[encoded data removed]",
      "text/plain": [
       "<Figure size 640x480 with 1 Axes>"
      ]
     },
     "metadata": {},
     "output_type": "display_data"
    }
   ],
   "source": [
    "plt.plot(scaled_data)\n",
    "plt.title(f'{ticker} Closing Price')\n",
    "plt.show()"
   ]
  },
  {
   "cell_type": "code",
   "execution_count": 7,
   "id": "d0ab277e",
   "metadata": {},
   "outputs": [
    {
     "data": {
      "text/plain": [
       "(1368, 343)"
      ]
     },
     "execution_count": 7,
     "metadata": {},
     "output_type": "execute_result"
    }
   ],
   "source": [
    "training_data_len = int(len(scaled_data) * 0.8)\n",
    "\n",
    "training_data = scaled_data[0:training_data_len, :]\n",
    "testing_data = scaled_data[training_data_len:, :]\n",
    "\n",
    "len(training_data), len(testing_data)"
   ]
  },
  {
   "cell_type": "code",
   "execution_count": 8,
   "id": "a5a9517b",
   "metadata": {},
   "outputs": [],
   "source": [
    "past_values = 1\n",
    "\n",
    "def create_training_data(data, past_values):\n",
    "    if len(data) < past_values:\n",
    "        return np.array([]), np.array([])\n",
    "    X_train = []\n",
    "    y_train = []\n",
    "    for i in range(past_values, len(data)):\n",
    "        X_train.append(data[i-past_values:i, 0])\n",
    "        y_train.append(data[i, 0])\n",
    "    return np.array(X_train), np.array(y_train)\n",
    "\n",
    "X_train, y_train = create_training_data(training_data, past_values)\n",
    "X_train = np.reshape(X_train, (X_train.shape[0], X_train.shape[1], 1))\n",
    "\n",
    "X_test, y_test = create_training_data(testing_data, past_values)\n",
    "X_test = np.reshape(X_test, (X_test.shape[0], X_test.shape[1], 1))"
   ]
  },
  {
   "cell_type": "code",
   "execution_count": 9,
   "id": "c2e46176",
   "metadata": {},
   "outputs": [
    {
     "data": {
      "text/plain": [
       "(1709, 1711)"
      ]
     },
     "execution_count": 9,
     "metadata": {},
     "output_type": "execute_result"
    }
   ],
   "source": [
    "len(X_train) + len(X_test), len(scaled_data)"
   ]
  },
  {
   "cell_type": "code",
   "execution_count": 10,
   "id": "d26d2fdb",
   "metadata": {},
   "outputs": [
    {
     "data": {
      "text/plain": [
       "(1367, 1, 1)"
      ]
     },
     "execution_count": 10,
     "metadata": {},
     "output_type": "execute_result"
    }
   ],
   "source": [
    "X_train.shape"
   ]
  },
  {
   "cell_type": "code",
   "execution_count": 11,
   "id": "70151e02",
   "metadata": {},
   "outputs": [
    {
     "name": "stdout",
     "output_type": "stream",
     "text": [
      "Epoch 1/200\n",
      "7/7 [==============================] - 8s 14ms/step - loss: 0.1501\n",
      "Epoch 2/200\n",
      "7/7 [==============================] - 0s 10ms/step - loss: 0.1105\n",
      "Epoch 3/200\n",
      "7/7 [==============================] - 0s 9ms/step - loss: 0.0751\n",
      "Epoch 4/200\n",
      "7/7 [==============================] - 0s 10ms/step - loss: 0.0531\n",
      "Epoch 5/200\n",
      "7/7 [==============================] - 0s 11ms/step - loss: 0.0520\n",
      "Epoch 6/200\n",
      "7/7 [==============================] - 0s 11ms/step - loss: 0.0485\n",
      "Epoch 7/200\n",
      "7/7 [==============================] - 0s 10ms/step - loss: 0.0412\n",
      "Epoch 8/200\n",
      "7/7 [==============================] - 0s 11ms/step - loss: 0.0342\n",
      "Epoch 9/200\n",
      "7/7 [==============================] - 0s 10ms/step - loss: 0.0240\n",
      "Epoch 10/200\n",
      "7/7 [==============================] - 0s 10ms/step - loss: 0.0127\n",
      "Epoch 11/200\n",
      "7/7 [==============================] - 0s 11ms/step - loss: 0.0031\n",
      "Epoch 12/200\n",
      "7/7 [==============================] - 0s 10ms/step - loss: 8.4075e-04\n",
      "Epoch 13/200\n",
      "7/7 [==============================] - 0s 11ms/step - loss: 0.0016\n",
      "Epoch 14/200\n",
      "7/7 [==============================] - 0s 12ms/step - loss: 6.8720e-04\n",
      "Epoch 15/200\n",
      "7/7 [==============================] - 0s 10ms/step - loss: 4.4054e-04\n",
      "Epoch 16/200\n",
      "7/7 [==============================] - 0s 9ms/step - loss: 5.1482e-04\n",
      "Epoch 17/200\n",
      "7/7 [==============================] - 0s 12ms/step - loss: 4.0792e-04\n",
      "Epoch 18/200\n",
      "7/7 [==============================] - 0s 10ms/step - loss: 3.5847e-04\n",
      "Epoch 19/200\n",
      "7/7 [==============================] - 0s 9ms/step - loss: 3.5767e-04\n",
      "Epoch 20/200\n",
      "7/7 [==============================] - 0s 10ms/step - loss: 3.3534e-04\n",
      "Epoch 21/200\n",
      "7/7 [==============================] - 0s 12ms/step - loss: 3.2039e-04\n",
      "Epoch 22/200\n",
      "7/7 [==============================] - 0s 10ms/step - loss: 3.1147e-04\n",
      "Epoch 23/200\n",
      "7/7 [==============================] - 0s 10ms/step - loss: 2.9897e-04\n",
      "Epoch 24/200\n",
      "7/7 [==============================] - 0s 9ms/step - loss: 2.9009e-04\n",
      "Epoch 25/200\n",
      "7/7 [==============================] - 0s 10ms/step - loss: 2.7915e-04\n",
      "Epoch 26/200\n",
      "7/7 [==============================] - 0s 10ms/step - loss: 2.6881e-04\n",
      "Epoch 27/200\n",
      "7/7 [==============================] - 0s 10ms/step - loss: 2.6168e-04\n",
      "Epoch 28/200\n",
      "7/7 [==============================] - 0s 10ms/step - loss: 2.5197e-04\n",
      "Epoch 29/200\n",
      "7/7 [==============================] - 0s 12ms/step - loss: 2.4286e-04\n",
      "Epoch 30/200\n",
      "7/7 [==============================] - 0s 13ms/step - loss: 2.3529e-04\n",
      "Epoch 31/200\n",
      "7/7 [==============================] - 0s 11ms/step - loss: 2.2919e-04\n",
      "Epoch 32/200\n",
      "7/7 [==============================] - 0s 10ms/step - loss: 2.2061e-04\n",
      "Epoch 33/200\n",
      "7/7 [==============================] - 0s 8ms/step - loss: 2.1256e-04\n",
      "Epoch 34/200\n",
      "7/7 [==============================] - 0s 11ms/step - loss: 2.1003e-04\n",
      "Epoch 35/200\n",
      "7/7 [==============================] - 0s 10ms/step - loss: 2.0228e-04\n",
      "Epoch 36/200\n",
      "7/7 [==============================] - 0s 12ms/step - loss: 1.9635e-04\n",
      "Epoch 37/200\n",
      "7/7 [==============================] - 0s 9ms/step - loss: 1.8939e-04\n",
      "Epoch 38/200\n",
      "7/7 [==============================] - 0s 10ms/step - loss: 1.8198e-04\n",
      "Epoch 39/200\n",
      "7/7 [==============================] - 0s 10ms/step - loss: 1.7693e-04\n",
      "Epoch 40/200\n",
      "7/7 [==============================] - 0s 9ms/step - loss: 1.7569e-04\n",
      "Epoch 41/200\n",
      "7/7 [==============================] - 0s 11ms/step - loss: 1.7077e-04\n",
      "Epoch 42/200\n",
      "7/7 [==============================] - 0s 10ms/step - loss: 1.6651e-04\n",
      "Epoch 43/200\n",
      "7/7 [==============================] - 0s 10ms/step - loss: 1.6038e-04\n",
      "Epoch 44/200\n",
      "7/7 [==============================] - 0s 11ms/step - loss: 1.5543e-04\n",
      "Epoch 45/200\n",
      "7/7 [==============================] - 0s 12ms/step - loss: 1.5275e-04\n",
      "Epoch 46/200\n",
      "7/7 [==============================] - 0s 10ms/step - loss: 1.4857e-04\n",
      "Epoch 47/200\n",
      "7/7 [==============================] - 0s 10ms/step - loss: 1.4570e-04\n",
      "Epoch 48/200\n",
      "7/7 [==============================] - 0s 11ms/step - loss: 1.4229e-04\n",
      "Epoch 49/200\n",
      "7/7 [==============================] - 0s 11ms/step - loss: 1.3940e-04\n",
      "Epoch 50/200\n",
      "7/7 [==============================] - 0s 12ms/step - loss: 1.3678e-04\n",
      "Epoch 51/200\n",
      "7/7 [==============================] - 0s 10ms/step - loss: 1.3415e-04\n",
      "Epoch 52/200\n",
      "7/7 [==============================] - 0s 10ms/step - loss: 1.3199e-04\n",
      "Epoch 53/200\n",
      "7/7 [==============================] - 0s 11ms/step - loss: 1.3065e-04\n",
      "Epoch 54/200\n",
      "7/7 [==============================] - 0s 13ms/step - loss: 1.2866e-04\n",
      "Epoch 55/200\n",
      "7/7 [==============================] - 0s 10ms/step - loss: 1.2821e-04\n",
      "Epoch 56/200\n",
      "7/7 [==============================] - 0s 10ms/step - loss: 1.2788e-04\n",
      "Epoch 57/200\n",
      "7/7 [==============================] - 0s 9ms/step - loss: 1.2532e-04\n",
      "Epoch 58/200\n",
      "7/7 [==============================] - 0s 8ms/step - loss: 1.2304e-04\n",
      "Epoch 59/200\n",
      "7/7 [==============================] - 0s 10ms/step - loss: 1.2156e-04\n",
      "Epoch 60/200\n",
      "7/7 [==============================] - 0s 11ms/step - loss: 1.2098e-04\n",
      "Epoch 61/200\n",
      "7/7 [==============================] - 0s 11ms/step - loss: 1.2160e-04\n",
      "Epoch 62/200\n",
      "7/7 [==============================] - 0s 10ms/step - loss: 1.1988e-04\n",
      "Epoch 63/200\n",
      "7/7 [==============================] - 0s 10ms/step - loss: 1.1930e-04\n",
      "Epoch 64/200\n",
      "7/7 [==============================] - 0s 11ms/step - loss: 1.2105e-04\n",
      "Epoch 65/200\n",
      "7/7 [==============================] - 0s 10ms/step - loss: 1.2653e-04\n",
      "Epoch 66/200\n",
      "7/7 [==============================] - 0s 10ms/step - loss: 1.1868e-04\n",
      "Epoch 67/200\n",
      "7/7 [==============================] - 0s 11ms/step - loss: 1.1586e-04\n",
      "Epoch 68/200\n",
      "7/7 [==============================] - 0s 11ms/step - loss: 1.1657e-04\n",
      "Epoch 69/200\n",
      "7/7 [==============================] - 0s 12ms/step - loss: 1.1493e-04\n",
      "Epoch 70/200\n",
      "7/7 [==============================] - 0s 12ms/step - loss: 1.1340e-04\n",
      "Epoch 71/200\n",
      "7/7 [==============================] - 0s 12ms/step - loss: 1.1331e-04\n",
      "Epoch 72/200\n",
      "7/7 [==============================] - 0s 12ms/step - loss: 1.1261e-04\n",
      "Epoch 73/200\n",
      "7/7 [==============================] - 0s 13ms/step - loss: 1.1229e-04\n",
      "Epoch 74/200\n",
      "7/7 [==============================] - 0s 10ms/step - loss: 1.1196e-04\n",
      "Epoch 75/200\n",
      "7/7 [==============================] - 0s 11ms/step - loss: 1.1248e-04\n",
      "Epoch 76/200\n",
      "7/7 [==============================] - 0s 14ms/step - loss: 1.1375e-04\n",
      "Epoch 77/200\n",
      "7/7 [==============================] - 0s 11ms/step - loss: 1.1314e-04\n",
      "Epoch 78/200\n",
      "7/7 [==============================] - 0s 11ms/step - loss: 1.1352e-04\n",
      "Epoch 79/200\n",
      "7/7 [==============================] - 0s 10ms/step - loss: 1.1689e-04\n",
      "Epoch 80/200\n",
      "7/7 [==============================] - 0s 10ms/step - loss: 1.1156e-04\n",
      "Epoch 81/200\n",
      "7/7 [==============================] - 0s 11ms/step - loss: 1.1086e-04\n",
      "Epoch 82/200\n",
      "7/7 [==============================] - 0s 9ms/step - loss: 1.1767e-04\n",
      "Epoch 83/200\n",
      "7/7 [==============================] - 0s 11ms/step - loss: 1.1471e-04\n",
      "Epoch 84/200\n",
      "7/7 [==============================] - 0s 10ms/step - loss: 1.1328e-04\n",
      "Epoch 85/200\n",
      "7/7 [==============================] - 0s 11ms/step - loss: 1.1383e-04\n",
      "Epoch 86/200\n",
      "7/7 [==============================] - 0s 10ms/step - loss: 1.1023e-04\n",
      "Epoch 87/200\n",
      "7/7 [==============================] - 0s 10ms/step - loss: 1.1125e-04\n",
      "Epoch 88/200\n",
      "7/7 [==============================] - 0s 10ms/step - loss: 1.1279e-04\n",
      "Epoch 89/200\n",
      "7/7 [==============================] - 0s 10ms/step - loss: 1.1092e-04\n",
      "Epoch 90/200\n",
      "7/7 [==============================] - 0s 8ms/step - loss: 1.1061e-04\n",
      "Epoch 91/200\n",
      "7/7 [==============================] - 0s 9ms/step - loss: 1.1140e-04\n",
      "Epoch 92/200\n",
      "7/7 [==============================] - 0s 11ms/step - loss: 1.1459e-04\n",
      "Epoch 93/200\n",
      "7/7 [==============================] - 0s 10ms/step - loss: 1.2049e-04\n",
      "Epoch 94/200\n",
      "7/7 [==============================] - 0s 9ms/step - loss: 1.1105e-04\n",
      "Epoch 95/200\n",
      "7/7 [==============================] - 0s 14ms/step - loss: 1.1198e-04\n",
      "Epoch 96/200\n",
      "7/7 [==============================] - 0s 11ms/step - loss: 1.1833e-04\n",
      "Epoch 97/200\n",
      "7/7 [==============================] - 0s 10ms/step - loss: 1.1349e-04\n",
      "Epoch 98/200\n",
      "7/7 [==============================] - 0s 12ms/step - loss: 1.1373e-04\n",
      "Epoch 99/200\n"
     ]
    },
    {
     "name": "stdout",
     "output_type": "stream",
     "text": [
      "7/7 [==============================] - 0s 10ms/step - loss: 1.0974e-04\n",
      "Epoch 100/200\n",
      "7/7 [==============================] - 0s 10ms/step - loss: 1.1020e-04\n",
      "Epoch 101/200\n",
      "7/7 [==============================] - 0s 8ms/step - loss: 1.1050e-04\n",
      "Epoch 102/200\n",
      "7/7 [==============================] - 0s 8ms/step - loss: 1.0983e-04\n",
      "Epoch 103/200\n",
      "7/7 [==============================] - 0s 8ms/step - loss: 1.1079e-04\n",
      "Epoch 104/200\n",
      "7/7 [==============================] - 0s 9ms/step - loss: 1.1290e-04\n",
      "Epoch 105/200\n",
      "7/7 [==============================] - 0s 9ms/step - loss: 1.1007e-04\n",
      "Epoch 106/200\n",
      "7/7 [==============================] - 0s 9ms/step - loss: 1.1111e-04\n",
      "Epoch 107/200\n",
      "7/7 [==============================] - 0s 10ms/step - loss: 1.0959e-04\n",
      "Epoch 108/200\n",
      "7/7 [==============================] - 0s 9ms/step - loss: 1.1020e-04\n",
      "Epoch 109/200\n",
      "7/7 [==============================] - 0s 9ms/step - loss: 1.1067e-04\n",
      "Epoch 110/200\n",
      "7/7 [==============================] - 0s 8ms/step - loss: 1.1303e-04\n",
      "Epoch 111/200\n",
      "7/7 [==============================] - 0s 8ms/step - loss: 1.1229e-04\n",
      "Epoch 112/200\n",
      "7/7 [==============================] - 0s 9ms/step - loss: 1.1251e-04\n",
      "Epoch 113/200\n",
      "7/7 [==============================] - 0s 9ms/step - loss: 1.1042e-04\n",
      "Epoch 114/200\n",
      "7/7 [==============================] - 0s 9ms/step - loss: 1.0957e-04\n",
      "Epoch 115/200\n",
      "7/7 [==============================] - 0s 9ms/step - loss: 1.1084e-04\n",
      "Epoch 116/200\n",
      "7/7 [==============================] - 0s 9ms/step - loss: 1.1044e-04\n",
      "Epoch 117/200\n",
      "7/7 [==============================] - 0s 10ms/step - loss: 1.1013e-04\n",
      "Epoch 118/200\n",
      "7/7 [==============================] - 0s 10ms/step - loss: 1.1019e-04\n",
      "Epoch 119/200\n",
      "7/7 [==============================] - 0s 10ms/step - loss: 1.0996e-04\n",
      "Epoch 120/200\n",
      "7/7 [==============================] - 0s 10ms/step - loss: 1.0991e-04\n",
      "Epoch 121/200\n",
      "7/7 [==============================] - 0s 10ms/step - loss: 1.0970e-04\n",
      "Epoch 122/200\n",
      "7/7 [==============================] - 0s 9ms/step - loss: 1.1107e-04\n",
      "Epoch 123/200\n",
      "7/7 [==============================] - 0s 10ms/step - loss: 1.0988e-04\n",
      "Epoch 124/200\n",
      "7/7 [==============================] - 0s 10ms/step - loss: 1.1065e-04\n",
      "Epoch 125/200\n",
      "7/7 [==============================] - 0s 9ms/step - loss: 1.1011e-04\n",
      "Epoch 126/200\n",
      "7/7 [==============================] - 0s 10ms/step - loss: 1.1040e-04\n",
      "Epoch 127/200\n",
      "7/7 [==============================] - 0s 10ms/step - loss: 1.1053e-04\n",
      "Epoch 128/200\n",
      "7/7 [==============================] - 0s 10ms/step - loss: 1.1105e-04\n",
      "Epoch 129/200\n",
      "7/7 [==============================] - 0s 10ms/step - loss: 1.1083e-04\n",
      "Epoch 130/200\n",
      "7/7 [==============================] - 0s 10ms/step - loss: 1.1563e-04\n",
      "Epoch 131/200\n",
      "7/7 [==============================] - 0s 10ms/step - loss: 1.1144e-04\n",
      "Epoch 132/200\n",
      "7/7 [==============================] - 0s 10ms/step - loss: 1.1197e-04\n",
      "Epoch 133/200\n",
      "7/7 [==============================] - 0s 9ms/step - loss: 1.0968e-04\n",
      "Epoch 134/200\n",
      "7/7 [==============================] - 0s 11ms/step - loss: 1.1011e-04\n",
      "Epoch 135/200\n",
      "7/7 [==============================] - 0s 10ms/step - loss: 1.1005e-04\n",
      "Epoch 136/200\n",
      "7/7 [==============================] - 0s 11ms/step - loss: 1.1057e-04\n",
      "Epoch 137/200\n",
      "7/7 [==============================] - 0s 10ms/step - loss: 1.1258e-04\n",
      "Epoch 138/200\n",
      "7/7 [==============================] - 0s 11ms/step - loss: 1.1160e-04\n",
      "Epoch 139/200\n",
      "7/7 [==============================] - 0s 10ms/step - loss: 1.1186e-04\n",
      "Epoch 140/200\n",
      "7/7 [==============================] - 0s 11ms/step - loss: 1.1147e-04\n",
      "Epoch 141/200\n",
      "7/7 [==============================] - 0s 10ms/step - loss: 1.0995e-04\n",
      "Epoch 142/200\n",
      "7/7 [==============================] - 0s 11ms/step - loss: 1.1058e-04\n",
      "Epoch 143/200\n",
      "7/7 [==============================] - 0s 10ms/step - loss: 1.1176e-04\n",
      "Epoch 144/200\n",
      "7/7 [==============================] - 0s 11ms/step - loss: 1.1163e-04\n",
      "Epoch 145/200\n",
      "7/7 [==============================] - 0s 14ms/step - loss: 1.0988e-04\n",
      "Epoch 146/200\n",
      "7/7 [==============================] - 0s 10ms/step - loss: 1.1043e-04\n",
      "Epoch 147/200\n",
      "7/7 [==============================] - 0s 10ms/step - loss: 1.1234e-04\n",
      "Epoch 148/200\n",
      "7/7 [==============================] - 0s 10ms/step - loss: 1.1162e-04\n",
      "Epoch 149/200\n",
      "7/7 [==============================] - 0s 10ms/step - loss: 1.1010e-04\n",
      "Epoch 150/200\n",
      "7/7 [==============================] - 0s 11ms/step - loss: 1.1242e-04\n",
      "Epoch 151/200\n",
      "7/7 [==============================] - 0s 10ms/step - loss: 1.1024e-04\n",
      "Epoch 152/200\n",
      "7/7 [==============================] - 0s 11ms/step - loss: 1.1386e-04\n",
      "Epoch 153/200\n",
      "7/7 [==============================] - 0s 10ms/step - loss: 1.1581e-04\n",
      "Epoch 154/200\n",
      "7/7 [==============================] - 0s 11ms/step - loss: 1.1281e-04\n",
      "Epoch 155/200\n",
      "7/7 [==============================] - 0s 11ms/step - loss: 1.1279e-04\n",
      "Epoch 156/200\n",
      "7/7 [==============================] - 0s 13ms/step - loss: 1.1293e-04\n",
      "Epoch 157/200\n",
      "7/7 [==============================] - 0s 10ms/step - loss: 1.1443e-04\n",
      "Epoch 158/200\n",
      "7/7 [==============================] - 0s 11ms/step - loss: 1.1124e-04\n",
      "Epoch 159/200\n",
      "7/7 [==============================] - 0s 11ms/step - loss: 1.1100e-04\n",
      "Epoch 160/200\n",
      "7/7 [==============================] - 0s 11ms/step - loss: 1.1053e-04\n",
      "Epoch 161/200\n",
      "7/7 [==============================] - 0s 11ms/step - loss: 1.1106e-04\n",
      "Epoch 162/200\n",
      "7/7 [==============================] - 0s 11ms/step - loss: 1.0994e-04\n",
      "Epoch 163/200\n",
      "7/7 [==============================] - 0s 10ms/step - loss: 1.1349e-04\n",
      "Epoch 164/200\n",
      "7/7 [==============================] - 0s 13ms/step - loss: 1.1296e-04\n",
      "Epoch 165/200\n",
      "7/7 [==============================] - 0s 11ms/step - loss: 1.1138e-04\n",
      "Epoch 166/200\n",
      "7/7 [==============================] - 0s 11ms/step - loss: 1.1253e-04\n",
      "Epoch 167/200\n",
      "7/7 [==============================] - 0s 10ms/step - loss: 1.1617e-04\n",
      "Epoch 168/200\n",
      "7/7 [==============================] - 0s 10ms/step - loss: 1.1205e-04\n",
      "Epoch 169/200\n",
      "7/7 [==============================] - 0s 11ms/step - loss: 1.0981e-04\n",
      "Epoch 170/200\n",
      "7/7 [==============================] - 0s 11ms/step - loss: 1.1366e-04\n",
      "Epoch 171/200\n",
      "7/7 [==============================] - 0s 10ms/step - loss: 1.1076e-04\n",
      "Epoch 172/200\n",
      "7/7 [==============================] - 0s 11ms/step - loss: 1.1084e-04\n",
      "Epoch 173/200\n",
      "7/7 [==============================] - 0s 15ms/step - loss: 1.1303e-04\n",
      "Epoch 174/200\n",
      "7/7 [==============================] - 0s 11ms/step - loss: 1.1382e-04\n",
      "Epoch 175/200\n",
      "7/7 [==============================] - 0s 10ms/step - loss: 1.1209e-04\n",
      "Epoch 176/200\n",
      "7/7 [==============================] - 0s 11ms/step - loss: 1.1148e-04\n",
      "Epoch 177/200\n",
      "7/7 [==============================] - 0s 10ms/step - loss: 1.1062e-04\n",
      "Epoch 178/200\n",
      "7/7 [==============================] - 0s 11ms/step - loss: 1.1269e-04\n",
      "Epoch 179/200\n",
      "7/7 [==============================] - 0s 10ms/step - loss: 1.1737e-04\n",
      "Epoch 180/200\n",
      "7/7 [==============================] - 0s 11ms/step - loss: 1.1507e-04\n",
      "Epoch 181/200\n",
      "7/7 [==============================] - 0s 11ms/step - loss: 1.1816e-04\n",
      "Epoch 182/200\n",
      "7/7 [==============================] - 0s 11ms/step - loss: 1.1431e-04\n",
      "Epoch 183/200\n",
      "7/7 [==============================] - 0s 10ms/step - loss: 1.1043e-04\n",
      "Epoch 184/200\n",
      "7/7 [==============================] - 0s 11ms/step - loss: 1.1073e-04\n",
      "Epoch 185/200\n",
      "7/7 [==============================] - 0s 10ms/step - loss: 1.1228e-04\n",
      "Epoch 186/200\n",
      "7/7 [==============================] - 0s 10ms/step - loss: 1.1078e-04\n",
      "Epoch 187/200\n",
      "7/7 [==============================] - 0s 11ms/step - loss: 1.1347e-04\n",
      "Epoch 188/200\n",
      "7/7 [==============================] - 0s 11ms/step - loss: 1.1421e-04\n",
      "Epoch 189/200\n",
      "7/7 [==============================] - 0s 10ms/step - loss: 1.1430e-04\n",
      "Epoch 190/200\n",
      "7/7 [==============================] - 0s 10ms/step - loss: 1.1316e-04\n",
      "Epoch 191/200\n",
      "7/7 [==============================] - 0s 10ms/step - loss: 1.1012e-04\n",
      "Epoch 192/200\n",
      "7/7 [==============================] - 0s 10ms/step - loss: 1.1067e-04\n",
      "Epoch 193/200\n",
      "7/7 [==============================] - 0s 11ms/step - loss: 1.1419e-04\n",
      "Epoch 194/200\n",
      "7/7 [==============================] - 0s 11ms/step - loss: 1.1515e-04\n",
      "Epoch 195/200\n"
     ]
    },
    {
     "name": "stdout",
     "output_type": "stream",
     "text": [
      "7/7 [==============================] - 0s 10ms/step - loss: 1.1375e-04\n",
      "Epoch 196/200\n",
      "7/7 [==============================] - 0s 15ms/step - loss: 1.1009e-04\n",
      "Epoch 197/200\n",
      "7/7 [==============================] - 0s 11ms/step - loss: 1.0958e-04\n",
      "Epoch 198/200\n",
      "7/7 [==============================] - 0s 10ms/step - loss: 1.1319e-04\n",
      "Epoch 199/200\n",
      "7/7 [==============================] - 0s 10ms/step - loss: 1.1287e-04\n",
      "Epoch 200/200\n",
      "7/7 [==============================] - 0s 10ms/step - loss: 1.1155e-04\n"
     ]
    },
    {
     "data": {
      "text/plain": [
       "<keras.src.callbacks.History at 0x24767689f90>"
      ]
     },
     "execution_count": 11,
     "metadata": {},
     "output_type": "execute_result"
    }
   ],
   "source": [
    "model = Sequential()\n",
    "model.add(LSTM(50, return_sequences=True, input_shape=(X_train.shape[1], 1)))\n",
    "model.add(LSTM(50, return_sequences=True))\n",
    "model.add(LSTM(50, return_sequences=False))\n",
    "model.add(Dense(25))\n",
    "model.add(Dense(1))\n",
    "\n",
    "model.compile(optimizer='adam', loss='mean_squared_error')\n",
    "model.fit(X_train, y_train, batch_size=200, epochs=200, verbose=1)"
   ]
  },
  {
   "cell_type": "code",
   "execution_count": 12,
   "id": "92ef2e44",
   "metadata": {},
   "outputs": [
    {
     "name": "stdout",
     "output_type": "stream",
     "text": [
      "43/43 [==============================] - 2s 4ms/step\n",
      "11/11 [==============================] - 0s 3ms/step\n"
     ]
    }
   ],
   "source": [
    "pred_train = model.predict(X_train)\n",
    "pred = model.predict(X_test)"
   ]
  },
  {
   "cell_type": "code",
   "execution_count": 13,
   "id": "a77f781f",
   "metadata": {},
   "outputs": [],
   "source": [
    "pred_train = scaler.inverse_transform(pred_train)\n",
    "pred = scaler.inverse_transform(pred)\n",
    "y_test = scaler.inverse_transform([y_test])\n",
    "y_train = scaler.inverse_transform([y_train])"
   ]
  },
  {
   "cell_type": "code",
   "execution_count": 14,
   "id": "ab449e76",
   "metadata": {},
   "outputs": [],
   "source": [
    "y_test = y_test.flatten()\n",
    "y_train = y_train.flatten()"
   ]
  },
  {
   "cell_type": "code",
   "execution_count": 15,
   "id": "3003bbb6",
   "metadata": {},
   "outputs": [
    {
     "name": "stdout",
     "output_type": "stream",
     "text": [
      "Training Error\n",
      "Mean Absolute Error (MAE): 2.2607535395032747\n",
      "Root Mean Squared Error (RMSE): 3.4929526583758372\n"
     ]
    },
    {
     "data": {
      "image/png": "[encoded data removed]",
      "text/plain": [
       "<Figure size 640x480 with 1 Axes>"
      ]
     },
     "metadata": {},
     "output_type": "display_data"
    }
   ],
   "source": [
    "print(\"Training Error\")\n",
    "mae = mean_absolute_error(y_train, pred_train)\n",
    "print(\"Mean Absolute Error (MAE):\", mae)\n",
    "rmse = sqrt(mean_squared_error(y_train, pred_train))\n",
    "print(\"Root Mean Squared Error (RMSE):\", rmse)\n",
    "    \n",
    "plt.plot(y_train, label = 'actual '+str(ticker))\n",
    "plt.plot(pred_train, label = 'predicted '+str(ticker))\n",
    "plt.title(\"Training Plot\")\n",
    "plt.legend()\n",
    "plt.show()"
   ]
  },
  {
   "cell_type": "code",
   "execution_count": 16,
   "id": "01e9e93d",
   "metadata": {},
   "outputs": [
    {
     "name": "stdout",
     "output_type": "stream",
     "text": [
      "Testing Error\n",
      "Mean Absolute Error (MAE): 3.9982795938413735\n",
      "Root Mean Squared Error (RMSE): 5.165741568666079\n"
     ]
    },
    {
     "data": {
      "image/png": "[encoded data removed]",
      "text/plain": [
       "<Figure size 640x480 with 1 Axes>"
      ]
     },
     "metadata": {},
     "output_type": "display_data"
    }
   ],
   "source": [
    "print(\"Testing Error\")\n",
    "mae = mean_absolute_error(y_test, pred)\n",
    "print(\"Mean Absolute Error (MAE):\", mae)\n",
    "rmse = sqrt(mean_squared_error(y_test, pred))\n",
    "print(\"Root Mean Squared Error (RMSE):\", rmse)\n",
    "\n",
    "plt.plot(y_test, label = 'actual '+str(ticker))\n",
    "plt.plot(pred, label = 'predicted '+str(ticker))\n",
    "plt.title(\"Testing Plot\")\n",
    "plt.legend()\n",
    "plt.show()"
   ]
  },
  {
   "cell_type": "markdown",
   "id": "a39de483",
   "metadata": {},
   "source": [
    "## 5 days future prediction without correction"
   ]
  },
  {
   "cell_type": "code",
   "execution_count": 17,
   "id": "b9dec815",
   "metadata": {
    "scrolled": true
   },
   "outputs": [
    {
     "data": {
      "text/plain": [
       "array([[0.00179793],\n",
       "       [0.00233731],\n",
       "       [0.00182788],\n",
       "       ...,\n",
       "       [0.97243194],\n",
       "       [0.98561663],\n",
       "       [1.        ]])"
      ]
     },
     "execution_count": 17,
     "metadata": {},
     "output_type": "execute_result"
    }
   ],
   "source": [
    "scaled_data"
   ]
  },
  {
   "cell_type": "code",
   "execution_count": 18,
   "id": "a42ce6ad",
   "metadata": {},
   "outputs": [
    {
     "data": {
      "text/plain": [
       "(1367, 342, 1711)"
      ]
     },
     "execution_count": 18,
     "metadata": {},
     "output_type": "execute_result"
    }
   ],
   "source": [
    "len(X_train), len(X_test),  len(scaled_data)"
   ]
  },
  {
   "cell_type": "code",
   "execution_count": 19,
   "id": "73ea43f2",
   "metadata": {},
   "outputs": [],
   "source": [
    "reshaped_data = scaled_data.reshape(scaled_data.shape[0], scaled_data.shape[1], 1)"
   ]
  },
  {
   "cell_type": "code",
   "execution_count": 20,
   "id": "3d6562ab",
   "metadata": {},
   "outputs": [
    {
     "data": {
      "text/plain": [
       "array([[[0.90734744]],\n",
       "\n",
       "       [[0.92814332]],\n",
       "\n",
       "       [[0.93143952]],\n",
       "\n",
       "       [[0.9523552 ]],\n",
       "\n",
       "       [[0.95792878]],\n",
       "\n",
       "       [[0.96943542]],\n",
       "\n",
       "       [[0.97482913]],\n",
       "\n",
       "       [[0.97243194]],\n",
       "\n",
       "       [[0.98561663]],\n",
       "\n",
       "       [[1.        ]]])"
      ]
     },
     "execution_count": 20,
     "metadata": {},
     "output_type": "execute_result"
    }
   ],
   "source": [
    "future_data_to_predict = reshaped_data[-10:]\n",
    "future_data_to_predict"
   ]
  },
  {
   "cell_type": "code",
   "execution_count": 21,
   "id": "90bbf305",
   "metadata": {},
   "outputs": [
    {
     "data": {
      "text/plain": [
       "(3, 3)"
      ]
     },
     "execution_count": 21,
     "metadata": {},
     "output_type": "execute_result"
    }
   ],
   "source": [
    "X_test.ndim, reshaped_data.ndim"
   ]
  },
  {
   "cell_type": "code",
   "execution_count": 22,
   "id": "d7913819",
   "metadata": {},
   "outputs": [
    {
     "name": "stdout",
     "output_type": "stream",
     "text": [
      "1/1 [==============================] - 0s 43ms/step\n",
      "[365.69995 372.31506 373.3614  379.9862  381.74734 385.37744 387.0763\n",
      " 386.3215  390.4689  394.98145]\n"
     ]
    }
   ],
   "source": [
    "def predict_future(last_input):\n",
    "    \n",
    "    res = model.predict(last_input)\n",
    "    Output = scaler.inverse_transform(res)\n",
    "    return Output\n",
    "\n",
    "future_predictions_1 = predict_future(future_data_to_predict)\n",
    "# print(future_predictions_1)\n",
    "\n",
    "future_predictions_1 = future_predictions_1.flatten()\n",
    "print(future_predictions_1)"
   ]
  },
  {
   "cell_type": "code",
   "execution_count": 23,
   "id": "177cb2d7",
   "metadata": {},
   "outputs": [],
   "source": [
    "# def predict_future(last_input):\n",
    "    \n",
    "#     res = model.predict(last_input)\n",
    "#     Output = scaler.inverse_transform(res)\n",
    "#     return Output\n",
    "\n",
    "# future_predictions_2 = predict_future(X_test[-5:])\n",
    "# # print(future_predictions_2)\n",
    "\n",
    "# future_predictions_2 = future_predictions_2.flatten()\n",
    "# print(future_predictions_2)"
   ]
  },
  {
   "cell_type": "code",
   "execution_count": 24,
   "id": "bfbbf4ea",
   "metadata": {},
   "outputs": [],
   "source": [
    "day=range(1,(len(future_data_to_predict)+1))"
   ]
  },
  {
   "cell_type": "code",
   "execution_count": 25,
   "id": "c7eafece",
   "metadata": {},
   "outputs": [
    {
     "data": {
      "image/png": "[encoded data removed]",
      "text/plain": [
       "<Figure size 640x480 with 1 Axes>"
      ]
     },
     "metadata": {},
     "output_type": "display_data"
    }
   ],
   "source": [
    "plt.plot(day, future_predictions_1, color='red', label='scaled_data')\n",
    "# plt.plot(day, future_predictions_2, color='blue', label='x_test')\n",
    "plt.legend()\n",
    "plt.show()"
   ]
  },
  {
   "cell_type": "code",
   "execution_count": 26,
   "id": "b1b1174b",
   "metadata": {},
   "outputs": [],
   "source": [
    "# ticker = \"AMZN\"\n",
    "# start='2024-01-22'\n",
    "# end='2024-01-26'\n",
    "# df = yf.download(ticker, start=start, end=end)\n",
    "# # print(df)\n",
    "# actual = df['Close'].values\n",
    "# print(actual)"
   ]
  },
  {
   "cell_type": "code",
   "execution_count": 27,
   "id": "246eb22b",
   "metadata": {},
   "outputs": [],
   "source": [
    "# day_actual = np.arange(1,21)\n",
    "# day_pred = np.arange(1,21)"
   ]
  },
  {
   "cell_type": "code",
   "execution_count": 28,
   "id": "93ab4b80",
   "metadata": {},
   "outputs": [],
   "source": [
    "# plt.figure(figsize=(8,6))\n",
    "# plt.title(f'Plot for {ticker} from {start} till {end}')\n",
    "# plt.xlabel('No. of Days')\n",
    "# plt.ylabel('Price Values')\n",
    "# plt.plot(day_actual, actual, label = 'actual price', color='blue')\n",
    "# plt.plot(day_pred, future_predictions_1, label = 'predicted price', color='red')\n",
    "# plt.legend()\n",
    "# plt.show()"
   ]
  },
  {
   "cell_type": "markdown",
   "id": "3acc2324",
   "metadata": {},
   "source": [
    "## Buy and Sell"
   ]
  },
  {
   "cell_type": "code",
   "execution_count": 29,
   "id": "f8c67516",
   "metadata": {},
   "outputs": [],
   "source": [
    "def get_control_vector(val):\n",
    "    return np.diff(np.sign(np.diff(val)))\n",
    "\n",
    "def buy_and_sell_bot(val,controls):\n",
    "    inv = []\n",
    "    curr_val = 1000\n",
    "    inds = np.where(controls)[0]\n",
    "    buy_inds = np.where(controls>0)[0]\n",
    "    sell_inds = np.where(controls<0)[0]\n",
    "    max_limit = sell_inds[-1] if sell_inds[-1]>buy_inds[-1] else buy_inds[-1]\n",
    "    for i in range(buy_inds[0]+2):\n",
    "        inv.append(curr_val)\n",
    "    for i in range(buy_inds[0],max_limit+1):\n",
    "        if controls[i]>0:\n",
    "            buy_val = val[i+1]\n",
    "        elif controls[i]<0:\n",
    "            sell_val = val[i+1]\n",
    "            curr_val = curr_val*sell_val/buy_val\n",
    "        inv.append(curr_val)\n",
    "        \n",
    "    if max_limit+1!=len(controls):\n",
    "        for i in range(len(controls)-max_limit-1):\n",
    "            inv.append(curr_val)\n",
    "    return inv\n",
    "\n",
    "# def buy_and_sell_bot(val, controls):\n",
    "#     inv = []\n",
    "#     curr_val = 1000\n",
    "#     buy_inds = np.where(controls > 0)[0]\n",
    "#     sell_inds = np.where(controls < 0)[0]\n",
    "    \n",
    "#     if buy_inds.size == 0 or sell_inds.size == 0:\n",
    "#         return [curr_val] * len(controls)\n",
    "    \n",
    "#     max_limit = max(sell_inds[-1], buy_inds[-1])\n",
    "#     for i in range(buy_inds[0] + 2):\n",
    "#         inv.append(curr_val)\n",
    "        \n",
    "#     for i in range(buy_inds[0], max_limit + 1):\n",
    "#         if controls[i] > 0:\n",
    "#             buy_val = val[i + 1]\n",
    "#         elif controls[i] < 0:\n",
    "#             sell_val = val[i + 1]\n",
    "#             curr_val = curr_val * sell_val / buy_val\n",
    "#         inv.append(curr_val)\n",
    "        \n",
    "#     if max_limit + 1 != len(controls):\n",
    "#         for i in range(len(controls) - max_limit - 1):\n",
    "#             inv.append(curr_val)\n",
    "    \n",
    "#     return inv"
   ]
  },
  {
   "cell_type": "code",
   "execution_count": 30,
   "id": "d4467228",
   "metadata": {
    "scrolled": true
   },
   "outputs": [
    {
     "data": {
      "text/plain": [
       "(array([ 0.,  0.,  0.,  0.,  0., -2.,  2.,  0.], dtype=float32),\n",
       " [1000, 1000, 1000, 1000, 1000, 1000, 1000, 1000, 1000, 1000])"
      ]
     },
     "execution_count": 30,
     "metadata": {},
     "output_type": "execute_result"
    }
   ],
   "source": [
    "controls_pred= get_control_vector(future_predictions_1)\n",
    "amount_pred = buy_and_sell_bot(future_predictions_1, controls_pred)\n",
    "controls_pred, amount_pred"
   ]
  },
  {
   "cell_type": "code",
   "execution_count": 31,
   "id": "fd37afe7",
   "metadata": {},
   "outputs": [],
   "source": [
    "# controls_actual= get_control_vector(actual)\n",
    "# amount_actual = buy_and_sell_bot(actual, controls_actual)\n",
    "# controls_actual, amount_actual"
   ]
  },
  {
   "cell_type": "code",
   "execution_count": 32,
   "id": "18049677",
   "metadata": {},
   "outputs": [
    {
     "data": {
      "image/png": "[encoded data removed]",
      "text/plain": [
       "<Figure size 640x480 with 1 Axes>"
      ]
     },
     "metadata": {},
     "output_type": "display_data"
    }
   ],
   "source": [
    "# plt.plot(amount_actual, label=\"actual\")\n",
    "plt.plot(amount_pred, label=\"pred\")\n",
    "plt.legend()\n",
    "plt.title(f\"{ticker} Returns\")\n",
    "plt.show()"
   ]
  },
  {
   "cell_type": "markdown",
   "id": "b11ee162",
   "metadata": {},
   "source": [
    "### Price values along with dates"
   ]
  },
  {
   "cell_type": "code",
   "execution_count": 33,
   "id": "bcbc4f2f",
   "metadata": {},
   "outputs": [],
   "source": [
    "from datetime import datetime, timedelta\n",
    "count=31\n",
    "Date = []\n",
    "for i in range(22,34):\n",
    "    if i == 27:\n",
    "        continue\n",
    "    elif i == 28:\n",
    "        continue\n",
    "    elif i >= 32:\n",
    "        i = i-count\n",
    "        base_date = datetime(2024,2,i)\n",
    "        formatted_date = base_date.strftime('%d-%m-%Y')\n",
    "        Date.append(formatted_date)\n",
    "    else:\n",
    "        base_date = datetime(2024,1,i)\n",
    "        formatted_date = base_date.strftime('%d-%m-%Y')\n",
    "        Date.append(formatted_date)"
   ]
  },
  {
   "cell_type": "code",
   "execution_count": 34,
   "id": "dc78e33b",
   "metadata": {},
   "outputs": [],
   "source": [
    "price_value_dict = {}\n",
    "price_value_dict['Date'] = Date\n",
    "price_value_dict['Closing Price'] = future_predictions_1.tolist()"
   ]
  },
  {
   "cell_type": "code",
   "execution_count": 35,
   "id": "f15efdad",
   "metadata": {
    "scrolled": true
   },
   "outputs": [],
   "source": [
    "# price_value_dict"
   ]
  },
  {
   "cell_type": "code",
   "execution_count": 36,
   "id": "adca4a68",
   "metadata": {},
   "outputs": [],
   "source": [
    "Price_with_dates = pd.DataFrame(price_value_dict)"
   ]
  },
  {
   "cell_type": "code",
   "execution_count": 37,
   "id": "0ec1be7d",
   "metadata": {},
   "outputs": [],
   "source": [
    "Price_with_dates.columns = pd.MultiIndex.from_tuples([(f'{ticker}', 'Date'), (f'{ticker}', 'Closing Price')])"
   ]
  },
  {
   "cell_type": "code",
   "execution_count": 38,
   "id": "2754a897",
   "metadata": {},
   "outputs": [
    {
     "data": {
      "text/html": [
       "<div>\n",
       "<style scoped>\n",
       "    .dataframe tbody tr th:only-of-type {\n",
       "        vertical-align: middle;\n",
       "    }\n",
       "\n",
       "    .dataframe tbody tr th {\n",
       "        vertical-align: top;\n",
       "    }\n",
       "\n",
       "    .dataframe thead tr th {\n",
       "        text-align: left;\n",
       "    }\n",
       "</style>\n",
       "<table border=\"1\" class=\"dataframe\">\n",
       "  <thead>\n",
       "    <tr>\n",
       "      <th></th>\n",
       "      <th colspan=\"2\" halign=\"left\">MSFT</th>\n",
       "    </tr>\n",
       "    <tr>\n",
       "      <th></th>\n",
       "      <th>Date</th>\n",
       "      <th>Closing Price</th>\n",
       "    </tr>\n",
       "  </thead>\n",
       "  <tbody>\n",
       "    <tr>\n",
       "      <th>0</th>\n",
       "      <td>22-01-2024</td>\n",
       "      <td>365.699951</td>\n",
       "    </tr>\n",
       "    <tr>\n",
       "      <th>1</th>\n",
       "      <td>23-01-2024</td>\n",
       "      <td>372.315063</td>\n",
       "    </tr>\n",
       "    <tr>\n",
       "      <th>2</th>\n",
       "      <td>24-01-2024</td>\n",
       "      <td>373.361389</td>\n",
       "    </tr>\n",
       "    <tr>\n",
       "      <th>3</th>\n",
       "      <td>25-01-2024</td>\n",
       "      <td>379.986206</td>\n",
       "    </tr>\n",
       "    <tr>\n",
       "      <th>4</th>\n",
       "      <td>26-01-2024</td>\n",
       "      <td>381.747345</td>\n",
       "    </tr>\n",
       "    <tr>\n",
       "      <th>5</th>\n",
       "      <td>29-01-2024</td>\n",
       "      <td>385.377441</td>\n",
       "    </tr>\n",
       "    <tr>\n",
       "      <th>6</th>\n",
       "      <td>30-01-2024</td>\n",
       "      <td>387.076294</td>\n",
       "    </tr>\n",
       "    <tr>\n",
       "      <th>7</th>\n",
       "      <td>31-01-2024</td>\n",
       "      <td>386.321503</td>\n",
       "    </tr>\n",
       "    <tr>\n",
       "      <th>8</th>\n",
       "      <td>01-02-2024</td>\n",
       "      <td>390.468903</td>\n",
       "    </tr>\n",
       "    <tr>\n",
       "      <th>9</th>\n",
       "      <td>02-02-2024</td>\n",
       "      <td>394.981445</td>\n",
       "    </tr>\n",
       "  </tbody>\n",
       "</table>\n",
       "</div>"
      ],
      "text/plain": [
       "         MSFT              \n",
       "         Date Closing Price\n",
       "0  22-01-2024    365.699951\n",
       "1  23-01-2024    372.315063\n",
       "2  24-01-2024    373.361389\n",
       "3  25-01-2024    379.986206\n",
       "4  26-01-2024    381.747345\n",
       "5  29-01-2024    385.377441\n",
       "6  30-01-2024    387.076294\n",
       "7  31-01-2024    386.321503\n",
       "8  01-02-2024    390.468903\n",
       "9  02-02-2024    394.981445"
      ]
     },
     "execution_count": 38,
     "metadata": {},
     "output_type": "execute_result"
    }
   ],
   "source": [
    "Price_with_dates"
   ]
  },
  {
   "cell_type": "code",
   "execution_count": null,
   "id": "8954d564",
   "metadata": {},
   "outputs": [],
   "source": []
  },
  {
   "cell_type": "code",
   "execution_count": 39,
   "id": "159722ee",
   "metadata": {},
   "outputs": [],
   "source": [
    "ticker = \"MSFT\"\n",
    "start = \"2024-01-22\"\n",
    "end = \"2024-01-31\""
   ]
  },
  {
   "cell_type": "code",
   "execution_count": 40,
   "id": "4a8558c6",
   "metadata": {},
   "outputs": [
    {
     "name": "stdout",
     "output_type": "stream",
     "text": [
      "[*********************100%***********************]  1 of 1 completed\n"
     ]
    },
    {
     "data": {
      "text/html": [
       "<div>\n",
       "<style scoped>\n",
       "    .dataframe tbody tr th:only-of-type {\n",
       "        vertical-align: middle;\n",
       "    }\n",
       "\n",
       "    .dataframe tbody tr th {\n",
       "        vertical-align: top;\n",
       "    }\n",
       "\n",
       "    .dataframe thead th {\n",
       "        text-align: right;\n",
       "    }\n",
       "</style>\n",
       "<table border=\"1\" class=\"dataframe\">\n",
       "  <thead>\n",
       "    <tr style=\"text-align: right;\">\n",
       "      <th></th>\n",
       "      <th>Open</th>\n",
       "      <th>High</th>\n",
       "      <th>Low</th>\n",
       "      <th>Close</th>\n",
       "      <th>Adj Close</th>\n",
       "      <th>Volume</th>\n",
       "    </tr>\n",
       "    <tr>\n",
       "      <th>Date</th>\n",
       "      <th></th>\n",
       "      <th></th>\n",
       "      <th></th>\n",
       "      <th></th>\n",
       "      <th></th>\n",
       "      <th></th>\n",
       "    </tr>\n",
       "  </thead>\n",
       "  <tbody>\n",
       "    <tr>\n",
       "      <th>2024-01-22</th>\n",
       "      <td>400.019989</td>\n",
       "      <td>400.619995</td>\n",
       "      <td>393.589996</td>\n",
       "      <td>396.510010</td>\n",
       "      <td>396.510010</td>\n",
       "      <td>27016900</td>\n",
       "    </tr>\n",
       "    <tr>\n",
       "      <th>2024-01-23</th>\n",
       "      <td>395.750000</td>\n",
       "      <td>399.380005</td>\n",
       "      <td>393.929993</td>\n",
       "      <td>398.899994</td>\n",
       "      <td>398.899994</td>\n",
       "      <td>20525900</td>\n",
       "    </tr>\n",
       "    <tr>\n",
       "      <th>2024-01-24</th>\n",
       "      <td>401.540009</td>\n",
       "      <td>405.630005</td>\n",
       "      <td>400.450012</td>\n",
       "      <td>402.559998</td>\n",
       "      <td>402.559998</td>\n",
       "      <td>24867000</td>\n",
       "    </tr>\n",
       "    <tr>\n",
       "      <th>2024-01-25</th>\n",
       "      <td>404.320007</td>\n",
       "      <td>407.010010</td>\n",
       "      <td>402.529999</td>\n",
       "      <td>404.869995</td>\n",
       "      <td>404.869995</td>\n",
       "      <td>21021200</td>\n",
       "    </tr>\n",
       "    <tr>\n",
       "      <th>2024-01-26</th>\n",
       "      <td>404.369995</td>\n",
       "      <td>406.170013</td>\n",
       "      <td>402.429993</td>\n",
       "      <td>403.929993</td>\n",
       "      <td>403.929993</td>\n",
       "      <td>17786700</td>\n",
       "    </tr>\n",
       "    <tr>\n",
       "      <th>2024-01-29</th>\n",
       "      <td>406.059998</td>\n",
       "      <td>409.980011</td>\n",
       "      <td>404.329987</td>\n",
       "      <td>409.720001</td>\n",
       "      <td>409.720001</td>\n",
       "      <td>24372700</td>\n",
       "    </tr>\n",
       "    <tr>\n",
       "      <th>2024-01-30</th>\n",
       "      <td>412.260010</td>\n",
       "      <td>413.040009</td>\n",
       "      <td>409.010010</td>\n",
       "      <td>409.760010</td>\n",
       "      <td>409.760010</td>\n",
       "      <td>9515919</td>\n",
       "    </tr>\n",
       "  </tbody>\n",
       "</table>\n",
       "</div>"
      ],
      "text/plain": [
       "                  Open        High         Low       Close   Adj Close  \\\n",
       "Date                                                                     \n",
       "2024-01-22  400.019989  400.619995  393.589996  396.510010  396.510010   \n",
       "2024-01-23  395.750000  399.380005  393.929993  398.899994  398.899994   \n",
       "2024-01-24  401.540009  405.630005  400.450012  402.559998  402.559998   \n",
       "2024-01-25  404.320007  407.010010  402.529999  404.869995  404.869995   \n",
       "2024-01-26  404.369995  406.170013  402.429993  403.929993  403.929993   \n",
       "2024-01-29  406.059998  409.980011  404.329987  409.720001  409.720001   \n",
       "2024-01-30  412.260010  413.040009  409.010010  409.760010  409.760010   \n",
       "\n",
       "              Volume  \n",
       "Date                  \n",
       "2024-01-22  27016900  \n",
       "2024-01-23  20525900  \n",
       "2024-01-24  24867000  \n",
       "2024-01-25  21021200  \n",
       "2024-01-26  17786700  \n",
       "2024-01-29  24372700  \n",
       "2024-01-30   9515919  "
      ]
     },
     "execution_count": 40,
     "metadata": {},
     "output_type": "execute_result"
    }
   ],
   "source": [
    "df = yf.download(ticker, start=start, end=end)\n",
    "df"
   ]
  },
  {
   "cell_type": "code",
   "execution_count": 41,
   "id": "f0ccbfce",
   "metadata": {},
   "outputs": [],
   "source": [
    "actual_data = df['Close'].values"
   ]
  },
  {
   "cell_type": "code",
   "execution_count": 42,
   "id": "6aaaadb5",
   "metadata": {},
   "outputs": [],
   "source": [
    "day_actual = range(1,8)\n",
    "day_predicted = range(1,11)"
   ]
  },
  {
   "cell_type": "code",
   "execution_count": 43,
   "id": "13d3f110",
   "metadata": {},
   "outputs": [
    {
     "data": {
      "image/png": "[encoded data removed]",
      "text/plain": [
       "<Figure size 640x480 with 1 Axes>"
      ]
     },
     "metadata": {},
     "output_type": "display_data"
    }
   ],
   "source": [
    "plt.plot(day_actual, actual_data, color='red', label='actual')\n",
    "plt.plot(day_predicted, future_predictions_1, color='blue', label='predicted')\n",
    "plt.legend()\n",
    "plt.show()"
   ]
  },
  {
   "cell_type": "code",
   "execution_count": null,
   "id": "f005a1bb",
   "metadata": {},
   "outputs": [],
   "source": []
  }
 ],
 "metadata": {
  "kernelspec": {
   "display_name": "Python 3 (ipykernel)",
   "language": "python",
   "name": "python3"
  },
  "language_info": {
   "codemirror_mode": {
    "name": "ipython",
    "version": 3
   },
   "file_extension": ".py",
   "mimetype": "text/x-python",
   "name": "python",
   "nbconvert_exporter": "python",
   "pygments_lexer": "ipython3",
   "version": "3.11.4"
  }
 },
 "nbformat": 4,
 "nbformat_minor": 5
}
