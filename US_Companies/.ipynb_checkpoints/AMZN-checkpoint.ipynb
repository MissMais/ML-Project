{
 "cells": [
  {
   "cell_type": "code",
   "execution_count": 1,
   "id": "3e3175db",
   "metadata": {},
   "outputs": [],
   "source": [
    "import numpy as np\n",
    "import pandas as pd\n",
    "import yfinance as yf\n",
    "import matplotlib.pyplot as plt\n",
    "from sklearn.preprocessing import MinMaxScaler\n",
    "from keras.models import Sequential\n",
    "from keras.layers import LSTM, Dense\n",
    "from sklearn.metrics import mean_squared_error, mean_absolute_error, accuracy_score\n",
    "from math import sqrt"
   ]
  },
  {
   "cell_type": "code",
   "execution_count": 4,
   "id": "beee8595",
   "metadata": {},
   "outputs": [],
   "source": [
    "ticker = \"AMZN\"\n",
    "start = \"2017-04-01\"\n",
    "end = \"2024-01-20\""
   ]
  },
  {
   "cell_type": "code",
   "execution_count": 5,
   "id": "c4d883e3",
   "metadata": {},
   "outputs": [
    {
     "name": "stdout",
     "output_type": "stream",
     "text": [
      "[*********************100%***********************]  1 of 1 completed\n"
     ]
    },
    {
     "data": {
      "text/html": [
       "<div>\n",
       "<style scoped>\n",
       "    .dataframe tbody tr th:only-of-type {\n",
       "        vertical-align: middle;\n",
       "    }\n",
       "\n",
       "    .dataframe tbody tr th {\n",
       "        vertical-align: top;\n",
       "    }\n",
       "\n",
       "    .dataframe thead th {\n",
       "        text-align: right;\n",
       "    }\n",
       "</style>\n",
       "<table border=\"1\" class=\"dataframe\">\n",
       "  <thead>\n",
       "    <tr style=\"text-align: right;\">\n",
       "      <th></th>\n",
       "      <th>Open</th>\n",
       "      <th>High</th>\n",
       "      <th>Low</th>\n",
       "      <th>Close</th>\n",
       "      <th>Adj Close</th>\n",
       "      <th>Volume</th>\n",
       "    </tr>\n",
       "    <tr>\n",
       "      <th>Date</th>\n",
       "      <th></th>\n",
       "      <th></th>\n",
       "      <th></th>\n",
       "      <th></th>\n",
       "      <th></th>\n",
       "      <th></th>\n",
       "    </tr>\n",
       "  </thead>\n",
       "  <tbody>\n",
       "    <tr>\n",
       "      <th>2024-01-05</th>\n",
       "      <td>144.690002</td>\n",
       "      <td>146.589996</td>\n",
       "      <td>144.529999</td>\n",
       "      <td>145.240005</td>\n",
       "      <td>145.240005</td>\n",
       "      <td>45124800</td>\n",
       "    </tr>\n",
       "    <tr>\n",
       "      <th>2024-01-08</th>\n",
       "      <td>146.740005</td>\n",
       "      <td>149.399994</td>\n",
       "      <td>146.149994</td>\n",
       "      <td>149.100006</td>\n",
       "      <td>149.100006</td>\n",
       "      <td>46757100</td>\n",
       "    </tr>\n",
       "    <tr>\n",
       "      <th>2024-01-09</th>\n",
       "      <td>148.330002</td>\n",
       "      <td>151.710007</td>\n",
       "      <td>148.210007</td>\n",
       "      <td>151.369995</td>\n",
       "      <td>151.369995</td>\n",
       "      <td>43812600</td>\n",
       "    </tr>\n",
       "    <tr>\n",
       "      <th>2024-01-10</th>\n",
       "      <td>152.059998</td>\n",
       "      <td>154.419998</td>\n",
       "      <td>151.880005</td>\n",
       "      <td>153.729996</td>\n",
       "      <td>153.729996</td>\n",
       "      <td>44421800</td>\n",
       "    </tr>\n",
       "    <tr>\n",
       "      <th>2024-01-11</th>\n",
       "      <td>155.039993</td>\n",
       "      <td>157.169998</td>\n",
       "      <td>153.119995</td>\n",
       "      <td>155.179993</td>\n",
       "      <td>155.179993</td>\n",
       "      <td>49072700</td>\n",
       "    </tr>\n",
       "    <tr>\n",
       "      <th>2024-01-12</th>\n",
       "      <td>155.389999</td>\n",
       "      <td>156.199997</td>\n",
       "      <td>154.009995</td>\n",
       "      <td>154.619995</td>\n",
       "      <td>154.619995</td>\n",
       "      <td>40460300</td>\n",
       "    </tr>\n",
       "    <tr>\n",
       "      <th>2024-01-16</th>\n",
       "      <td>153.529999</td>\n",
       "      <td>154.990005</td>\n",
       "      <td>152.149994</td>\n",
       "      <td>153.160004</td>\n",
       "      <td>153.160004</td>\n",
       "      <td>41384600</td>\n",
       "    </tr>\n",
       "    <tr>\n",
       "      <th>2024-01-17</th>\n",
       "      <td>151.490005</td>\n",
       "      <td>152.149994</td>\n",
       "      <td>149.910004</td>\n",
       "      <td>151.710007</td>\n",
       "      <td>151.710007</td>\n",
       "      <td>34953400</td>\n",
       "    </tr>\n",
       "    <tr>\n",
       "      <th>2024-01-18</th>\n",
       "      <td>152.770004</td>\n",
       "      <td>153.779999</td>\n",
       "      <td>151.820007</td>\n",
       "      <td>153.500000</td>\n",
       "      <td>153.500000</td>\n",
       "      <td>37850200</td>\n",
       "    </tr>\n",
       "    <tr>\n",
       "      <th>2024-01-19</th>\n",
       "      <td>153.830002</td>\n",
       "      <td>155.759995</td>\n",
       "      <td>152.740005</td>\n",
       "      <td>155.339996</td>\n",
       "      <td>155.339996</td>\n",
       "      <td>51033700</td>\n",
       "    </tr>\n",
       "  </tbody>\n",
       "</table>\n",
       "</div>"
      ],
      "text/plain": [
       "                  Open        High         Low       Close   Adj Close  \\\n",
       "Date                                                                     \n",
       "2024-01-05  144.690002  146.589996  144.529999  145.240005  145.240005   \n",
       "2024-01-08  146.740005  149.399994  146.149994  149.100006  149.100006   \n",
       "2024-01-09  148.330002  151.710007  148.210007  151.369995  151.369995   \n",
       "2024-01-10  152.059998  154.419998  151.880005  153.729996  153.729996   \n",
       "2024-01-11  155.039993  157.169998  153.119995  155.179993  155.179993   \n",
       "2024-01-12  155.389999  156.199997  154.009995  154.619995  154.619995   \n",
       "2024-01-16  153.529999  154.990005  152.149994  153.160004  153.160004   \n",
       "2024-01-17  151.490005  152.149994  149.910004  151.710007  151.710007   \n",
       "2024-01-18  152.770004  153.779999  151.820007  153.500000  153.500000   \n",
       "2024-01-19  153.830002  155.759995  152.740005  155.339996  155.339996   \n",
       "\n",
       "              Volume  \n",
       "Date                  \n",
       "2024-01-05  45124800  \n",
       "2024-01-08  46757100  \n",
       "2024-01-09  43812600  \n",
       "2024-01-10  44421800  \n",
       "2024-01-11  49072700  \n",
       "2024-01-12  40460300  \n",
       "2024-01-16  41384600  \n",
       "2024-01-17  34953400  \n",
       "2024-01-18  37850200  \n",
       "2024-01-19  51033700  "
      ]
     },
     "execution_count": 5,
     "metadata": {},
     "output_type": "execute_result"
    }
   ],
   "source": [
    "df = yf.download(ticker, start=start, end=end)\n",
    "df.tail(10)"
   ]
  },
  {
   "cell_type": "code",
   "execution_count": 6,
   "id": "4fd894f3",
   "metadata": {},
   "outputs": [
    {
     "name": "stdout",
     "output_type": "stream",
     "text": [
      "(1711,)\n"
     ]
    }
   ],
   "source": [
    "ClosingPrice = df['Close']\n",
    "\n",
    "# print(data)\n",
    "print(ClosingPrice.values.shape)\n",
    "\n",
    "scaler = MinMaxScaler()\n",
    "scaled_data = scaler.fit_transform(ClosingPrice.values.reshape(-1, 1))\n",
    "# print(scaled_data)"
   ]
  },
  {
   "cell_type": "code",
   "execution_count": 7,
   "id": "9827d44b",
   "metadata": {},
   "outputs": [
    {
     "data": {
      "image/png": "[encoded data removed]",
      "text/plain": [
       "<Figure size 640x480 with 1 Axes>"
      ]
     },
     "metadata": {},
     "output_type": "display_data"
    }
   ],
   "source": [
    "plt.plot(scaled_data)\n",
    "plt.title(f'{ticker} Closing Price')\n",
    "plt.show()"
   ]
  },
  {
   "cell_type": "code",
   "execution_count": 8,
   "id": "d0ab277e",
   "metadata": {},
   "outputs": [
    {
     "data": {
      "text/plain": [
       "(1368, 343)"
      ]
     },
     "execution_count": 8,
     "metadata": {},
     "output_type": "execute_result"
    }
   ],
   "source": [
    "training_data_len = int(len(scaled_data) * 0.8)\n",
    "\n",
    "training_data = scaled_data[0:training_data_len, :]\n",
    "testing_data = scaled_data[training_data_len:, :]\n",
    "\n",
    "len(training_data), len(testing_data)"
   ]
  },
  {
   "cell_type": "code",
   "execution_count": 9,
   "id": "a5a9517b",
   "metadata": {},
   "outputs": [],
   "source": [
    "past_values = 1\n",
    "\n",
    "def create_training_data(data, past_values):\n",
    "    if len(data) < past_values:\n",
    "        return np.array([]), np.array([])\n",
    "    X_train = []\n",
    "    y_train = []\n",
    "    for i in range(past_values, len(data)):\n",
    "        X_train.append(data[i-past_values:i, 0])\n",
    "        y_train.append(data[i, 0])\n",
    "    return np.array(X_train), np.array(y_train)\n",
    "\n",
    "X_train, y_train = create_training_data(training_data, past_values)\n",
    "X_train = np.reshape(X_train, (X_train.shape[0], X_train.shape[1], 1))\n",
    "\n",
    "X_test, y_test = create_training_data(testing_data, past_values)\n",
    "X_test = np.reshape(X_test, (X_test.shape[0], X_test.shape[1], 1))"
   ]
  },
  {
   "cell_type": "code",
   "execution_count": 10,
   "id": "c2e46176",
   "metadata": {},
   "outputs": [
    {
     "data": {
      "text/plain": [
       "(1709, 1711)"
      ]
     },
     "execution_count": 10,
     "metadata": {},
     "output_type": "execute_result"
    }
   ],
   "source": [
    "len(X_train) + len(X_test), len(scaled_data)"
   ]
  },
  {
   "cell_type": "code",
   "execution_count": 11,
   "id": "d26d2fdb",
   "metadata": {},
   "outputs": [
    {
     "data": {
      "text/plain": [
       "(1367, 1, 1)"
      ]
     },
     "execution_count": 11,
     "metadata": {},
     "output_type": "execute_result"
    }
   ],
   "source": [
    "X_train.shape"
   ]
  },
  {
   "cell_type": "code",
   "execution_count": 12,
   "id": "70151e02",
   "metadata": {},
   "outputs": [
    {
     "name": "stdout",
     "output_type": "stream",
     "text": [
      "Epoch 1/200\n",
      "7/7 [==============================] - 8s 11ms/step - loss: 0.2823\n",
      "Epoch 2/200\n",
      "7/7 [==============================] - 0s 11ms/step - loss: 0.2210\n",
      "Epoch 3/200\n",
      "7/7 [==============================] - 0s 12ms/step - loss: 0.1567\n",
      "Epoch 4/200\n",
      "7/7 [==============================] - 0s 10ms/step - loss: 0.0989\n",
      "Epoch 5/200\n",
      "7/7 [==============================] - 0s 11ms/step - loss: 0.0660\n",
      "Epoch 6/200\n",
      "7/7 [==============================] - 0s 11ms/step - loss: 0.0680\n",
      "Epoch 7/200\n",
      "7/7 [==============================] - 0s 11ms/step - loss: 0.0583\n",
      "Epoch 8/200\n",
      "7/7 [==============================] - 0s 10ms/step - loss: 0.0491\n",
      "Epoch 9/200\n",
      "7/7 [==============================] - 0s 11ms/step - loss: 0.0398\n",
      "Epoch 10/200\n",
      "7/7 [==============================] - 0s 11ms/step - loss: 0.0280\n",
      "Epoch 11/200\n",
      "7/7 [==============================] - 0s 10ms/step - loss: 0.0171\n",
      "Epoch 12/200\n",
      "7/7 [==============================] - 0s 11ms/step - loss: 0.0078\n",
      "Epoch 13/200\n",
      "7/7 [==============================] - 0s 12ms/step - loss: 0.0024\n",
      "Epoch 14/200\n",
      "7/7 [==============================] - 0s 11ms/step - loss: 0.0012\n",
      "Epoch 15/200\n",
      "7/7 [==============================] - 0s 10ms/step - loss: 0.0015\n",
      "Epoch 16/200\n",
      "7/7 [==============================] - 0s 10ms/step - loss: 0.0014\n",
      "Epoch 17/200\n",
      "7/7 [==============================] - 0s 12ms/step - loss: 0.0011\n",
      "Epoch 18/200\n",
      "7/7 [==============================] - 0s 10ms/step - loss: 0.0010\n",
      "Epoch 19/200\n",
      "7/7 [==============================] - 0s 10ms/step - loss: 9.9186e-04\n",
      "Epoch 20/200\n",
      "7/7 [==============================] - 0s 10ms/step - loss: 9.5962e-04\n",
      "Epoch 21/200\n",
      "7/7 [==============================] - 0s 11ms/step - loss: 9.1550e-04\n",
      "Epoch 22/200\n",
      "7/7 [==============================] - 0s 11ms/step - loss: 8.8411e-04\n",
      "Epoch 23/200\n",
      "7/7 [==============================] - 0s 11ms/step - loss: 8.5998e-04\n",
      "Epoch 24/200\n",
      "7/7 [==============================] - 0s 11ms/step - loss: 8.3826e-04\n",
      "Epoch 25/200\n",
      "7/7 [==============================] - 0s 10ms/step - loss: 8.2280e-04\n",
      "Epoch 26/200\n",
      "7/7 [==============================] - 0s 10ms/step - loss: 7.9166e-04\n",
      "Epoch 27/200\n",
      "7/7 [==============================] - 0s 10ms/step - loss: 7.6750e-04\n",
      "Epoch 28/200\n",
      "7/7 [==============================] - 0s 10ms/step - loss: 7.4441e-04\n",
      "Epoch 29/200\n",
      "7/7 [==============================] - 0s 11ms/step - loss: 7.2449e-04\n",
      "Epoch 30/200\n",
      "7/7 [==============================] - 0s 9ms/step - loss: 6.9743e-04\n",
      "Epoch 31/200\n",
      "7/7 [==============================] - 0s 9ms/step - loss: 6.7230e-04\n",
      "Epoch 32/200\n",
      "7/7 [==============================] - 0s 12ms/step - loss: 6.5297e-04\n",
      "Epoch 33/200\n",
      "7/7 [==============================] - 0s 9ms/step - loss: 6.3341e-04\n",
      "Epoch 34/200\n",
      "7/7 [==============================] - 0s 11ms/step - loss: 6.1376e-04\n",
      "Epoch 35/200\n",
      "7/7 [==============================] - 0s 11ms/step - loss: 5.9505e-04\n",
      "Epoch 36/200\n",
      "7/7 [==============================] - 0s 11ms/step - loss: 5.7850e-04\n",
      "Epoch 37/200\n",
      "7/7 [==============================] - 0s 10ms/step - loss: 5.6285e-04\n",
      "Epoch 38/200\n",
      "7/7 [==============================] - 0s 9ms/step - loss: 5.4510e-04\n",
      "Epoch 39/200\n",
      "7/7 [==============================] - 0s 11ms/step - loss: 5.3094e-04\n",
      "Epoch 40/200\n",
      "7/7 [==============================] - 0s 10ms/step - loss: 5.1542e-04\n",
      "Epoch 41/200\n",
      "7/7 [==============================] - 0s 9ms/step - loss: 5.0264e-04\n",
      "Epoch 42/200\n",
      "7/7 [==============================] - 0s 10ms/step - loss: 4.9014e-04\n",
      "Epoch 43/200\n",
      "7/7 [==============================] - 0s 12ms/step - loss: 4.7668e-04\n",
      "Epoch 44/200\n",
      "7/7 [==============================] - 0s 11ms/step - loss: 4.5931e-04\n",
      "Epoch 45/200\n",
      "7/7 [==============================] - 0s 11ms/step - loss: 4.5042e-04\n",
      "Epoch 46/200\n",
      "7/7 [==============================] - 0s 15ms/step - loss: 4.3988e-04\n",
      "Epoch 47/200\n",
      "7/7 [==============================] - 0s 10ms/step - loss: 4.3127e-04\n",
      "Epoch 48/200\n",
      "7/7 [==============================] - 0s 12ms/step - loss: 4.1969e-04\n",
      "Epoch 49/200\n",
      "7/7 [==============================] - 0s 11ms/step - loss: 4.0937e-04\n",
      "Epoch 50/200\n",
      "7/7 [==============================] - 0s 12ms/step - loss: 4.0142e-04\n",
      "Epoch 51/200\n",
      "7/7 [==============================] - 0s 11ms/step - loss: 3.9381e-04\n",
      "Epoch 52/200\n",
      "7/7 [==============================] - 0s 11ms/step - loss: 3.8751e-04\n",
      "Epoch 53/200\n",
      "7/7 [==============================] - 0s 12ms/step - loss: 3.8642e-04\n",
      "Epoch 54/200\n",
      "7/7 [==============================] - 0s 8ms/step - loss: 3.7548e-04\n",
      "Epoch 55/200\n",
      "7/7 [==============================] - 0s 12ms/step - loss: 3.7029e-04\n",
      "Epoch 56/200\n",
      "7/7 [==============================] - 0s 10ms/step - loss: 3.6611e-04\n",
      "Epoch 57/200\n",
      "7/7 [==============================] - 0s 9ms/step - loss: 3.5782e-04\n",
      "Epoch 58/200\n",
      "7/7 [==============================] - 0s 9ms/step - loss: 3.5285e-04\n",
      "Epoch 59/200\n",
      "7/7 [==============================] - 0s 11ms/step - loss: 3.4790e-04\n",
      "Epoch 60/200\n",
      "7/7 [==============================] - 0s 11ms/step - loss: 3.4508e-04\n",
      "Epoch 61/200\n",
      "7/7 [==============================] - 0s 10ms/step - loss: 3.4249e-04\n",
      "Epoch 62/200\n",
      "7/7 [==============================] - 0s 10ms/step - loss: 3.3950e-04\n",
      "Epoch 63/200\n",
      "7/7 [==============================] - 0s 11ms/step - loss: 3.3469e-04\n",
      "Epoch 64/200\n",
      "7/7 [==============================] - 0s 10ms/step - loss: 3.3340e-04\n",
      "Epoch 65/200\n",
      "7/7 [==============================] - 0s 10ms/step - loss: 3.3138e-04\n",
      "Epoch 66/200\n",
      "7/7 [==============================] - 0s 8ms/step - loss: 3.2847e-04\n",
      "Epoch 67/200\n",
      "7/7 [==============================] - 0s 10ms/step - loss: 3.2796e-04\n",
      "Epoch 68/200\n",
      "7/7 [==============================] - 0s 10ms/step - loss: 3.2611e-04\n",
      "Epoch 69/200\n",
      "7/7 [==============================] - 0s 10ms/step - loss: 3.2522e-04\n",
      "Epoch 70/200\n",
      "7/7 [==============================] - 0s 9ms/step - loss: 3.2176e-04\n",
      "Epoch 71/200\n",
      "7/7 [==============================] - 0s 10ms/step - loss: 3.2423e-04\n",
      "Epoch 72/200\n",
      "7/7 [==============================] - 0s 9ms/step - loss: 3.2311e-04\n",
      "Epoch 73/200\n",
      "7/7 [==============================] - 0s 9ms/step - loss: 3.1974e-04\n",
      "Epoch 74/200\n",
      "7/7 [==============================] - 0s 11ms/step - loss: 3.1678e-04\n",
      "Epoch 75/200\n",
      "7/7 [==============================] - 0s 11ms/step - loss: 3.1900e-04\n",
      "Epoch 76/200\n",
      "7/7 [==============================] - 0s 10ms/step - loss: 3.1859e-04\n",
      "Epoch 77/200\n",
      "7/7 [==============================] - 0s 14ms/step - loss: 3.1807e-04\n",
      "Epoch 78/200\n",
      "7/7 [==============================] - 0s 9ms/step - loss: 3.1535e-04\n",
      "Epoch 79/200\n",
      "7/7 [==============================] - 0s 10ms/step - loss: 3.1490e-04\n",
      "Epoch 80/200\n",
      "7/7 [==============================] - 0s 11ms/step - loss: 3.1717e-04\n",
      "Epoch 81/200\n",
      "7/7 [==============================] - 0s 11ms/step - loss: 3.1443e-04\n",
      "Epoch 82/200\n",
      "7/7 [==============================] - 0s 10ms/step - loss: 3.1761e-04\n",
      "Epoch 83/200\n",
      "7/7 [==============================] - 0s 10ms/step - loss: 3.2118e-04\n",
      "Epoch 84/200\n",
      "7/7 [==============================] - 0s 10ms/step - loss: 3.1540e-04\n",
      "Epoch 85/200\n",
      "7/7 [==============================] - 0s 9ms/step - loss: 3.1776e-04\n",
      "Epoch 86/200\n",
      "7/7 [==============================] - 0s 9ms/step - loss: 3.1304e-04\n",
      "Epoch 87/200\n",
      "7/7 [==============================] - 0s 8ms/step - loss: 3.1418e-04\n",
      "Epoch 88/200\n",
      "7/7 [==============================] - 0s 10ms/step - loss: 3.1595e-04\n",
      "Epoch 89/200\n",
      "7/7 [==============================] - 0s 11ms/step - loss: 3.1463e-04\n",
      "Epoch 90/200\n",
      "7/7 [==============================] - 0s 11ms/step - loss: 3.1503e-04\n",
      "Epoch 91/200\n",
      "7/7 [==============================] - 0s 11ms/step - loss: 3.1453e-04\n",
      "Epoch 92/200\n",
      "7/7 [==============================] - 0s 10ms/step - loss: 3.1222e-04\n",
      "Epoch 93/200\n",
      "7/7 [==============================] - 0s 10ms/step - loss: 3.1623e-04\n",
      "Epoch 94/200\n",
      "7/7 [==============================] - 0s 9ms/step - loss: 3.1733e-04\n",
      "Epoch 95/200\n",
      "7/7 [==============================] - 0s 10ms/step - loss: 3.2396e-04\n",
      "Epoch 96/200\n",
      "7/7 [==============================] - 0s 10ms/step - loss: 3.1547e-04\n",
      "Epoch 97/200\n",
      "7/7 [==============================] - 0s 10ms/step - loss: 3.1967e-04\n",
      "Epoch 98/200\n",
      "7/7 [==============================] - 0s 9ms/step - loss: 3.2100e-04\n",
      "Epoch 99/200\n"
     ]
    },
    {
     "name": "stdout",
     "output_type": "stream",
     "text": [
      "7/7 [==============================] - 0s 10ms/step - loss: 3.1893e-04\n",
      "Epoch 100/200\n",
      "7/7 [==============================] - 0s 10ms/step - loss: 3.1475e-04\n",
      "Epoch 101/200\n",
      "7/7 [==============================] - 0s 10ms/step - loss: 3.1445e-04\n",
      "Epoch 102/200\n",
      "7/7 [==============================] - 0s 10ms/step - loss: 3.1666e-04\n",
      "Epoch 103/200\n",
      "7/7 [==============================] - 0s 9ms/step - loss: 3.2128e-04\n",
      "Epoch 104/200\n",
      "7/7 [==============================] - 0s 9ms/step - loss: 3.1226e-04\n",
      "Epoch 105/200\n",
      "7/7 [==============================] - 0s 9ms/step - loss: 3.1452e-04\n",
      "Epoch 106/200\n",
      "7/7 [==============================] - 0s 9ms/step - loss: 3.1446e-04\n",
      "Epoch 107/200\n",
      "7/7 [==============================] - 0s 10ms/step - loss: 3.1381e-04\n",
      "Epoch 108/200\n",
      "7/7 [==============================] - 0s 9ms/step - loss: 3.1376e-04\n",
      "Epoch 109/200\n",
      "7/7 [==============================] - 0s 9ms/step - loss: 3.1530e-04\n",
      "Epoch 110/200\n",
      "7/7 [==============================] - 0s 10ms/step - loss: 3.1240e-04\n",
      "Epoch 111/200\n",
      "7/7 [==============================] - 0s 10ms/step - loss: 3.1435e-04\n",
      "Epoch 112/200\n",
      "7/7 [==============================] - 0s 9ms/step - loss: 3.1458e-04\n",
      "Epoch 113/200\n",
      "7/7 [==============================] - 0s 10ms/step - loss: 3.1609e-04\n",
      "Epoch 114/200\n",
      "7/7 [==============================] - 0s 9ms/step - loss: 3.1453e-04\n",
      "Epoch 115/200\n",
      "7/7 [==============================] - 0s 10ms/step - loss: 3.1505e-04\n",
      "Epoch 116/200\n",
      "7/7 [==============================] - 0s 10ms/step - loss: 3.1243e-04\n",
      "Epoch 117/200\n",
      "7/7 [==============================] - 0s 10ms/step - loss: 3.1799e-04\n",
      "Epoch 118/200\n",
      "7/7 [==============================] - 0s 10ms/step - loss: 3.1340e-04\n",
      "Epoch 119/200\n",
      "7/7 [==============================] - 0s 10ms/step - loss: 3.1443e-04\n",
      "Epoch 120/200\n",
      "7/7 [==============================] - 0s 10ms/step - loss: 3.1299e-04\n",
      "Epoch 121/200\n",
      "7/7 [==============================] - 0s 10ms/step - loss: 3.1287e-04\n",
      "Epoch 122/200\n",
      "7/7 [==============================] - 0s 10ms/step - loss: 3.1129e-04\n",
      "Epoch 123/200\n",
      "7/7 [==============================] - 0s 11ms/step - loss: 3.1495e-04\n",
      "Epoch 124/200\n",
      "7/7 [==============================] - 0s 10ms/step - loss: 3.1443e-04\n",
      "Epoch 125/200\n",
      "7/7 [==============================] - 0s 10ms/step - loss: 3.1361e-04\n",
      "Epoch 126/200\n",
      "7/7 [==============================] - 0s 10ms/step - loss: 3.2374e-04\n",
      "Epoch 127/200\n",
      "7/7 [==============================] - 0s 10ms/step - loss: 3.1322e-04\n",
      "Epoch 128/200\n",
      "7/7 [==============================] - 0s 11ms/step - loss: 3.1480e-04\n",
      "Epoch 129/200\n",
      "7/7 [==============================] - 0s 10ms/step - loss: 3.2332e-04\n",
      "Epoch 130/200\n",
      "7/7 [==============================] - 0s 11ms/step - loss: 3.2679e-04\n",
      "Epoch 131/200\n",
      "7/7 [==============================] - 0s 11ms/step - loss: 3.1501e-04\n",
      "Epoch 132/200\n",
      "7/7 [==============================] - 0s 10ms/step - loss: 3.1235e-04\n",
      "Epoch 133/200\n",
      "7/7 [==============================] - 0s 10ms/step - loss: 3.1726e-04\n",
      "Epoch 134/200\n",
      "7/7 [==============================] - 0s 11ms/step - loss: 3.1288e-04\n",
      "Epoch 135/200\n",
      "7/7 [==============================] - 0s 11ms/step - loss: 3.1320e-04\n",
      "Epoch 136/200\n",
      "7/7 [==============================] - 0s 11ms/step - loss: 3.1268e-04\n",
      "Epoch 137/200\n",
      "7/7 [==============================] - 0s 10ms/step - loss: 3.1635e-04\n",
      "Epoch 138/200\n",
      "7/7 [==============================] - 0s 10ms/step - loss: 3.1751e-04\n",
      "Epoch 139/200\n",
      "7/7 [==============================] - 0s 10ms/step - loss: 3.1453e-04\n",
      "Epoch 140/200\n",
      "7/7 [==============================] - 0s 10ms/step - loss: 3.1696e-04\n",
      "Epoch 141/200\n",
      "7/7 [==============================] - 0s 10ms/step - loss: 3.1124e-04\n",
      "Epoch 142/200\n",
      "7/7 [==============================] - 0s 11ms/step - loss: 3.1500e-04\n",
      "Epoch 143/200\n",
      "7/7 [==============================] - 0s 10ms/step - loss: 3.1444e-04\n",
      "Epoch 144/200\n",
      "7/7 [==============================] - 0s 11ms/step - loss: 3.1614e-04\n",
      "Epoch 145/200\n",
      "7/7 [==============================] - 0s 10ms/step - loss: 3.2225e-04\n",
      "Epoch 146/200\n",
      "7/7 [==============================] - 0s 10ms/step - loss: 3.1518e-04\n",
      "Epoch 147/200\n",
      "7/7 [==============================] - 0s 10ms/step - loss: 3.1738e-04\n",
      "Epoch 148/200\n",
      "7/7 [==============================] - 0s 10ms/step - loss: 3.1850e-04\n",
      "Epoch 149/200\n",
      "7/7 [==============================] - 0s 10ms/step - loss: 3.1400e-04\n",
      "Epoch 150/200\n",
      "7/7 [==============================] - 0s 10ms/step - loss: 3.1477e-04\n",
      "Epoch 151/200\n",
      "7/7 [==============================] - 0s 10ms/step - loss: 3.1407e-04\n",
      "Epoch 152/200\n",
      "7/7 [==============================] - 0s 10ms/step - loss: 3.1470e-04\n",
      "Epoch 153/200\n",
      "7/7 [==============================] - 0s 10ms/step - loss: 3.2658e-04\n",
      "Epoch 154/200\n",
      "7/7 [==============================] - 0s 10ms/step - loss: 3.4540e-04\n",
      "Epoch 155/200\n",
      "7/7 [==============================] - 0s 10ms/step - loss: 3.2346e-04\n",
      "Epoch 156/200\n",
      "7/7 [==============================] - 0s 10ms/step - loss: 3.2957e-04\n",
      "Epoch 157/200\n",
      "7/7 [==============================] - 0s 11ms/step - loss: 3.2620e-04\n",
      "Epoch 158/200\n",
      "7/7 [==============================] - 0s 10ms/step - loss: 3.2509e-04\n",
      "Epoch 159/200\n",
      "7/7 [==============================] - 0s 10ms/step - loss: 3.3216e-04\n",
      "Epoch 160/200\n",
      "7/7 [==============================] - 0s 10ms/step - loss: 3.2143e-04\n",
      "Epoch 161/200\n",
      "7/7 [==============================] - 0s 11ms/step - loss: 3.2311e-04\n",
      "Epoch 162/200\n",
      "7/7 [==============================] - 0s 11ms/step - loss: 3.1357e-04\n",
      "Epoch 163/200\n",
      "7/7 [==============================] - 0s 11ms/step - loss: 3.1397e-04\n",
      "Epoch 164/200\n",
      "7/7 [==============================] - 0s 11ms/step - loss: 3.1467e-04\n",
      "Epoch 165/200\n",
      "7/7 [==============================] - 0s 12ms/step - loss: 3.1259e-04\n",
      "Epoch 166/200\n",
      "7/7 [==============================] - 0s 10ms/step - loss: 3.1363e-04\n",
      "Epoch 167/200\n",
      "7/7 [==============================] - 0s 11ms/step - loss: 3.1509e-04\n",
      "Epoch 168/200\n",
      "7/7 [==============================] - 0s 10ms/step - loss: 3.1258e-04\n",
      "Epoch 169/200\n",
      "7/7 [==============================] - 0s 12ms/step - loss: 3.1416e-04\n",
      "Epoch 170/200\n",
      "7/7 [==============================] - 0s 12ms/step - loss: 3.1488e-04\n",
      "Epoch 171/200\n",
      "7/7 [==============================] - 0s 12ms/step - loss: 3.1467e-04\n",
      "Epoch 172/200\n",
      "7/7 [==============================] - 0s 12ms/step - loss: 3.1684e-04\n",
      "Epoch 173/200\n",
      "7/7 [==============================] - 0s 10ms/step - loss: 3.1992e-04\n",
      "Epoch 174/200\n",
      "7/7 [==============================] - 0s 10ms/step - loss: 3.2101e-04\n",
      "Epoch 175/200\n",
      "7/7 [==============================] - 0s 10ms/step - loss: 3.1363e-04\n",
      "Epoch 176/200\n",
      "7/7 [==============================] - 0s 11ms/step - loss: 3.1220e-04\n",
      "Epoch 177/200\n",
      "7/7 [==============================] - 0s 11ms/step - loss: 3.1438e-04\n",
      "Epoch 178/200\n",
      "7/7 [==============================] - 0s 11ms/step - loss: 3.1349e-04\n",
      "Epoch 179/200\n",
      "7/7 [==============================] - 0s 15ms/step - loss: 3.1385e-04\n",
      "Epoch 180/200\n",
      "7/7 [==============================] - 0s 11ms/step - loss: 3.1240e-04\n",
      "Epoch 181/200\n",
      "7/7 [==============================] - 0s 11ms/step - loss: 3.1826e-04\n",
      "Epoch 182/200\n",
      "7/7 [==============================] - 0s 11ms/step - loss: 3.1297e-04\n",
      "Epoch 183/200\n",
      "7/7 [==============================] - 0s 11ms/step - loss: 3.2325e-04\n",
      "Epoch 184/200\n",
      "7/7 [==============================] - 0s 12ms/step - loss: 3.1940e-04\n",
      "Epoch 185/200\n",
      "7/7 [==============================] - 0s 11ms/step - loss: 3.2986e-04\n",
      "Epoch 186/200\n",
      "7/7 [==============================] - 0s 11ms/step - loss: 3.2244e-04\n",
      "Epoch 187/200\n",
      "7/7 [==============================] - 0s 10ms/step - loss: 3.1663e-04\n",
      "Epoch 188/200\n",
      "7/7 [==============================] - 0s 11ms/step - loss: 3.1284e-04\n",
      "Epoch 189/200\n",
      "7/7 [==============================] - 0s 10ms/step - loss: 3.1346e-04\n",
      "Epoch 190/200\n",
      "7/7 [==============================] - 0s 11ms/step - loss: 3.2687e-04\n",
      "Epoch 191/200\n",
      "7/7 [==============================] - 0s 10ms/step - loss: 3.1854e-04\n",
      "Epoch 192/200\n",
      "7/7 [==============================] - 0s 11ms/step - loss: 3.1758e-04\n",
      "Epoch 193/200\n",
      "7/7 [==============================] - 0s 11ms/step - loss: 3.2790e-04\n",
      "Epoch 194/200\n",
      "7/7 [==============================] - 0s 11ms/step - loss: 3.1955e-04\n",
      "Epoch 195/200\n"
     ]
    },
    {
     "name": "stdout",
     "output_type": "stream",
     "text": [
      "7/7 [==============================] - 0s 12ms/step - loss: 3.1900e-04\n",
      "Epoch 196/200\n",
      "7/7 [==============================] - 0s 12ms/step - loss: 3.1784e-04\n",
      "Epoch 197/200\n",
      "7/7 [==============================] - 0s 11ms/step - loss: 3.1674e-04\n",
      "Epoch 198/200\n",
      "7/7 [==============================] - 0s 11ms/step - loss: 3.1830e-04\n",
      "Epoch 199/200\n",
      "7/7 [==============================] - 0s 11ms/step - loss: 3.1815e-04\n",
      "Epoch 200/200\n",
      "7/7 [==============================] - 0s 11ms/step - loss: 3.1806e-04\n"
     ]
    },
    {
     "data": {
      "text/plain": [
       "<keras.src.callbacks.History at 0x26877e99210>"
      ]
     },
     "execution_count": 12,
     "metadata": {},
     "output_type": "execute_result"
    }
   ],
   "source": [
    "model = Sequential()\n",
    "model.add(LSTM(50, return_sequences=True, input_shape=(X_train.shape[1], 1)))\n",
    "model.add(LSTM(50, return_sequences=True))\n",
    "model.add(LSTM(50, return_sequences=False))\n",
    "model.add(Dense(25))\n",
    "model.add(Dense(1))\n",
    "\n",
    "model.compile(optimizer='adam', loss='mean_squared_error')\n",
    "model.fit(X_train, y_train, batch_size=200, epochs=200, verbose=1)"
   ]
  },
  {
   "cell_type": "code",
   "execution_count": 13,
   "id": "92ef2e44",
   "metadata": {},
   "outputs": [
    {
     "name": "stdout",
     "output_type": "stream",
     "text": [
      "43/43 [==============================] - 2s 3ms/step\n",
      "11/11 [==============================] - 0s 4ms/step\n"
     ]
    }
   ],
   "source": [
    "pred_train = model.predict(X_train)\n",
    "pred = model.predict(X_test)"
   ]
  },
  {
   "cell_type": "code",
   "execution_count": 14,
   "id": "a77f781f",
   "metadata": {},
   "outputs": [],
   "source": [
    "pred_train = scaler.inverse_transform(pred_train)\n",
    "pred = scaler.inverse_transform(pred)\n",
    "y_test = scaler.inverse_transform([y_test])\n",
    "y_train = scaler.inverse_transform([y_train])"
   ]
  },
  {
   "cell_type": "code",
   "execution_count": 15,
   "id": "ab449e76",
   "metadata": {},
   "outputs": [],
   "source": [
    "y_test = y_test.flatten()\n",
    "y_train = y_train.flatten()"
   ]
  },
  {
   "cell_type": "code",
   "execution_count": 16,
   "id": "3003bbb6",
   "metadata": {},
   "outputs": [
    {
     "name": "stdout",
     "output_type": "stream",
     "text": [
      "Training Error\n",
      "Mean Absolute Error (MAE): 1.6910971618518398\n",
      "Root Mean Squared Error (RMSE): 2.5383384161200886\n"
     ]
    },
    {
     "data": {
      "image/png": "[encoded data removed]",
      "text/plain": [
       "<Figure size 640x480 with 1 Axes>"
      ]
     },
     "metadata": {},
     "output_type": "display_data"
    }
   ],
   "source": [
    "print(\"Training Error\")\n",
    "mae = mean_absolute_error(y_train, pred_train)\n",
    "print(\"Mean Absolute Error (MAE):\", mae)\n",
    "rmse = sqrt(mean_squared_error(y_train, pred_train))\n",
    "print(\"Root Mean Squared Error (RMSE):\", rmse)\n",
    "    \n",
    "plt.plot(y_train, label = 'actual '+str(ticker))\n",
    "plt.plot(pred_train, label = 'predicted '+str(ticker))\n",
    "plt.title(\"Training Plot\")\n",
    "plt.legend()\n",
    "plt.show()"
   ]
  },
  {
   "cell_type": "code",
   "execution_count": 17,
   "id": "01e9e93d",
   "metadata": {},
   "outputs": [
    {
     "name": "stdout",
     "output_type": "stream",
     "text": [
      "Testing Error\n",
      "Mean Absolute Error (MAE): 1.9835134361222466\n",
      "Root Mean Squared Error (RMSE): 2.637597957364315\n"
     ]
    },
    {
     "data": {
      "image/png": "[encoded data removed]",
      "text/plain": [
       "<Figure size 640x480 with 1 Axes>"
      ]
     },
     "metadata": {},
     "output_type": "display_data"
    }
   ],
   "source": [
    "print(\"Testing Error\")\n",
    "mae = mean_absolute_error(y_test, pred)\n",
    "print(\"Mean Absolute Error (MAE):\", mae)\n",
    "rmse = sqrt(mean_squared_error(y_test, pred))\n",
    "print(\"Root Mean Squared Error (RMSE):\", rmse)\n",
    "\n",
    "plt.plot(y_test, label = 'actual '+str(ticker))\n",
    "plt.plot(pred, label = 'predicted '+str(ticker))\n",
    "plt.title(\"Testing Plot\")\n",
    "plt.legend()\n",
    "plt.show()"
   ]
  },
  {
   "cell_type": "markdown",
   "id": "a39de483",
   "metadata": {},
   "source": [
    "## 5 days future prediction without correction"
   ]
  },
  {
   "cell_type": "code",
   "execution_count": 18,
   "id": "b9dec815",
   "metadata": {
    "scrolled": true
   },
   "outputs": [
    {
     "data": {
      "text/plain": [
       "array([[0.00240274],\n",
       "       [0.00778433],\n",
       "       [0.00864497],\n",
       "       ...,\n",
       "       [0.75508483],\n",
       "       [0.76766057],\n",
       "       [0.78058762]])"
      ]
     },
     "execution_count": 18,
     "metadata": {},
     "output_type": "execute_result"
    }
   ],
   "source": [
    "scaled_data"
   ]
  },
  {
   "cell_type": "code",
   "execution_count": 19,
   "id": "a42ce6ad",
   "metadata": {},
   "outputs": [
    {
     "data": {
      "text/plain": [
       "(1367, 342, 1711)"
      ]
     },
     "execution_count": 19,
     "metadata": {},
     "output_type": "execute_result"
    }
   ],
   "source": [
    "len(X_train), len(X_test),  len(scaled_data)"
   ]
  },
  {
   "cell_type": "code",
   "execution_count": 20,
   "id": "73ea43f2",
   "metadata": {},
   "outputs": [],
   "source": [
    "reshaped_data = scaled_data.reshape(scaled_data.shape[0], scaled_data.shape[1], 1)"
   ]
  },
  {
   "cell_type": "code",
   "execution_count": 21,
   "id": "3d6562ab",
   "metadata": {},
   "outputs": [
    {
     "data": {
      "text/plain": [
       "array([[[0.70962932]],\n",
       "\n",
       "       [[0.73674806]],\n",
       "\n",
       "       [[0.75269605]],\n",
       "\n",
       "       [[0.76927643]],\n",
       "\n",
       "       [[0.7794635 ]],\n",
       "\n",
       "       [[0.77552919]],\n",
       "\n",
       "       [[0.7652719 ]],\n",
       "\n",
       "       [[0.75508483]],\n",
       "\n",
       "       [[0.76766057]],\n",
       "\n",
       "       [[0.78058762]]])"
      ]
     },
     "execution_count": 21,
     "metadata": {},
     "output_type": "execute_result"
    }
   ],
   "source": [
    "future_data_to_predict = reshaped_data[-10:]\n",
    "future_data_to_predict"
   ]
  },
  {
   "cell_type": "code",
   "execution_count": 22,
   "id": "90bbf305",
   "metadata": {},
   "outputs": [
    {
     "data": {
      "text/plain": [
       "(3, 3)"
      ]
     },
     "execution_count": 22,
     "metadata": {},
     "output_type": "execute_result"
    }
   ],
   "source": [
    "X_test.ndim, reshaped_data.ndim"
   ]
  },
  {
   "cell_type": "code",
   "execution_count": 23,
   "id": "d7913819",
   "metadata": {},
   "outputs": [
    {
     "name": "stdout",
     "output_type": "stream",
     "text": [
      "1/1 [==============================] - 0s 53ms/step\n",
      "[144.97838 148.77701 151.00618 153.3199  154.73943 154.19138 152.76144\n",
      " 151.33978 153.09457 154.89595]\n"
     ]
    }
   ],
   "source": [
    "def predict_future(last_input):\n",
    "    \n",
    "    res = model.predict(last_input)\n",
    "    Output = scaler.inverse_transform(res)\n",
    "    return Output\n",
    "\n",
    "future_predictions_1 = predict_future(future_data_to_predict)\n",
    "# print(future_predictions_1)\n",
    "\n",
    "future_predictions_1 = future_predictions_1.flatten()\n",
    "print(future_predictions_1)"
   ]
  },
  {
   "cell_type": "code",
   "execution_count": 24,
   "id": "177cb2d7",
   "metadata": {},
   "outputs": [],
   "source": [
    "# def predict_future(last_input):\n",
    "    \n",
    "#     res = model.predict(last_input)\n",
    "#     Output = scaler.inverse_transform(res)\n",
    "#     return Output\n",
    "\n",
    "# future_predictions_2 = predict_future(X_test[-5:])\n",
    "# # print(future_predictions_2)\n",
    "\n",
    "# future_predictions_2 = future_predictions_2.flatten()\n",
    "# print(future_predictions_2)"
   ]
  },
  {
   "cell_type": "code",
   "execution_count": 25,
   "id": "bfbbf4ea",
   "metadata": {},
   "outputs": [],
   "source": [
    "day=range(1,(len(future_data_to_predict)+1))"
   ]
  },
  {
   "cell_type": "code",
   "execution_count": 26,
   "id": "c7eafece",
   "metadata": {},
   "outputs": [
    {
     "data": {
      "image/png": "[encoded data removed]",
      "text/plain": [
       "<Figure size 640x480 with 1 Axes>"
      ]
     },
     "metadata": {},
     "output_type": "display_data"
    }
   ],
   "source": [
    "plt.plot(day, future_predictions_1, color='red', label='scaled_data')\n",
    "# plt.plot(day, future_predictions_2, color='blue', label='x_test')\n",
    "plt.legend()\n",
    "plt.show()"
   ]
  },
  {
   "cell_type": "code",
   "execution_count": 27,
   "id": "b1b1174b",
   "metadata": {},
   "outputs": [],
   "source": [
    "# ticker = \"AMZN\"\n",
    "# start='2024-01-22'\n",
    "# end='2024-01-26'\n",
    "# df = yf.download(ticker, start=start, end=end)\n",
    "# # print(df)\n",
    "# actual = df['Close'].values\n",
    "# print(actual)"
   ]
  },
  {
   "cell_type": "code",
   "execution_count": 28,
   "id": "246eb22b",
   "metadata": {},
   "outputs": [],
   "source": [
    "# day_actual = np.arange(1,21)\n",
    "# day_pred = np.arange(1,21)"
   ]
  },
  {
   "cell_type": "code",
   "execution_count": 29,
   "id": "93ab4b80",
   "metadata": {},
   "outputs": [],
   "source": [
    "# plt.figure(figsize=(8,6))\n",
    "# plt.title(f'Plot for {ticker} from {start} till {end}')\n",
    "# plt.xlabel('No. of Days')\n",
    "# plt.ylabel('Price Values')\n",
    "# plt.plot(day_actual, actual, label = 'actual price', color='blue')\n",
    "# plt.plot(day_pred, future_predictions_1, label = 'predicted price', color='red')\n",
    "# plt.legend()\n",
    "# plt.show()"
   ]
  },
  {
   "cell_type": "markdown",
   "id": "3acc2324",
   "metadata": {},
   "source": [
    "## Buy and Sell"
   ]
  },
  {
   "cell_type": "code",
   "execution_count": 30,
   "id": "f8c67516",
   "metadata": {},
   "outputs": [],
   "source": [
    "def get_control_vector(val):\n",
    "    return np.diff(np.sign(np.diff(val)))\n",
    "\n",
    "def buy_and_sell_bot(val,controls):\n",
    "    inv = []\n",
    "    curr_val = 1000\n",
    "    inds = np.where(controls)[0]\n",
    "    buy_inds = np.where(controls>0)[0]\n",
    "    sell_inds = np.where(controls<0)[0]\n",
    "    max_limit = sell_inds[-1] if sell_inds[-1]>buy_inds[-1] else buy_inds[-1]\n",
    "    for i in range(buy_inds[0]+2):\n",
    "        inv.append(curr_val)\n",
    "    for i in range(buy_inds[0],max_limit+1):\n",
    "        if controls[i]>0:\n",
    "            buy_val = val[i+1]\n",
    "        elif controls[i]<0:\n",
    "            sell_val = val[i+1]\n",
    "            curr_val = curr_val*sell_val/buy_val\n",
    "        inv.append(curr_val)\n",
    "        \n",
    "    if max_limit+1!=len(controls):\n",
    "        for i in range(len(controls)-max_limit-1):\n",
    "            inv.append(curr_val)\n",
    "    return inv\n",
    "\n",
    "# def buy_and_sell_bot(val, controls):\n",
    "#     inv = []\n",
    "#     curr_val = 1000\n",
    "#     buy_inds = np.where(controls > 0)[0]\n",
    "#     sell_inds = np.where(controls < 0)[0]\n",
    "    \n",
    "#     if buy_inds.size == 0 or sell_inds.size == 0:\n",
    "#         return [curr_val] * len(controls)\n",
    "    \n",
    "#     max_limit = max(sell_inds[-1], buy_inds[-1])\n",
    "#     for i in range(buy_inds[0] + 2):\n",
    "#         inv.append(curr_val)\n",
    "        \n",
    "#     for i in range(buy_inds[0], max_limit + 1):\n",
    "#         if controls[i] > 0:\n",
    "#             buy_val = val[i + 1]\n",
    "#         elif controls[i] < 0:\n",
    "#             sell_val = val[i + 1]\n",
    "#             curr_val = curr_val * sell_val / buy_val\n",
    "#         inv.append(curr_val)\n",
    "        \n",
    "#     if max_limit + 1 != len(controls):\n",
    "#         for i in range(len(controls) - max_limit - 1):\n",
    "#             inv.append(curr_val)\n",
    "    \n",
    "#     return inv"
   ]
  },
  {
   "cell_type": "code",
   "execution_count": 31,
   "id": "d4467228",
   "metadata": {
    "scrolled": true
   },
   "outputs": [
    {
     "data": {
      "text/plain": [
       "(array([ 0.,  0.,  0., -2.,  0.,  0.,  2.,  0.], dtype=float32),\n",
       " [1000, 1000, 1000, 1000, 1000, 1000, 1000, 1000, 1000, 1000])"
      ]
     },
     "execution_count": 31,
     "metadata": {},
     "output_type": "execute_result"
    }
   ],
   "source": [
    "controls_pred= get_control_vector(future_predictions_1)\n",
    "amount_pred = buy_and_sell_bot(future_predictions_1, controls_pred)\n",
    "controls_pred, amount_pred"
   ]
  },
  {
   "cell_type": "code",
   "execution_count": 32,
   "id": "fd37afe7",
   "metadata": {},
   "outputs": [],
   "source": [
    "# controls_actual= get_control_vector(actual)\n",
    "# amount_actual = buy_and_sell_bot(actual, controls_actual)\n",
    "# controls_actual, amount_actual"
   ]
  },
  {
   "cell_type": "code",
   "execution_count": 33,
   "id": "18049677",
   "metadata": {},
   "outputs": [
    {
     "data": {
      "image/png": "[encoded data removed]",
      "text/plain": [
       "<Figure size 640x480 with 1 Axes>"
      ]
     },
     "metadata": {},
     "output_type": "display_data"
    }
   ],
   "source": [
    "# plt.plot(amount_actual, label=\"actual\")\n",
    "plt.plot(amount_pred, label=\"pred\")\n",
    "plt.legend()\n",
    "plt.title(f\"{ticker} Returns\")\n",
    "plt.show()"
   ]
  },
  {
   "cell_type": "markdown",
   "id": "b11ee162",
   "metadata": {},
   "source": [
    "### Price values along with dates"
   ]
  },
  {
   "cell_type": "code",
   "execution_count": 34,
   "id": "bcbc4f2f",
   "metadata": {},
   "outputs": [],
   "source": [
    "from datetime import datetime, timedelta\n",
    "count=31\n",
    "Date = []\n",
    "for i in range(22,34):\n",
    "    if i == 27:\n",
    "        continue\n",
    "    elif i == 28:\n",
    "        continue\n",
    "    elif i >= 32:\n",
    "        i = i-count\n",
    "        base_date = datetime(2024,2,i)\n",
    "        formatted_date = base_date.strftime('%d-%m-%Y')\n",
    "        Date.append(formatted_date)\n",
    "    else:\n",
    "        base_date = datetime(2024,1,i)\n",
    "        formatted_date = base_date.strftime('%d-%m-%Y')\n",
    "        Date.append(formatted_date)"
   ]
  },
  {
   "cell_type": "code",
   "execution_count": 35,
   "id": "dc78e33b",
   "metadata": {},
   "outputs": [],
   "source": [
    "price_value_dict = {}\n",
    "price_value_dict['Date'] = Date\n",
    "price_value_dict['Closing Price'] = future_predictions_1.tolist()"
   ]
  },
  {
   "cell_type": "code",
   "execution_count": 36,
   "id": "f15efdad",
   "metadata": {
    "scrolled": true
   },
   "outputs": [],
   "source": [
    "# price_value_dict"
   ]
  },
  {
   "cell_type": "code",
   "execution_count": 37,
   "id": "adca4a68",
   "metadata": {},
   "outputs": [],
   "source": [
    "Price_with_dates = pd.DataFrame(price_value_dict)"
   ]
  },
  {
   "cell_type": "code",
   "execution_count": 38,
   "id": "0ec1be7d",
   "metadata": {},
   "outputs": [],
   "source": [
    "Price_with_dates.columns = pd.MultiIndex.from_tuples([(f'{ticker}', 'Date'), (f'{ticker}', 'Closing Price')])"
   ]
  },
  {
   "cell_type": "code",
   "execution_count": 39,
   "id": "e921373e",
   "metadata": {},
   "outputs": [
    {
     "data": {
      "text/html": [
       "<div>\n",
       "<style scoped>\n",
       "    .dataframe tbody tr th:only-of-type {\n",
       "        vertical-align: middle;\n",
       "    }\n",
       "\n",
       "    .dataframe tbody tr th {\n",
       "        vertical-align: top;\n",
       "    }\n",
       "\n",
       "    .dataframe thead tr th {\n",
       "        text-align: left;\n",
       "    }\n",
       "</style>\n",
       "<table border=\"1\" class=\"dataframe\">\n",
       "  <thead>\n",
       "    <tr>\n",
       "      <th></th>\n",
       "      <th colspan=\"2\" halign=\"left\">AMZN</th>\n",
       "    </tr>\n",
       "    <tr>\n",
       "      <th></th>\n",
       "      <th>Date</th>\n",
       "      <th>Closing Price</th>\n",
       "    </tr>\n",
       "  </thead>\n",
       "  <tbody>\n",
       "    <tr>\n",
       "      <th>0</th>\n",
       "      <td>22-01-2024</td>\n",
       "      <td>144.978378</td>\n",
       "    </tr>\n",
       "    <tr>\n",
       "      <th>1</th>\n",
       "      <td>23-01-2024</td>\n",
       "      <td>148.777008</td>\n",
       "    </tr>\n",
       "    <tr>\n",
       "      <th>2</th>\n",
       "      <td>24-01-2024</td>\n",
       "      <td>151.006180</td>\n",
       "    </tr>\n",
       "    <tr>\n",
       "      <th>3</th>\n",
       "      <td>25-01-2024</td>\n",
       "      <td>153.319901</td>\n",
       "    </tr>\n",
       "    <tr>\n",
       "      <th>4</th>\n",
       "      <td>26-01-2024</td>\n",
       "      <td>154.739426</td>\n",
       "    </tr>\n",
       "    <tr>\n",
       "      <th>5</th>\n",
       "      <td>29-01-2024</td>\n",
       "      <td>154.191376</td>\n",
       "    </tr>\n",
       "    <tr>\n",
       "      <th>6</th>\n",
       "      <td>30-01-2024</td>\n",
       "      <td>152.761444</td>\n",
       "    </tr>\n",
       "    <tr>\n",
       "      <th>7</th>\n",
       "      <td>31-01-2024</td>\n",
       "      <td>151.339783</td>\n",
       "    </tr>\n",
       "    <tr>\n",
       "      <th>8</th>\n",
       "      <td>01-02-2024</td>\n",
       "      <td>153.094574</td>\n",
       "    </tr>\n",
       "    <tr>\n",
       "      <th>9</th>\n",
       "      <td>02-02-2024</td>\n",
       "      <td>154.895950</td>\n",
       "    </tr>\n",
       "  </tbody>\n",
       "</table>\n",
       "</div>"
      ],
      "text/plain": [
       "         AMZN              \n",
       "         Date Closing Price\n",
       "0  22-01-2024    144.978378\n",
       "1  23-01-2024    148.777008\n",
       "2  24-01-2024    151.006180\n",
       "3  25-01-2024    153.319901\n",
       "4  26-01-2024    154.739426\n",
       "5  29-01-2024    154.191376\n",
       "6  30-01-2024    152.761444\n",
       "7  31-01-2024    151.339783\n",
       "8  01-02-2024    153.094574\n",
       "9  02-02-2024    154.895950"
      ]
     },
     "execution_count": 39,
     "metadata": {},
     "output_type": "execute_result"
    }
   ],
   "source": [
    "Price_with_dates"
   ]
  },
  {
   "cell_type": "code",
   "execution_count": null,
   "id": "5b8bc85c",
   "metadata": {},
   "outputs": [],
   "source": []
  },
  {
   "cell_type": "code",
   "execution_count": 42,
   "id": "572a0939",
   "metadata": {},
   "outputs": [],
   "source": [
    "ticker = \"AMZN\"\n",
    "start = \"2024-01-22\"\n",
    "end = \"2024-01-31\""
   ]
  },
  {
   "cell_type": "code",
   "execution_count": 43,
   "id": "364b096f",
   "metadata": {},
   "outputs": [
    {
     "name": "stdout",
     "output_type": "stream",
     "text": [
      "[*********************100%***********************]  1 of 1 completed\n"
     ]
    },
    {
     "data": {
      "text/html": [
       "<div>\n",
       "<style scoped>\n",
       "    .dataframe tbody tr th:only-of-type {\n",
       "        vertical-align: middle;\n",
       "    }\n",
       "\n",
       "    .dataframe tbody tr th {\n",
       "        vertical-align: top;\n",
       "    }\n",
       "\n",
       "    .dataframe thead th {\n",
       "        text-align: right;\n",
       "    }\n",
       "</style>\n",
       "<table border=\"1\" class=\"dataframe\">\n",
       "  <thead>\n",
       "    <tr style=\"text-align: right;\">\n",
       "      <th></th>\n",
       "      <th>Open</th>\n",
       "      <th>High</th>\n",
       "      <th>Low</th>\n",
       "      <th>Close</th>\n",
       "      <th>Adj Close</th>\n",
       "      <th>Volume</th>\n",
       "    </tr>\n",
       "    <tr>\n",
       "      <th>Date</th>\n",
       "      <th></th>\n",
       "      <th></th>\n",
       "      <th></th>\n",
       "      <th></th>\n",
       "      <th></th>\n",
       "      <th></th>\n",
       "    </tr>\n",
       "  </thead>\n",
       "  <tbody>\n",
       "    <tr>\n",
       "      <th>2024-01-22</th>\n",
       "      <td>156.889999</td>\n",
       "      <td>157.050003</td>\n",
       "      <td>153.899994</td>\n",
       "      <td>154.779999</td>\n",
       "      <td>154.779999</td>\n",
       "      <td>43687500</td>\n",
       "    </tr>\n",
       "    <tr>\n",
       "      <th>2024-01-23</th>\n",
       "      <td>154.850006</td>\n",
       "      <td>156.210007</td>\n",
       "      <td>153.929993</td>\n",
       "      <td>156.020004</td>\n",
       "      <td>156.020004</td>\n",
       "      <td>37986000</td>\n",
       "    </tr>\n",
       "    <tr>\n",
       "      <th>2024-01-24</th>\n",
       "      <td>157.800003</td>\n",
       "      <td>158.509995</td>\n",
       "      <td>156.479996</td>\n",
       "      <td>156.869995</td>\n",
       "      <td>156.869995</td>\n",
       "      <td>48547300</td>\n",
       "    </tr>\n",
       "    <tr>\n",
       "      <th>2024-01-25</th>\n",
       "      <td>156.949997</td>\n",
       "      <td>158.509995</td>\n",
       "      <td>154.550003</td>\n",
       "      <td>157.750000</td>\n",
       "      <td>157.750000</td>\n",
       "      <td>43638600</td>\n",
       "    </tr>\n",
       "    <tr>\n",
       "      <th>2024-01-26</th>\n",
       "      <td>158.419998</td>\n",
       "      <td>160.720001</td>\n",
       "      <td>157.910004</td>\n",
       "      <td>159.119995</td>\n",
       "      <td>159.119995</td>\n",
       "      <td>51001100</td>\n",
       "    </tr>\n",
       "    <tr>\n",
       "      <th>2024-01-29</th>\n",
       "      <td>159.339996</td>\n",
       "      <td>161.289993</td>\n",
       "      <td>158.899994</td>\n",
       "      <td>161.259995</td>\n",
       "      <td>161.259995</td>\n",
       "      <td>45111400</td>\n",
       "    </tr>\n",
       "    <tr>\n",
       "      <th>2024-01-30</th>\n",
       "      <td>160.699997</td>\n",
       "      <td>161.729996</td>\n",
       "      <td>160.050003</td>\n",
       "      <td>160.330002</td>\n",
       "      <td>160.330002</td>\n",
       "      <td>13180087</td>\n",
       "    </tr>\n",
       "  </tbody>\n",
       "</table>\n",
       "</div>"
      ],
      "text/plain": [
       "                  Open        High         Low       Close   Adj Close  \\\n",
       "Date                                                                     \n",
       "2024-01-22  156.889999  157.050003  153.899994  154.779999  154.779999   \n",
       "2024-01-23  154.850006  156.210007  153.929993  156.020004  156.020004   \n",
       "2024-01-24  157.800003  158.509995  156.479996  156.869995  156.869995   \n",
       "2024-01-25  156.949997  158.509995  154.550003  157.750000  157.750000   \n",
       "2024-01-26  158.419998  160.720001  157.910004  159.119995  159.119995   \n",
       "2024-01-29  159.339996  161.289993  158.899994  161.259995  161.259995   \n",
       "2024-01-30  160.699997  161.729996  160.050003  160.330002  160.330002   \n",
       "\n",
       "              Volume  \n",
       "Date                  \n",
       "2024-01-22  43687500  \n",
       "2024-01-23  37986000  \n",
       "2024-01-24  48547300  \n",
       "2024-01-25  43638600  \n",
       "2024-01-26  51001100  \n",
       "2024-01-29  45111400  \n",
       "2024-01-30  13180087  "
      ]
     },
     "execution_count": 43,
     "metadata": {},
     "output_type": "execute_result"
    }
   ],
   "source": [
    "df = yf.download(ticker, start=start, end=end)\n",
    "df"
   ]
  },
  {
   "cell_type": "code",
   "execution_count": 44,
   "id": "d3f532bf",
   "metadata": {},
   "outputs": [],
   "source": [
    "actual_data = df['Close'].values"
   ]
  },
  {
   "cell_type": "code",
   "execution_count": 45,
   "id": "9b193f0d",
   "metadata": {},
   "outputs": [],
   "source": [
    "day_actual = range(1,8)\n",
    "day_predicted = range(1,11)"
   ]
  },
  {
   "cell_type": "code",
   "execution_count": 46,
   "id": "e4b4ce91",
   "metadata": {},
   "outputs": [
    {
     "data": {
      "image/png": "[encoded data removed]",
      "text/plain": [
       "<Figure size 640x480 with 1 Axes>"
      ]
     },
     "metadata": {},
     "output_type": "display_data"
    }
   ],
   "source": [
    "plt.plot(day_actual, actual_data, color='red', label='actual')\n",
    "plt.plot(day_predicted, future_predictions_1, color='blue', label='predicted')\n",
    "plt.legend()\n",
    "plt.show()"
   ]
  },
  {
   "cell_type": "code",
   "execution_count": null,
   "id": "9e52e63f",
   "metadata": {},
   "outputs": [],
   "source": []
  }
 ],
 "metadata": {
  "kernelspec": {
   "display_name": "Python 3 (ipykernel)",
   "language": "python",
   "name": "python3"
  },
  "language_info": {
   "codemirror_mode": {
    "name": "ipython",
    "version": 3
   },
   "file_extension": ".py",
   "mimetype": "text/x-python",
   "name": "python",
   "nbconvert_exporter": "python",
   "pygments_lexer": "ipython3",
   "version": "3.11.4"
  }
 },
 "nbformat": 4,
 "nbformat_minor": 5
}
