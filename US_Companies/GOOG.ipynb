{
 "cells": [
  {
   "cell_type": "code",
   "execution_count": 1,
   "id": "3e3175db",
   "metadata": {},
   "outputs": [],
   "source": [
    "import numpy as np\n",
    "import pandas as pd\n",
    "import yfinance as yf\n",
    "import matplotlib.pyplot as plt\n",
    "from sklearn.preprocessing import MinMaxScaler\n",
    "from keras.models import Sequential\n",
    "from keras.layers import LSTM, Dense\n",
    "from sklearn.metrics import mean_squared_error, mean_absolute_error, accuracy_score\n",
    "from math import sqrt"
   ]
  },
  {
   "cell_type": "code",
   "execution_count": 2,
   "id": "beee8595",
   "metadata": {},
   "outputs": [],
   "source": [
    "ticker = \"GOOG\"\n",
    "start = \"2017-04-01\"\n",
    "end = \"2024-01-20\""
   ]
  },
  {
   "cell_type": "code",
   "execution_count": 3,
   "id": "c4d883e3",
   "metadata": {},
   "outputs": [
    {
     "name": "stdout",
     "output_type": "stream",
     "text": [
      "[*********************100%***********************]  1 of 1 completed\n"
     ]
    },
    {
     "data": {
      "text/html": [
       "<div>\n",
       "<style scoped>\n",
       "    .dataframe tbody tr th:only-of-type {\n",
       "        vertical-align: middle;\n",
       "    }\n",
       "\n",
       "    .dataframe tbody tr th {\n",
       "        vertical-align: top;\n",
       "    }\n",
       "\n",
       "    .dataframe thead th {\n",
       "        text-align: right;\n",
       "    }\n",
       "</style>\n",
       "<table border=\"1\" class=\"dataframe\">\n",
       "  <thead>\n",
       "    <tr style=\"text-align: right;\">\n",
       "      <th></th>\n",
       "      <th>Open</th>\n",
       "      <th>High</th>\n",
       "      <th>Low</th>\n",
       "      <th>Close</th>\n",
       "      <th>Adj Close</th>\n",
       "      <th>Volume</th>\n",
       "    </tr>\n",
       "    <tr>\n",
       "      <th>Date</th>\n",
       "      <th></th>\n",
       "      <th></th>\n",
       "      <th></th>\n",
       "      <th></th>\n",
       "      <th></th>\n",
       "      <th></th>\n",
       "    </tr>\n",
       "  </thead>\n",
       "  <tbody>\n",
       "    <tr>\n",
       "      <th>2024-01-05</th>\n",
       "      <td>138.352005</td>\n",
       "      <td>138.809998</td>\n",
       "      <td>136.850006</td>\n",
       "      <td>137.389999</td>\n",
       "      <td>137.389999</td>\n",
       "      <td>15433200</td>\n",
       "    </tr>\n",
       "    <tr>\n",
       "      <th>2024-01-08</th>\n",
       "      <td>138.000000</td>\n",
       "      <td>140.639999</td>\n",
       "      <td>137.880005</td>\n",
       "      <td>140.529999</td>\n",
       "      <td>140.529999</td>\n",
       "      <td>17645300</td>\n",
       "    </tr>\n",
       "    <tr>\n",
       "      <th>2024-01-09</th>\n",
       "      <td>140.059998</td>\n",
       "      <td>142.800003</td>\n",
       "      <td>139.789993</td>\n",
       "      <td>142.559998</td>\n",
       "      <td>142.559998</td>\n",
       "      <td>19579700</td>\n",
       "    </tr>\n",
       "    <tr>\n",
       "      <th>2024-01-10</th>\n",
       "      <td>142.520004</td>\n",
       "      <td>144.524994</td>\n",
       "      <td>142.460007</td>\n",
       "      <td>143.800003</td>\n",
       "      <td>143.800003</td>\n",
       "      <td>16641900</td>\n",
       "    </tr>\n",
       "    <tr>\n",
       "      <th>2024-01-11</th>\n",
       "      <td>144.895004</td>\n",
       "      <td>146.660004</td>\n",
       "      <td>142.214996</td>\n",
       "      <td>143.669998</td>\n",
       "      <td>143.669998</td>\n",
       "      <td>17471100</td>\n",
       "    </tr>\n",
       "    <tr>\n",
       "      <th>2024-01-12</th>\n",
       "      <td>144.339996</td>\n",
       "      <td>144.740005</td>\n",
       "      <td>143.360001</td>\n",
       "      <td>144.240005</td>\n",
       "      <td>144.240005</td>\n",
       "      <td>13995200</td>\n",
       "    </tr>\n",
       "    <tr>\n",
       "      <th>2024-01-16</th>\n",
       "      <td>143.429993</td>\n",
       "      <td>145.839996</td>\n",
       "      <td>143.056000</td>\n",
       "      <td>144.080002</td>\n",
       "      <td>144.080002</td>\n",
       "      <td>19198900</td>\n",
       "    </tr>\n",
       "    <tr>\n",
       "      <th>2024-01-17</th>\n",
       "      <td>142.910004</td>\n",
       "      <td>143.410004</td>\n",
       "      <td>140.509995</td>\n",
       "      <td>142.889999</td>\n",
       "      <td>142.889999</td>\n",
       "      <td>17884500</td>\n",
       "    </tr>\n",
       "    <tr>\n",
       "      <th>2024-01-18</th>\n",
       "      <td>143.440002</td>\n",
       "      <td>145.585007</td>\n",
       "      <td>143.350006</td>\n",
       "      <td>144.990005</td>\n",
       "      <td>144.990005</td>\n",
       "      <td>18876800</td>\n",
       "    </tr>\n",
       "    <tr>\n",
       "      <th>2024-01-19</th>\n",
       "      <td>146.304993</td>\n",
       "      <td>148.039993</td>\n",
       "      <td>145.800003</td>\n",
       "      <td>147.970001</td>\n",
       "      <td>147.970001</td>\n",
       "      <td>27170900</td>\n",
       "    </tr>\n",
       "  </tbody>\n",
       "</table>\n",
       "</div>"
      ],
      "text/plain": [
       "                  Open        High         Low       Close   Adj Close  \\\n",
       "Date                                                                     \n",
       "2024-01-05  138.352005  138.809998  136.850006  137.389999  137.389999   \n",
       "2024-01-08  138.000000  140.639999  137.880005  140.529999  140.529999   \n",
       "2024-01-09  140.059998  142.800003  139.789993  142.559998  142.559998   \n",
       "2024-01-10  142.520004  144.524994  142.460007  143.800003  143.800003   \n",
       "2024-01-11  144.895004  146.660004  142.214996  143.669998  143.669998   \n",
       "2024-01-12  144.339996  144.740005  143.360001  144.240005  144.240005   \n",
       "2024-01-16  143.429993  145.839996  143.056000  144.080002  144.080002   \n",
       "2024-01-17  142.910004  143.410004  140.509995  142.889999  142.889999   \n",
       "2024-01-18  143.440002  145.585007  143.350006  144.990005  144.990005   \n",
       "2024-01-19  146.304993  148.039993  145.800003  147.970001  147.970001   \n",
       "\n",
       "              Volume  \n",
       "Date                  \n",
       "2024-01-05  15433200  \n",
       "2024-01-08  17645300  \n",
       "2024-01-09  19579700  \n",
       "2024-01-10  16641900  \n",
       "2024-01-11  17471100  \n",
       "2024-01-12  13995200  \n",
       "2024-01-16  19198900  \n",
       "2024-01-17  17884500  \n",
       "2024-01-18  18876800  \n",
       "2024-01-19  27170900  "
      ]
     },
     "execution_count": 3,
     "metadata": {},
     "output_type": "execute_result"
    }
   ],
   "source": [
    "df = yf.download(ticker, start=start, end=end)\n",
    "df.tail(10)"
   ]
  },
  {
   "cell_type": "code",
   "execution_count": 4,
   "id": "4fd894f3",
   "metadata": {},
   "outputs": [
    {
     "name": "stdout",
     "output_type": "stream",
     "text": [
      "(1711,)\n"
     ]
    }
   ],
   "source": [
    "ClosingPrice = df['Close']\n",
    "\n",
    "# print(data)\n",
    "print(ClosingPrice.values.shape)\n",
    "\n",
    "scaler = MinMaxScaler()\n",
    "scaled_data = scaler.fit_transform(ClosingPrice.values.reshape(-1, 1))\n",
    "# print(scaled_data)"
   ]
  },
  {
   "cell_type": "code",
   "execution_count": 5,
   "id": "9827d44b",
   "metadata": {},
   "outputs": [
    {
     "data": {
      "image/png": "[encoded data removed]",
      "text/plain": [
       "<Figure size 640x480 with 1 Axes>"
      ]
     },
     "metadata": {},
     "output_type": "display_data"
    }
   ],
   "source": [
    "plt.plot(scaled_data)\n",
    "plt.title(f'{ticker} Closing Price')\n",
    "plt.show()"
   ]
  },
  {
   "cell_type": "code",
   "execution_count": 6,
   "id": "d0ab277e",
   "metadata": {},
   "outputs": [
    {
     "data": {
      "text/plain": [
       "(1368, 343)"
      ]
     },
     "execution_count": 6,
     "metadata": {},
     "output_type": "execute_result"
    }
   ],
   "source": [
    "training_data_len = int(len(scaled_data) * 0.8)\n",
    "\n",
    "training_data = scaled_data[0:training_data_len, :]\n",
    "testing_data = scaled_data[training_data_len:, :]\n",
    "\n",
    "len(training_data), len(testing_data)"
   ]
  },
  {
   "cell_type": "code",
   "execution_count": 7,
   "id": "a5a9517b",
   "metadata": {},
   "outputs": [],
   "source": [
    "past_values = 1\n",
    "\n",
    "def create_training_data(data, past_values):\n",
    "    if len(data) < past_values:\n",
    "        return np.array([]), np.array([])\n",
    "    X_train = []\n",
    "    y_train = []\n",
    "    for i in range(past_values, len(data)):\n",
    "        X_train.append(data[i-past_values:i, 0])\n",
    "        y_train.append(data[i, 0])\n",
    "    return np.array(X_train), np.array(y_train)\n",
    "\n",
    "X_train, y_train = create_training_data(training_data, past_values)\n",
    "X_train = np.reshape(X_train, (X_train.shape[0], X_train.shape[1], 1))\n",
    "\n",
    "X_test, y_test = create_training_data(testing_data, past_values)\n",
    "X_test = np.reshape(X_test, (X_test.shape[0], X_test.shape[1], 1))"
   ]
  },
  {
   "cell_type": "code",
   "execution_count": 8,
   "id": "c2e46176",
   "metadata": {},
   "outputs": [
    {
     "data": {
      "text/plain": [
       "(1709, 1711)"
      ]
     },
     "execution_count": 8,
     "metadata": {},
     "output_type": "execute_result"
    }
   ],
   "source": [
    "len(X_train) + len(X_test), len(scaled_data)"
   ]
  },
  {
   "cell_type": "code",
   "execution_count": 9,
   "id": "d26d2fdb",
   "metadata": {},
   "outputs": [
    {
     "data": {
      "text/plain": [
       "(1367, 1, 1)"
      ]
     },
     "execution_count": 9,
     "metadata": {},
     "output_type": "execute_result"
    }
   ],
   "source": [
    "X_train.shape"
   ]
  },
  {
   "cell_type": "code",
   "execution_count": 10,
   "id": "70151e02",
   "metadata": {},
   "outputs": [
    {
     "name": "stdout",
     "output_type": "stream",
     "text": [
      "Epoch 1/200\n",
      "7/7 [==============================] - 8s 11ms/step - loss: 0.1957\n",
      "Epoch 2/200\n",
      "7/7 [==============================] - 0s 10ms/step - loss: 0.1516\n",
      "Epoch 3/200\n",
      "7/7 [==============================] - 0s 9ms/step - loss: 0.1124\n",
      "Epoch 4/200\n",
      "7/7 [==============================] - 0s 10ms/step - loss: 0.0840\n",
      "Epoch 5/200\n",
      "7/7 [==============================] - 0s 11ms/step - loss: 0.0769\n",
      "Epoch 6/200\n",
      "7/7 [==============================] - 0s 9ms/step - loss: 0.0721\n",
      "Epoch 7/200\n",
      "7/7 [==============================] - 0s 12ms/step - loss: 0.0605\n",
      "Epoch 8/200\n",
      "7/7 [==============================] - 0s 10ms/step - loss: 0.0475\n",
      "Epoch 9/200\n",
      "7/7 [==============================] - 0s 10ms/step - loss: 0.0299\n",
      "Epoch 10/200\n",
      "7/7 [==============================] - 0s 9ms/step - loss: 0.0117\n",
      "Epoch 11/200\n",
      "7/7 [==============================] - 0s 16ms/step - loss: 0.0015\n",
      "Epoch 12/200\n",
      "7/7 [==============================] - 0s 10ms/step - loss: 0.0024\n",
      "Epoch 13/200\n",
      "7/7 [==============================] - 0s 10ms/step - loss: 0.0019\n",
      "Epoch 14/200\n",
      "7/7 [==============================] - 0s 10ms/step - loss: 6.8054e-04\n",
      "Epoch 15/200\n",
      "7/7 [==============================] - 0s 10ms/step - loss: 8.1376e-04\n",
      "Epoch 16/200\n",
      "7/7 [==============================] - 0s 9ms/step - loss: 7.3700e-04\n",
      "Epoch 17/200\n",
      "7/7 [==============================] - 0s 12ms/step - loss: 5.7827e-04\n",
      "Epoch 18/200\n",
      "7/7 [==============================] - 0s 10ms/step - loss: 5.7576e-04\n",
      "Epoch 19/200\n",
      "7/7 [==============================] - 0s 12ms/step - loss: 5.4832e-04\n",
      "Epoch 20/200\n",
      "7/7 [==============================] - 0s 10ms/step - loss: 5.2239e-04\n",
      "Epoch 21/200\n",
      "7/7 [==============================] - 0s 11ms/step - loss: 5.1416e-04\n",
      "Epoch 22/200\n",
      "7/7 [==============================] - 0s 10ms/step - loss: 5.0094e-04\n",
      "Epoch 23/200\n",
      "7/7 [==============================] - 0s 10ms/step - loss: 4.8227e-04\n",
      "Epoch 24/200\n",
      "7/7 [==============================] - 0s 10ms/step - loss: 4.7201e-04\n",
      "Epoch 25/200\n",
      "7/7 [==============================] - 0s 11ms/step - loss: 4.5517e-04\n",
      "Epoch 26/200\n",
      "7/7 [==============================] - 0s 12ms/step - loss: 4.4683e-04\n",
      "Epoch 27/200\n",
      "7/7 [==============================] - 0s 10ms/step - loss: 4.3582e-04\n",
      "Epoch 28/200\n",
      "7/7 [==============================] - 0s 10ms/step - loss: 4.2373e-04\n",
      "Epoch 29/200\n",
      "7/7 [==============================] - 0s 10ms/step - loss: 4.1047e-04\n",
      "Epoch 30/200\n",
      "7/7 [==============================] - 0s 12ms/step - loss: 3.9992e-04\n",
      "Epoch 31/200\n",
      "7/7 [==============================] - 0s 11ms/step - loss: 3.9290e-04\n",
      "Epoch 32/200\n",
      "7/7 [==============================] - 0s 10ms/step - loss: 3.8236e-04\n",
      "Epoch 33/200\n",
      "7/7 [==============================] - 0s 10ms/step - loss: 3.6950e-04\n",
      "Epoch 34/200\n",
      "7/7 [==============================] - 0s 9ms/step - loss: 3.5955e-04\n",
      "Epoch 35/200\n",
      "7/7 [==============================] - 0s 11ms/step - loss: 3.5040e-04\n",
      "Epoch 36/200\n",
      "7/7 [==============================] - 0s 10ms/step - loss: 3.4245e-04\n",
      "Epoch 37/200\n",
      "7/7 [==============================] - 0s 11ms/step - loss: 3.3434e-04\n",
      "Epoch 38/200\n",
      "7/7 [==============================] - 0s 9ms/step - loss: 3.2600e-04\n",
      "Epoch 39/200\n",
      "7/7 [==============================] - 0s 11ms/step - loss: 3.1935e-04\n",
      "Epoch 40/200\n",
      "7/7 [==============================] - 0s 10ms/step - loss: 3.1175e-04\n",
      "Epoch 41/200\n",
      "7/7 [==============================] - 0s 10ms/step - loss: 3.0578e-04\n",
      "Epoch 42/200\n",
      "7/7 [==============================] - 0s 10ms/step - loss: 3.0071e-04\n",
      "Epoch 43/200\n",
      "7/7 [==============================] - 0s 12ms/step - loss: 2.9383e-04\n",
      "Epoch 44/200\n",
      "7/7 [==============================] - 0s 10ms/step - loss: 2.8839e-04\n",
      "Epoch 45/200\n",
      "7/7 [==============================] - 0s 11ms/step - loss: 2.8273e-04\n",
      "Epoch 46/200\n",
      "7/7 [==============================] - 0s 11ms/step - loss: 2.7913e-04\n",
      "Epoch 47/200\n",
      "7/7 [==============================] - 0s 11ms/step - loss: 2.7437e-04\n",
      "Epoch 48/200\n",
      "7/7 [==============================] - 0s 10ms/step - loss: 2.7093e-04\n",
      "Epoch 49/200\n",
      "7/7 [==============================] - 0s 12ms/step - loss: 2.6551e-04\n",
      "Epoch 50/200\n",
      "7/7 [==============================] - 0s 11ms/step - loss: 2.6535e-04\n",
      "Epoch 51/200\n",
      "7/7 [==============================] - 0s 15ms/step - loss: 2.5781e-04\n",
      "Epoch 52/200\n",
      "7/7 [==============================] - 0s 12ms/step - loss: 2.5475e-04\n",
      "Epoch 53/200\n",
      "7/7 [==============================] - 0s 10ms/step - loss: 2.4846e-04\n",
      "Epoch 54/200\n",
      "7/7 [==============================] - 0s 12ms/step - loss: 2.4491e-04\n",
      "Epoch 55/200\n",
      "7/7 [==============================] - 0s 10ms/step - loss: 2.4299e-04\n",
      "Epoch 56/200\n",
      "7/7 [==============================] - 0s 10ms/step - loss: 2.4631e-04\n",
      "Epoch 57/200\n",
      "7/7 [==============================] - 0s 9ms/step - loss: 2.4800e-04\n",
      "Epoch 58/200\n",
      "7/7 [==============================] - 0s 10ms/step - loss: 2.3669e-04\n",
      "Epoch 59/200\n",
      "7/7 [==============================] - 0s 9ms/step - loss: 2.3347e-04\n",
      "Epoch 60/200\n",
      "7/7 [==============================] - 0s 10ms/step - loss: 2.3215e-04\n",
      "Epoch 61/200\n",
      "7/7 [==============================] - 0s 10ms/step - loss: 2.3149e-04\n",
      "Epoch 62/200\n",
      "7/7 [==============================] - 0s 11ms/step - loss: 2.2830e-04\n",
      "Epoch 63/200\n",
      "7/7 [==============================] - 0s 9ms/step - loss: 2.2551e-04\n",
      "Epoch 64/200\n",
      "7/7 [==============================] - 0s 10ms/step - loss: 2.2404e-04\n",
      "Epoch 65/200\n",
      "7/7 [==============================] - 0s 12ms/step - loss: 2.2716e-04\n",
      "Epoch 66/200\n",
      "7/7 [==============================] - 0s 11ms/step - loss: 2.3023e-04\n",
      "Epoch 67/200\n",
      "7/7 [==============================] - 0s 9ms/step - loss: 2.2010e-04\n",
      "Epoch 68/200\n",
      "7/7 [==============================] - 0s 10ms/step - loss: 2.1900e-04\n",
      "Epoch 69/200\n",
      "7/7 [==============================] - 0s 10ms/step - loss: 2.1714e-04\n",
      "Epoch 70/200\n",
      "7/7 [==============================] - 0s 10ms/step - loss: 2.1671e-04\n",
      "Epoch 71/200\n",
      "7/7 [==============================] - 0s 8ms/step - loss: 2.1625e-04\n",
      "Epoch 72/200\n",
      "7/7 [==============================] - 0s 9ms/step - loss: 2.1484e-04\n",
      "Epoch 73/200\n",
      "7/7 [==============================] - 0s 11ms/step - loss: 2.1580e-04\n",
      "Epoch 74/200\n",
      "7/7 [==============================] - 0s 10ms/step - loss: 2.1489e-04\n",
      "Epoch 75/200\n",
      "7/7 [==============================] - 0s 10ms/step - loss: 2.1289e-04\n",
      "Epoch 76/200\n",
      "7/7 [==============================] - 0s 10ms/step - loss: 2.1616e-04\n",
      "Epoch 77/200\n",
      "7/7 [==============================] - 0s 10ms/step - loss: 2.1386e-04\n",
      "Epoch 78/200\n",
      "7/7 [==============================] - 0s 9ms/step - loss: 2.1111e-04\n",
      "Epoch 79/200\n",
      "7/7 [==============================] - 0s 10ms/step - loss: 2.1126e-04\n",
      "Epoch 80/200\n",
      "7/7 [==============================] - 0s 10ms/step - loss: 2.1306e-04\n",
      "Epoch 81/200\n",
      "7/7 [==============================] - 0s 13ms/step - loss: 2.1043e-04\n",
      "Epoch 82/200\n",
      "7/7 [==============================] - 0s 10ms/step - loss: 2.1019e-04\n",
      "Epoch 83/200\n",
      "7/7 [==============================] - 0s 10ms/step - loss: 2.0972e-04\n",
      "Epoch 84/200\n",
      "7/7 [==============================] - 0s 10ms/step - loss: 2.0943e-04\n",
      "Epoch 85/200\n",
      "7/7 [==============================] - 0s 10ms/step - loss: 2.0983e-04\n",
      "Epoch 86/200\n",
      "7/7 [==============================] - 0s 11ms/step - loss: 2.0919e-04\n",
      "Epoch 87/200\n",
      "7/7 [==============================] - 0s 10ms/step - loss: 2.0866e-04\n",
      "Epoch 88/200\n",
      "7/7 [==============================] - 0s 10ms/step - loss: 2.0918e-04\n",
      "Epoch 89/200\n",
      "7/7 [==============================] - 0s 10ms/step - loss: 2.0972e-04\n",
      "Epoch 90/200\n",
      "7/7 [==============================] - 0s 11ms/step - loss: 2.0955e-04\n",
      "Epoch 91/200\n",
      "7/7 [==============================] - 0s 10ms/step - loss: 2.0978e-04\n",
      "Epoch 92/200\n",
      "7/7 [==============================] - 0s 10ms/step - loss: 2.1044e-04\n",
      "Epoch 93/200\n",
      "7/7 [==============================] - 0s 11ms/step - loss: 2.0955e-04\n",
      "Epoch 94/200\n",
      "7/7 [==============================] - 0s 11ms/step - loss: 2.1026e-04\n",
      "Epoch 95/200\n",
      "7/7 [==============================] - 0s 10ms/step - loss: 2.0928e-04\n",
      "Epoch 96/200\n",
      "7/7 [==============================] - 0s 10ms/step - loss: 2.0769e-04\n",
      "Epoch 97/200\n",
      "7/7 [==============================] - 0s 10ms/step - loss: 2.0812e-04\n",
      "Epoch 98/200\n",
      "7/7 [==============================] - 0s 9ms/step - loss: 2.0852e-04\n",
      "Epoch 99/200\n"
     ]
    },
    {
     "name": "stdout",
     "output_type": "stream",
     "text": [
      "7/7 [==============================] - 0s 10ms/step - loss: 2.1040e-04\n",
      "Epoch 100/200\n",
      "7/7 [==============================] - 0s 8ms/step - loss: 2.0887e-04\n",
      "Epoch 101/200\n",
      "7/7 [==============================] - 0s 9ms/step - loss: 2.0818e-04\n",
      "Epoch 102/200\n",
      "7/7 [==============================] - 0s 8ms/step - loss: 2.1157e-04\n",
      "Epoch 103/200\n",
      "7/7 [==============================] - 0s 8ms/step - loss: 2.1677e-04\n",
      "Epoch 104/200\n",
      "7/7 [==============================] - 0s 9ms/step - loss: 2.1685e-04\n",
      "Epoch 105/200\n",
      "7/7 [==============================] - 0s 9ms/step - loss: 2.1176e-04\n",
      "Epoch 106/200\n",
      "7/7 [==============================] - 0s 10ms/step - loss: 2.0943e-04\n",
      "Epoch 107/200\n",
      "7/7 [==============================] - 0s 9ms/step - loss: 2.0831e-04\n",
      "Epoch 108/200\n",
      "7/7 [==============================] - 0s 9ms/step - loss: 2.0856e-04\n",
      "Epoch 109/200\n",
      "7/7 [==============================] - 0s 9ms/step - loss: 2.1139e-04\n",
      "Epoch 110/200\n",
      "7/7 [==============================] - 0s 9ms/step - loss: 2.1185e-04\n",
      "Epoch 111/200\n",
      "7/7 [==============================] - 0s 10ms/step - loss: 2.0980e-04\n",
      "Epoch 112/200\n",
      "7/7 [==============================] - 0s 9ms/step - loss: 2.1419e-04\n",
      "Epoch 113/200\n",
      "7/7 [==============================] - 0s 10ms/step - loss: 2.1110e-04\n",
      "Epoch 114/200\n",
      "7/7 [==============================] - 0s 9ms/step - loss: 2.0848e-04\n",
      "Epoch 115/200\n",
      "7/7 [==============================] - 0s 14ms/step - loss: 2.0758e-04\n",
      "Epoch 116/200\n",
      "7/7 [==============================] - 0s 12ms/step - loss: 2.1110e-04\n",
      "Epoch 117/200\n",
      "7/7 [==============================] - 0s 12ms/step - loss: 2.1759e-04\n",
      "Epoch 118/200\n",
      "7/7 [==============================] - 0s 10ms/step - loss: 2.2346e-04\n",
      "Epoch 119/200\n",
      "7/7 [==============================] - 0s 9ms/step - loss: 2.3099e-04\n",
      "Epoch 120/200\n",
      "7/7 [==============================] - 0s 12ms/step - loss: 2.3041e-04\n",
      "Epoch 121/200\n",
      "7/7 [==============================] - 0s 14ms/step - loss: 2.1893e-04\n",
      "Epoch 122/200\n",
      "7/7 [==============================] - 0s 10ms/step - loss: 2.1247e-04\n",
      "Epoch 123/200\n",
      "7/7 [==============================] - 0s 10ms/step - loss: 2.0952e-04\n",
      "Epoch 124/200\n",
      "7/7 [==============================] - 0s 10ms/step - loss: 2.1170e-04\n",
      "Epoch 125/200\n",
      "7/7 [==============================] - 0s 9ms/step - loss: 2.1304e-04\n",
      "Epoch 126/200\n",
      "7/7 [==============================] - 0s 10ms/step - loss: 2.0936e-04\n",
      "Epoch 127/200\n",
      "7/7 [==============================] - 0s 9ms/step - loss: 2.1201e-04\n",
      "Epoch 128/200\n",
      "7/7 [==============================] - 0s 10ms/step - loss: 2.0852e-04\n",
      "Epoch 129/200\n",
      "7/7 [==============================] - 0s 9ms/step - loss: 2.0828e-04\n",
      "Epoch 130/200\n",
      "7/7 [==============================] - 0s 9ms/step - loss: 2.0822e-04\n",
      "Epoch 131/200\n",
      "7/7 [==============================] - 0s 10ms/step - loss: 2.1727e-04\n",
      "Epoch 132/200\n",
      "7/7 [==============================] - 0s 10ms/step - loss: 2.1079e-04\n",
      "Epoch 133/200\n",
      "7/7 [==============================] - 0s 11ms/step - loss: 2.1038e-04\n",
      "Epoch 134/200\n",
      "7/7 [==============================] - 0s 10ms/step - loss: 2.0791e-04\n",
      "Epoch 135/200\n",
      "7/7 [==============================] - 0s 11ms/step - loss: 2.0981e-04\n",
      "Epoch 136/200\n",
      "7/7 [==============================] - 0s 10ms/step - loss: 2.0855e-04\n",
      "Epoch 137/200\n",
      "7/7 [==============================] - 0s 11ms/step - loss: 2.0743e-04\n",
      "Epoch 138/200\n",
      "7/7 [==============================] - 0s 10ms/step - loss: 2.0833e-04\n",
      "Epoch 139/200\n",
      "7/7 [==============================] - 0s 11ms/step - loss: 2.0751e-04\n",
      "Epoch 140/200\n",
      "7/7 [==============================] - 0s 10ms/step - loss: 2.1114e-04\n",
      "Epoch 141/200\n",
      "7/7 [==============================] - 0s 11ms/step - loss: 2.0752e-04\n",
      "Epoch 142/200\n",
      "7/7 [==============================] - 0s 10ms/step - loss: 2.0754e-04\n",
      "Epoch 143/200\n",
      "7/7 [==============================] - 0s 11ms/step - loss: 2.0782e-04\n",
      "Epoch 144/200\n",
      "7/7 [==============================] - 0s 10ms/step - loss: 2.0893e-04\n",
      "Epoch 145/200\n",
      "7/7 [==============================] - 0s 11ms/step - loss: 2.0943e-04\n",
      "Epoch 146/200\n",
      "7/7 [==============================] - 0s 10ms/step - loss: 2.0993e-04\n",
      "Epoch 147/200\n",
      "7/7 [==============================] - 0s 11ms/step - loss: 2.1237e-04\n",
      "Epoch 148/200\n",
      "7/7 [==============================] - 0s 10ms/step - loss: 2.1324e-04\n",
      "Epoch 149/200\n",
      "7/7 [==============================] - 0s 11ms/step - loss: 2.1116e-04\n",
      "Epoch 150/200\n",
      "7/7 [==============================] - 0s 10ms/step - loss: 2.0982e-04\n",
      "Epoch 151/200\n",
      "7/7 [==============================] - 0s 11ms/step - loss: 2.1061e-04\n",
      "Epoch 152/200\n",
      "7/7 [==============================] - 0s 11ms/step - loss: 2.1268e-04\n",
      "Epoch 153/200\n",
      "7/7 [==============================] - 0s 11ms/step - loss: 2.0847e-04\n",
      "Epoch 154/200\n",
      "7/7 [==============================] - 0s 12ms/step - loss: 2.1049e-04\n",
      "Epoch 155/200\n",
      "7/7 [==============================] - 0s 11ms/step - loss: 2.1236e-04\n",
      "Epoch 156/200\n",
      "7/7 [==============================] - 0s 10ms/step - loss: 2.0765e-04\n",
      "Epoch 157/200\n",
      "7/7 [==============================] - 0s 11ms/step - loss: 2.0788e-04\n",
      "Epoch 158/200\n",
      "7/7 [==============================] - 0s 10ms/step - loss: 2.0816e-04\n",
      "Epoch 159/200\n",
      "7/7 [==============================] - 0s 10ms/step - loss: 2.0753e-04\n",
      "Epoch 160/200\n",
      "7/7 [==============================] - 0s 10ms/step - loss: 2.1602e-04\n",
      "Epoch 161/200\n",
      "7/7 [==============================] - 0s 11ms/step - loss: 2.1186e-04\n",
      "Epoch 162/200\n",
      "7/7 [==============================] - 0s 11ms/step - loss: 2.0766e-04\n",
      "Epoch 163/200\n",
      "7/7 [==============================] - 0s 11ms/step - loss: 2.1600e-04\n",
      "Epoch 164/200\n",
      "7/7 [==============================] - 0s 11ms/step - loss: 2.1682e-04\n",
      "Epoch 165/200\n",
      "7/7 [==============================] - 0s 12ms/step - loss: 2.2090e-04\n",
      "Epoch 166/200\n",
      "7/7 [==============================] - 0s 11ms/step - loss: 2.1106e-04\n",
      "Epoch 167/200\n",
      "7/7 [==============================] - 0s 11ms/step - loss: 2.1020e-04\n",
      "Epoch 168/200\n",
      "7/7 [==============================] - 0s 11ms/step - loss: 2.0720e-04\n",
      "Epoch 169/200\n",
      "7/7 [==============================] - 0s 12ms/step - loss: 2.0946e-04\n",
      "Epoch 170/200\n",
      "7/7 [==============================] - 0s 10ms/step - loss: 2.1083e-04\n",
      "Epoch 171/200\n",
      "7/7 [==============================] - 0s 11ms/step - loss: 2.0807e-04\n",
      "Epoch 172/200\n",
      "7/7 [==============================] - 0s 11ms/step - loss: 2.1027e-04\n",
      "Epoch 173/200\n",
      "7/7 [==============================] - 0s 11ms/step - loss: 2.0867e-04\n",
      "Epoch 174/200\n",
      "7/7 [==============================] - 0s 11ms/step - loss: 2.0914e-04\n",
      "Epoch 175/200\n",
      "7/7 [==============================] - 0s 11ms/step - loss: 2.0777e-04\n",
      "Epoch 176/200\n",
      "7/7 [==============================] - 0s 10ms/step - loss: 2.0822e-04\n",
      "Epoch 177/200\n",
      "7/7 [==============================] - 0s 11ms/step - loss: 2.0874e-04\n",
      "Epoch 178/200\n",
      "7/7 [==============================] - 0s 15ms/step - loss: 2.0808e-04\n",
      "Epoch 179/200\n",
      "7/7 [==============================] - 0s 10ms/step - loss: 2.0835e-04\n",
      "Epoch 180/200\n",
      "7/7 [==============================] - 0s 11ms/step - loss: 2.0794e-04\n",
      "Epoch 181/200\n",
      "7/7 [==============================] - 0s 11ms/step - loss: 2.0899e-04\n",
      "Epoch 182/200\n",
      "7/7 [==============================] - 0s 11ms/step - loss: 2.1147e-04\n",
      "Epoch 183/200\n",
      "7/7 [==============================] - 0s 12ms/step - loss: 2.0854e-04\n",
      "Epoch 184/200\n",
      "7/7 [==============================] - 0s 11ms/step - loss: 2.0922e-04\n",
      "Epoch 185/200\n",
      "7/7 [==============================] - 0s 11ms/step - loss: 2.1186e-04\n",
      "Epoch 186/200\n",
      "7/7 [==============================] - 0s 11ms/step - loss: 2.0858e-04\n",
      "Epoch 187/200\n",
      "7/7 [==============================] - 0s 11ms/step - loss: 2.0922e-04\n",
      "Epoch 188/200\n",
      "7/7 [==============================] - 0s 10ms/step - loss: 2.1046e-04\n",
      "Epoch 189/200\n",
      "7/7 [==============================] - 0s 12ms/step - loss: 2.1101e-04\n",
      "Epoch 190/200\n",
      "7/7 [==============================] - 0s 10ms/step - loss: 2.0868e-04\n",
      "Epoch 191/200\n",
      "7/7 [==============================] - 0s 11ms/step - loss: 2.0848e-04\n",
      "Epoch 192/200\n",
      "7/7 [==============================] - 0s 11ms/step - loss: 2.1269e-04\n",
      "Epoch 193/200\n",
      "7/7 [==============================] - 0s 11ms/step - loss: 2.0993e-04\n",
      "Epoch 194/200\n",
      "7/7 [==============================] - 0s 10ms/step - loss: 2.0800e-04\n",
      "Epoch 195/200\n"
     ]
    },
    {
     "name": "stdout",
     "output_type": "stream",
     "text": [
      "7/7 [==============================] - 0s 12ms/step - loss: 2.1124e-04\n",
      "Epoch 196/200\n",
      "7/7 [==============================] - 0s 10ms/step - loss: 2.1336e-04\n",
      "Epoch 197/200\n",
      "7/7 [==============================] - 0s 12ms/step - loss: 2.1387e-04\n",
      "Epoch 198/200\n",
      "7/7 [==============================] - 0s 10ms/step - loss: 2.2471e-04\n",
      "Epoch 199/200\n",
      "7/7 [==============================] - 0s 11ms/step - loss: 2.1374e-04\n",
      "Epoch 200/200\n",
      "7/7 [==============================] - 0s 10ms/step - loss: 2.0794e-04\n"
     ]
    },
    {
     "data": {
      "text/plain": [
       "<keras.src.callbacks.History at 0x1f241e9dfd0>"
      ]
     },
     "execution_count": 10,
     "metadata": {},
     "output_type": "execute_result"
    }
   ],
   "source": [
    "model = Sequential()\n",
    "model.add(LSTM(50, return_sequences=True, input_shape=(X_train.shape[1], 1)))\n",
    "model.add(LSTM(50, return_sequences=True))\n",
    "model.add(LSTM(50, return_sequences=False))\n",
    "model.add(Dense(25))\n",
    "model.add(Dense(1))\n",
    "\n",
    "model.compile(optimizer='adam', loss='mean_squared_error')\n",
    "model.fit(X_train, y_train, batch_size=200, epochs=200, verbose=1)"
   ]
  },
  {
   "cell_type": "code",
   "execution_count": 11,
   "id": "92ef2e44",
   "metadata": {},
   "outputs": [
    {
     "name": "stdout",
     "output_type": "stream",
     "text": [
      "43/43 [==============================] - 2s 3ms/step\n",
      "11/11 [==============================] - 0s 3ms/step\n"
     ]
    }
   ],
   "source": [
    "pred_train = model.predict(X_train)\n",
    "pred = model.predict(X_test)"
   ]
  },
  {
   "cell_type": "code",
   "execution_count": 12,
   "id": "a77f781f",
   "metadata": {},
   "outputs": [],
   "source": [
    "pred_train = scaler.inverse_transform(pred_train)\n",
    "pred = scaler.inverse_transform(pred)\n",
    "y_test = scaler.inverse_transform([y_test])\n",
    "y_train = scaler.inverse_transform([y_train])"
   ]
  },
  {
   "cell_type": "code",
   "execution_count": 13,
   "id": "ab449e76",
   "metadata": {},
   "outputs": [],
   "source": [
    "y_test = y_test.flatten()\n",
    "y_train = y_train.flatten()"
   ]
  },
  {
   "cell_type": "code",
   "execution_count": 14,
   "id": "3003bbb6",
   "metadata": {},
   "outputs": [
    {
     "name": "stdout",
     "output_type": "stream",
     "text": [
      "Training Error\n",
      "Mean Absolute Error (MAE): 1.0337596884938862\n",
      "Root Mean Squared Error (RMSE): 1.5759870147972521\n"
     ]
    },
    {
     "data": {
      "image/png": "[encoded data removed]",
      "text/plain": [
       "<Figure size 640x480 with 1 Axes>"
      ]
     },
     "metadata": {},
     "output_type": "display_data"
    }
   ],
   "source": [
    "print(\"Training Error\")\n",
    "mae = mean_absolute_error(y_train, pred_train)\n",
    "print(\"Mean Absolute Error (MAE):\", mae)\n",
    "rmse = sqrt(mean_squared_error(y_train, pred_train))\n",
    "print(\"Root Mean Squared Error (RMSE):\", rmse)\n",
    "    \n",
    "plt.plot(y_train, label = 'actual '+str(ticker))\n",
    "plt.plot(pred_train, label = 'predicted '+str(ticker))\n",
    "plt.title(\"Training Plot\")\n",
    "plt.legend()\n",
    "plt.show()"
   ]
  },
  {
   "cell_type": "code",
   "execution_count": 15,
   "id": "01e9e93d",
   "metadata": {},
   "outputs": [
    {
     "name": "stdout",
     "output_type": "stream",
     "text": [
      "Testing Error\n",
      "Mean Absolute Error (MAE): 1.6862294158043227\n",
      "Root Mean Squared Error (RMSE): 2.2942741237792195\n"
     ]
    },
    {
     "data": {
      "image/png": "[encoded data removed]",
      "text/plain": [
       "<Figure size 640x480 with 1 Axes>"
      ]
     },
     "metadata": {},
     "output_type": "display_data"
    }
   ],
   "source": [
    "print(\"Testing Error\")\n",
    "mae = mean_absolute_error(y_test, pred)\n",
    "print(\"Mean Absolute Error (MAE):\", mae)\n",
    "rmse = sqrt(mean_squared_error(y_test, pred))\n",
    "print(\"Root Mean Squared Error (RMSE):\", rmse)\n",
    "\n",
    "plt.plot(y_test, label = 'actual '+str(ticker))\n",
    "plt.plot(pred, label = 'predicted '+str(ticker))\n",
    "plt.title(\"Testing Plot\")\n",
    "plt.legend()\n",
    "plt.show()"
   ]
  },
  {
   "cell_type": "markdown",
   "id": "a39de483",
   "metadata": {},
   "source": [
    "## 5 days future prediction without correction"
   ]
  },
  {
   "cell_type": "code",
   "execution_count": 16,
   "id": "b9dec815",
   "metadata": {
    "scrolled": true
   },
   "outputs": [
    {
     "data": {
      "text/plain": [
       "array([[0.00693803],\n",
       "       [0.00512135],\n",
       "       [0.00367897],\n",
       "       ...,\n",
       "       [0.92862066],\n",
       "       [0.94779153],\n",
       "       [0.97499579]])"
      ]
     },
     "execution_count": 16,
     "metadata": {},
     "output_type": "execute_result"
    }
   ],
   "source": [
    "scaled_data"
   ]
  },
  {
   "cell_type": "code",
   "execution_count": 17,
   "id": "a42ce6ad",
   "metadata": {},
   "outputs": [
    {
     "data": {
      "text/plain": [
       "(1367, 342, 1711)"
      ]
     },
     "execution_count": 17,
     "metadata": {},
     "output_type": "execute_result"
    }
   ],
   "source": [
    "len(X_train), len(X_test),  len(scaled_data)"
   ]
  },
  {
   "cell_type": "code",
   "execution_count": 18,
   "id": "73ea43f2",
   "metadata": {},
   "outputs": [],
   "source": [
    "reshaped_data = scaled_data.reshape(scaled_data.shape[0], scaled_data.shape[1], 1)"
   ]
  },
  {
   "cell_type": "code",
   "execution_count": 19,
   "id": "3d6562ab",
   "metadata": {},
   "outputs": [
    {
     "data": {
      "text/plain": [
       "array([[[0.87841138]],\n",
       "\n",
       "       [[0.90707631]],\n",
       "\n",
       "       [[0.92560808]],\n",
       "\n",
       "       [[0.93692804]],\n",
       "\n",
       "       [[0.93574124]],\n",
       "\n",
       "       [[0.94094481]],\n",
       "\n",
       "       [[0.93948414]],\n",
       "\n",
       "       [[0.92862066]],\n",
       "\n",
       "       [[0.94779153]],\n",
       "\n",
       "       [[0.97499579]]])"
      ]
     },
     "execution_count": 19,
     "metadata": {},
     "output_type": "execute_result"
    }
   ],
   "source": [
    "future_data_to_predict = reshaped_data[-10:]\n",
    "future_data_to_predict"
   ]
  },
  {
   "cell_type": "code",
   "execution_count": 20,
   "id": "90bbf305",
   "metadata": {},
   "outputs": [
    {
     "data": {
      "text/plain": [
       "(3, 3)"
      ]
     },
     "execution_count": 20,
     "metadata": {},
     "output_type": "execute_result"
    }
   ],
   "source": [
    "X_test.ndim, reshaped_data.ndim"
   ]
  },
  {
   "cell_type": "code",
   "execution_count": 21,
   "id": "d7913819",
   "metadata": {},
   "outputs": [
    {
     "name": "stdout",
     "output_type": "stream",
     "text": [
      "1/1 [==============================] - 0s 42ms/step\n",
      "[137.34444 140.40599 142.3792  143.58208 143.45604 144.00845 143.85342\n",
      " 142.69948 144.73466 147.61319]\n"
     ]
    }
   ],
   "source": [
    "def predict_future(last_input):\n",
    "    \n",
    "    res = model.predict(last_input)\n",
    "    Output = scaler.inverse_transform(res)\n",
    "    return Output\n",
    "\n",
    "future_predictions_1 = predict_future(future_data_to_predict)\n",
    "# print(future_predictions_1)\n",
    "\n",
    "future_predictions_1 = future_predictions_1.flatten()\n",
    "print(future_predictions_1)"
   ]
  },
  {
   "cell_type": "code",
   "execution_count": 22,
   "id": "177cb2d7",
   "metadata": {},
   "outputs": [],
   "source": [
    "# def predict_future(last_input):\n",
    "    \n",
    "#     res = model.predict(last_input)\n",
    "#     Output = scaler.inverse_transform(res)\n",
    "#     return Output\n",
    "\n",
    "# future_predictions_2 = predict_future(X_test[-5:])\n",
    "# # print(future_predictions_2)\n",
    "\n",
    "# future_predictions_2 = future_predictions_2.flatten()\n",
    "# print(future_predictions_2)"
   ]
  },
  {
   "cell_type": "code",
   "execution_count": 23,
   "id": "bfbbf4ea",
   "metadata": {},
   "outputs": [],
   "source": [
    "day=range(1,(len(future_data_to_predict)+1))"
   ]
  },
  {
   "cell_type": "code",
   "execution_count": 24,
   "id": "c7eafece",
   "metadata": {},
   "outputs": [
    {
     "data": {
      "image/png": "[encoded data removed]",
      "text/plain": [
       "<Figure size 640x480 with 1 Axes>"
      ]
     },
     "metadata": {},
     "output_type": "display_data"
    }
   ],
   "source": [
    "plt.plot(day, future_predictions_1, color='red', label='scaled_data')\n",
    "# plt.plot(day, future_predictions_2, color='blue', label='x_test')\n",
    "plt.legend()\n",
    "plt.show()"
   ]
  },
  {
   "cell_type": "code",
   "execution_count": 25,
   "id": "b1b1174b",
   "metadata": {},
   "outputs": [],
   "source": [
    "# ticker = \"AMZN\"\n",
    "# start='2024-01-22'\n",
    "# end='2024-01-26'\n",
    "# df = yf.download(ticker, start=start, end=end)\n",
    "# # print(df)\n",
    "# actual = df['Close'].values\n",
    "# print(actual)"
   ]
  },
  {
   "cell_type": "code",
   "execution_count": 26,
   "id": "246eb22b",
   "metadata": {},
   "outputs": [],
   "source": [
    "# day_actual = np.arange(1,21)\n",
    "# day_pred = np.arange(1,21)"
   ]
  },
  {
   "cell_type": "code",
   "execution_count": 27,
   "id": "93ab4b80",
   "metadata": {},
   "outputs": [],
   "source": [
    "# plt.figure(figsize=(8,6))\n",
    "# plt.title(f'Plot for {ticker} from {start} till {end}')\n",
    "# plt.xlabel('No. of Days')\n",
    "# plt.ylabel('Price Values')\n",
    "# plt.plot(day_actual, actual, label = 'actual price', color='blue')\n",
    "# plt.plot(day_pred, future_predictions_1, label = 'predicted price', color='red')\n",
    "# plt.legend()\n",
    "# plt.show()"
   ]
  },
  {
   "cell_type": "markdown",
   "id": "3acc2324",
   "metadata": {},
   "source": [
    "## Buy and Sell"
   ]
  },
  {
   "cell_type": "code",
   "execution_count": 28,
   "id": "f8c67516",
   "metadata": {},
   "outputs": [],
   "source": [
    "def get_control_vector(val):\n",
    "    return np.diff(np.sign(np.diff(val)))\n",
    "\n",
    "def buy_and_sell_bot(val,controls):\n",
    "    inv = []\n",
    "    curr_val = 1000\n",
    "    inds = np.where(controls)[0]\n",
    "    buy_inds = np.where(controls>0)[0]\n",
    "    sell_inds = np.where(controls<0)[0]\n",
    "    max_limit = sell_inds[-1] if sell_inds[-1]>buy_inds[-1] else buy_inds[-1]\n",
    "    for i in range(buy_inds[0]+2):\n",
    "        inv.append(curr_val)\n",
    "    for i in range(buy_inds[0],max_limit+1):\n",
    "        if controls[i]>0:\n",
    "            buy_val = val[i+1]\n",
    "        elif controls[i]<0:\n",
    "            sell_val = val[i+1]\n",
    "            curr_val = curr_val*sell_val/buy_val\n",
    "        inv.append(curr_val)\n",
    "        \n",
    "    if max_limit+1!=len(controls):\n",
    "        for i in range(len(controls)-max_limit-1):\n",
    "            inv.append(curr_val)\n",
    "    return inv\n",
    "\n",
    "# def buy_and_sell_bot(val, controls):\n",
    "#     inv = []\n",
    "#     curr_val = 1000\n",
    "#     buy_inds = np.where(controls > 0)[0]\n",
    "#     sell_inds = np.where(controls < 0)[0]\n",
    "    \n",
    "#     if buy_inds.size == 0 or sell_inds.size == 0:\n",
    "#         return [curr_val] * len(controls)\n",
    "    \n",
    "#     max_limit = max(sell_inds[-1], buy_inds[-1])\n",
    "#     for i in range(buy_inds[0] + 2):\n",
    "#         inv.append(curr_val)\n",
    "        \n",
    "#     for i in range(buy_inds[0], max_limit + 1):\n",
    "#         if controls[i] > 0:\n",
    "#             buy_val = val[i + 1]\n",
    "#         elif controls[i] < 0:\n",
    "#             sell_val = val[i + 1]\n",
    "#             curr_val = curr_val * sell_val / buy_val\n",
    "#         inv.append(curr_val)\n",
    "        \n",
    "#     if max_limit + 1 != len(controls):\n",
    "#         for i in range(len(controls) - max_limit - 1):\n",
    "#             inv.append(curr_val)\n",
    "    \n",
    "#     return inv"
   ]
  },
  {
   "cell_type": "code",
   "execution_count": 29,
   "id": "d4467228",
   "metadata": {
    "scrolled": true
   },
   "outputs": [
    {
     "data": {
      "text/plain": [
       "(array([ 0.,  0., -2.,  2., -2.,  0.,  2.,  0.], dtype=float32),\n",
       " [1000,\n",
       "  1000,\n",
       "  1000,\n",
       "  1000,\n",
       "  1000,\n",
       "  1000,\n",
       "  1003.8507541587624,\n",
       "  1003.8507541587624,\n",
       "  1003.8507541587624,\n",
       "  1003.8507541587624])"
      ]
     },
     "execution_count": 29,
     "metadata": {},
     "output_type": "execute_result"
    }
   ],
   "source": [
    "controls_pred= get_control_vector(future_predictions_1)\n",
    "amount_pred = buy_and_sell_bot(future_predictions_1, controls_pred)\n",
    "controls_pred, amount_pred"
   ]
  },
  {
   "cell_type": "code",
   "execution_count": 30,
   "id": "fd37afe7",
   "metadata": {},
   "outputs": [],
   "source": [
    "# controls_actual= get_control_vector(actual)\n",
    "# amount_actual = buy_and_sell_bot(actual, controls_actual)\n",
    "# controls_actual, amount_actual"
   ]
  },
  {
   "cell_type": "code",
   "execution_count": 31,
   "id": "18049677",
   "metadata": {},
   "outputs": [
    {
     "data": {
      "image/png": "[encoded data removed]",
      "text/plain": [
       "<Figure size 640x480 with 1 Axes>"
      ]
     },
     "metadata": {},
     "output_type": "display_data"
    }
   ],
   "source": [
    "# plt.plot(amount_actual, label=\"actual\")\n",
    "plt.plot(amount_pred, label=\"pred\")\n",
    "plt.legend()\n",
    "plt.title(f\"{ticker} Returns\")\n",
    "plt.show()"
   ]
  },
  {
   "cell_type": "markdown",
   "id": "b11ee162",
   "metadata": {},
   "source": [
    "### Price values along with dates"
   ]
  },
  {
   "cell_type": "code",
   "execution_count": 32,
   "id": "bcbc4f2f",
   "metadata": {},
   "outputs": [],
   "source": [
    "from datetime import datetime, timedelta\n",
    "count=31\n",
    "Date = []\n",
    "for i in range(22,34):\n",
    "    if i == 27:\n",
    "        continue\n",
    "    elif i == 28:\n",
    "        continue\n",
    "    elif i >= 32:\n",
    "        i = i-count\n",
    "        base_date = datetime(2024,2,i)\n",
    "        formatted_date = base_date.strftime('%d-%m-%Y')\n",
    "        Date.append(formatted_date)\n",
    "    else:\n",
    "        base_date = datetime(2024,1,i)\n",
    "        formatted_date = base_date.strftime('%d-%m-%Y')\n",
    "        Date.append(formatted_date)"
   ]
  },
  {
   "cell_type": "code",
   "execution_count": 33,
   "id": "dc78e33b",
   "metadata": {},
   "outputs": [],
   "source": [
    "price_value_dict = {}\n",
    "price_value_dict['Date'] = Date\n",
    "price_value_dict['Closing Price'] = future_predictions_1.tolist()"
   ]
  },
  {
   "cell_type": "code",
   "execution_count": 34,
   "id": "f15efdad",
   "metadata": {
    "scrolled": true
   },
   "outputs": [],
   "source": [
    "# price_value_dict"
   ]
  },
  {
   "cell_type": "code",
   "execution_count": 35,
   "id": "adca4a68",
   "metadata": {},
   "outputs": [],
   "source": [
    "Price_with_dates = pd.DataFrame(price_value_dict)"
   ]
  },
  {
   "cell_type": "code",
   "execution_count": 36,
   "id": "0ec1be7d",
   "metadata": {},
   "outputs": [],
   "source": [
    "Price_with_dates.columns = pd.MultiIndex.from_tuples([(f'{ticker}', 'Date'), (f'{ticker}', 'Closing Price')])"
   ]
  },
  {
   "cell_type": "code",
   "execution_count": 37,
   "id": "db1e1d70",
   "metadata": {},
   "outputs": [
    {
     "data": {
      "text/html": [
       "<div>\n",
       "<style scoped>\n",
       "    .dataframe tbody tr th:only-of-type {\n",
       "        vertical-align: middle;\n",
       "    }\n",
       "\n",
       "    .dataframe tbody tr th {\n",
       "        vertical-align: top;\n",
       "    }\n",
       "\n",
       "    .dataframe thead tr th {\n",
       "        text-align: left;\n",
       "    }\n",
       "</style>\n",
       "<table border=\"1\" class=\"dataframe\">\n",
       "  <thead>\n",
       "    <tr>\n",
       "      <th></th>\n",
       "      <th colspan=\"2\" halign=\"left\">GOOG</th>\n",
       "    </tr>\n",
       "    <tr>\n",
       "      <th></th>\n",
       "      <th>Date</th>\n",
       "      <th>Closing Price</th>\n",
       "    </tr>\n",
       "  </thead>\n",
       "  <tbody>\n",
       "    <tr>\n",
       "      <th>0</th>\n",
       "      <td>22-01-2024</td>\n",
       "      <td>137.344437</td>\n",
       "    </tr>\n",
       "    <tr>\n",
       "      <th>1</th>\n",
       "      <td>23-01-2024</td>\n",
       "      <td>140.405991</td>\n",
       "    </tr>\n",
       "    <tr>\n",
       "      <th>2</th>\n",
       "      <td>24-01-2024</td>\n",
       "      <td>142.379196</td>\n",
       "    </tr>\n",
       "    <tr>\n",
       "      <th>3</th>\n",
       "      <td>25-01-2024</td>\n",
       "      <td>143.582077</td>\n",
       "    </tr>\n",
       "    <tr>\n",
       "      <th>4</th>\n",
       "      <td>26-01-2024</td>\n",
       "      <td>143.456039</td>\n",
       "    </tr>\n",
       "    <tr>\n",
       "      <th>5</th>\n",
       "      <td>29-01-2024</td>\n",
       "      <td>144.008453</td>\n",
       "    </tr>\n",
       "    <tr>\n",
       "      <th>6</th>\n",
       "      <td>30-01-2024</td>\n",
       "      <td>143.853424</td>\n",
       "    </tr>\n",
       "    <tr>\n",
       "      <th>7</th>\n",
       "      <td>31-01-2024</td>\n",
       "      <td>142.699478</td>\n",
       "    </tr>\n",
       "    <tr>\n",
       "      <th>8</th>\n",
       "      <td>01-02-2024</td>\n",
       "      <td>144.734665</td>\n",
       "    </tr>\n",
       "    <tr>\n",
       "      <th>9</th>\n",
       "      <td>02-02-2024</td>\n",
       "      <td>147.613190</td>\n",
       "    </tr>\n",
       "  </tbody>\n",
       "</table>\n",
       "</div>"
      ],
      "text/plain": [
       "         GOOG              \n",
       "         Date Closing Price\n",
       "0  22-01-2024    137.344437\n",
       "1  23-01-2024    140.405991\n",
       "2  24-01-2024    142.379196\n",
       "3  25-01-2024    143.582077\n",
       "4  26-01-2024    143.456039\n",
       "5  29-01-2024    144.008453\n",
       "6  30-01-2024    143.853424\n",
       "7  31-01-2024    142.699478\n",
       "8  01-02-2024    144.734665\n",
       "9  02-02-2024    147.613190"
      ]
     },
     "execution_count": 37,
     "metadata": {},
     "output_type": "execute_result"
    }
   ],
   "source": [
    "Price_with_dates"
   ]
  },
  {
   "cell_type": "code",
   "execution_count": null,
   "id": "7f7fbf85",
   "metadata": {},
   "outputs": [],
   "source": []
  },
  {
   "cell_type": "code",
   "execution_count": 38,
   "id": "21a3e60c",
   "metadata": {},
   "outputs": [],
   "source": [
    "ticker = \"GOOG\"\n",
    "start = \"2024-01-22\"\n",
    "end = \"2024-01-31\""
   ]
  },
  {
   "cell_type": "code",
   "execution_count": 42,
   "id": "1a803292",
   "metadata": {},
   "outputs": [
    {
     "name": "stdout",
     "output_type": "stream",
     "text": [
      "[*********************100%***********************]  1 of 1 completed\n"
     ]
    },
    {
     "data": {
      "text/html": [
       "<div>\n",
       "<style scoped>\n",
       "    .dataframe tbody tr th:only-of-type {\n",
       "        vertical-align: middle;\n",
       "    }\n",
       "\n",
       "    .dataframe tbody tr th {\n",
       "        vertical-align: top;\n",
       "    }\n",
       "\n",
       "    .dataframe thead th {\n",
       "        text-align: right;\n",
       "    }\n",
       "</style>\n",
       "<table border=\"1\" class=\"dataframe\">\n",
       "  <thead>\n",
       "    <tr style=\"text-align: right;\">\n",
       "      <th></th>\n",
       "      <th>Open</th>\n",
       "      <th>High</th>\n",
       "      <th>Low</th>\n",
       "      <th>Close</th>\n",
       "      <th>Adj Close</th>\n",
       "      <th>Volume</th>\n",
       "    </tr>\n",
       "    <tr>\n",
       "      <th>Date</th>\n",
       "      <th></th>\n",
       "      <th></th>\n",
       "      <th></th>\n",
       "      <th></th>\n",
       "      <th></th>\n",
       "      <th></th>\n",
       "    </tr>\n",
       "  </thead>\n",
       "  <tbody>\n",
       "    <tr>\n",
       "      <th>2024-01-22</th>\n",
       "      <td>148.710007</td>\n",
       "      <td>150.014999</td>\n",
       "      <td>147.580002</td>\n",
       "      <td>147.710007</td>\n",
       "      <td>147.710007</td>\n",
       "      <td>21829200</td>\n",
       "    </tr>\n",
       "    <tr>\n",
       "      <th>2024-01-23</th>\n",
       "      <td>147.720001</td>\n",
       "      <td>148.860001</td>\n",
       "      <td>147.190002</td>\n",
       "      <td>148.679993</td>\n",
       "      <td>148.679993</td>\n",
       "      <td>14113600</td>\n",
       "    </tr>\n",
       "    <tr>\n",
       "      <th>2024-01-24</th>\n",
       "      <td>150.289993</td>\n",
       "      <td>151.570007</td>\n",
       "      <td>149.839996</td>\n",
       "      <td>150.350006</td>\n",
       "      <td>150.350006</td>\n",
       "      <td>19245000</td>\n",
       "    </tr>\n",
       "    <tr>\n",
       "      <th>2024-01-25</th>\n",
       "      <td>151.740005</td>\n",
       "      <td>154.759995</td>\n",
       "      <td>151.220001</td>\n",
       "      <td>153.639999</td>\n",
       "      <td>153.639999</td>\n",
       "      <td>21495100</td>\n",
       "    </tr>\n",
       "    <tr>\n",
       "      <th>2024-01-26</th>\n",
       "      <td>152.869995</td>\n",
       "      <td>154.110001</td>\n",
       "      <td>152.800003</td>\n",
       "      <td>153.789993</td>\n",
       "      <td>153.789993</td>\n",
       "      <td>19483600</td>\n",
       "    </tr>\n",
       "    <tr>\n",
       "      <th>2024-01-29</th>\n",
       "      <td>153.639999</td>\n",
       "      <td>155.199997</td>\n",
       "      <td>152.919998</td>\n",
       "      <td>154.839996</td>\n",
       "      <td>154.839996</td>\n",
       "      <td>20872100</td>\n",
       "    </tr>\n",
       "    <tr>\n",
       "      <th>2024-01-30</th>\n",
       "      <td>154.009995</td>\n",
       "      <td>155.039993</td>\n",
       "      <td>153.800003</td>\n",
       "      <td>154.464996</td>\n",
       "      <td>154.464996</td>\n",
       "      <td>7503515</td>\n",
       "    </tr>\n",
       "  </tbody>\n",
       "</table>\n",
       "</div>"
      ],
      "text/plain": [
       "                  Open        High         Low       Close   Adj Close  \\\n",
       "Date                                                                     \n",
       "2024-01-22  148.710007  150.014999  147.580002  147.710007  147.710007   \n",
       "2024-01-23  147.720001  148.860001  147.190002  148.679993  148.679993   \n",
       "2024-01-24  150.289993  151.570007  149.839996  150.350006  150.350006   \n",
       "2024-01-25  151.740005  154.759995  151.220001  153.639999  153.639999   \n",
       "2024-01-26  152.869995  154.110001  152.800003  153.789993  153.789993   \n",
       "2024-01-29  153.639999  155.199997  152.919998  154.839996  154.839996   \n",
       "2024-01-30  154.009995  155.039993  153.800003  154.464996  154.464996   \n",
       "\n",
       "              Volume  \n",
       "Date                  \n",
       "2024-01-22  21829200  \n",
       "2024-01-23  14113600  \n",
       "2024-01-24  19245000  \n",
       "2024-01-25  21495100  \n",
       "2024-01-26  19483600  \n",
       "2024-01-29  20872100  \n",
       "2024-01-30   7503515  "
      ]
     },
     "execution_count": 42,
     "metadata": {},
     "output_type": "execute_result"
    }
   ],
   "source": [
    "df = yf.download(ticker, start=start, end=end)\n",
    "df"
   ]
  },
  {
   "cell_type": "code",
   "execution_count": 43,
   "id": "7f6177a3",
   "metadata": {},
   "outputs": [],
   "source": [
    "actual_data = df['Close'].values"
   ]
  },
  {
   "cell_type": "code",
   "execution_count": 44,
   "id": "d7c2950d",
   "metadata": {},
   "outputs": [],
   "source": [
    "day_actual = range(1,8)\n",
    "day_predicted = range(1,11)"
   ]
  },
  {
   "cell_type": "code",
   "execution_count": 45,
   "id": "5afedb63",
   "metadata": {},
   "outputs": [
    {
     "data": {
      "image/png": "[encoded data removed]",
      "text/plain": [
       "<Figure size 640x480 with 1 Axes>"
      ]
     },
     "metadata": {},
     "output_type": "display_data"
    }
   ],
   "source": [
    "plt.plot(day_actual, actual_data, color='red', label='actual')\n",
    "plt.plot(day_predicted, future_predictions_1, color='blue', label='predicted')\n",
    "plt.legend()\n",
    "plt.show()"
   ]
  },
  {
   "cell_type": "code",
   "execution_count": null,
   "id": "92bad10d",
   "metadata": {},
   "outputs": [],
   "source": []
  }
 ],
 "metadata": {
  "kernelspec": {
   "display_name": "Python 3 (ipykernel)",
   "language": "python",
   "name": "python3"
  },
  "language_info": {
   "codemirror_mode": {
    "name": "ipython",
    "version": 3
   },
   "file_extension": ".py",
   "mimetype": "text/x-python",
   "name": "python",
   "nbconvert_exporter": "python",
   "pygments_lexer": "ipython3",
   "version": "3.11.4"
  }
 },
 "nbformat": 4,
 "nbformat_minor": 5
}
